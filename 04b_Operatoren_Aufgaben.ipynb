{
 "cells": [
  {
   "cell_type": "markdown",
   "metadata": {},
   "source": [
    "[JuPy: Inhaltsverzeichnis](00_Einleitung.ipynb#Inhaltsverzeichnis)\n",
    "\n",
    "# A 4. Aufgaben Operatoren"
   ]
  },
  {
   "cell_type": "markdown",
   "metadata": {},
   "source": [
    "### Aufgabe 1"
   ]
  },
  {
   "cell_type": "markdown",
   "metadata": {},
   "source": [
    "Lösen Sie nachfolgenden Rechenaufgaben und lassen Sie das Ergebnis ausgeben. </br>\n",
    "* $ 10 \\cdot 5 $\n",
    "* $ 17 \\cdot 9,4 $\n",
    "* $ 3 + 18 $\n",
    "* $ 19 + 2,7 $\n",
    "* $ 34 - 57 $\n",
    "* $ 28,9 - 10,2 $\n",
    "* $ 49\\div14 $\n",
    "* $ 159\\div-14 $"
   ]
  },
  {
   "cell_type": "code",
   "execution_count": null,
   "metadata": {},
   "outputs": [],
   "source": [
    "#Loesungen\n",
    "\n",
    "\n",
    "#Loesungsende"
   ]
  },
  {
   "cell_type": "markdown",
   "metadata": {},
   "source": [
    "---\n",
    "### Aufgabe 2"
   ]
  },
  {
   "cell_type": "markdown",
   "metadata": {},
   "source": [
    "Potentieren Sie jeweils die folgenden Zahlen einzeln miteinander. </br>\n",
    "* $2$\n",
    "* $1,5$\n",
    "* $-3$"
   ]
  },
  {
   "cell_type": "code",
   "execution_count": null,
   "metadata": {},
   "outputs": [],
   "source": [
    "#Loesungen\n",
    "\n",
    "\n",
    "#Loesungsende"
   ]
  },
  {
   "cell_type": "markdown",
   "metadata": {},
   "source": [
    "---\n",
    "### Aufgabe 3"
   ]
  },
  {
   "cell_type": "markdown",
   "metadata": {},
   "source": [
    "Geben Sie das Ergebnis der ganzzahligen Division der folgenden Werte aus und den jeweiligen Rest.\n",
    "* $27\\div4$\n",
    "* $42\\div17$\n",
    "* $29\\div3$\n",
    "* $1120\\div35$\n",
    "* $12052\\div465$"
   ]
  },
  {
   "cell_type": "code",
   "execution_count": null,
   "metadata": {},
   "outputs": [],
   "source": [
    "#Loesungen\n",
    "\n",
    "\n",
    "#Loesungsende"
   ]
  },
  {
   "cell_type": "markdown",
   "metadata": {},
   "source": [
    "---\n",
    "### Aufgabe 4"
   ]
  },
  {
   "cell_type": "markdown",
   "metadata": {},
   "source": [
    "Lassen Sie den Nutzer 2 ganze Zahlen eingeben. Anschließend soll aus diesen Zahlen die Summe berechnet und diese ausgegeben werden."
   ]
  },
  {
   "cell_type": "code",
   "execution_count": null,
   "metadata": {},
   "outputs": [],
   "source": [
    "#Loesungen\n",
    "\n",
    "\n",
    "#Loesungsende"
   ]
  },
  {
   "cell_type": "markdown",
   "metadata": {},
   "source": [
    "---\n",
    "### Aufgabe 5"
   ]
  },
  {
   "cell_type": "markdown",
   "metadata": {},
   "source": [
    "Lassen Sie den Nutzer 4 Gleitkommazahlen eingeben. Anschließend soll aus den Werten der Mittelwert berechnet werden und dieser ausgegeben werden."
   ]
  },
  {
   "cell_type": "code",
   "execution_count": null,
   "metadata": {},
   "outputs": [],
   "source": [
    "#Loesungen\n",
    "\n",
    "\n",
    "#Loesungsende"
   ]
  },
  {
   "cell_type": "markdown",
   "metadata": {},
   "source": [
    "---\n",
    "### Aufgabe 6"
   ]
  },
  {
   "cell_type": "markdown",
   "metadata": {},
   "source": [
    "Lösen Sie die Gleichung $x = 3\\cdot14-2^4$ und geben Sie das Ergebnis aus."
   ]
  },
  {
   "cell_type": "code",
   "execution_count": null,
   "metadata": {},
   "outputs": [],
   "source": [
    "#Loesungen\n",
    "\n",
    "\n",
    "#Loesungsende"
   ]
  },
  {
   "cell_type": "markdown",
   "metadata": {},
   "source": [
    "---\n",
    "### Aufgabe 7"
   ]
  },
  {
   "cell_type": "markdown",
   "metadata": {},
   "source": [
    "Überprüfen Sie mit Hilfe eines Operators, ob die nachfolgenden Strings identisch sind."
   ]
  },
  {
   "cell_type": "code",
   "execution_count": null,
   "metadata": {},
   "outputs": [],
   "source": [
    "a=\"GTCATGCGGTCTGACGCTGAAGTCTGCGGTCATGCGGTCTGACGCTGGAAGTCTGCGGTCATGCGGTCTGACGCTG\"\n",
    "b=\"GTCATGCGGTCTGACGCTGAAGTCTGCGGTCATGCGGTCTGACGCTGGAAGTCTGCGGTCATGCGGTCTGACGCTG\"\n",
    "\n",
    "#Loesungen\n",
    "\n",
    "\n",
    "#Loesungsende"
   ]
  },
  {
   "cell_type": "markdown",
   "metadata": {},
   "source": [
    "---\n",
    "### Aufgabe 8"
   ]
  },
  {
   "cell_type": "markdown",
   "metadata": {},
   "source": [
    "Überprüfen Sie, ob die Variablen `a`, `b`, `c` und `d` jeweils:\n",
    "* Größer als 7 oder kleiner als 2 sind\n",
    "* Gleich 5 oder größer als 9 sind\n",
    "* Kleiner 11 und gleich 3 sind\n",
    "* Zwischen 5 und 10 aber nicht 8"
   ]
  },
  {
   "cell_type": "code",
   "execution_count": null,
   "metadata": {},
   "outputs": [],
   "source": [
    "a=3\n",
    "b=12\n",
    "c=7\n",
    "d=8\n",
    "\n",
    "#Loesungen\n",
    "\n",
    "\n",
    "#Loesungsende"
   ]
  },
  {
   "cell_type": "markdown",
   "metadata": {},
   "source": [
    "---\n",
    "### Aufgabe 9"
   ]
  },
  {
   "cell_type": "markdown",
   "metadata": {},
   "source": [
    "Fordern Sie den Nutzer auf, den Nettopreis einer Ware einzugeben. Anschließend soll der Bruttopreis mit 19% Mehrwertsteuer berechnet und als ganzer Satz ausgeben."
   ]
  },
  {
   "cell_type": "code",
   "execution_count": null,
   "metadata": {},
   "outputs": [],
   "source": [
    "#Loesungen\n",
    "\n",
    "\n",
    "#Loesungsende"
   ]
  },
  {
   "cell_type": "markdown",
   "metadata": {},
   "source": [
    "---\n",
    "### Aufgabe 10"
   ]
  },
  {
   "cell_type": "markdown",
   "metadata": {},
   "source": [
    "Fordern Sie den Nutzer auf, Länge, Breite und Höhe eines Quaders einzugeben. Anschließend soll das Volumen, die Oberfläche und die Raumdiagonale des Quaders berechnet und ausgegeben werden."
   ]
  },
  {
   "cell_type": "code",
   "execution_count": null,
   "metadata": {},
   "outputs": [],
   "source": [
    "#Loesungen\n",
    "\n",
    "\n",
    "#Loesungsende"
   ]
  },
  {
   "cell_type": "markdown",
   "metadata": {},
   "source": [
    "---\n",
    "Herzlichen Glückwunsch, das Kapitel ist hiermit abgeschlossen!\n",
    "\n",
    "Link zum Kapitel der Selektion: [5. Selektion](05a_Selektion_Theorie.ipynb)"
   ]
  },
  {
   "cell_type": "markdown",
   "metadata": {
    "deletable": false,
    "editable": false,
    "tags": []
   },
   "source": [
    "<a rel=\"license\" href=\"http://creativecommons.org/licenses/by-nc-nd/4.0/\"><img alt=\"Creative Commons Lizenzvertrag\" style=\"border-width:0\" src=\"https://i.creativecommons.org/l/by-nc-nd/4.0/88x31.png\" /></a><br /><span xmlns:dct=\"http://purl.org/dc/terms/\" property=\"dct:title\">Das JuPy Python Tutorial</span> der <span xmlns:cc=\"http://creativecommons.org/ns#\" property=\"cc:attributionName\">EAH Jena</span> ist lizenziert unter einer <a rel=\"license\" href=\"http://creativecommons.org/licenses/by-nc-nd/4.0/\">Creative Commons Namensnennung - Nicht kommerziell - Keine Bearbeitungen 4.0 International Lizenz</a>.\n"
   ]
  }
 ],
 "metadata": {
  "kernelspec": {
   "display_name": "Python 3 (ipykernel)",
   "language": "python",
   "name": "python3"
  },
  "language_info": {
   "codemirror_mode": {
    "name": "ipython",
    "version": 3
   },
   "file_extension": ".py",
   "mimetype": "text/x-python",
   "name": "python",
   "nbconvert_exporter": "python",
   "pygments_lexer": "ipython3",
   "version": "3.10.8"
  }
 },
 "nbformat": 4,
 "nbformat_minor": 4
}
