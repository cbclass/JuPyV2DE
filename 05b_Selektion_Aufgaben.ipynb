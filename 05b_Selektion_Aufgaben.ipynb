{
 "cells": [
  {
   "cell_type": "markdown",
   "metadata": {},
   "source": [
    "[JuPy: Inhaltsverzeichnis](00_Einleitung.ipynb#Inhaltsverzeichnis)\n",
    "\n",
    "# A.5 Aufgaben zu Selektion"
   ]
  },
  {
   "cell_type": "markdown",
   "metadata": {},
   "source": [
    "<a id='aggregatZustandIf'></a>\n",
    "### Aufgabe 1: Aggregatzustand\n",
    "Eine Variable `temp`  wird vom Nutzer eingegeben. Sie stellt eine Temperatur von Wasser dar. Mit einer Fallunterscheidung (`if`, `elif`, `else`) soll danach geprüft und ausgegeben werden, welchem Aggregatzustand das entspricht. (temp<=0: fest, 0<temp<100: flüssig, temp>=100: gasförmig)"
   ]
  },
  {
   "cell_type": "code",
   "execution_count": null,
   "metadata": {},
   "outputs": [],
   "source": [
    "# Loesung\n",
    "\n",
    "\n",
    "#Loesungsende"
   ]
  },
  {
   "cell_type": "markdown",
   "metadata": {},
   "source": [
    "---\n",
    "### Aufgabe 2: Zahl raten\n",
    "#### Teil A\n",
    "Lassen Sie den Nutzer eine Zahl von 1 bis 10 raten. Mithilfe einer `if`-Anweisung soll dann verglichen werden und ausgeben, ob die geratene Zahl der 'ausgedachten' Zufallszahl des Computers entspricht bzw. größer oder kleiner ist. **Hinweis:** Benutzen Sie zum Erzeugen einer Zufallszahl das Modul `random`."
   ]
  },
  {
   "cell_type": "code",
   "execution_count": null,
   "metadata": {},
   "outputs": [],
   "source": [
    "# Loesung\n",
    "import random as r\n",
    "\n",
    "#Loesungsende"
   ]
  },
  {
   "cell_type": "markdown",
   "metadata": {},
   "source": [
    "#### Teil B\n",
    "Erweitern Sie den Code nun so, dass bei Eingabe einer Zahl, die nicht im geforderten Intervall [1,10] liegt, eine Meldung darüber ausgegeben wird."
   ]
  },
  {
   "cell_type": "code",
   "execution_count": null,
   "metadata": {},
   "outputs": [],
   "source": [
    "# Loesung\n",
    "import random as r\n",
    "\n",
    "#Loesungsende"
   ]
  },
  {
   "cell_type": "markdown",
   "metadata": {},
   "source": [
    "---\n",
    "### Aufgabe 3: FSK 12\n",
    "Es soll ein Automat programmiert werden, der unter 12-jährige ohne Eltern nicht in einen FSK 12 Film gehen lässt. Dafür wird eine Variable fsk = 12 gesetzt. Mit zwei Nutzereingaben werden das Alter und die Anwesenheit der Eltern überprüft, anschließend wird entschieden, ob der Film frei gegeben ist oder nicht."
   ]
  },
  {
   "cell_type": "code",
   "execution_count": null,
   "metadata": {},
   "outputs": [],
   "source": [
    "# Loesung\n",
    "fsk = 12\n",
    "\n",
    "#Loesungsende"
   ]
  },
  {
   "cell_type": "markdown",
   "metadata": {},
   "source": [
    "---\n",
    "### Aufgabe 4: BMI\n",
    "Der BMI lässt sich durch folgende Formel berechnen: $bmi = \\frac{m}{l^2}$, wobei $m$ = Körpergewicht in kg und $l$ = Körpergröße in m ist. Programmieren Sie einen BMI Rechner so, dass dieser den BMI und das dazugehörige Ergebnis Normal-, Unter- oder Übergewicht ausgibt. (BMI < 18,5: Untergewicht, 18,5 <= BMI <= 25: Normalgewicht, BMI > 25: Übergewicht)\n"
   ]
  },
  {
   "cell_type": "code",
   "execution_count": null,
   "metadata": {},
   "outputs": [],
   "source": [
    "# Loesung\n",
    "\n",
    "\n",
    "#Loesungsende"
   ]
  },
  {
   "cell_type": "markdown",
   "metadata": {},
   "source": [
    "---\n",
    "### Aufgabe 5: Professor Stinkmorchel aus Unfairhausen\n",
    "Professor Stinkmorchel hat ein etwas anderes System der Notenbewertung: Wenn er eine Prüfung kontrolliert hat und die vorläufige Note feststeht, checkt er noch ein paar andere Parameter, die folgendermaßen aussehen:\n",
    "\n",
    "- Haarschnitt des Prüflings: lang +5 Punkte, kurz -5 Punkte\n",
    "- Schrift des Prüflings: Schönschrift +5 Punkte, Geschmiere -5 Punkte\n",
    "- Hat der Prüfling Tattoos? ja -10 Punkte, nein +10 Punkte\n",
    "- Wie ist das Wetter? gut -10 Punkte, schlecht +5 Punkte\n",
    "- Wurde während des Korrigierens Bier konsumiert? ja +10 Punkte, nein -5 Punkte\n",
    "\n",
    "Da es jeweils nur zwei Antwortmöglichkeiten gibt, soll die Eingabe der Einfachheit halber jedes Mal 0 oder 1 für die entsprechende Antwort sein. \n",
    "\n",
    "Es gibt insgesamt 100 Punkte. \n",
    "\n",
    "Am Ende soll noch entschieden werden, ob der Prüfling bestanden hat oder nicht. Die Prüfung gilt ab 50 Punkten als bestanden.\n"
   ]
  },
  {
   "cell_type": "code",
   "execution_count": null,
   "metadata": {},
   "outputs": [],
   "source": [
    "# Loesung\n",
    "\n",
    "\n",
    "#Loesungsende"
   ]
  },
  {
   "cell_type": "markdown",
   "metadata": {},
   "source": [
    "### Zusatz \n",
    "Wenn Sie immernoch nicht genug haben, können Sie Ihren Code noch so erweitern, dass Fehlermeldungen auftauchen und das Programm abgebrochen wird, sobald eine falsche Eingabe getätigt wird. (Also die Punktzahl nicht im Bereich 0-100 liegt und für die einzelnen Antwortmöglichkeiten etwas anderes als 0 oder 1 eingegeben wird.) \n",
    "\n",
    "**Hinweis:** Es werden viele verschachtelte `if`-Anweisungen, fuchsen Sie sich also ruhig rein, auch wenn es etwas länger dauert. Danach haben Sie das Kapitel garantiert verstanden! :)"
   ]
  },
  {
   "cell_type": "code",
   "execution_count": null,
   "metadata": {},
   "outputs": [],
   "source": [
    "# Loesung\n",
    "\n",
    "\n",
    "#Loesungsende"
   ]
  },
  {
   "cell_type": "markdown",
   "metadata": {},
   "source": [
    "---\n",
    "Glückwunsch, dieses Übungskapitel ist hiermit abgeschlossen!\n",
    "\n",
    "Hier geht's zum nächsten Kapitel: [6. For-Schleife](06a_ForSchleife_Theorie.ipynb)"
   ]
  },
  {
   "cell_type": "markdown",
   "metadata": {
    "deletable": false,
    "editable": false,
    "tags": []
   },
   "source": [
    "<a rel=\"license\" href=\"http://creativecommons.org/licenses/by-nc-nd/4.0/\"><img alt=\"Creative Commons Lizenzvertrag\" style=\"border-width:0\" src=\"https://i.creativecommons.org/l/by-nc-nd/4.0/88x31.png\" /></a><br /><span xmlns:dct=\"http://purl.org/dc/terms/\" property=\"dct:title\">Das JuPy Python Tutorial</span> der <span xmlns:cc=\"http://creativecommons.org/ns#\" property=\"cc:attributionName\">EAH Jena</span> ist lizenziert unter einer <a rel=\"license\" href=\"http://creativecommons.org/licenses/by-nc-nd/4.0/\">Creative Commons Namensnennung - Nicht kommerziell - Keine Bearbeitungen 4.0 International Lizenz</a>.\n"
   ]
  }
 ],
 "metadata": {
  "kernelspec": {
   "display_name": "Python 3 (ipykernel)",
   "language": "python",
   "name": "python3"
  },
  "language_info": {
   "codemirror_mode": {
    "name": "ipython",
    "version": 3
   },
   "file_extension": ".py",
   "mimetype": "text/x-python",
   "name": "python",
   "nbconvert_exporter": "python",
   "pygments_lexer": "ipython3",
   "version": "3.10.8"
  }
 },
 "nbformat": 4,
 "nbformat_minor": 4
}
