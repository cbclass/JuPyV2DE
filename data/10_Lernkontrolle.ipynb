{
 "cells": [
  {
   "cell_type": "code",
   "execution_count": 1,
   "metadata": {},
   "outputs": [
    {
     "data": {
      "application/vnd.jupyter.widget-view+json": {
       "model_id": "80ecd6fc89224dd5b9715cb607861a8e",
       "version_major": 2,
       "version_minor": 0
      },
      "text/plain": [
       "VBox(children=(Output(), RadioButtons(options=(('[0 3 6 9]', 0), ('[1 4 7 10]', 1), ('[0 3 6 9 12]', 2)), valu…"
      ]
     },
     "metadata": {},
     "output_type": "display_data"
    },
    {
     "data": {
      "application/vnd.jupyter.widget-view+json": {
       "model_id": "d5f5313722dc4de3b9c666f8b0f188fa",
       "version_major": 2,
       "version_minor": 0
      },
      "text/plain": [
       "VBox(children=(Output(), RadioButtons(options=(('[1 3 5]', 0), ('[1 2 3 4 5]', 1), ('[1.  1.5 2.  2.5 3. ]', 2…"
      ]
     },
     "metadata": {},
     "output_type": "display_data"
    },
    {
     "data": {
      "application/vnd.jupyter.widget-view+json": {
       "model_id": "315b1350a6a846b1acda109bfaf11f14",
       "version_major": 2,
       "version_minor": 0
      },
      "text/plain": [
       "VBox(children=(Output(), RadioButtons(options=(('3', 0), ('5', 1), ('9', 2), ('Kann nicht funktionieren', 3)),…"
      ]
     },
     "metadata": {},
     "output_type": "display_data"
    },
    {
     "data": {
      "application/vnd.jupyter.widget-view+json": {
       "model_id": "b98f53ee0817499aa6cac642656100c1",
       "version_major": 2,
       "version_minor": 0
      },
      "text/plain": [
       "VBox(children=(Output(), RadioButtons(options=(('np.arange()', 0), ('np.eye()', 1), ('np.zeros()', 2), ('np.li…"
      ]
     },
     "metadata": {},
     "output_type": "display_data"
    },
    {
     "data": {
      "application/vnd.jupyter.widget-view+json": {
       "model_id": "6c38a51202684a80a38c7d392207b427",
       "version_major": 2,
       "version_minor": 0
      },
      "text/plain": [
       "VBox(children=(Output(), RadioButtons(options=(('1', 0), ('5', 1), ('7', 2), ('Fehler', 3)), value=0), Button(…"
      ]
     },
     "metadata": {},
     "output_type": "display_data"
    },
    {
     "data": {
      "application/vnd.jupyter.widget-view+json": {
       "model_id": "63a2ce5ae0b74d768b9aa8e550d991dc",
       "version_major": 2,
       "version_minor": 0
      },
      "text/plain": [
       "VBox(children=(Output(), RadioButtons(options=(('[2 3]', 0), ('[5 6]', 1), ('[7 8]', 2), ('[8 9]', 3), ('[4 5 …"
      ]
     },
     "metadata": {},
     "output_type": "display_data"
    }
   ],
   "source": [
    "# Das JuPy Python Tutorial der EAH Jena (www.eah-jena.de) ist lizenziert unter einer\n",
    "# Creative Commons Namensnennung - Nicht kommerziell - Keine Bearbeitungen 4.0 International Lizenz (http://creativecommons.org/licenses/by-nc-nd/4.0/).\n",
    "\n",
    "from questions import *\n",
    "Q1 = create_multipleChoice_widget_new('''Wie lautet die Ausgabe?''',\n",
    "'''print(np.arange(0, 10, 3))''',['[0 3 6 9]','[1 4 7 10]','[0 3 6 9 12]'],'[0 3 6 9]',0)\n",
    "\n",
    "Q2 = create_multipleChoice_widget_new('''Wie lautet die Ausgabe?''','''print(np.linspace(1, 3, 5))''',['[1 3 5]','[1 2 3 4 5]','[1.  1.5 2.  2.5 3. ]','Fehler'],'[1.  1.5 2.  2.5 3. ]',0)\n",
    "\n",
    "Q3 = create_multipleChoice_widget_new( '''Was muss für x eingesetzt werden, damit eine gültige Ausgabe herauskommt?''', \n",
    "'''matrix1 = np.zeros(9, dtype = 'int')\n",
    "print(matrix1.reshape(1,x))\n",
    "''',['3','5','9','Kann nicht funktionieren'],'9',0)\n",
    "\n",
    "Q4 = create_multipleChoice_widget_new('''Mit welcher Funktion von NumPy kann am einfachsten eine Einheitsmatrix erstellt werden? ''','',\n",
    "                                           ['np.arange()','np.eye()','np.zeros()','np.linspace()'],'np.eye()',0)\n",
    "\n",
    "Q5 = create_multipleChoice_widget_new('''Wie lautet die Ausgabe?''', \n",
    "'''array = np.array([[4,5,6],\n",
    "                  [1,2,3],\n",
    "                  [7,8,9]])\n",
    "print(array[2,0])''',['1','5', '7', 'Fehler'],'7',0)\n",
    "\n",
    "Q6 = create_multipleChoice_widget_new('''Wie lautet die Ausgabe?''', \n",
    "'''array = np.array([[4,5,6],\n",
    "                  [1,2,3],\n",
    "                  [7,8,9]])\n",
    "print(array[1,1:])''',['[2 3]','[5 6]','[7 8]','[8 9]', '[4 5 6]','[7 8 9]'],'[2 3]',1)\n",
    "\n",
    "display(Q1)\n",
    "display(Q2)\n",
    "display(Q3)\n",
    "display(Q4)\n",
    "display(Q5)\n",
    "display(Q6)"
   ]
  },
  {
   "cell_type": "code",
   "execution_count": null,
   "metadata": {},
   "outputs": [],
   "source": []
  }
 ],
 "metadata": {
  "kernelspec": {
   "display_name": "Python 3 (ipykernel)",
   "language": "python",
   "name": "python3"
  },
  "language_info": {
   "codemirror_mode": {
    "name": "ipython",
    "version": 3
   },
   "file_extension": ".py",
   "mimetype": "text/x-python",
   "name": "python",
   "nbconvert_exporter": "python",
   "pygments_lexer": "ipython3",
   "version": "3.10.8"
  }
 },
 "nbformat": 4,
 "nbformat_minor": 4
}
