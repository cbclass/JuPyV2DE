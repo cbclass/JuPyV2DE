{
 "cells": [
  {
   "cell_type": "code",
   "execution_count": 6,
   "metadata": {},
   "outputs": [
    {
     "data": {
      "application/vnd.jupyter.widget-view+json": {
       "model_id": "7cd4393a0fca483894dd088de998365a",
       "version_major": 2,
       "version_minor": 0
      },
      "text/plain": [
       "VBox(children=(Output(), RadioButtons(options=(('[0 3 6 9]', 0), ('[1 4 7 10]', 1), ('[0 3 6 9 12]', 2)), valu…"
      ]
     },
     "metadata": {},
     "output_type": "display_data"
    },
    {
     "data": {
      "application/vnd.jupyter.widget-view+json": {
       "model_id": "c1575cf43e0c48b8a7e509f15dfb8307",
       "version_major": 2,
       "version_minor": 0
      },
      "text/plain": [
       "VBox(children=(Output(), RadioButtons(options=(('[1 3 5]', 0), ('[1 2 3 4 5]', 1), ('[1.  1.5 2.  2.5 3. ]', 2…"
      ]
     },
     "metadata": {},
     "output_type": "display_data"
    },
    {
     "data": {
      "application/vnd.jupyter.widget-view+json": {
       "model_id": "e3f4dd91a6e94bbdb06134164d94e746",
       "version_major": 2,
       "version_minor": 0
      },
      "text/plain": [
       "VBox(children=(Output(), RadioButtons(options=(('3', 0), ('5', 1), ('9', 2), ('Kann nicht funktionieren', 3)),…"
      ]
     },
     "metadata": {},
     "output_type": "display_data"
    },
    {
     "data": {
      "application/vnd.jupyter.widget-view+json": {
       "model_id": "c14e4f655c9640b49796283fcefc8a0c",
       "version_major": 2,
       "version_minor": 0
      },
      "text/plain": [
       "VBox(children=(Output(), RadioButtons(options=(('np.arange()', 0), ('np.eye()', 1), ('np.zeros()', 2), ('np.li…"
      ]
     },
     "metadata": {},
     "output_type": "display_data"
    },
    {
     "data": {
      "application/vnd.jupyter.widget-view+json": {
       "model_id": "43f09b802f484259abe3f2b6ad371839",
       "version_major": 2,
       "version_minor": 0
      },
      "text/plain": [
       "VBox(children=(Output(), RadioButtons(options=(('1', 0), ('5', 1), ('7', 2), ('Fehler', 3)), value=0), Button(…"
      ]
     },
     "metadata": {},
     "output_type": "display_data"
    },
    {
     "data": {
      "application/vnd.jupyter.widget-view+json": {
       "model_id": "961648f0879947e5bab6314e149dd6b8",
       "version_major": 2,
       "version_minor": 0
      },
      "text/plain": [
       "VBox(children=(Output(), RadioButtons(options=(('[2 3]', 0), ('[5 6]', 1), ('[7 8]', 2), ('[8 9]', 3), ('[4 5 …"
      ]
     },
     "metadata": {},
     "output_type": "display_data"
    }
   ],
   "source": [
    "from questions import *\n",
    "Q1 = create_multipleChoice_widget_new('''Wie lautet die Ausgabe?''',\n",
    "'''print(np.arange(0, 10, 3))''',['[0 3 6 9]','[1 4 7 10]','[0 3 6 9 12]'],'[0 3 6 9]')\n",
    "\n",
    "Q2 = create_multipleChoice_widget_new('''Wie lautet die Ausgabe?''','''print(np.linspace(1, 3, 5))''',['[1 3 5]','[1 2 3 4 5]','[1.  1.5 2.  2.5 3. ]','Fehler'],'[1.  1.5 2.  2.5 3. ]')\n",
    "\n",
    "Q3 = create_multipleChoice_widget_new( '''Was muss für x eingesetzt werden, damit eine gültige Ausgabe herauskommt?''', \n",
    "'''matrix1 = np.zeros(9, dtype = 'int')\n",
    "print(matrix1.reshape(1,x))\n",
    "''',['3','5','9','Kann nicht funktionieren'],'9')\n",
    "\n",
    "Q4 = create_multipleChoice_widget_new('''Mit welcher Funktion von NumPy kann am einfachsten eine Einheitsmatrix erstellt werden? ''','',\n",
    "                                           ['np.arange()','np.eye()','np.zeros()','np.linspace()'],'np.eye()')\n",
    "\n",
    "Q5 = create_multipleChoice_widget_new('''Wie lautet die Ausgabe?''', \n",
    "'''array = np.array([[4,5,6],\n",
    "                  [1,2,3],\n",
    "                  [7,8,9]])\n",
    "print(array[2,0])''',['1','5', '7', 'Fehler'],'7')\n",
    "\n",
    "Q6 = create_multipleChoice_widget_new('''Wie lautet die Ausgabe?''', \n",
    "'''array = np.array([[4,5,6],\n",
    "                  [1,2,3],\n",
    "                  [7,8,9]])\n",
    "print(array[1,1:])''',['[2 3]','[5 6]','[7 8]','[8 9]', '[4 5 6]','[7 8 9]'],'[2 3]')\n",
    "\n",
    "display(Q1)\n",
    "display(Q2)\n",
    "display(Q3)\n",
    "display(Q4)\n",
    "display(Q5)\n",
    "display(Q6)"
   ]
  },
  {
   "cell_type": "code",
   "execution_count": null,
   "metadata": {},
   "outputs": [],
   "source": []
  }
 ],
 "metadata": {
  "kernelspec": {
   "display_name": "Python 3 (ipykernel)",
   "language": "python",
   "name": "python3"
  },
  "language_info": {
   "codemirror_mode": {
    "name": "ipython",
    "version": 3
   },
   "file_extension": ".py",
   "mimetype": "text/x-python",
   "name": "python",
   "nbconvert_exporter": "python",
   "pygments_lexer": "ipython3",
   "version": "3.9.7"
  }
 },
 "nbformat": 4,
 "nbformat_minor": 4
}
