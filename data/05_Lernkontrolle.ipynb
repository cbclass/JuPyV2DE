{
 "cells": [
  {
   "cell_type": "code",
   "execution_count": 8,
   "metadata": {},
   "outputs": [
    {
     "data": {
      "application/vnd.jupyter.widget-view+json": {
       "model_id": "05c849b76ca94d14b91e5af32814ca82",
       "version_major": 2,
       "version_minor": 0
      },
      "text/plain": [
       "VBox(children=(Output(), RadioButtons(options=(('1 1 2', 0), ('1 2 2', 1), ('1 2 1', 2), ('1 1 1', 3)), value=…"
      ]
     },
     "metadata": {},
     "output_type": "display_data"
    },
    {
     "data": {
      "application/vnd.jupyter.widget-view+json": {
       "model_id": "b79b09753e6c4026bc0c15a1ff6be439",
       "version_major": 2,
       "version_minor": 0
      },
      "text/plain": [
       "VBox(children=(Output(), RadioButtons(options=(('1 1 2', 0), ('1 2 2', 1), ('1 2 1', 2), ('1 1 1', 3)), value=…"
      ]
     },
     "metadata": {},
     "output_type": "display_data"
    },
    {
     "data": {
      "application/vnd.jupyter.widget-view+json": {
       "model_id": "77247f13537247ed840d18cea704f1bb",
       "version_major": 2,
       "version_minor": 0
      },
      "text/plain": [
       "VBox(children=(Output(), RadioButtons(options=(('1 1 2', 0), ('1 2 2', 1), ('1 2 1', 2), ('1 1 1', 3)), value=…"
      ]
     },
     "metadata": {},
     "output_type": "display_data"
    },
    {
     "data": {
      "application/vnd.jupyter.widget-view+json": {
       "model_id": "fb777249e27a418bb2323c354908dd9f",
       "version_major": 2,
       "version_minor": 0
      },
      "text/plain": [
       "VBox(children=(Output(), RadioButtons(options=(('6 2 2', 0), ('1 2 5', 1), ('1 4 3', 2), ('1 6 3', 3)), value=…"
      ]
     },
     "metadata": {},
     "output_type": "display_data"
    },
    {
     "data": {
      "application/vnd.jupyter.widget-view+json": {
       "model_id": "de97d75c5b794c4c8b594ae30e9a5735",
       "version_major": 2,
       "version_minor": 0
      },
      "text/plain": [
       "VBox(children=(Output(), RadioButtons(options=(('1', 0), ('-1', 1), ('Fehler', 2)), value=0), Button(descripti…"
      ]
     },
     "metadata": {},
     "output_type": "display_data"
    },
    {
     "data": {
      "application/vnd.jupyter.widget-view+json": {
       "model_id": "8372be7217514333a13687e234d7b100",
       "version_major": 2,
       "version_minor": 0
      },
      "text/plain": [
       "VBox(children=(Output(), RadioButtons(options=(('1', 0), ('2', 1), ('3', 2), ('4', 3)), value=0), Button(descr…"
      ]
     },
     "metadata": {},
     "output_type": "display_data"
    }
   ],
   "source": [
    "from questions import *\n",
    "\n",
    "\n",
    "Q1 = create_multipleChoice_widget_new('Wie lautet die Ausgabe?',\n",
    "                                      'n = 1\\nk = 2\\nr = n\\nif k < n:\\n    r = k\\nprint(n,k,r)',['1 1 2','1 2 2','1 2 1','1 1 1'],'1 2 1')\n",
    "Q2 = create_multipleChoice_widget_new(\"Wie lautet die Ausgabe?\", \n",
    " 'n = 1\\nk = 2\\nif n < k:\\n    r = k\\nelse:\\n    r = k+n\\nprint(n,k,r)',\n",
    " ['1 1 2','1 2 2','1 2 1','1 1 1'],'1 2 2')\n",
    "Q3 = create_multipleChoice_widget_new(\"Wie lautet die Ausgabe?\", \n",
    " 'n = 1\\nk = 2\\nr = k\\nif r < k:\\n    n = r\\nelse:\\n    k = n\\nprint(n,k,r)',['1 1 2','1 2 2','1 2 1','1 1 1'],'1 1 2')\n",
    "Q4 = create_multipleChoice_widget_new(\"Wie lautet die Ausgabe?\", \n",
    "'n = 1\\nk = 2\\nr = 3\\nif r < n+k:\\n    r = 2*n\\nelse:\\n    k = 2*r\\nprint(n,k,r)',\n",
    "                                      ['6 2 2','1 2 5','1 4 3','1 6 3'],'1 6 3')\n",
    "\n",
    "Q5 = create_multipleChoice_widget_new(\"Wie lautet die Ausgabe?\", \n",
    " 'n = 1\\nm = -1\\nif n < -m:\\n    print(n)\\nelse:\\n    print(m)',['1','-1', 'Fehler'],'-1')\n",
    "\n",
    "Q6 = create_multipleChoice_widget_new(\"Wie lautet die Ausgabe?\", \n",
    "'''a = 17\n",
    "if a < 10:\n",
    "    print(1)\n",
    "elif a < 20:\n",
    "    print(2)\n",
    "elif a == 17:\n",
    "    print(3)\n",
    "else:\n",
    "    print(4)''',['1','2','3','4'],'2')\n",
    "\n",
    "display(Q1)\n",
    "display(Q2)\n",
    "display(Q3)\n",
    "display(Q4)\n",
    "display(Q5)\n",
    "display(Q6)"
   ]
  }
 ],
 "metadata": {
  "kernelspec": {
   "display_name": "Python 3 (ipykernel)",
   "language": "python",
   "name": "python3"
  },
  "language_info": {
   "codemirror_mode": {
    "name": "ipython",
    "version": 3
   },
   "file_extension": ".py",
   "mimetype": "text/x-python",
   "name": "python",
   "nbconvert_exporter": "python",
   "pygments_lexer": "ipython3",
   "version": "3.9.7"
  }
 },
 "nbformat": 4,
 "nbformat_minor": 4
}
