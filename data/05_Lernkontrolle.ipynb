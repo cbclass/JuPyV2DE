{
 "cells": [
  {
   "cell_type": "code",
   "execution_count": 1,
   "metadata": {},
   "outputs": [
    {
     "data": {
      "application/vnd.jupyter.widget-view+json": {
       "model_id": "4f1970b2cf374fd3b7a6ebe2c4f66a71",
       "version_major": 2,
       "version_minor": 0
      },
      "text/plain": [
       "VBox(children=(Output(), RadioButtons(options=(('1 1 2', 0), ('1 2 2', 1), ('1 2 1', 2), ('1 1 1', 3)), value=…"
      ]
     },
     "metadata": {},
     "output_type": "display_data"
    },
    {
     "data": {
      "application/vnd.jupyter.widget-view+json": {
       "model_id": "3ada5f433d5246c4b6f071ed4b986e1c",
       "version_major": 2,
       "version_minor": 0
      },
      "text/plain": [
       "VBox(children=(Output(), RadioButtons(options=(('1 1 2', 0), ('1 2 2', 1), ('1 2 1', 2), ('1 1 1', 3)), value=…"
      ]
     },
     "metadata": {},
     "output_type": "display_data"
    },
    {
     "data": {
      "application/vnd.jupyter.widget-view+json": {
       "model_id": "72209c244c5640d787e9c15cc5a1ea19",
       "version_major": 2,
       "version_minor": 0
      },
      "text/plain": [
       "VBox(children=(Output(), RadioButtons(options=(('1 1 2', 0), ('1 2 2', 1), ('1 2 1', 2), ('1 1 1', 3)), value=…"
      ]
     },
     "metadata": {},
     "output_type": "display_data"
    },
    {
     "data": {
      "application/vnd.jupyter.widget-view+json": {
       "model_id": "afae4e47a72e4ba5aa948b51befa9b4e",
       "version_major": 2,
       "version_minor": 0
      },
      "text/plain": [
       "VBox(children=(Output(), RadioButtons(options=(('6 2 2', 0), ('1 2 5', 1), ('1 4 3', 2), ('1 6 3', 3)), value=…"
      ]
     },
     "metadata": {},
     "output_type": "display_data"
    },
    {
     "data": {
      "application/vnd.jupyter.widget-view+json": {
       "model_id": "91c60a81c9c546949d857a4dcca2d2b9",
       "version_major": 2,
       "version_minor": 0
      },
      "text/plain": [
       "VBox(children=(Output(), RadioButtons(options=(('1', 0), ('-1', 1), ('Fehler', 2)), value=0), Button(descripti…"
      ]
     },
     "metadata": {},
     "output_type": "display_data"
    },
    {
     "data": {
      "application/vnd.jupyter.widget-view+json": {
       "model_id": "049deab0d02a4ba2a1ee8e3e1571f02b",
       "version_major": 2,
       "version_minor": 0
      },
      "text/plain": [
       "VBox(children=(Output(), RadioButtons(options=(('1', 0), ('2', 1), ('3', 2), ('4', 3)), value=0), Button(descr…"
      ]
     },
     "metadata": {},
     "output_type": "display_data"
    }
   ],
   "source": [
    "# Das JuPy Python Tutorial der EAH Jena (www.eah-jena.de) ist lizenziert unter einer\n",
    "# Creative Commons Namensnennung - Nicht kommerziell - Keine Bearbeitungen 4.0 International Lizenz (http://creativecommons.org/licenses/by-nc-nd/4.0/).\n",
    "\n",
    "from questions import *\n",
    "\n",
    "\n",
    "Q1 = create_multipleChoice_widget_new('Wie lautet die Ausgabe?',\n",
    "                                      'n = 1\\nk = 2\\nr = n\\nif k < n:\\n    r = k\\nprint(n,k,r)',['1 1 2','1 2 2','1 2 1','1 1 1'],'1 2 1',0)\n",
    "Q2 = create_multipleChoice_widget_new(\"Wie lautet die Ausgabe?\", \n",
    " 'n = 1\\nk = 2\\nif n < k:\\n    r = k\\nelse:\\n    r = k+n\\nprint(n,k,r)',\n",
    " ['1 1 2','1 2 2','1 2 1','1 1 1'],'1 2 2',0)\n",
    "Q3 = create_multipleChoice_widget_new(\"Wie lautet die Ausgabe?\", \n",
    " 'n = 1\\nk = 2\\nr = k\\nif r < k:\\n    n = r\\nelse:\\n    k = n\\nprint(n,k,r)',['1 1 2','1 2 2','1 2 1','1 1 1'],'1 1 2',0)\n",
    "Q4 = create_multipleChoice_widget_new(\"Wie lautet die Ausgabe?\", \n",
    "'n = 1\\nk = 2\\nr = 3\\nif r < n+k:\\n    r = 2*n\\nelse:\\n    k = 2*r\\nprint(n,k,r)',\n",
    "                                      ['6 2 2','1 2 5','1 4 3','1 6 3'],'1 6 3',0)\n",
    "\n",
    "Q5 = create_multipleChoice_widget_new(\"Wie lautet die Ausgabe?\", \n",
    " 'n = 1\\nm = -1\\nif n < -m:\\n    print(n)\\nelse:\\n    print(m)',['1','-1', 'Fehler'],'-1',0)\n",
    "\n",
    "Q6 = create_multipleChoice_widget_new(\"Wie lautet die Ausgabe?\", \n",
    "'''a = 17\n",
    "if a < 10:\n",
    "    print(1)\n",
    "elif a < 20:\n",
    "    print(2)\n",
    "elif a == 17:\n",
    "    print(3)\n",
    "else:\n",
    "    print(4)''',['1','2','3','4'],'2',1)\n",
    "\n",
    "display(Q1)\n",
    "display(Q2)\n",
    "display(Q3)\n",
    "display(Q4)\n",
    "display(Q5)\n",
    "display(Q6)"
   ]
  },
  {
   "cell_type": "code",
   "execution_count": null,
   "metadata": {},
   "outputs": [],
   "source": []
  }
 ],
 "metadata": {
  "kernelspec": {
   "display_name": "Python 3 (ipykernel)",
   "language": "python",
   "name": "python3"
  },
  "language_info": {
   "codemirror_mode": {
    "name": "ipython",
    "version": 3
   },
   "file_extension": ".py",
   "mimetype": "text/x-python",
   "name": "python",
   "nbconvert_exporter": "python",
   "pygments_lexer": "ipython3",
   "version": "3.10.8"
  }
 },
 "nbformat": 4,
 "nbformat_minor": 4
}
