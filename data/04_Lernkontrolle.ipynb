{
 "cells": [
  {
   "cell_type": "code",
   "execution_count": 1,
   "metadata": {},
   "outputs": [
    {
     "data": {
      "application/vnd.jupyter.widget-view+json": {
       "model_id": "3fb9dd1532f045fb8b175bb95d674f26",
       "version_major": 2,
       "version_minor": 0
      },
      "text/plain": [
       "VBox(children=(Output(), RadioButtons(options=(('1', 0), ('-1', 1), ('-2', 2), ('Es tritt ein Fehler auf', 3))…"
      ]
     },
     "metadata": {},
     "output_type": "display_data"
    },
    {
     "data": {
      "application/vnd.jupyter.widget-view+json": {
       "model_id": "d13d93f8b5724cc4885a7a8703747764",
       "version_major": 2,
       "version_minor": 0
      },
      "text/plain": [
       "VBox(children=(Output(), RadioButtons(options=(('1', 0), ('True', 1), ('-3', 2), ('9', 3)), value=0), Button(d…"
      ]
     },
     "metadata": {},
     "output_type": "display_data"
    },
    {
     "data": {
      "application/vnd.jupyter.widget-view+json": {
       "model_id": "4615a9a026a442eda20e7216f1e96fb2",
       "version_major": 2,
       "version_minor": 0
      },
      "text/plain": [
       "VBox(children=(Output(), RadioButtons(options=(('64', 0), ('32', 1), ('16', 2), ('0', 3)), value=0), Button(de…"
      ]
     },
     "metadata": {},
     "output_type": "display_data"
    },
    {
     "data": {
      "application/vnd.jupyter.widget-view+json": {
       "model_id": "edc9b7b076184f07ad07ae5ee618b153",
       "version_major": 2,
       "version_minor": 0
      },
      "text/plain": [
       "VBox(children=(Output(), RadioButtons(options=(('True', 0), ('true', 1), ('False', 2), ('false', 3), ('Es trit…"
      ]
     },
     "metadata": {},
     "output_type": "display_data"
    },
    {
     "data": {
      "application/vnd.jupyter.widget-view+json": {
       "model_id": "e43e086333e342b9bcc3ef1aa8a2b3eb",
       "version_major": 2,
       "version_minor": 0
      },
      "text/plain": [
       "VBox(children=(Output(), RadioButtons(options=(('x > y but x < z', 0), ('x > y and y < z', 1), ('x > y and x <…"
      ]
     },
     "metadata": {},
     "output_type": "display_data"
    },
    {
     "data": {
      "application/vnd.jupyter.widget-view+json": {
       "model_id": "7de8f60929514041ab42a1a6cdc931f2",
       "version_major": 2,
       "version_minor": 0
      },
      "text/plain": [
       "VBox(children=(Output(), RadioButtons(options=(('True', 0), ('False', 1), ('Es tritt ein Fehler auf', 2)), val…"
      ]
     },
     "metadata": {},
     "output_type": "display_data"
    }
   ],
   "source": [
    "# Das JuPy Python Tutorial der EAH Jena (www.eah-jena.de) ist lizenziert unter einer\n",
    "# Creative Commons Namensnennung - Nicht kommerziell - Keine Bearbeitungen 4.0 International Lizenz (http://creativecommons.org/licenses/by-nc-nd/4.0/).\n",
    "\n",
    "from questions import *\n",
    "\n",
    "Q1 = create_multipleChoice_widget_new(\"Bestimmen Sie die Ausgabe des folgenden Code-Segments\",\n",
    "                                      \"x = 1\\nx = 1-2*2\\nx = x+1\\nprint(x)\",['1','-1', '-2', 'Es tritt ein Fehler auf'],'-2',0)\n",
    "Q2 = create_multipleChoice_widget_new(\"Bestimmen Sie die Ausgabe des folgenden Code-Segments\",\n",
    "                                      \"a = 17\\nb = 18\\nprint(a//10 + b%10)\",\n",
    "                                      ['1','True','-3','9'],'9',0)\n",
    "Q3 = create_multipleChoice_widget_new(\"Bestimmen Sie die Ausgabe des folgenden Code-Segments\",\n",
    "                                      \"a = 2\\nb = 1\\nprint(a**(b+a*2))\",\n",
    "                                      ['64','32','16','0'],'32',0)\n",
    "Q4 = create_multipleChoice_widget_new(\"Bestimmen Sie die Ausgabe des folgenden Code-Segments\",\n",
    "                                      'print(\"haLlo\" == \"hallo\")',['True','true', 'False', 'false', 'Es tritt ein Fehler auf'],'False',0)\n",
    "Q5 = create_multipleChoice_widget_new(\"Welcher Pythonausdruck gibt folgendes wieder? 'x ist größer als y aber kleiner als z'\",\"\",['x > y but x < z', 'x > y and y < z', 'x > y and x < z'],'x > y and x < z',0)\n",
    "#Listen sind noch nicht eingeführt, daher mit Zeichenketten\n",
    "#Q6 = create_multipleChoice_widget_new(\"Bestimmen Sie die Ausgabe des folgenden Code-Segments\",\n",
    "#                                      'a = 10\\nb = [10]\\nprint(a == b)',['True', 'False', 'Es tritt ein Fehler auf'],'False')\n",
    "\n",
    "Q6 = create_multipleChoice_widget_new(\"Bestimmen Sie die Ausgabe des folgenden Code-Segments\",\n",
    "                                      \"a = 10\\nb = '10'\\nprint(a == b)\",['True', 'False', 'Es tritt ein Fehler auf'],'False',1)\n",
    "\n",
    "display(Q1)\n",
    "display(Q2)\n",
    "display(Q3)\n",
    "display(Q4)\n",
    "display(Q5)\n",
    "display(Q6)"
   ]
  },
  {
   "cell_type": "code",
   "execution_count": null,
   "metadata": {},
   "outputs": [],
   "source": []
  }
 ],
 "metadata": {
  "kernelspec": {
   "display_name": "Python 3 (ipykernel)",
   "language": "python",
   "name": "python3"
  },
  "language_info": {
   "codemirror_mode": {
    "name": "ipython",
    "version": 3
   },
   "file_extension": ".py",
   "mimetype": "text/x-python",
   "name": "python",
   "nbconvert_exporter": "python",
   "pygments_lexer": "ipython3",
   "version": "3.10.8"
  },
  "toc-autonumbering": true,
  "toc-showcode": true
 },
 "nbformat": 4,
 "nbformat_minor": 4
}
