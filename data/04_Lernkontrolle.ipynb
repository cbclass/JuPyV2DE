{
 "cells": [
  {
   "cell_type": "code",
   "execution_count": 6,
   "metadata": {},
   "outputs": [
    {
     "data": {
      "application/vnd.jupyter.widget-view+json": {
       "model_id": "4537d2d0a6b44aad9ba3279b4c9a17e6",
       "version_major": 2,
       "version_minor": 0
      },
      "text/plain": [
       "VBox(children=(Output(), RadioButtons(options=(('1', 0), ('-1', 1), ('-2', 2), ('Es tritt ein Fehler auf', 3))…"
      ]
     },
     "metadata": {},
     "output_type": "display_data"
    },
    {
     "data": {
      "application/vnd.jupyter.widget-view+json": {
       "model_id": "0f23a6129ac045a38a40bdb8f629e579",
       "version_major": 2,
       "version_minor": 0
      },
      "text/plain": [
       "VBox(children=(Output(), RadioButtons(options=(('1', 0), ('True', 1), ('-3', 2), ('9', 3)), value=0), Button(d…"
      ]
     },
     "metadata": {},
     "output_type": "display_data"
    },
    {
     "data": {
      "application/vnd.jupyter.widget-view+json": {
       "model_id": "8bceb8ef0e664c49a1bf99079cf7f557",
       "version_major": 2,
       "version_minor": 0
      },
      "text/plain": [
       "VBox(children=(Output(), RadioButtons(options=(('64', 0), ('32', 1), ('16', 2), ('0', 3)), value=0), Button(de…"
      ]
     },
     "metadata": {},
     "output_type": "display_data"
    },
    {
     "data": {
      "application/vnd.jupyter.widget-view+json": {
       "model_id": "a2e69f5eecf846d589f592068e7da0e3",
       "version_major": 2,
       "version_minor": 0
      },
      "text/plain": [
       "VBox(children=(Output(), RadioButtons(options=(('True', 0), ('true', 1), ('False', 2), ('false', 3), ('Es trit…"
      ]
     },
     "metadata": {},
     "output_type": "display_data"
    },
    {
     "data": {
      "application/vnd.jupyter.widget-view+json": {
       "model_id": "80915aeedaba4587bc8fd34a8a84ee5b",
       "version_major": 2,
       "version_minor": 0
      },
      "text/plain": [
       "VBox(children=(Output(), RadioButtons(options=(('x > y but x < z', 0), ('x > y and y < z', 1), ('x > y and x <…"
      ]
     },
     "metadata": {},
     "output_type": "display_data"
    },
    {
     "data": {
      "application/vnd.jupyter.widget-view+json": {
       "model_id": "6d385e7c21d340b7be8855e0251410e7",
       "version_major": 2,
       "version_minor": 0
      },
      "text/plain": [
       "VBox(children=(Output(), RadioButtons(options=(('True', 0), ('False', 1), ('Es tritt ein Fehler auf', 2)), val…"
      ]
     },
     "metadata": {},
     "output_type": "display_data"
    }
   ],
   "source": [
    "from questions import *\n",
    "\n",
    "Q1 = create_multipleChoice_widget_new(\"Bestimmen Sie die Ausgabe des folgenden Code-Segments\",\n",
    "                                      \"x = 1\\nx = 1-2*2\\nx = x+1\\nprint(x)\",['1','-1', '-2', 'Es tritt ein Fehler auf'],'-2')\n",
    "Q2 = create_multipleChoice_widget_new(\"Bestimmen Sie die Ausgabe des folgenden Code-Segments\",\n",
    "                                      \"a = 17\\nb = 18\\nprint(a//10 + b%10)\",\n",
    "                                      ['1','True','-3','9'],'9')\n",
    "Q3 = create_multipleChoice_widget_new(\"Bestimmen Sie die Ausgabe des folgenden Code-Segments\",\n",
    "                                      \"a = 2\\nb = 1\\nprint(a**(b+a*2))\",\n",
    "                                      ['64','32','16','0'],'32')\n",
    "Q4 = create_multipleChoice_widget_new(\"Bestimmen Sie die Ausgabe des folgenden Code-Segments\",\n",
    "                                      'print(\"haLlo\" == \"hallo\")',['True','true', 'False', 'false', 'Es tritt ein Fehler auf'],'False')\n",
    "Q5 = create_multipleChoice_widget_new(\"Welcher Pythonausdruck gibt folgendes wieder? 'x ist größer als y aber kleiner als z'\",\"\",['x > y but x < z', 'x > y and y < z', 'x > y and x < z'],'x > y and x < z')\n",
    "#Listen sind noch nicht eingeführt, daher mit Zeichenketten\n",
    "#Q6 = create_multipleChoice_widget_new(\"Bestimmen Sie die Ausgabe des folgenden Code-Segments\",\n",
    "#                                      'a = 10\\nb = [10]\\nprint(a == b)',['True', 'False', 'Es tritt ein Fehler auf'],'False')\n",
    "\n",
    "Q6 = create_multipleChoice_widget_new(\"Bestimmen Sie die Ausgabe des folgenden Code-Segments\",\n",
    "                                      \"a = 10\\nb = '10'\\nprint(a == b)\",['True', 'False', 'Es tritt ein Fehler auf'],'False')\n",
    "\n",
    "display(Q1)\n",
    "display(Q2)\n",
    "display(Q3)\n",
    "display(Q4)\n",
    "display(Q5)\n",
    "display(Q6)"
   ]
  },
  {
   "cell_type": "code",
   "execution_count": null,
   "metadata": {},
   "outputs": [],
   "source": []
  }
 ],
 "metadata": {
  "kernelspec": {
   "display_name": "Python 3 (ipykernel)",
   "language": "python",
   "name": "python3"
  },
  "language_info": {
   "codemirror_mode": {
    "name": "ipython",
    "version": 3
   },
   "file_extension": ".py",
   "mimetype": "text/x-python",
   "name": "python",
   "nbconvert_exporter": "python",
   "pygments_lexer": "ipython3",
   "version": "3.9.7"
  },
  "toc-autonumbering": true,
  "toc-showcode": true
 },
 "nbformat": 4,
 "nbformat_minor": 4
}
