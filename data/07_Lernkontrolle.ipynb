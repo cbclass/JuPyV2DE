{
 "cells": [
  {
   "cell_type": "code",
   "execution_count": 1,
   "metadata": {},
   "outputs": [
    {
     "data": {
      "application/vnd.jupyter.widget-view+json": {
       "model_id": "b06399ddaf1647c3895cccb65e84d831",
       "version_major": 2,
       "version_minor": 0
      },
      "text/plain": [
       "VBox(children=(Output(), RadioButtons(options=(('5', 0), ('6', 1), ('0', 2), ('Fehler', 3)), value=0), Button(…"
      ]
     },
     "metadata": {},
     "output_type": "display_data"
    },
    {
     "data": {
      "application/vnd.jupyter.widget-view+json": {
       "model_id": "f1fcd295c3b540d19f53d4605b728c67",
       "version_major": 2,
       "version_minor": 0
      },
      "text/plain": [
       "VBox(children=(Output(), RadioButtons(options=(('5', 0), ('6', 1), ('0', 2), ('Fehler', 3)), value=0), Button(…"
      ]
     },
     "metadata": {},
     "output_type": "display_data"
    },
    {
     "data": {
      "application/vnd.jupyter.widget-view+json": {
       "model_id": "c3b2b04830fd49169dece0bf7e6f7009",
       "version_major": 2,
       "version_minor": 0
      },
      "text/plain": [
       "VBox(children=(Output(), RadioButtons(options=(('5', 0), ('6', 1), ('0', 2), ('Fehler', 3)), value=0), Button(…"
      ]
     },
     "metadata": {},
     "output_type": "display_data"
    },
    {
     "data": {
      "application/vnd.jupyter.widget-view+json": {
       "model_id": "73da8d2cc9b44ac6a1ed6917476112e9",
       "version_major": 2,
       "version_minor": 0
      },
      "text/plain": [
       "VBox(children=(Output(), RadioButtons(options=(('3', 0), ('5', 1), ('0', 2), ('Fehler', 3)), value=0), Button(…"
      ]
     },
     "metadata": {},
     "output_type": "display_data"
    },
    {
     "data": {
      "application/vnd.jupyter.widget-view+json": {
       "model_id": "e6ebd3b2e7ae4d12b6bf44f763dbf4ea",
       "version_major": 2,
       "version_minor": 0
      },
      "text/plain": [
       "VBox(children=(Output(), RadioButtons(options=(('3', 0), ('5', 1), ('0', 2), ('Fehler', 3)), value=0), Button(…"
      ]
     },
     "metadata": {},
     "output_type": "display_data"
    }
   ],
   "source": [
    "# Das JuPy Python Tutorial der EAH Jena (www.eah-jena.de) ist lizenziert unter einer\n",
    "# Creative Commons Namensnennung - Nicht kommerziell - Keine Bearbeitungen 4.0 International Lizenz (http://creativecommons.org/licenses/by-nc-nd/4.0/).\n",
    "\n",
    "from questions import *\n",
    "\n",
    "Q1 = create_multipleChoice_widget_new(\"Wie lautet die Ausgabe?\",'''i=0\n",
    "anzahl=0\n",
    "while i<=5:\n",
    "    anzahl=anzahl+1\n",
    "    i=i+1\n",
    "print(anzahl)''',['5','6','0','Fehler'],'6',0)\n",
    "\n",
    "Q2 = create_multipleChoice_widget_new(\"Wie lautet die Ausgabe?\",'''i=1\n",
    "anzahl=0\n",
    "while i<=5:\n",
    "    anzahl+=1\n",
    "    i=i+1\n",
    "print(anzahl)''',['5','6','0','Fehler'],'5',0)\n",
    "\n",
    "Q3 = create_multipleChoice_widget_new(\"Wie lautet die Ausgabe?\",'''i=0\n",
    "anzahl=0\n",
    "while i>0 and anzahl<5:\n",
    "    anzahl+=1\n",
    "    i=i+1\n",
    "print(anzahl)''',['5','6','0','Fehler'],'0',0)\n",
    "\n",
    "Q4 = create_multipleChoice_widget_new(\"Wie lautet die Ausgabe?\",'''i=0\n",
    "anzahl=0\n",
    "while i<3 and anzahl<5:\n",
    "    anzahl=anzahl+i\n",
    "    i=i+1\n",
    "print(anzahl)''',['3','5','0','Fehler'],'3',0)\n",
    "\n",
    "Q5 = create_multipleChoice_widget_new(\"Wie lautet die Ausgabe?\",'''i=0\n",
    "anzahl=0\n",
    "while i<3 or anzahl<5:\n",
    "    anzahl=anzahl+i\n",
    "    i=i+1\n",
    "print(anzahl)''',['3','5','0','Fehler'],'6',1)\n",
    "\n",
    "\n",
    "display(Q1)\n",
    "display(Q2)\n",
    "display(Q3)\n",
    "display(Q4)\n",
    "display(Q5)\n",
    "\n"
   ]
  },
  {
   "cell_type": "code",
   "execution_count": null,
   "metadata": {},
   "outputs": [],
   "source": []
  }
 ],
 "metadata": {
  "kernelspec": {
   "display_name": "Python 3 (ipykernel)",
   "language": "python",
   "name": "python3"
  },
  "language_info": {
   "codemirror_mode": {
    "name": "ipython",
    "version": 3
   },
   "file_extension": ".py",
   "mimetype": "text/x-python",
   "name": "python",
   "nbconvert_exporter": "python",
   "pygments_lexer": "ipython3",
   "version": "3.10.8"
  }
 },
 "nbformat": 4,
 "nbformat_minor": 4
}
