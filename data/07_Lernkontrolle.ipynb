{
 "cells": [
  {
   "cell_type": "code",
   "execution_count": null,
   "metadata": {},
   "outputs": [],
   "source": [
    "from questions import *\n",
    "\n",
    "Q1 = create_multipleChoice_widget_new(\"Wie lautet die Ausgabe?\",'''i=0\n",
    "anzahl=0\n",
    "while i<=5:\n",
    "    anzahl=anzahl+1\n",
    "    i=i+1\n",
    "print(anzahl)''',['5','6','0','Fehler'],'6')\n",
    "\n",
    "Q2 = create_multipleChoice_widget_new(\"Wie lautet die Ausgabe?\",'''i=1\n",
    "anzahl=0\n",
    "while i<=5:\n",
    "    anzahl+=1\n",
    "    i=i+1\n",
    "print(anzahl)''',['5','6','0','Fehler'],'5',0)\n",
    "\n",
    "Q3 = create_multipleChoice_widget_new(\"Wie lautet die Ausgabe?\",'''i=0\n",
    "anzahl=0\n",
    "while i>0 and anzahl<5:\n",
    "    anzahl+=1\n",
    "    i=i+1\n",
    "print(anzahl)''',['5','6','0','Fehler'],'0',0)\n",
    "\n",
    "Q4 = create_multipleChoice_widget_new(\"Wie lautet die Ausgabe?\",'''i=0\n",
    "anzahl=0\n",
    "while i<3 and anzahl<5:\n",
    "    anzahl=anzahl+i\n",
    "    i=i+1\n",
    "print(anzahl)''',['3','5','0','Fehler'],'3',0)\n",
    "\n",
    "Q5 = create_multipleChoice_widget_new(\"Wie lautet die Ausgabe?\",'''i=0\n",
    "anzahl=0\n",
    "while i<3 or anzahl<5:\n",
    "    anzahl=anzahl+i\n",
    "    i=i+1\n",
    "print(anzahl)''',['3','5','0','Fehler'],'5',0)\n",
    "\n",
    "\n",
    "display(Q1)\n",
    "display(Q2)\n",
    "display(Q3)\n",
    "display(Q4)\n",
    "display(Q5)\n",
    "\n"
   ]
  }
 ],
 "metadata": {
  "kernelspec": {
   "display_name": "Python 3 (ipykernel)",
   "language": "python",
   "name": "python3"
  },
  "language_info": {
   "codemirror_mode": {
    "name": "ipython",
    "version": 3
   },
   "file_extension": ".py",
   "mimetype": "text/x-python",
   "name": "python",
   "nbconvert_exporter": "python",
   "pygments_lexer": "ipython3",
   "version": "3.9.7"
  }
 },
 "nbformat": 4,
 "nbformat_minor": 4
}
