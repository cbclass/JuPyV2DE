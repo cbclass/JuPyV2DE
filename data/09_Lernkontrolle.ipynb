{
 "cells": [
  {
   "cell_type": "code",
   "execution_count": 1,
   "metadata": {},
   "outputs": [
    {
     "data": {
      "application/vnd.jupyter.widget-view+json": {
       "model_id": "17d87a750e2b4b30a214297b1c8fa18b",
       "version_major": 2,
       "version_minor": 0
      },
      "text/plain": [
       "VBox(children=(Output(), RadioButtons(options=(('0', 0), ('1', 1), ('2', 2), ('3', 3), ('4', 4), ('5', 5), ('F…"
      ]
     },
     "metadata": {},
     "output_type": "display_data"
    },
    {
     "data": {
      "application/vnd.jupyter.widget-view+json": {
       "model_id": "4b9ac4fa90c74c27b5d49fab27791cff",
       "version_major": 2,
       "version_minor": 0
      },
      "text/plain": [
       "VBox(children=(Output(), IntText(value=0, description='Wert:'), Button(description='überprüfen', style=ButtonS…"
      ]
     },
     "metadata": {},
     "output_type": "display_data"
    },
    {
     "data": {
      "application/vnd.jupyter.widget-view+json": {
       "model_id": "c58312e0c3a34e00822cb9c7b14e0e7d",
       "version_major": 2,
       "version_minor": 0
      },
      "text/plain": [
       "VBox(children=(Output(), IntText(value=0, description='Wert:'), Button(description='überprüfen', style=ButtonS…"
      ]
     },
     "metadata": {},
     "output_type": "display_data"
    },
    {
     "data": {
      "application/vnd.jupyter.widget-view+json": {
       "model_id": "f8b6829a60224d55824e5274809d503b",
       "version_major": 2,
       "version_minor": 0
      },
      "text/plain": [
       "VBox(children=(Output(), RadioButtons(options=(('0', 0), ('1', 1), ('2', 2), ('3', 3), ('4', 4), ('5', 5), ('F…"
      ]
     },
     "metadata": {},
     "output_type": "display_data"
    }
   ],
   "source": [
    "# Das JuPy Python Tutorial der EAH Jena (www.eah-jena.de) ist lizenziert unter einer\n",
    "# Creative Commons Namensnennung - Nicht kommerziell - Keine Bearbeitungen 4.0 International Lizenz (http://creativecommons.org/licenses/by-nc-nd/4.0/).\n",
    "\n",
    "from questions import *\n",
    "\n",
    "Q1 = create_multipleChoice_widget_new('Welchen Wert ergibt `meineListe[3]`?','',['0','1','2','3','4','5','Fehler'],'4',0)\n",
    "Q2 = create_int_input_widget('Was ist der Index von 1 in der Liste?','',0,0)\n",
    "Q3 = create_int_input_widget('Welchen Index hat die 5?','',4,0)\n",
    "Q4 = create_multipleChoice_widget_new('Was ergibt `meineListe[5]`?','',['0','1','2','3','4','5','Fehler'],'Fehler',1)\n",
    "\n",
    "\n",
    "display(Q1)\n",
    "display(Q2)\n",
    "display(Q3)\n",
    "display(Q4)\n",
    "\n"
   ]
  },
  {
   "cell_type": "code",
   "execution_count": null,
   "metadata": {},
   "outputs": [],
   "source": []
  }
 ],
 "metadata": {
  "kernelspec": {
   "display_name": "Python 3 (ipykernel)",
   "language": "python",
   "name": "python3"
  },
  "language_info": {
   "codemirror_mode": {
    "name": "ipython",
    "version": 3
   },
   "file_extension": ".py",
   "mimetype": "text/x-python",
   "name": "python",
   "nbconvert_exporter": "python",
   "pygments_lexer": "ipython3",
   "version": "3.10.8"
  }
 },
 "nbformat": 4,
 "nbformat_minor": 4
}
