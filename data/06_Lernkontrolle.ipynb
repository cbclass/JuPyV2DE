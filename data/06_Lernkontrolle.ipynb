{
 "cells": [
  {
   "cell_type": "code",
   "execution_count": 2,
   "metadata": {
    "tags": []
   },
   "outputs": [
    {
     "data": {
      "application/vnd.jupyter.widget-view+json": {
       "model_id": "28bf24965c234299bdb0a2821fdd738a",
       "version_major": 2,
       "version_minor": 0
      },
      "text/plain": [
       "VBox(children=(Output(), RadioButtons(options=(('1,2,3,4,5', 0), ('0,1,2,3,4,5', 1), ('0,1,2,3,4', 2), ('1,2,3…"
      ]
     },
     "metadata": {},
     "output_type": "display_data"
    },
    {
     "data": {
      "application/vnd.jupyter.widget-view+json": {
       "model_id": "0cb773be51684f02a3281235b0ea691d",
       "version_major": 2,
       "version_minor": 0
      },
      "text/plain": [
       "VBox(children=(Output(), RadioButtons(options=(('1,3,5,7,9', 0), ('2,4,6,8', 1), ('2,4,6,8,10', 2), ('Keine da…"
      ]
     },
     "metadata": {},
     "output_type": "display_data"
    },
    {
     "data": {
      "application/vnd.jupyter.widget-view+json": {
       "model_id": "f3784b9884f74398981cf79e9d0b4488",
       "version_major": 2,
       "version_minor": 0
      },
      "text/plain": [
       "VBox(children=(Output(), RadioButtons(options=(('range(3)', 0), ('range(3,4)', 1), ('range(1,4,3)', 2), ('Alle…"
      ]
     },
     "metadata": {},
     "output_type": "display_data"
    },
    {
     "data": {
      "application/vnd.jupyter.widget-view+json": {
       "model_id": "5647742e98d045ad9f3667db68df4799",
       "version_major": 2,
       "version_minor": 0
      },
      "text/plain": [
       "VBox(children=(Output(), RadioButtons(options=(('4', 0), ('5', 1), ('10', 2), ('Keins davon.', 3)), value=0), …"
      ]
     },
     "metadata": {},
     "output_type": "display_data"
    },
    {
     "data": {
      "application/vnd.jupyter.widget-view+json": {
       "model_id": "0a829e8c2ffd41249e121b8260ab92d5",
       "version_major": 2,
       "version_minor": 0
      },
      "text/plain": [
       "VBox(children=(Output(), RadioButtons(options=(('2', 0), ('3', 1), ('4', 2), ('Die Ausgabe kann nicht 6 werden…"
      ]
     },
     "metadata": {},
     "output_type": "display_data"
    }
   ],
   "source": [
    "from questions import *\n",
    "\n",
    "\n",
    "Q1 = create_multipleChoice_widget_new('Welche der folgenden Reihen wird erstellt mit `range(5)`?','',['1,2,3,4,5','0,1,2,3,4,5','0,1,2,3,4','1,2,3,4'],'0,1,2,3,4')\n",
    "Q2 = create_multipleChoice_widget_new('Welche der folgenden Reihen wird erstellt mit `range(1,10,2)`?','',['1,3,5,7,9','2,4,6,8','2,4,6,8,10','Keine davon.'],'1,3,5,7,9')\n",
    "Q3 = create_multipleChoice_widget_new('Welcher `range()`-Befehl erstellt eine Reihe nur mit der Zahl 3?','',['range(3)','range(3,4)','range(1,4,3)','Alle davon.'],'range(3,4)')\n",
    "Q4 = create_multipleChoice_widget_new(\"Was ist die Ausgabe von folgendem Code-Segment?\",\n",
    "'''wert=0\n",
    "for i in range(1,5):\n",
    "    wert=wert+i\n",
    "print(wert)''',['4','5','10','Keins davon.'],'10')\n",
    "Q5 = create_multipleChoice_widget_new('Ersetzen Sie in obigem Code nur die Schrittweite. Welche Schrittweite von `range()` muss im vorherigen Code eingesetzt werden, damit die Ausgabe 6 wird?','',\n",
    "                                  ['2','3','4','Die Ausgabe kann nicht 6 werden.'],'Die Ausgabe kann nicht 6 werden.')\n",
    "\n",
    "display(Q1)\n",
    "display(Q2)\n",
    "display(Q3)\n",
    "display(Q4)\n",
    "display(Q5)\n"
   ]
  },
  {
   "cell_type": "code",
   "execution_count": null,
   "metadata": {},
   "outputs": [],
   "source": []
  }
 ],
 "metadata": {
  "kernelspec": {
   "display_name": "Python 3 (ipykernel)",
   "language": "python",
   "name": "python3"
  },
  "language_info": {
   "codemirror_mode": {
    "name": "ipython",
    "version": 3
   },
   "file_extension": ".py",
   "mimetype": "text/x-python",
   "name": "python",
   "nbconvert_exporter": "python",
   "pygments_lexer": "ipython3",
   "version": "3.12.2"
  }
 },
 "nbformat": 4,
 "nbformat_minor": 4
}
