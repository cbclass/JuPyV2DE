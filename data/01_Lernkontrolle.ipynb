{
 "cells": [
  {
   "cell_type": "code",
   "execution_count": 1,
   "metadata": {},
   "outputs": [
    {
     "data": {
      "application/vnd.jupyter.widget-view+json": {
       "model_id": "8fa0c77d7b884a4c93bcdd5d403044f1",
       "version_major": 2,
       "version_minor": 0
      },
      "text/plain": [
       "VBox(children=(Output(), RadioButtons(options=(('Wahr', 0), ('Falsch', 1)), value=0), Button(description='über…"
      ]
     },
     "metadata": {},
     "output_type": "display_data"
    },
    {
     "data": {
      "application/vnd.jupyter.widget-view+json": {
       "model_id": "9a06ae6b7f544dfda722e583007e578d",
       "version_major": 2,
       "version_minor": 0
      },
      "text/plain": [
       "VBox(children=(Output(), RadioButtons(options=(('Wahr', 0), ('Falsch', 1)), value=0), Button(description='über…"
      ]
     },
     "metadata": {},
     "output_type": "display_data"
    },
    {
     "data": {
      "application/vnd.jupyter.widget-view+json": {
       "model_id": "da381fd21a344e0bb36adf5dc4785c41",
       "version_major": 2,
       "version_minor": 0
      },
      "text/plain": [
       "VBox(children=(Output(), RadioButtons(options=(('Wahr', 0), ('Falsch', 1)), value=0), Button(description='über…"
      ]
     },
     "metadata": {},
     "output_type": "display_data"
    },
    {
     "data": {
      "application/vnd.jupyter.widget-view+json": {
       "model_id": "1bd9de4c15cd40809fb84ff47bf5673c",
       "version_major": 2,
       "version_minor": 0
      },
      "text/plain": [
       "VBox(children=(Output(), RadioButtons(options=(('Wahr', 0), ('Falsch', 1)), value=0), Button(description='über…"
      ]
     },
     "metadata": {},
     "output_type": "display_data"
    },
    {
     "data": {
      "application/vnd.jupyter.widget-view+json": {
       "model_id": "b1b6ff44aff741e483be52a8e20798f7",
       "version_major": 2,
       "version_minor": 0
      },
      "text/plain": [
       "VBox(children=(Output(), RadioButtons(options=(('Wahr', 0), ('Falsch', 1)), value=0), Button(description='über…"
      ]
     },
     "metadata": {},
     "output_type": "display_data"
    },
    {
     "data": {
      "application/vnd.jupyter.widget-view+json": {
       "model_id": "9437826580364df6bdf5e61b636d07a4",
       "version_major": 2,
       "version_minor": 0
      },
      "text/plain": [
       "VBox(children=(Output(), RadioButtons(options=(('Wahr', 0), ('Falsch', 1)), value=0), Button(description='über…"
      ]
     },
     "metadata": {},
     "output_type": "display_data"
    }
   ],
   "source": [
    "# Das JuPy Python Tutorial der EAH Jena (www.eah-jena.de) ist lizenziert unter einer\n",
    "# Creative Commons Namensnennung - Nicht kommerziell - Keine Bearbeitungen 4.0 International Lizenz (http://creativecommons.org/licenses/by-nc-nd/4.0/).\n",
    "\n",
    "from questions import *\n",
    "\n",
    "\n",
    "Q1 = create_multipleChoice_widget_new(\"`eins23` ist ein gültiger Variablenname.\",'',['Wahr','Falsch'],'Wahr',0)\n",
    "Q2 = create_multipleChoice_widget_new(\"`1zweidrei` ist ein gültiger Variablenname.\",'',['Wahr','Falsch'],'Falsch',0)\n",
    "Q3 = create_multipleChoice_widget_new('`False` ist ein gültiger Variablenname.','',['Wahr','Falsch'],'Falsch',0)\n",
    "Q4 = create_multipleChoice_widget_new('`false` ist ein gültiger Variablenname.','',['Wahr','Falsch'],'Wahr',0)\n",
    "Q5 = create_multipleChoice_widget_new('`_einszweidrei` ist ein gültiger Variablenname','',['Wahr','Falsch'],'Wahr',0)\n",
    "Q6 = create_multipleChoice_widget_new('`eins-zwei` ist ein gültiger Variablenname','',['Wahr','Falsch'],'Falsch',0)\n",
    "\n",
    "display(Q1)\n",
    "display(Q2)\n",
    "display(Q3)\n",
    "display(Q4)\n",
    "display(Q5)\n",
    "display(Q6)\n"
   ]
  },
  {
   "cell_type": "code",
   "execution_count": null,
   "metadata": {},
   "outputs": [],
   "source": []
  }
 ],
 "metadata": {
  "kernelspec": {
   "display_name": "Python 3 (ipykernel)",
   "language": "python",
   "name": "python3"
  },
  "language_info": {
   "codemirror_mode": {
    "name": "ipython",
    "version": 3
   },
   "file_extension": ".py",
   "mimetype": "text/x-python",
   "name": "python",
   "nbconvert_exporter": "python",
   "pygments_lexer": "ipython3",
   "version": "3.10.8"
  }
 },
 "nbformat": 4,
 "nbformat_minor": 4
}
