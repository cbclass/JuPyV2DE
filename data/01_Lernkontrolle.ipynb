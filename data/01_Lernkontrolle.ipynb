{
 "cells": [
  {
   "cell_type": "code",
   "execution_count": 10,
   "metadata": {},
   "outputs": [
    {
     "name": "stdout",
     "output_type": "stream",
     "text": [
      "['C:\\\\Users\\\\class\\\\notebooks\\\\PythonCC\\\\data', 'C:\\\\Users\\\\class\\\\Anaconda3\\\\python38.zip', 'C:\\\\Users\\\\class\\\\Anaconda3\\\\DLLs', 'C:\\\\Users\\\\class\\\\Anaconda3\\\\lib', 'C:\\\\Users\\\\class\\\\Anaconda3', '', 'C:\\\\Users\\\\class\\\\Anaconda3\\\\lib\\\\site-packages', 'C:\\\\Users\\\\class\\\\Anaconda3\\\\lib\\\\site-packages\\\\locket-0.2.1-py3.8.egg', 'C:\\\\Users\\\\class\\\\Anaconda3\\\\lib\\\\site-packages\\\\win32', 'C:\\\\Users\\\\class\\\\Anaconda3\\\\lib\\\\site-packages\\\\win32\\\\lib', 'C:\\\\Users\\\\class\\\\Anaconda3\\\\lib\\\\site-packages\\\\Pythonwin', 'C:\\\\Users\\\\class\\\\Anaconda3\\\\lib\\\\site-packages\\\\IPython\\\\extensions', 'C:\\\\Users\\\\class\\\\.ipython', '.', '.']\n"
     ]
    },
    {
     "data": {
      "application/vnd.jupyter.widget-view+json": {
       "model_id": "4579e33951e54a4488db854878ff9611",
       "version_major": 2,
       "version_minor": 0
      },
      "text/plain": [
       "VBox(children=(Output(), RadioButtons(options=(('Wahr', 0), ('Falsch', 1)), value=0), Button(description='über…"
      ]
     },
     "metadata": {},
     "output_type": "display_data"
    },
    {
     "data": {
      "application/vnd.jupyter.widget-view+json": {
       "model_id": "4d23f24f3e174c4aa36ba4d6f7503cea",
       "version_major": 2,
       "version_minor": 0
      },
      "text/plain": [
       "VBox(children=(Output(), RadioButtons(options=(('Wahr', 0), ('Falsch', 1)), value=0), Button(description='über…"
      ]
     },
     "metadata": {},
     "output_type": "display_data"
    },
    {
     "data": {
      "application/vnd.jupyter.widget-view+json": {
       "model_id": "7130f6b0f4974268aaf0dc42b7375b82",
       "version_major": 2,
       "version_minor": 0
      },
      "text/plain": [
       "VBox(children=(Output(), RadioButtons(options=(('Wahr', 0), ('Falsch', 1)), value=0), Button(description='über…"
      ]
     },
     "metadata": {},
     "output_type": "display_data"
    },
    {
     "data": {
      "application/vnd.jupyter.widget-view+json": {
       "model_id": "b151cf0a2b8b421fb995350535146ce8",
       "version_major": 2,
       "version_minor": 0
      },
      "text/plain": [
       "VBox(children=(Output(), RadioButtons(options=(('Wahr', 0), ('Falsch', 1)), value=0), Button(description='über…"
      ]
     },
     "metadata": {},
     "output_type": "display_data"
    },
    {
     "data": {
      "application/vnd.jupyter.widget-view+json": {
       "model_id": "1c430da58210494a99c4dc1f1a8ccca6",
       "version_major": 2,
       "version_minor": 0
      },
      "text/plain": [
       "VBox(children=(Output(), RadioButtons(options=(('Wahr', 0), ('Falsch', 1)), value=0), Button(description='über…"
      ]
     },
     "metadata": {},
     "output_type": "display_data"
    },
    {
     "data": {
      "application/vnd.jupyter.widget-view+json": {
       "model_id": "1ef367ae7dac4376ac192d3f68407da8",
       "version_major": 2,
       "version_minor": 0
      },
      "text/plain": [
       "VBox(children=(Output(), RadioButtons(options=(('Wahr', 0), ('Falsch', 1)), value=0), Button(description='über…"
      ]
     },
     "metadata": {},
     "output_type": "display_data"
    }
   ],
   "source": [
    "from questions import *\n",
    "\n",
    "\n",
    "Q1 = create_multipleChoice_widget_new(\"`eins23` ist ein gültiger Variablenname.\",'',['Wahr','Falsch'],'Wahr')\n",
    "Q2 = create_multipleChoice_widget_new(\"`1zweidrei` ist ein gültiger Variablenname.\",'',['Wahr','Falsch'],'Falsch')\n",
    "Q3 = create_multipleChoice_widget_new('`False` ist ein gültiger Variablenname.','',['Wahr','Falsch'],'Falsch')\n",
    "Q4 = create_multipleChoice_widget_new('`false` ist ein gültiger Variablenname.','',['Wahr','Falsch'],'Wahr')\n",
    "Q5 = create_multipleChoice_widget_new('`_einszweidrei` ist ein gültiger Variablenname','',['Wahr','Falsch'],'Wahr')\n",
    "Q6 = create_multipleChoice_widget_new('`eins-zwei` ist ein gültiger Variablenname','',['Wahr','Falsch'],'Falsch')\n",
    "\n",
    "display(Q1)\n",
    "display(Q2)\n",
    "display(Q3)\n",
    "display(Q4)\n",
    "display(Q5)\n",
    "display(Q6)\n"
   ]
  },
  {
   "cell_type": "code",
   "execution_count": null,
   "metadata": {},
   "outputs": [],
   "source": []
  }
 ],
 "metadata": {
  "kernelspec": {
   "display_name": "Python 3 (ipykernel)",
   "language": "python",
   "name": "python3"
  },
  "language_info": {
   "codemirror_mode": {
    "name": "ipython",
    "version": 3
   },
   "file_extension": ".py",
   "mimetype": "text/x-python",
   "name": "python",
   "nbconvert_exporter": "python",
   "pygments_lexer": "ipython3",
   "version": "3.10.8"
  }
 },
 "nbformat": 4,
 "nbformat_minor": 4
}
