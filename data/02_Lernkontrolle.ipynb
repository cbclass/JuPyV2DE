{
 "cells": [
  {
   "cell_type": "code",
   "execution_count": 1,
   "metadata": {},
   "outputs": [
    {
     "data": {
      "application/vnd.jupyter.widget-view+json": {
       "model_id": "6b67cecb71fb41f7a8923cb0b28fabea",
       "version_major": 2,
       "version_minor": 0
      },
      "text/plain": [
       "VBox(children=(Output(), RadioButtons(options=(('int', 0), ('float', 1), ('bool', 2), ('anderer Datentyp oder …"
      ]
     },
     "metadata": {},
     "output_type": "display_data"
    },
    {
     "data": {
      "application/vnd.jupyter.widget-view+json": {
       "model_id": "bea5ce4c3c3b4395b1ae7227ed39c565",
       "version_major": 2,
       "version_minor": 0
      },
      "text/plain": [
       "VBox(children=(Output(), RadioButtons(options=(('int', 0), ('float', 1), ('bool', 2), ('anderer Datentyp oder …"
      ]
     },
     "metadata": {},
     "output_type": "display_data"
    },
    {
     "data": {
      "application/vnd.jupyter.widget-view+json": {
       "model_id": "d8071dde84644379afd083f6e2c505ea",
       "version_major": 2,
       "version_minor": 0
      },
      "text/plain": [
       "VBox(children=(Output(), RadioButtons(options=(('int', 0), ('float', 1), ('bool', 2), ('anderer Datentyp oder …"
      ]
     },
     "metadata": {},
     "output_type": "display_data"
    },
    {
     "data": {
      "application/vnd.jupyter.widget-view+json": {
       "model_id": "868aadf3591e4760b7e20949ef8e1518",
       "version_major": 2,
       "version_minor": 0
      },
      "text/plain": [
       "VBox(children=(Output(), RadioButtons(options=(('int', 0), ('float', 1), ('bool', 2), ('anderer Datentyp oder …"
      ]
     },
     "metadata": {},
     "output_type": "display_data"
    },
    {
     "data": {
      "application/vnd.jupyter.widget-view+json": {
       "model_id": "a29c3b3e6c1845a2bd132e22e2a86e46",
       "version_major": 2,
       "version_minor": 0
      },
      "text/plain": [
       "VBox(children=(Output(), RadioButtons(options=(('int', 0), ('float', 1), ('bool', 2), ('anderer Datentyp oder …"
      ]
     },
     "metadata": {},
     "output_type": "display_data"
    },
    {
     "data": {
      "application/vnd.jupyter.widget-view+json": {
       "model_id": "6ba73896c59742e887d19a4c42bbb84c",
       "version_major": 2,
       "version_minor": 0
      },
      "text/plain": [
       "VBox(children=(Output(), RadioButtons(options=(('int', 0), ('float', 1), ('bool', 2), ('anderer Datentyp oder …"
      ]
     },
     "metadata": {},
     "output_type": "display_data"
    }
   ],
   "source": [
    "from questions import *\n",
    "\n",
    "Q1 = create_multipleChoice_widget(Code('1+3'),['int','float', 'bool', 'anderer Datentyp oder falsch'],'int',0)\n",
    "Q2 = create_multipleChoice_widget(Code('2,3'),['int','float', 'bool', 'anderer Datentyp oder falsch'],'anderer Datentyp oder falsch',0)\n",
    "Q3 = create_multipleChoice_widget(Code('True+2'),['int','float', 'bool', 'anderer Datentyp oder falsch'],'int',0)\n",
    "Q4 = create_multipleChoice_widget(Code('3.1'),['int','float', 'bool', 'anderer Datentyp oder falsch'],'float',0)\n",
    "Q5 = create_multipleChoice_widget(Code('-1.3e-10'),['int','float', 'bool', 'anderer Datentyp oder falsch'],'float',0)\n",
    "Q6 = create_multipleChoice_widget(Code('4<0.3'),['int','float', 'bool', 'anderer Datentyp oder falsch'],'bool',1)\n",
    "\n",
    "display(Q1)\n",
    "display(Q2)\n",
    "display(Q3)\n",
    "display(Q4)\n",
    "display(Q5)\n",
    "display(Q6)\n"
   ]
  },
  {
   "cell_type": "code",
   "execution_count": null,
   "metadata": {},
   "outputs": [],
   "source": []
  }
 ],
 "metadata": {
  "kernelspec": {
   "display_name": "Python 3 (ipykernel)",
   "language": "python",
   "name": "python3"
  },
  "language_info": {
   "codemirror_mode": {
    "name": "ipython",
    "version": 3
   },
   "file_extension": ".py",
   "mimetype": "text/x-python",
   "name": "python",
   "nbconvert_exporter": "python",
   "pygments_lexer": "ipython3",
   "version": "3.10.9"
  }
 },
 "nbformat": 4,
 "nbformat_minor": 4
}
