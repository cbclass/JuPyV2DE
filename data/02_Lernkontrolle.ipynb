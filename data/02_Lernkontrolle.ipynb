{
 "cells": [
  {
   "cell_type": "code",
   "execution_count": 1,
   "metadata": {},
   "outputs": [
    {
     "data": {
      "application/vnd.jupyter.widget-view+json": {
       "model_id": "e73b6676d92a402c9a2c7578e521779b",
       "version_major": 2,
       "version_minor": 0
      },
      "text/plain": [
       "VBox(children=(Output(), RadioButtons(options=(('int', 0), ('float', 1), ('bool', 2), ('anderer Datentyp oder …"
      ]
     },
     "metadata": {},
     "output_type": "display_data"
    },
    {
     "data": {
      "application/vnd.jupyter.widget-view+json": {
       "model_id": "24e7bbe94ac145d3a1554e95d8fa3c91",
       "version_major": 2,
       "version_minor": 0
      },
      "text/plain": [
       "VBox(children=(Output(), RadioButtons(options=(('int', 0), ('float', 1), ('bool', 2), ('anderer Datentyp oder …"
      ]
     },
     "metadata": {},
     "output_type": "display_data"
    },
    {
     "data": {
      "application/vnd.jupyter.widget-view+json": {
       "model_id": "331183cf48204afdab55f3e53afde129",
       "version_major": 2,
       "version_minor": 0
      },
      "text/plain": [
       "VBox(children=(Output(), RadioButtons(options=(('int', 0), ('float', 1), ('bool', 2), ('anderer Datentyp oder …"
      ]
     },
     "metadata": {},
     "output_type": "display_data"
    },
    {
     "data": {
      "application/vnd.jupyter.widget-view+json": {
       "model_id": "332515892b854d7e914ea2a77743f392",
       "version_major": 2,
       "version_minor": 0
      },
      "text/plain": [
       "VBox(children=(Output(), RadioButtons(options=(('int', 0), ('float', 1), ('bool', 2), ('anderer Datentyp oder …"
      ]
     },
     "metadata": {},
     "output_type": "display_data"
    },
    {
     "data": {
      "application/vnd.jupyter.widget-view+json": {
       "model_id": "bde9631a81a54ad5a2f5f3545df08697",
       "version_major": 2,
       "version_minor": 0
      },
      "text/plain": [
       "VBox(children=(Output(), RadioButtons(options=(('int', 0), ('float', 1), ('bool', 2), ('anderer Datentyp oder …"
      ]
     },
     "metadata": {},
     "output_type": "display_data"
    },
    {
     "data": {
      "application/vnd.jupyter.widget-view+json": {
       "model_id": "db4f3c75e2634299b509fc824d60f8db",
       "version_major": 2,
       "version_minor": 0
      },
      "text/plain": [
       "VBox(children=(Output(), RadioButtons(options=(('int', 0), ('float', 1), ('bool', 2), ('anderer Datentyp oder …"
      ]
     },
     "metadata": {},
     "output_type": "display_data"
    }
   ],
   "source": [
    "from questions import *\n",
    "\n",
    "Q1 = create_multipleChoice_widget(Code('1+3'),['int','float', 'bool', 'anderer Datentyp oder falsch'],'int')\n",
    "Q2 = create_multipleChoice_widget(Code('2,3'),['int','float', 'bool', 'anderer Datentyp oder falsch'],'anderer Datentyp oder falsch')\n",
    "Q3 = create_multipleChoice_widget(Code('True+2'),['int','float', 'bool', 'anderer Datentyp oder falsch'],'int')\n",
    "Q4 = create_multipleChoice_widget(Code('3.1'),['int','float', 'bool', 'anderer Datentyp oder falsch'],'float')\n",
    "Q5 = create_multipleChoice_widget(Code('-1.3e-10'),['int','float', 'bool', 'anderer Datentyp oder falsch'],'float')\n",
    "Q6 = create_multipleChoice_widget(Code('4<0.3'),['int','float', 'bool', 'anderer Datentyp oder falsch'],'bool')\n",
    "\n",
    "display(Q1)\n",
    "display(Q2)\n",
    "display(Q3)\n",
    "display(Q4)\n",
    "display(Q5)\n",
    "display(Q6)\n"
   ]
  }
 ],
 "metadata": {
  "kernelspec": {
   "display_name": "Python 3 (ipykernel)",
   "language": "python",
   "name": "python3"
  },
  "language_info": {
   "codemirror_mode": {
    "name": "ipython",
    "version": 3
   },
   "file_extension": ".py",
   "mimetype": "text/x-python",
   "name": "python",
   "nbconvert_exporter": "python",
   "pygments_lexer": "ipython3",
   "version": "3.9.7"
  }
 },
 "nbformat": 4,
 "nbformat_minor": 4
}
