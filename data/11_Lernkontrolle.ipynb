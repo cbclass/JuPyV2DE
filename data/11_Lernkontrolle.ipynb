{
 "cells": [
  {
   "cell_type": "code",
   "execution_count": 1,
   "metadata": {},
   "outputs": [
    {
     "data": {
      "application/vnd.jupyter.widget-view+json": {
       "model_id": "2b44710633f145e09deef9aabdbd0514",
       "version_major": 2,
       "version_minor": 0
      },
      "text/plain": [
       "VBox(children=(Output(), RadioButtons(options=(('plt.label()', 0), ('plt.xlabel()', 1), ('plt.labelx()', 2), (…"
      ]
     },
     "metadata": {},
     "output_type": "display_data"
    },
    {
     "data": {
      "application/vnd.jupyter.widget-view+json": {
       "model_id": "ac42ef7933b446ff97d137a476d140ff",
       "version_major": 2,
       "version_minor": 0
      },
      "text/plain": [
       "VBox(children=(Output(), RadioButtons(options=(('black-', 0), ('k--', 1), ('key--', 2), ('b--', 3)), value=0),…"
      ]
     },
     "metadata": {},
     "output_type": "display_data"
    },
    {
     "data": {
      "application/vnd.jupyter.widget-view+json": {
       "model_id": "60bf7419a8ff45dcb24983301cea1659",
       "version_major": 2,
       "version_minor": 0
      },
      "text/plain": [
       "VBox(children=(Output(), RadioButtons(options=(('(1,3,2)', 0), ('(3,1,2)', 1), ('(2,3,1)', 2), ('(3,2,1)', 3),…"
      ]
     },
     "metadata": {},
     "output_type": "display_data"
    },
    {
     "data": {
      "application/vnd.jupyter.widget-view+json": {
       "model_id": "6af1a83a8e174f74a6ba96648a9a9b25",
       "version_major": 2,
       "version_minor": 0
      },
      "text/plain": [
       "VBox(children=(Output(), RadioButtons(options=(('plt.achse([-2,2])', 0), ('plt.axis(-2,2)', 1), ('plt.axis([-2…"
      ]
     },
     "metadata": {},
     "output_type": "display_data"
    }
   ],
   "source": [
    "from questions import *\n",
    "\n",
    "Q1 = create_multipleChoice_widget_new('Sie wollen das Label auf der x-Achse ändern. Welche `plt`-Funktion wird dafür verwendet?','',\n",
    "                                      ['plt.label()','plt.xlabel()', 'plt.labelx()', 'plt.LabelX()'],'plt.xlabel()')\n",
    "Q2 = create_multipleChoice_widget_new('Welches Argument muss verwendet werden, um eine schwarze gestrichelte Linie im Graphen des Plots zu erhalten?','',\n",
    "                                      ['black-','k--', 'key--', 'b--'],'k--')\n",
    "Q3 = create_multipleChoice_widget_new('Sie wollen drei Plots untereinander darstellen. Welche Argumente in der Funktion `subplot()` müssen für den mittleren Plot verwendet werden?','',\n",
    "                                      ['(1,3,2)','(3,1,2)', '(2,3,1)', '(3,2,1)','(1,1,2)'],'(3,1,2)')\n",
    "Q4 = create_multipleChoice_widget_new('Sie wollen die x-Achse des Graphen im Bereich von -2 bis +2 darstellen. Wie lautet der richtige Aufruf der Funktion?','',\n",
    "                                      ['plt.achse([-2,2])','plt.axis(-2,2)', 'plt.axis([-2,2])', 'plt.a(-2,2)','plt.achse(-2,2)'],'plt.axis([-2,2])')\n",
    "\n",
    "\n",
    "display(Q1)\n",
    "display(Q2)\n",
    "display(Q3)\n",
    "display(Q4)\n",
    "\n"
   ]
  },
  {
   "cell_type": "code",
   "execution_count": null,
   "metadata": {},
   "outputs": [],
   "source": []
  }
 ],
 "metadata": {
  "kernelspec": {
   "display_name": "Python 3 (ipykernel)",
   "language": "python",
   "name": "python3"
  },
  "language_info": {
   "codemirror_mode": {
    "name": "ipython",
    "version": 3
   },
   "file_extension": ".py",
   "mimetype": "text/x-python",
   "name": "python",
   "nbconvert_exporter": "python",
   "pygments_lexer": "ipython3",
   "version": "3.9.7"
  }
 },
 "nbformat": 4,
 "nbformat_minor": 4
}
