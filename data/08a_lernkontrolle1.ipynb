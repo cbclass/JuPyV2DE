{
 "cells": [
  {
   "cell_type": "code",
   "execution_count": 1,
   "metadata": {},
   "outputs": [
    {
     "data": {
      "application/vnd.jupyter.widget-view+json": {
       "model_id": "5a17ac6f98fc49618e05dcfa7441389f",
       "version_major": 2,
       "version_minor": 0
      },
      "text/plain": [
       "VBox(children=(Output(), RadioButtons(options=(('einefunktion', 0), ('eine Funktion', 1), ('def', 2), ('eineFu…"
      ]
     },
     "metadata": {},
     "output_type": "display_data"
    },
    {
     "data": {
      "application/vnd.jupyter.widget-view+json": {
       "model_id": "375f4f579f1946d9b2081e13f2c052e4",
       "version_major": 2,
       "version_minor": 0
      },
      "text/plain": [
       "VBox(children=(Output(), RadioButtons(options=(('0', 0), ('1', 1), ('2', 2), ('3', 3)), value=0), Button(descr…"
      ]
     },
     "metadata": {},
     "output_type": "display_data"
    },
    {
     "data": {
      "application/vnd.jupyter.widget-view+json": {
       "model_id": "ffef89631f3c4933b634254c9afc34cf",
       "version_major": 2,
       "version_minor": 0
      },
      "text/plain": [
       "VBox(children=(Output(), RadioButtons(options=(('eineFunktion()', 0), ('eine Funktion()', 1), ('eineFunktion',…"
      ]
     },
     "metadata": {},
     "output_type": "display_data"
    },
    {
     "data": {
      "application/vnd.jupyter.widget-view+json": {
       "model_id": "270d46d50def40adbc8ebb9cfc49e7bf",
       "version_major": 2,
       "version_minor": 0
      },
      "text/plain": [
       "VBox(children=(Output(), RadioButtons(options=(('1. nicht Prokrastinieren 2. oeffne YouTube', 0), ('1. oeffne …"
      ]
     },
     "metadata": {},
     "output_type": "display_data"
    }
   ],
   "source": [
    "\n",
    "from questions import *\n",
    "\n",
    "Q1 = create_multipleChoice_widget_new('''Wie lautet der Name der Funktion?''','',\n",
    "                                      ['einefunktion', 'eine Funktion', 'def', 'eineFunktion'],'eineFunktion', 0)\n",
    "Q2 = create_multipleChoice_widget_new(''''Wie viele Anweisungen hat der Programmcode der Funktion?''','',\n",
    "                                      ['0','1','2','3'],'1', 0)\n",
    "Q3 = create_multipleChoice_widget_new(''''Wie wird diese Funktion aufgerufen?''','',\n",
    "                                      ['eineFunktion()','eine Funktion()','eineFunktion','einefunktion()'],\n",
    "                                      'eineFunktion()', 0)\n",
    "Q4 = create_multipleChoice_widget_new('''Wie lautet die Reihenfolge der Ausgabe des obigen Programmcodes?''','',\n",
    "                                      ['1. nicht Prokrastinieren 2. oeffne YouTube', \n",
    "                                       '1. oeffne YouTube 2. nicht Prokrastinieren', \n",
    "                                       'Es tritt ein Fehler auf'],'1. oeffne YouTube 2. nicht Prokrastinieren', 1)\n",
    "\n",
    "\n",
    "\n",
    "\n",
    "display(Q1)\n",
    "display(Q2)\n",
    "display(Q3)\n",
    "display(Q4)"
   ]
  },
  {
   "cell_type": "code",
   "execution_count": null,
   "metadata": {},
   "outputs": [],
   "source": []
  }
 ],
 "metadata": {
  "kernelspec": {
   "display_name": "Python 3 (ipykernel)",
   "language": "python",
   "name": "python3"
  },
  "language_info": {
   "codemirror_mode": {
    "name": "ipython",
    "version": 3
   },
   "file_extension": ".py",
   "mimetype": "text/x-python",
   "name": "python",
   "nbconvert_exporter": "python",
   "pygments_lexer": "ipython3",
   "version": "3.10.9"
  }
 },
 "nbformat": 4,
 "nbformat_minor": 4
}
