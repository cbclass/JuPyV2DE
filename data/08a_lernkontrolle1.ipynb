{
 "cells": [
  {
   "cell_type": "code",
   "execution_count": 10,
   "metadata": {},
   "outputs": [
    {
     "data": {
      "application/vnd.jupyter.widget-view+json": {
       "model_id": "6602451927ab41f39bd9df9b99d8cd57",
       "version_major": 2,
       "version_minor": 0
      },
      "text/plain": [
       "VBox(children=(Output(), RadioButtons(options=(('einefunktion', 0), ('eine Funktion', 1), ('def', 2), ('eineFu…"
      ]
     },
     "metadata": {},
     "output_type": "display_data"
    },
    {
     "data": {
      "application/vnd.jupyter.widget-view+json": {
       "model_id": "655a2018dfcd45b0b30e4fe5712ed7e0",
       "version_major": 2,
       "version_minor": 0
      },
      "text/plain": [
       "VBox(children=(Output(), RadioButtons(options=(('1', 0), ('0', 1), ('2', 2), ('3', 3)), value=0), Button(descr…"
      ]
     },
     "metadata": {},
     "output_type": "display_data"
    },
    {
     "data": {
      "application/vnd.jupyter.widget-view+json": {
       "model_id": "59981c3546f448b59c95edda2f61e5e8",
       "version_major": 2,
       "version_minor": 0
      },
      "text/plain": [
       "VBox(children=(Output(), RadioButtons(options=(('eineFunktion()', 0), ('eine Funktion()', 1), ('eineFunktion',…"
      ]
     },
     "metadata": {},
     "output_type": "display_data"
    },
    {
     "data": {
      "application/vnd.jupyter.widget-view+json": {
       "model_id": "0fa8714a89d94c08b2f8cb8ee05a296e",
       "version_major": 2,
       "version_minor": 0
      },
      "text/plain": [
       "VBox(children=(Output(), RadioButtons(options=(('1. nicht Prokrastiniern 2. oeffne YouTube', 0), ('1. oeffne Y…"
      ]
     },
     "metadata": {},
     "output_type": "display_data"
    }
   ],
   "source": [
    "\n",
    "from questions import *\n",
    "\n",
    "Q1 = create_multipleChoice_widget_new('''Wie lautet der Name der Funktion?''','',\n",
    "                                      ['einefunktion', 'eine Funktion', 'def', 'eineFunktion'],'eineFunktion', 0)\n",
    "Q2 = create_multipleChoice_widget_new(''''Wie viele Anweisungen hat der Programmcode der Funktion?''','',\n",
    "                                      ['0','1','2','3'],'1', 0)\n",
    "Q3 = create_multipleChoice_widget_new(''''Wie wird diese Funktion aufgerufen?''','',\n",
    "                                      ['eineFunktion()','eine Funktion()','eineFunktion','einefunktion()'],\n",
    "                                      'eineFunktion()', 0)\n",
    "Q4 = create_multipleChoice_widget_new('''Wie lautet die Reihenfolge der Ausgabe des obigen Programmcodes?''','',\n",
    "                                      ['1. nicht Prokrastinieren 2. oeffne YouTube', \n",
    "                                       '1. oeffne YouTube 2. nicht Prokrastinieren', \n",
    "                                       'Es tritt ein Fehler auf'],'1. oeffne YouTube 2. nicht Prokrastinieren', 0)\n",
    "\n",
    "\n",
    "\n",
    "\n",
    "display(Q1)\n",
    "display(Q2)\n",
    "display(Q3)\n",
    "display(Q4)"
   ]
  },
  {
   "cell_type": "code",
   "execution_count": null,
   "metadata": {},
   "outputs": [],
   "source": []
  }
 ],
 "metadata": {
  "kernelspec": {
   "display_name": "Python 3 (ipykernel)",
   "language": "python",
   "name": "python3"
  },
  "language_info": {
   "codemirror_mode": {
    "name": "ipython",
    "version": 3
   },
   "file_extension": ".py",
   "mimetype": "text/x-python",
   "name": "python",
   "nbconvert_exporter": "python",
   "pygments_lexer": "ipython3",
   "version": "3.9.7"
  }
 },
 "nbformat": 4,
 "nbformat_minor": 4
}
