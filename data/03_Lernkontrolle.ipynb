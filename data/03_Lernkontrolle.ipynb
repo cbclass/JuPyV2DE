{
 "cells": [
  {
   "cell_type": "code",
   "execution_count": 2,
   "metadata": {},
   "outputs": [
    {
     "data": {
      "application/vnd.jupyter.widget-view+json": {
       "model_id": "020ae8c40cbc40368c4f04f12170ccd3",
       "version_major": 2,
       "version_minor": 0
      },
      "text/plain": [
       "VBox(children=(Output(), RadioButtons(options=(('5', 0), ('True', 1), ('13', 2), ('False', 3)), value=0), Butt…"
      ]
     },
     "metadata": {},
     "output_type": "display_data"
    },
    {
     "data": {
      "application/vnd.jupyter.widget-view+json": {
       "model_id": "9d6365bd82604ee394b6c00616d2aa6d",
       "version_major": 2,
       "version_minor": 0
      },
      "text/plain": [
       "VBox(children=(Output(), RadioButtons(options=(('[Lisa,Joerg]', 0), ('Fehler', 1), ('5', 2), ('LisaJoerg', 3))…"
      ]
     },
     "metadata": {},
     "output_type": "display_data"
    },
    {
     "data": {
      "application/vnd.jupyter.widget-view+json": {
       "model_id": "4a6edc93909844f2a443365c002bd419",
       "version_major": 2,
       "version_minor": 0
      },
      "text/plain": [
       "VBox(children=(Output(), RadioButtons(options=(('[Lisa,Joerg]', 0), ('Fehler', 1), ('5', 2), ('LisaJoerg', 3))…"
      ]
     },
     "metadata": {},
     "output_type": "display_data"
    },
    {
     "data": {
      "application/vnd.jupyter.widget-view+json": {
       "model_id": "5081884cbc6f49d7a2b28c20675430c5",
       "version_major": 2,
       "version_minor": 0
      },
      "text/plain": [
       "VBox(children=(Output(), RadioButtons(options=(('int', 0), ('double', 1), ('string', 2), ('float', 3)), value=…"
      ]
     },
     "metadata": {},
     "output_type": "display_data"
    }
   ],
   "source": [
    "from questions import *\n",
    "\n",
    "Q1 = create_multipleChoice_widget_new(\"Was ist die Ausgabe des folgenden Code-Segemnts?\",\"a = 2\\nb = 3\\nprint(a*2+3*b)\",\n",
    "                                      ['5','True','13','False'],'13', 0)\n",
    "Q2 = create_multipleChoice_widget_new(\"Was ist die Ausgabe des folgenden Code-Segemnts?\",\n",
    "                                      \"a = Lisa\\nb = Joerg\\nprint(a+b)\",\n",
    "                                      ['[Lisa,Joerg]','Fehler','5','LisaJoerg'],'Fehler', 0)\n",
    "Q3 = create_multipleChoice_widget_new(\"Was ist die Ausgabe des folgenden Code-Segemnts?\",\n",
    "                                      \"a = 'Lisa'\\nb = 'Joerg'\\nprint(a+b)\",\n",
    "                                      ['[Lisa,Joerg]','Fehler','5','LisaJoerg'],'LisaJoerg', 0)\n",
    "Q4 = create_multipleChoice_widget_new(\"Welchen Datentyp hat die Variable `x`?\",\"x = input('Geben Sie ihr Alter ein')\",\n",
    "                                      ['int', 'double', 'string', 'float'],'string', 1)\n",
    "\n",
    "\n",
    "display(Q1)\n",
    "display(Q2)\n",
    "display(Q3)\n",
    "display(Q4)\n",
    "\n"
   ]
  },
  {
   "cell_type": "code",
   "execution_count": null,
   "metadata": {},
   "outputs": [],
   "source": []
  },
  {
   "cell_type": "code",
   "execution_count": null,
   "metadata": {},
   "outputs": [],
   "source": []
  }
 ],
 "metadata": {
  "kernelspec": {
   "display_name": "Python 3 (ipykernel)",
   "language": "python",
   "name": "python3"
  },
  "language_info": {
   "codemirror_mode": {
    "name": "ipython",
    "version": 3
   },
   "file_extension": ".py",
   "mimetype": "text/x-python",
   "name": "python",
   "nbconvert_exporter": "python",
   "pygments_lexer": "ipython3",
   "version": "3.9.7"
  }
 },
 "nbformat": 4,
 "nbformat_minor": 4
}
