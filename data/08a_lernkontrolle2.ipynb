{
 "cells": [
  {
   "cell_type": "code",
   "execution_count": 2,
   "metadata": {},
   "outputs": [
    {
     "data": {
      "application/vnd.jupyter.widget-view+json": {
       "model_id": "e22e8fd4e5e04f6589590e91b55f941b",
       "version_major": 2,
       "version_minor": 0
      },
      "text/plain": [
       "VBox(children=(Output(), RadioButtons(options=(('0', 0), ('1', 1), ('2', 2), ('3', 3), ('4', 4)), value=0), Bu…"
      ]
     },
     "metadata": {},
     "output_type": "display_data"
    },
    {
     "data": {
      "application/vnd.jupyter.widget-view+json": {
       "model_id": "f0a1c99bcaaf4c48bc89702a20068ed2",
       "version_major": 2,
       "version_minor": 0
      },
      "text/plain": [
       "VBox(children=(Output(), RadioButtons(options=(('1', 0), ('0', 1), ('2', 2), ('3', 3)), value=0), Button(descr…"
      ]
     },
     "metadata": {},
     "output_type": "display_data"
    },
    {
     "data": {
      "application/vnd.jupyter.widget-view+json": {
       "model_id": "71a25b642c6f4e658ec31d68a39d217f",
       "version_major": 2,
       "version_minor": 0
      },
      "text/plain": [
       "VBox(children=(Output(), RadioButtons(options=(('1', 0), ('3', 1), ('0', 2)), value=0), Button(description='üb…"
      ]
     },
     "metadata": {},
     "output_type": "display_data"
    },
    {
     "data": {
      "application/vnd.jupyter.widget-view+json": {
       "model_id": "4ddb25e83ca84af38a6666558a03dc8e",
       "version_major": 2,
       "version_minor": 0
      },
      "text/plain": [
       "VBox(children=(Output(), RadioButtons(options=(('0', 0), ('2', 1), ('3', 2), ('6', 3)), value=0), Button(descr…"
      ]
     },
     "metadata": {},
     "output_type": "display_data"
    }
   ],
   "source": [
    "\n",
    "from questions import *\n",
    "\n",
    "Q1 = create_multipleChoice_widget_new('''Wie viele Parameter hat die Funktion?''','',\n",
    "                                  ['0', '1', '2', '3', '4'],'3', 0)\n",
    "Q2 = create_multipleChoice_widget_new('''Wie viele Defaultparameter hat die Funktion?''','',\n",
    "                                  ['0','1','2','3'],'1', 0)\n",
    "Q3 = create_multipleChoice_widget_new('''Welchen Wert hat `c` beim Aufruf der Funktion?''','',\n",
    "                                  ['0','1','2','3'],'3', 0)\n",
    "Q4 = create_multipleChoice_widget_new('''Welchen Wert hat `huhn` nach Ausführung der Funktion?''','',\n",
    "                                  ['0', '2', '3', '6'],'6', 0)\n",
    "\n",
    "\n",
    "\n",
    "\n",
    "\n",
    "display(Q1)\n",
    "display(Q2)\n",
    "display(Q3)\n",
    "display(Q4)"
   ]
  },
  {
   "cell_type": "code",
   "execution_count": null,
   "metadata": {},
   "outputs": [],
   "source": []
  }
 ],
 "metadata": {
  "kernelspec": {
   "display_name": "Python 3 (ipykernel)",
   "language": "python",
   "name": "python3"
  },
  "language_info": {
   "codemirror_mode": {
    "name": "ipython",
    "version": 3
   },
   "file_extension": ".py",
   "mimetype": "text/x-python",
   "name": "python",
   "nbconvert_exporter": "python",
   "pygments_lexer": "ipython3",
   "version": "3.9.7"
  }
 },
 "nbformat": 4,
 "nbformat_minor": 4
}
