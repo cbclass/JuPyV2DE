{
 "cells": [
  {
   "cell_type": "markdown",
   "metadata": {},
   "source": [
    "<img src=\"./data/Lernfortschritt00.PNG\" width=\"1000\">\n",
    "\n",
    "Einleitung   &nbsp;&nbsp;&nbsp;&nbsp;  [1. Variablen](01_Variablen_Theorie.ipynb)\n",
    "\n",
    "[JuPy: Inhaltsverzeichnis](00_Einleitung.ipynb#Inhaltsverzeichnis)"
   ]
  },
  {
   "cell_type": "markdown",
   "metadata": {},
   "source": [
    "# Python-Tutorial Übersicht"
   ]
  },
  {
   "cell_type": "markdown",
   "metadata": {},
   "source": [
    "Herzlich Willkommen bei dem **interaktiven Python Tutorial**!</br>\n",
    "Falls Sie gleich durchstarten wollen finden Sie im nächsten Abschnitt das [Verzeichnis](#Inhaltsverzeichnis) mit den einzelnen Kapiteln zu denen Sie direkt springen können.</br> "
   ]
  },
  {
   "cell_type": "markdown",
   "metadata": {},
   "source": [
    "<a id='Inhaltsverzeichnis'></a>\n",
    "## Inhaltsverzeichnis des Tutorials\n",
    "1. [Variablen](01_Variablen_Theorie.ipynb) \n",
    "2. [Numerische Datentypen](02_NumDatentypen_Theorie.ipynb)\n",
    "3. [Ein- und Ausgabe](03a_EinAusgabe_Theorie.ipynb)\n",
    "    - [Übungsaufgaben Grundlagen Kapitel 1-3](03b_Grundlagen_Aufgaben.ipynb)\n",
    "4. [Operatoren](04a_Operatoren_Theorie.ipynb)\n",
    "    - [Übungsaufgaben Operatoren](04b_Operatoren_Aufgaben.ipynb)\n",
    "5. [Selektion](05a_Selektion_Theorie.ipynb)\n",
    "    - [Übungsaufgaben Selektion](05b_Selektion_Aufgaben.ipynb)\n",
    "6. [Iteration ```for```-Schleife](06a_ForSchleife_Theorie.ipynb)\n",
    "    - [Übungsaufgaben ```for```-Schleife](06b_ForSchleife_Aufgaben.ipynb)\n",
    "7. [Iteration ```while```-Schleife](07a_WhileSchleife_Theorie.ipynb)\n",
    "    - [Übungsaufgaben ```while```-Schleife](07b_WhileSchleife_Aufgaben.ipynb)\n",
    "8. [Funktionen](08a_Funktionen_Theorie.ipynb)\n",
    "    - [Übungsaufgaben Funktionen](08b_Funktionen_Aufgaben.ipynb)\n",
    "9. [Sequentielle Datentypen](09a_SeqDatentypen_Theorie.ipynb)\n",
    "    - [Übungsaufgaben Sequentielle Datentypen](09b_SeqDatentypen_Aufgaben.ipynb)\n",
    "10. [Numpy Arrays](10a_NumPy_Theorie.ipynb)\n",
    "    - [Übungsaufgaben Numpy Arrays](10b_NumPy_Aufgaben.ipynb)\n",
    "11. [Plots](11a_Plots_Theorie.ipynb)\n",
    "    - [Übungsaufgaben Plots](11b_Plots_Aufgaben.ipynb)\n",
    "12. [Ausblick Scipy](12_SciPy.ipynb)"
   ]
  },
  {
   "cell_type": "markdown",
   "metadata": {
    "deletable": false,
    "editable": false,
    "tags": []
   },
   "source": [
    "<a rel=\"license\" href=\"http://creativecommons.org/licenses/by-nc-nd/4.0/\"><img alt=\"Creative Commons Lizenzvertrag\" style=\"border-width:0\" src=\"https://i.creativecommons.org/l/by-nc-nd/4.0/88x31.png\" /></a><br /><span xmlns:dct=\"http://purl.org/dc/terms/\" property=\"dct:title\">Das JuPy Python Tutorial</span> der <span xmlns:cc=\"http://creativecommons.org/ns#\" property=\"cc:attributionName\">EAH Jena</span> ist lizenziert unter einer <a rel=\"license\" href=\"http://creativecommons.org/licenses/by-nc-nd/4.0/\">Creative Commons Namensnennung - Nicht kommerziell - Keine Bearbeitungen 4.0 International Lizenz</a>."
   ]
  }
 ],
 "metadata": {
  "kernelspec": {
   "display_name": "Python 3 (ipykernel)",
   "language": "python",
   "name": "python3"
  },
  "language_info": {
   "codemirror_mode": {
    "name": "ipython",
    "version": 3
   },
   "file_extension": ".py",
   "mimetype": "text/x-python",
   "name": "python",
   "nbconvert_exporter": "python",
   "pygments_lexer": "ipython3",
   "version": "3.10.8"
  }
 },
 "nbformat": 4,
 "nbformat_minor": 4
}
