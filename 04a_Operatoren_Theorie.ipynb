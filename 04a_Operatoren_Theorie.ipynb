{
 "cells": [
  {
   "cell_type": "markdown",
   "metadata": {},
   "source": [
    "<img src=\"data/Lernfortschritt04.PNG\" width=\"1000\">\n",
    "\n",
    "&nbsp;&nbsp;&nbsp;&nbsp;&nbsp;&nbsp;&nbsp;&nbsp;&nbsp;&nbsp;&nbsp;&nbsp;&nbsp;&nbsp;&nbsp;&nbsp;&nbsp;&nbsp;&nbsp;&nbsp;&nbsp;&nbsp;&nbsp;&nbsp;&nbsp;&nbsp;&nbsp;&nbsp;&nbsp;&nbsp;[3. Ein- und Ausgabe](./03a_EinAusgabe_Theorie.ipynb) &nbsp;&nbsp;&nbsp;&nbsp; 4. Operatoren    &nbsp;&nbsp;&nbsp;&nbsp; [5. Selektion](./05a_Selektion_Theorie.ipynb)\n",
    "\n",
    "[JuPy: Inhaltsverzeichnis](00_Einleitung.ipynb#Inhaltsverzeichnis)"
   ]
  },
  {
   "cell_type": "markdown",
   "metadata": {},
   "source": [
    "# 4. Operatoren"
   ]
  },
  {
   "cell_type": "markdown",
   "metadata": {},
   "source": [
    "In diesem Kapitel werden die [4.1 Mathematischen Operatoren](#mathOperatoren), [4.2 Vergleichsoperatoren](#verglOperatoren) und [4.3 Logischen Operatoren](#logOperatoren) vorgestellt.  "
   ]
  },
  {
   "cell_type": "markdown",
   "metadata": {},
   "source": [
    "<a id='mathOperatoren'></a>\n",
    "## 4.1 Mathematische Operatoren\n",
    "Die **mathematischen Operatoren** werden in Python genutzt, um Rechenoperationen durchzuführen. In der folgenden Tabelle sind diese aufgeführt.\n",
    "\n",
    "| | |\n",
    "| - | :-: |\n",
    "| __Grundrechenoperationen__ | `+ - * /` |\n",
    "| __Potenzierung__ | `**` |\n",
    "| __Rest bei ganzzahliger Division__ | `%` |\n",
    "| __Ergebnis ganzzahliger Division__ |`//` |\n"
   ]
  },
  {
   "cell_type": "markdown",
   "metadata": {},
   "source": [
    "---\n",
    "### Beispiel 1: Grundrechenoperationen\n",
    "Im nachfolgenden sollen die Grundrechenoperationen anhand von Beispielen erläutert werden. Führen Sie dazu die Zelle aus und überprüfen Sie die Ergebnisse."
   ]
  },
  {
   "cell_type": "code",
   "execution_count": null,
   "metadata": {},
   "outputs": [],
   "source": [
    "print(3 + 4)\n",
    "print(3 - 4)\n",
    "print(3 * 4)\n",
    "print(3 / 4)"
   ]
  },
  {
   "cell_type": "markdown",
   "metadata": {},
   "source": [
    "---\n",
    "### Beispiel 2: Potenzierung\n",
    "Im Nachfolgenden wird die Potenzierung anhand eines Beispiels erläutert. Führen Sie dazu die Zelle aus und überprüfen Sie das Ergebnis.\n",
    "\n",
    "Die Schreibweise der Potenz lautet:\n",
    "\n",
    "${Basis}^{Exponent}$ \n",
    "\n",
    "Somit ist 3 hier die Basis und 4 der Exponent: $3^4$ "
   ]
  },
  {
   "cell_type": "code",
   "execution_count": null,
   "metadata": {},
   "outputs": [],
   "source": [
    "print(3**4)"
   ]
  },
  {
   "cell_type": "markdown",
   "metadata": {},
   "source": [
    "---\n",
    "<a id='Ü4.1.3'></a>\n",
    "### Beispiel 3: Ergebnis der ganzzahligen Division\n",
    "Mit dem `//`-Operator wir das Ergebnis einer ganzzahligen Division berechnet. Führen Sie als Beispiel die nachfolgende Zelle aus und überprüfen Sie das Ergebnis."
   ]
  },
  {
   "cell_type": "code",
   "execution_count": null,
   "metadata": {},
   "outputs": [],
   "source": [
    "print(3//4)\n",
    "print(13//5)"
   ]
  },
  {
   "cell_type": "markdown",
   "metadata": {},
   "source": [
    "Die 4 passt kein Mal in die 3. Die 5 passt jedoch 2 Mal in die 13, denn $5\\cdot2 = 10$."
   ]
  },
  {
   "cell_type": "markdown",
   "metadata": {},
   "source": [
    "---\n",
    "### Beispiel 4: Rest der ganzzahligen Divsion\n",
    "Mit dem `%`-Operator kann der Rest der oben gezeigten ganzzahligen Division berechnet werden. \n",
    "Führen Sie zur Erläuterung die nachfolgende Zelle aus und überprüfen Sie das Ergebnis."
   ]
  },
  {
   "cell_type": "code",
   "execution_count": null,
   "metadata": {},
   "outputs": [],
   "source": [
    "print(3%4)\n",
    "print(13%5)"
   ]
  },
  {
   "cell_type": "markdown",
   "metadata": {},
   "source": [
    "Es lässt sich erkennen, dass bei der Division von 3 durch 4 ein Rest von 3 übrigbleibt. Da wie oben in [Beispiel 3](#Ü4.1.3) gezeigt die 4 kein Mal in die 3 passt, bleibt ein Rest von 3 übrig. Bei der Division von 13 durch 5 passt die 5 zweimal ganz in die 13 und es bleibt ein Rest von 3."
   ]
  },
  {
   "cell_type": "markdown",
   "metadata": {},
   "source": [
    "---\n",
    "### Beispiel 5: Erweiterte Zuweisung\n",
    "\n",
    "Häufig findet man Zuweisungen der folgenden Art, die den Wert einer Variable mit Hilfe eines Operator verändern."
   ]
  },
  {
   "cell_type": "code",
   "execution_count": null,
   "metadata": {},
   "outputs": [],
   "source": [
    "x=5\n",
    "x=x+1\n",
    "print(x)\n",
    "x=x%4\n",
    "print(x)\n",
    "x=x*1.5\n",
    "print(x)\n",
    "x=x/2\n",
    "print(x)"
   ]
  },
  {
   "cell_type": "markdown",
   "metadata": {},
   "source": [
    "In diesem Fall kann man auch eine sogenannte **erweiterte Zuweisung** verwenden:\n",
    "\n",
    "`x?=a`\n",
    "\n",
    "Hierbei steht `?` für einen arithmetischen Operator. Zuerst wird der Wert von `x?a` berechnet und dann `x` zugewiesen.\n",
    "Testen Sie folgenden Code und vergleichen Sie die Ergebnisse mit der Ausgabe von oben. "
   ]
  },
  {
   "cell_type": "code",
   "execution_count": null,
   "metadata": {},
   "outputs": [],
   "source": [
    "x=5\n",
    "x+=1\n",
    "print(x)\n",
    "x%=4\n",
    "print(x)\n",
    "x*=1.5\n",
    "print(x)\n",
    "x/=2\n",
    "print(x)"
   ]
  },
  {
   "cell_type": "markdown",
   "metadata": {},
   "source": [
    "Die erweiterte Zuweisung ist für alle arithmetischen Operatoren dieses Kapitels definiert. \n",
    "\n",
    "\n",
    "|erweiterte Zuweisung|Zuweisung|\n",
    "|--------------------|---------|\n",
    "|`x+=a`              | `x=x+a`|\n",
    "|`x-=a` | `x=x-a`|\n",
    "|`x*=a` | `x=x*a`|\n",
    "|`x/=a` | `x=x/a`|\n",
    "|`x**=a` | `x=x**a`|\n",
    "|`x//=a` | `x=x//a`|\n",
    "|`x%=a` | `x=x%a`|\n"
   ]
  },
  {
   "cell_type": "markdown",
   "metadata": {},
   "source": [
    "## Präzedenzen\n",
    "Die Operatoren besitzen verschiedene **Präzedenzen**. So wird festgelegt welche Rechenoperation als erstes ausgeführt wird und welche folgen. Die Rangfolge ist wie in der Mathematik die folgende:\n",
    "\n",
    "1. Klammerausdrücke\n",
    "2. Potenzen\n",
    "3. Punktrechnung (`* /`)\n",
    "4. Strichrechnung (`+ -`)\n",
    "\n",
    "Klammerausdrücke besitzen demnach die höchste Präzedenz, das bedeutet, dass der Ausdruck innerhalb der Klammer als erster in der Zeile ausgeführt wird. Danach werden die Potenzen berechnet. Es gilt auch in Python Punkt- vor Strich-Rechnung. \n",
    "\n",
    "Um sich dies zu veranschaulichen, stehen die nachfolgenden Beispiele bereit:"
   ]
  },
  {
   "cell_type": "markdown",
   "metadata": {},
   "source": [
    "---\n",
    "### Beispiel 6: Präzedenzen\n",
    "Es soll zuerst das Produkt aus 3 und 4 berechnet und dieses anschließend mit 5 addiert werden. Als zweiter Ausdruck soll als erstes die Summe aus 5 und 3 berechnet und dann mit 4 multipliziert werden. Führen Sie dazu die nachfolgende Zelle aus und überprüfen Sie die Ergebnisse."
   ]
  },
  {
   "cell_type": "code",
   "execution_count": null,
   "metadata": {},
   "outputs": [],
   "source": [
    "print(5 + 3 * 4)\n",
    "print((5 + 3)*4)"
   ]
  },
  {
   "cell_type": "markdown",
   "metadata": {},
   "source": [
    "---\n",
    "### Beispiel 7: Präzedenzen\n",
    "Es soll zuerst das Ergebnis von 2 hoch 3 berechnet und anschließend das Ergebnis mit 3 mulitpliziert werden. Vergleichen Sie das Ergebnis mit dem zuerst 3 mit 3 mulitpliziert wird und dann dieser Wert als Exponent zur Basis 2 dient. Führen Sie dazu die nachfolgende Zelle aus."
   ]
  },
  {
   "cell_type": "code",
   "execution_count": null,
   "metadata": {},
   "outputs": [],
   "source": [
    "print(2**3*3)\n",
    "print(2**(3*3))"
   ]
  },
  {
   "cell_type": "markdown",
   "metadata": {},
   "source": [
    "<a id='verglOperatoren'></a>\n",
    "## 4.2 Vergleichsoperatoren\n",
    "Die **Vergleichsoperatoren** werden in Python genutzt, um zwei Werte miteinander zu vergleichen. Die Rückgabe eines Vergleichs ist immer entweder `True` oder `False`. In der folgenden Tabelle sind die verschiedenen **Vergleichsoperatoren** aufgeführt.\n",
    "\n",
    "| | |\n",
    "| - | :-: |\n",
    "| __Gleich__ | `==` |\n",
    "| __Ungleich__ | `!=` |\n",
    "| __Größer__ | `>` |\n",
    "| __Größer oder Gleich__ |`>=` |\n",
    "| __Kleiner__ |`<` |\n",
    "| __Kleiner oder Gleich__ |`<=` |\n"
   ]
  },
  {
   "cell_type": "markdown",
   "metadata": {},
   "source": [
    "---\n",
    "### Beispiel 8: Vergleichsoperatoren\n",
    "Im Nachfolgenden sollen die **Vergleichsoperatoren** anhand von Beispielen aufgezeigt werden. Führen Sie dazu die Zelle aus und überprüfen Sie die Ergebnisse."
   ]
  },
  {
   "cell_type": "code",
   "execution_count": null,
   "metadata": {},
   "outputs": [],
   "source": [
    "print(4/2 == 2)\n",
    "print(4/2 != 2)\n",
    "print(4/2 > 2)\n",
    "print(4/2 >= 2)\n",
    "print(4/2 < 2)\n",
    "print(4/2 <= 2)"
   ]
  },
  {
   "cell_type": "markdown",
   "metadata": {},
   "source": [
    "---\n",
    "### Beispiel 9: Vergleich Numerischer Variablen\n",
    "Auch nummerische Variablen können verglichen werden. Bei Variablen werden die Werte verglichen."
   ]
  },
  {
   "cell_type": "code",
   "execution_count": null,
   "metadata": {},
   "outputs": [],
   "source": [
    "a = 4\n",
    "b = 3\n",
    "c = True\n",
    "print(a == b)\n",
    "print(a < b)\n",
    "print(a != c)\n",
    "print(b > c)"
   ]
  },
  {
   "cell_type": "markdown",
   "metadata": {},
   "source": [
    "---\n",
    "### Beispiel 10: Vergleich Strings\n",
    "Auch Strings und Stringvariable können miteinander vergleichen werden. Achten Sie dabei auf die Groß- und Kleinschreibung **(Case-sensitivity)** und auf Leerzeichen!"
   ]
  },
  {
   "cell_type": "code",
   "execution_count": null,
   "metadata": {},
   "outputs": [],
   "source": [
    "x = input(\"Geben Sie den zu vergleichenden String ein: \")\n",
    "x == \"hello world\""
   ]
  },
  {
   "cell_type": "markdown",
   "metadata": {},
   "source": [
    "**Information:**\n",
    "Bitte beachten Sie, dass Buchstaben basierend auf ihrem Unicode verglichen werden. Den Unicode Wert eines Buchstabens erhalten Sie mit `ord(\"A\")`. \"A\" hat den Wert 65, \"B\" den Wert 66 und \"a\" den Wert 97. Wenn Sie Zeichenketten in Python vergleichen, erfolgt dies daher nicht nach der lexikalischen Ordnung, die wir gewöhnt sind.   "
   ]
  },
  {
   "cell_type": "code",
   "execution_count": null,
   "metadata": {},
   "outputs": [],
   "source": [
    "print(\"abc\"<\"def\")\n",
    "print(\"abc\"<\"DEF\")"
   ]
  },
  {
   "cell_type": "markdown",
   "metadata": {},
   "source": [
    "---\n",
    "### Beispiel 11: Vergleich unterschiedlicher Datentypen\n",
    "Werte unterschiedlicher Datentypen können auf Gleichheit (`==` und `!=`) verglichen werden. "
   ]
  },
  {
   "cell_type": "code",
   "execution_count": null,
   "metadata": {},
   "outputs": [],
   "source": [
    "a = \"3\"\n",
    "b = 3\n",
    "print(a == b)"
   ]
  },
  {
   "cell_type": "markdown",
   "metadata": {},
   "source": [
    "Ein Vergleich in Bezug auf die Größe, z.B. kleiner, ist nicht definiert und führt zu einem Fehler. "
   ]
  },
  {
   "cell_type": "code",
   "execution_count": null,
   "metadata": {},
   "outputs": [],
   "source": [
    "a = \"3\"\n",
    "b = 3\n",
    "print(a < b)"
   ]
  },
  {
   "cell_type": "markdown",
   "metadata": {},
   "source": [
    "<a id='logOperatoren'></a>\n",
    "## 4.3 Logische Operatoren\n",
    "Die **logischen Operatoren** werden in Python benutzt, um eine Bedingung zu negieren oder mehrere Bedingungen zu verknüpfen. Die Rückgabe der **logischen Operatoren** ist immer entweder `True` oder `False`. In der folgenden Tabelle sind die verschiedenen **logischen Operatoren** aufgeführt.\n",
    "\n",
    "| | |\n",
    "| - | :-: |\n",
    "| __logisches UND__ | `and` |\n",
    "| __logisches ODER__ | `or` |\n",
    "| __logisches NICHT__ | `not` |\n",
    "\n",
    "\n",
    "`and` ist ein binärer Operator. Ein Ausdruck mit `and` wird `True`, wenn beide Bedinungen erfüllt sind, sonst ist er `False`.  \n",
    "\n",
    "\n",
    "| `x` | `y` | `x and y` |\n",
    "|---|---|---|\n",
    "| False | False | False |\n",
    "| False | True | False |\n",
    "| True | False | False |\n",
    "| True | True |**True** |\n",
    "\n",
    "\n",
    "`or` ist ein binärer Operator. Ein Ausdruck mit `or` wird `False`, wenn beide Bedinungen nicht sind, sonst ist er `True`.  \n",
    "\n",
    "| `x` | `y` | `x and y` |\n",
    "|---|---|---|\n",
    "| False | False | **False** |\n",
    "| False | True | True |\n",
    "| True | False | True |\n",
    "| True | True |True |\n",
    "\n",
    "\n",
    "`not` ist ein unärer Operator und negiert den Wert des Operanden.\n",
    "\n",
    "\n",
    "\n",
    "| `x` | `not x` |\n",
    "|---|---|\n",
    "| False | True | \n",
    "| True | False | \n",
    "\n",
    "\n",
    "Die Präzedenzen der logischen Operatoren sind:\n",
    "\n",
    "1. Klammerausdrücke\n",
    "2. `not`\n",
    "3. `and`\n",
    "4. `or`\n",
    "\n",
    "Die logischen Operatoren haben eine niedrigere Präzedenz als alle nicht-logischen Operatoren, d.h. `not a == b` ist äquivalent zu `not(a == b)`."
   ]
  },
  {
   "cell_type": "markdown",
   "metadata": {},
   "source": [
    "---\n",
    "### Beispiel 12: Logische Operatoren\n",
    "Vergleichen Sie die Ausgaben in nachfolgendem Code-Segment. Ergänzen Sie die Ausdrücke bei Bedarf mit KLammern, um die Lesbarkeit zu erhöhen."
   ]
  },
  {
   "cell_type": "code",
   "execution_count": null,
   "metadata": {},
   "outputs": [],
   "source": [
    "print(False and True)\n",
    "print(True and True)\n",
    "print(False or True)\n",
    "print(True or True)\n",
    "print(not True)"
   ]
  },
  {
   "cell_type": "markdown",
   "metadata": {},
   "source": [
    "---\n",
    "### Beispiel 13: Klammern zur Verbesserung der Lesbarkeit\n",
    "Vergleichen Sie die Ausgaben in nachfolgenden Code-Segmenten. Ergänzen Sie die Ausdrücke bei Bedarf mit Klammern, um die Lesbarkeit zu erhöhen."
   ]
  },
  {
   "cell_type": "code",
   "execution_count": null,
   "metadata": {},
   "outputs": [],
   "source": [
    "print(2 < 3 or 1 > 0)\n",
    "print(4 == 5 and 7 < 8)"
   ]
  },
  {
   "cell_type": "code",
   "execution_count": null,
   "metadata": {},
   "outputs": [],
   "source": [
    "x=1\n",
    "x=1-2*2\n",
    "x=x+1\n",
    "print(x)"
   ]
  },
  {
   "cell_type": "markdown",
   "metadata": {},
   "source": [
    "---\n",
    "### Beispiel 14: Chained Comparisons"
   ]
  },
  {
   "cell_type": "markdown",
   "metadata": {},
   "source": [
    "In Python vergleicht der folgende Ausdruck `1 <= a <= 10`, ob die Variable `a` einen Wert aus dem Intervall `[1,10]` hat. Der Ausdruck, eine sogenannte Chained Comparison, verhält sich also so, wie wir es erwarten würden.\n",
    "\n",
    "Bitte beachten Sie, dass Chained Comparisons nicht in allen Programmiersprachen möglich sind. In manchen Sprachen (z.B. in Java) können sie nicht übersetzt werden. In anderen Sprachen, wie z.B. in C, werden sie anders ausgewertet. In C ist ein solcher Ausdruch immer erfüllt, egal welchen Wert `a` hat.\n",
    "\n",
    "Aus diesem Grund empfiehlt es sich, sich anzugewöhnen, den Ausdruck `1 <= a <= 10` durch zwei Vergleiche und einen logischen Operator zu ersetzen. "
   ]
  },
  {
   "cell_type": "markdown",
   "metadata": {},
   "source": [
    "Testen Sie den folgenden Code für verschiedene Werte von `a`. "
   ]
  },
  {
   "cell_type": "code",
   "execution_count": null,
   "metadata": {},
   "outputs": [],
   "source": [
    "a=5\n",
    "print(1 <= a <= 10)\n",
    "print(1 <= a and a <= 10)"
   ]
  },
  {
   "cell_type": "markdown",
   "metadata": {},
   "source": [
    "<a id='lernkontrolle'></a>\n",
    "## 4.4 Lernkontrolle\n",
    "\n",
    "- Die folgenden Fragen dienen zur Überprüfung Ihres Wissensstandes. \n",
    "- Führen Sie die nachfolgende Zelle aus und wählen Sie jeweils aus den Antwortmöglichkeiten aus. \n",
    "- Sobald Sie die Fragen richtig beantwortet haben, können Sie die Übungsaufgaben zu diesem Kapitel bearbeiten oder mit dem nächsten Thema fortfahren.\n"
   ]
  },
  {
   "cell_type": "code",
   "execution_count": 1,
   "metadata": {},
   "outputs": [
    {
     "data": {
      "application/vnd.jupyter.widget-view+json": {
       "model_id": "f2d996d8d3f241baafa91a20975a4623",
       "version_major": 2,
       "version_minor": 0
      },
      "text/plain": [
       "VBox(children=(Output(), RadioButtons(options=(('1', 0), ('-1', 1), ('-2', 2), ('Es tritt ein Fehler auf', 3))…"
      ]
     },
     "metadata": {},
     "output_type": "display_data"
    },
    {
     "data": {
      "application/vnd.jupyter.widget-view+json": {
       "model_id": "796d44de694a401d8b38fd3436ff515e",
       "version_major": 2,
       "version_minor": 0
      },
      "text/plain": [
       "VBox(children=(Output(), RadioButtons(options=(('1', 0), ('True', 1), ('-3', 2), ('9', 3)), value=0), Button(d…"
      ]
     },
     "metadata": {},
     "output_type": "display_data"
    },
    {
     "data": {
      "application/vnd.jupyter.widget-view+json": {
       "model_id": "e74b0ef3a36746a3a5183bceedc8e1ac",
       "version_major": 2,
       "version_minor": 0
      },
      "text/plain": [
       "VBox(children=(Output(), RadioButtons(options=(('64', 0), ('32', 1), ('16', 2), ('0', 3)), value=0), Button(de…"
      ]
     },
     "metadata": {},
     "output_type": "display_data"
    },
    {
     "data": {
      "application/vnd.jupyter.widget-view+json": {
       "model_id": "0ecd5d23048a4458b6a7fc8ae675695d",
       "version_major": 2,
       "version_minor": 0
      },
      "text/plain": [
       "VBox(children=(Output(), RadioButtons(options=(('True', 0), ('true', 1), ('False', 2), ('false', 3), ('Es trit…"
      ]
     },
     "metadata": {},
     "output_type": "display_data"
    },
    {
     "data": {
      "application/vnd.jupyter.widget-view+json": {
       "model_id": "f6f47492f835453e9ba185c828163f26",
       "version_major": 2,
       "version_minor": 0
      },
      "text/plain": [
       "VBox(children=(Output(), RadioButtons(options=(('x > y but x < z', 0), ('x > y and y < z', 1), ('x > y and x <…"
      ]
     },
     "metadata": {},
     "output_type": "display_data"
    },
    {
     "data": {
      "application/vnd.jupyter.widget-view+json": {
       "model_id": "9da67664ca784b22a260d68a5615b7b0",
       "version_major": 2,
       "version_minor": 0
      },
      "text/plain": [
       "VBox(children=(Output(), RadioButtons(options=(('True', 0), ('False', 1), ('Es tritt ein Fehler auf', 2)), val…"
      ]
     },
     "metadata": {},
     "output_type": "display_data"
    }
   ],
   "source": [
    "%run data/04_Lernkontrolle.ipynb"
   ]
  },
  {
   "cell_type": "markdown",
   "metadata": {},
   "source": [
    "---\n",
    "Glückwunsch, dieses Kapitel ist hiermit abgeschlossen!\n",
    "\n",
    "Hier geht's zu den Aufgaben zu Kapitel 4: [A 4. Aufgaben Operatoren](04b_Operatoren_Aufgaben.ipynb)"
   ]
  },
  {
   "cell_type": "markdown",
   "metadata": {
    "deletable": false,
    "editable": false,
    "tags": []
   },
   "source": [
    "<a rel=\"license\" href=\"http://creativecommons.org/licenses/by-nc-nd/4.0/\"><img alt=\"Creative Commons Lizenzvertrag\" style=\"border-width:0\" src=\"https://i.creativecommons.org/l/by-nc-nd/4.0/88x31.png\" /></a><br /><span xmlns:dct=\"http://purl.org/dc/terms/\" property=\"dct:title\">Das JuPy Python Tutorial</span> der <span xmlns:cc=\"http://creativecommons.org/ns#\" property=\"cc:attributionName\">EAH Jena</span> ist lizenziert unter einer <a rel=\"license\" href=\"http://creativecommons.org/licenses/by-nc-nd/4.0/\">Creative Commons Namensnennung - Nicht kommerziell - Keine Bearbeitungen 4.0 International Lizenz</a>.\n",
    "\n"
   ]
  }
 ],
 "metadata": {
  "kernelspec": {
   "display_name": "Python 3 (ipykernel)",
   "language": "python",
   "name": "python3"
  },
  "language_info": {
   "codemirror_mode": {
    "name": "ipython",
    "version": 3
   },
   "file_extension": ".py",
   "mimetype": "text/x-python",
   "name": "python",
   "nbconvert_exporter": "python",
   "pygments_lexer": "ipython3",
   "version": "3.10.8"
  }
 },
 "nbformat": 4,
 "nbformat_minor": 4
}
