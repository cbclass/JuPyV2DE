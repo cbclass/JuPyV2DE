{
 "cells": [
  {
   "cell_type": "markdown",
   "metadata": {},
   "source": [
    " <img src=\"./data/Lernfortschritt05.PNG\" width=\"1000\">\n",
    " \n",
    " &nbsp;&nbsp;&nbsp;&nbsp;&nbsp;&nbsp;&nbsp;&nbsp;&nbsp;&nbsp;&nbsp;&nbsp;&nbsp;&nbsp;&nbsp;&nbsp;&nbsp;&nbsp;&nbsp;&nbsp;&nbsp;&nbsp;&nbsp;&nbsp;&nbsp;&nbsp;&nbsp;&nbsp;&nbsp;&nbsp;&nbsp;&nbsp;&nbsp;&nbsp;&nbsp;&nbsp;&nbsp;&nbsp;&nbsp;&nbsp;&nbsp;&nbsp;&nbsp;&nbsp;&nbsp;&nbsp;&nbsp;&nbsp;&nbsp;&nbsp;&nbsp;&nbsp;&nbsp;&nbsp; [4. Operatoren](./04a_Operatoren_Theorie.ipynb) &nbsp;&nbsp;&nbsp;&nbsp; 5. Selektion &nbsp;&nbsp;&nbsp;&nbsp; [6. Iteration: `for`-Schleife](./06a_ForSchleife_Theorie.ipynb)\n",
    " \n",
    "[JuPy: Inhaltsverzeichnis](00_Einleitung.ipynb#Inhaltsverzeichnis)"
   ]
  },
  {
   "cell_type": "markdown",
   "metadata": {},
   "source": [
    "# 5. Selektion: Die `if`-Anweisung"
   ]
  },
  {
   "cell_type": "markdown",
   "metadata": {},
   "source": [
    "## `if` und `else`: Prüfen einer Bedingung"
   ]
  },
  {
   "cell_type": "markdown",
   "metadata": {},
   "source": [
    "Die `if`-Anweisung wird benutzt, um Bedingungen zu überprüfen und je nachdem ob diese erfüllt ist, gezielt Aktionen durchzuführen. Anhand eines einfachen Beispiels soll solch eine `if`-Anweisung oder Verzweigung erklärt werden:"
   ]
  },
  {
   "cell_type": "code",
   "execution_count": null,
   "metadata": {},
   "outputs": [],
   "source": [
    "a = 5\n",
    "\n",
    "if a > 3:\n",
    "    print(\"a ist größer als 3.\")\n",
    "else:\n",
    "    print(\"a ist nicht größer als 3.\")"
   ]
  },
  {
   "cell_type": "markdown",
   "metadata": {},
   "source": [
    "Die Variable `a` wird auf 5 gesetzt. Danach folgt eine Abfrage, in der überprüft wird, ob `a` größer als 3 ist. Ist dies der Fall, wird der nachfolgende **eingerückte** Block ausgeführt. Wenn die Bedingung nicht erfüllt ist, also `a` nicht größer als 3 ist, geht es in den `else`-Zweig, und der Block, der darunter eingerückt ist, wird ausgeführt. Probieren Sie ruhig andere Zahlen für `a` aus und beobachten Sie, was passiert.\n",
    "\n",
    "**Hinweis:** Es ist nicht notwendig, einen `else`-Zweig zu spezifizieren."
   ]
  },
  {
   "cell_type": "markdown",
   "metadata": {},
   "source": [
    "## `elif`: Prüfen auf mehrere Bedingungen nacheinander"
   ]
  },
  {
   "cell_type": "markdown",
   "metadata": {},
   "source": [
    "Will man innerhalb einer `if`-Anweisung mehrere Bedingungen nacheinander prüfen, kommt `elif` ins Spiel. Im unteren Beispiel wird zunächst mit der `if`-Anweisung geprüft, ob `a` dem Wert 3 entspricht (**wichtig**: Vergleichsoperator == ). Falls diese nicht erfüllt ist, erfolgt danach eine weitere Überprüfung auf eine andere Bedingung mit `elif`. Es können beliebig viele Bedingungen damit überprüft werden, doch sobald eine erfüllt ist, wird der Abfrageblock verlassen. Ist gar keine erfüllt, geht es wieder in den `else`-Zweig, sofern dieser spezifiziert ist."
   ]
  },
  {
   "cell_type": "code",
   "execution_count": null,
   "metadata": {},
   "outputs": [],
   "source": [
    "a = 6\n",
    "\n",
    "if a == 3:\n",
    "    print(\"a ist gleich 3.\")\n",
    "    \n",
    "elif a == 4:\n",
    "    print(\"a ist gleich 4.\")\n",
    "    \n",
    "elif a == 6:\n",
    "    print(\"a ist gleich 6.\")\n",
    "    \n",
    "else:\n",
    "    print(\"a ist weder 3 noch 4 noch 6.\")"
   ]
  },
  {
   "cell_type": "markdown",
   "metadata": {},
   "source": [
    "Nun wird der Code geringfügig verändert. `a` wird auf 3 gesetzt und aus dem ersten `elif` wird ein `if`. Treffen Sie zunächst eine Vermutung, was passieren wird, und führen Sie, **dann** erst den Code aus. "
   ]
  },
  {
   "cell_type": "code",
   "execution_count": null,
   "metadata": {},
   "outputs": [],
   "source": [
    "a = 3\n",
    "\n",
    "if a == 3:\n",
    "    print(\"a ist gleich 3.\")\n",
    "    \n",
    "if a == 4:\n",
    "    print(\"a ist gleich 4.\")\n",
    "    \n",
    "elif a == 6:\n",
    "    print(\"a ist gleich 6.\")\n",
    "    \n",
    "else:\n",
    "    print(\"a ist weder 3 noch 4 noch 6.\")"
   ]
  },
  {
   "cell_type": "markdown",
   "metadata": {},
   "source": [
    "Es wurde zwar \"a ist gleich 3.\" ausgegeben, aber auch fälschlicherweise \"a ist weder 3 noch 4 noch 6.\"\n",
    "Das kommt daher, dass jedes `if` einen neuen Block 'aufmacht'. Man kann sich das obere Beispiel also in zwei Blöcken vorstellen: \n",
    "\n",
    "1. Block: Ist a gleich 3? ja.\n",
    "\n",
    "       -> Ausgabe: a ist gleich 3.\n",
    "       \n",
    "\n",
    "2. Block: Ist a gleich 4? nein.\n",
    "\n",
    "      Ist a gleich 6? nein.\n",
    "   \n",
    "   Trifft nichts davon zu? ja.\n",
    "       -> Ausgabe: a ist weder 3 noch 4 noch 6."
   ]
  },
  {
   "cell_type": "markdown",
   "metadata": {},
   "source": [
    "## Prüfen auf mehrere Bedingungen gleichzeitig"
   ]
  },
  {
   "cell_type": "markdown",
   "metadata": {},
   "source": [
    "Wie kann man nun eine Variable auf mehrere Bedingungen überprüfen, ohne, dass die Ausgabe direkt nach der ersten Übereinstimmung erfolgt? Dabei helfen logische Operatoren wie `and` oder `or`. Falls Sie damit noch unsicher sind, sei hier noch einmal auf das Kapitel [4. Operatoren](./04a_Operatoren_Theorie.ipynb) verwiesen.\n",
    "Im nachfolgenden Beispiel, wird überprüft, ob `a` kleiner als 6 **und** größer als 2 ist. "
   ]
  },
  {
   "cell_type": "code",
   "execution_count": null,
   "metadata": {},
   "outputs": [],
   "source": [
    "a = 3\n",
    "\n",
    "if a < 6 and a > 2:\n",
    "    print(\"a ist kleiner als 6 und größer als 2.\")\n",
    "\n",
    "else:\n",
    "    print(\"a ist nicht 'kleiner als 6 und größer als 2.'\")"
   ]
  },
  {
   "cell_type": "markdown",
   "metadata": {},
   "source": [
    "Nachfolgend noch ein paar andere Beispiele mit verschiedenen Operatoren. Versuchen Sie wieder zuerst den Code zu verstehen und vorherzusagen was passieren wird und überprüfen Sie ihre Vermutung dann mit der Ausführung des Codeabschnitts."
   ]
  },
  {
   "cell_type": "code",
   "execution_count": null,
   "metadata": {},
   "outputs": [],
   "source": [
    "a = 7\n",
    "\n",
    "b = int(input(\"Geben Sie eine Zahl zwischen 1 und 10 ein.\"))\n",
    "\n",
    "if b != a:\n",
    "    x = a + b\n",
    "    print(\"Die Summe ist\",x)\n",
    "else:\n",
    "    x = 2*a\n",
    "    print(\"Die Summe ist\",x)"
   ]
  },
  {
   "cell_type": "markdown",
   "metadata": {},
   "source": [
    "### Lernkontrolle\n",
    "\n",
    "- Die folgenden Fragen dienen zur Überprüfung Ihres Wissensstandes. \n",
    "- Führen Sie die nachfolgende Zelle aus und wählen Sie jeweils aus den Antwortmöglichkeiten aus. \n",
    "- Sobald Sie die Fragen richtig beantwortet haben, können Sie die Übungsaufgaben zu diesem Kapitel bearbeiten oder mit dem nächsten Thema fortfahren.\n",
    "\n",
    "\n",
    "Beantworten Sie folgende Fragen."
   ]
  },
  {
   "cell_type": "code",
   "execution_count": 1,
   "metadata": {},
   "outputs": [
    {
     "data": {
      "application/vnd.jupyter.widget-view+json": {
       "model_id": "cbe7338c32e64b2fbd604ca37a5c985e",
       "version_major": 2,
       "version_minor": 0
      },
      "text/plain": [
       "VBox(children=(Output(), RadioButtons(options=(('1 1 2', 0), ('1 2 2', 1), ('1 2 1', 2), ('1 1 1', 3)), value=…"
      ]
     },
     "metadata": {},
     "output_type": "display_data"
    },
    {
     "data": {
      "application/vnd.jupyter.widget-view+json": {
       "model_id": "9806b4ac0ef34f2dac141ab9bf88abf6",
       "version_major": 2,
       "version_minor": 0
      },
      "text/plain": [
       "VBox(children=(Output(), RadioButtons(options=(('1 1 2', 0), ('1 2 2', 1), ('1 2 1', 2), ('1 1 1', 3)), value=…"
      ]
     },
     "metadata": {},
     "output_type": "display_data"
    },
    {
     "data": {
      "application/vnd.jupyter.widget-view+json": {
       "model_id": "a89ac16c608b4dae8cc8685b176170fd",
       "version_major": 2,
       "version_minor": 0
      },
      "text/plain": [
       "VBox(children=(Output(), RadioButtons(options=(('1 1 2', 0), ('1 2 2', 1), ('1 2 1', 2), ('1 1 1', 3)), value=…"
      ]
     },
     "metadata": {},
     "output_type": "display_data"
    },
    {
     "data": {
      "application/vnd.jupyter.widget-view+json": {
       "model_id": "4d2ec9610be14084870dca070b02a430",
       "version_major": 2,
       "version_minor": 0
      },
      "text/plain": [
       "VBox(children=(Output(), RadioButtons(options=(('6 2 2', 0), ('1 2 5', 1), ('1 4 3', 2), ('1 6 3', 3)), value=…"
      ]
     },
     "metadata": {},
     "output_type": "display_data"
    },
    {
     "data": {
      "application/vnd.jupyter.widget-view+json": {
       "model_id": "46d8edabcf9e4afbbc416a34b5916792",
       "version_major": 2,
       "version_minor": 0
      },
      "text/plain": [
       "VBox(children=(Output(), RadioButtons(options=(('1', 0), ('-1', 1), ('Fehler', 2)), value=0), Button(descripti…"
      ]
     },
     "metadata": {},
     "output_type": "display_data"
    },
    {
     "data": {
      "application/vnd.jupyter.widget-view+json": {
       "model_id": "32f33463440542308466e819f5e8088f",
       "version_major": 2,
       "version_minor": 0
      },
      "text/plain": [
       "VBox(children=(Output(), RadioButtons(options=(('1', 0), ('2', 1), ('3', 2), ('4', 3)), value=0), Button(descr…"
      ]
     },
     "metadata": {},
     "output_type": "display_data"
    }
   ],
   "source": [
    "%run data/05_Lernkontrolle.ipynb"
   ]
  },
  {
   "cell_type": "markdown",
   "metadata": {},
   "source": [
    "---\n",
    "Glückwunsch, dieses Kapitel ist hiermit abgeschlossen!\n",
    "\n",
    "Hier geht's zu den Übungsaufgaben: [A 5. Aufgaben Selektion](05b_Selektion_Aufgaben.ipynb)"
   ]
  },
  {
   "cell_type": "markdown",
   "metadata": {
    "deletable": false,
    "editable": false,
    "tags": []
   },
   "source": [
    "<a rel=\"license\" href=\"http://creativecommons.org/licenses/by-nc-nd/4.0/\"><img alt=\"Creative Commons Lizenzvertrag\" style=\"border-width:0\" src=\"https://i.creativecommons.org/l/by-nc-nd/4.0/88x31.png\" /></a><br /><span xmlns:dct=\"http://purl.org/dc/terms/\" property=\"dct:title\">Das JuPy Python Tutorial</span> der <span xmlns:cc=\"http://creativecommons.org/ns#\" property=\"cc:attributionName\">EAH Jena</span> ist lizenziert unter einer <a rel=\"license\" href=\"http://creativecommons.org/licenses/by-nc-nd/4.0/\">Creative Commons Namensnennung - Nicht kommerziell - Keine Bearbeitungen 4.0 International Lizenz</a>.\n"
   ]
  }
 ],
 "metadata": {
  "kernelspec": {
   "display_name": "Python 3 (ipykernel)",
   "language": "python",
   "name": "python3"
  },
  "language_info": {
   "codemirror_mode": {
    "name": "ipython",
    "version": 3
   },
   "file_extension": ".py",
   "mimetype": "text/x-python",
   "name": "python",
   "nbconvert_exporter": "python",
   "pygments_lexer": "ipython3",
   "version": "3.10.8"
  }
 },
 "nbformat": 4,
 "nbformat_minor": 4
}
