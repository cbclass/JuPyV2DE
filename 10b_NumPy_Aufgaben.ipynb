{
 "cells": [
  {
   "cell_type": "markdown",
   "metadata": {},
   "source": [
    "[JuPy: Inhaltsverzeichnis](00_Einleitung.ipynb#Inhaltsverzeichnis)\n",
    "\n",
    "# A 10. NumPy Aufgaben"
   ]
  },
  {
   "cell_type": "markdown",
   "metadata": {},
   "source": [
    "### Aufgabe 1: Erzeugen eines Vektors\n",
    "Geben Sie die Zahlen von 0 bis 9 als Array in umgekehrter Reihenfolge aus."
   ]
  },
  {
   "cell_type": "code",
   "execution_count": null,
   "metadata": {},
   "outputs": [],
   "source": [
    "import numpy as np\n",
    "\n",
    "#Loesung\n",
    "\n",
    "\n",
    "#Loesungsende"
   ]
  },
  {
   "cell_type": "markdown",
   "metadata": {},
   "source": [
    "---\n",
    "### Aufgabe 2: Rechnen mit dem Array\n",
    "Multiplizieren Sie jedes Element des vorher erstellten Arrays (Aufgabe 1) mit 3."
   ]
  },
  {
   "cell_type": "code",
   "execution_count": null,
   "metadata": {},
   "outputs": [],
   "source": [
    "#Loesung\n",
    "\n",
    "\n",
    "#Loesungsende"
   ]
  },
  {
   "cell_type": "markdown",
   "metadata": {},
   "source": [
    "---\n",
    "### Aufgabe 3: Temperaturumrechnung\n",
    "Erstellen Sie aus der Liste `templiste = [270, 290, 295.5, 304.3, 310, 289.82]` ein `ndarray` namens `temparray1`. Die Elemente der Liste sind Temperaturen in Kelvin. Erstellen Sie ein weiteres `ndarray` `temparray2`, welches die Temperaturen in °C enthält. Die Formel hierzu lautet: <br>\n",
    "$T_C = T_K - 273.15$<br>\n",
    "Geben Sie das zweite Array sowie vom ersten Array den ersten und vom zweiten Array den letzten Wert aus."
   ]
  },
  {
   "cell_type": "code",
   "execution_count": null,
   "metadata": {},
   "outputs": [],
   "source": [
    "import numpy as np\n",
    "\n",
    "templiste = [270, 290, 295.5, 304.3, 310, 289.82]\n",
    "#Loesung\n",
    "\n",
    "\n",
    "#Loesungsende"
   ]
  },
  {
   "cell_type": "markdown",
   "metadata": {},
   "source": [
    "---\n",
    "### Aufgabe 4 Stützstellen erzeugen\n",
    "\n",
    "Erzeugen Sie ein Array mit Werten von 0 bis 50 indem sich 100 Werte mit gleichem Abstand befinden, also 100 Stützstellen. **Tipp:** Diese Funktion verwendet man gern für Plots."
   ]
  },
  {
   "cell_type": "code",
   "execution_count": null,
   "metadata": {},
   "outputs": [],
   "source": [
    "import numpy as np\n",
    "\n",
    "#Loesung\n",
    "\n",
    "\n",
    "#Loesungsende"
   ]
  },
  {
   "cell_type": "markdown",
   "metadata": {},
   "source": [
    "---\n",
    "### Aufgabe 5: Array mit Nullen\n",
    "Erzeugen Sie ein Array, welches aus 20 Nullen besteht. Geben Sie das Array aus. Ersetzen Sie bis zum 11. Element des Arrays jede fünfte 0 durch eine 4. Geben Sie das Array erneut aus. "
   ]
  },
  {
   "cell_type": "code",
   "execution_count": null,
   "metadata": {},
   "outputs": [],
   "source": [
    "import numpy as np\n",
    "\n",
    "#Loesung\n",
    "\n",
    "\n",
    "#Loesungsende"
   ]
  },
  {
   "cell_type": "markdown",
   "metadata": {},
   "source": [
    "---\n",
    "### Aufgabe 6: Einheitsmatrix\n",
    "Erzeugen Sie eine $5\\times 5$ Einheitsmatrix vom Datentyp 'Integer' und geben Sie die ersten drei Spalten der ersten zwei Zeilen der Matrix aus."
   ]
  },
  {
   "cell_type": "code",
   "execution_count": null,
   "metadata": {},
   "outputs": [],
   "source": [
    "import numpy as np\n",
    "\n",
    "#Loesung\n",
    "\n",
    "\n",
    "#Loesungsende"
   ]
  },
  {
   "cell_type": "markdown",
   "metadata": {},
   "source": [
    "---\n",
    "### Aufgabe 7: Addition der Matrix mit einem Vektor \n",
    "- Erzeugen Sie einen ganzzahligen Vektor der Länge 5 (z.B. $[1,2,3,4,5]$) und addieren Sie ihn zur Aufgabe 6 erstellten Einheitsmatrix. Geben Sie das Ergebnis aus. \n",
    "- Verändern Sie den Vektor, so dass er Kommazahlen beinhaltet. Lassen Sie den Code erneut laufen. Beobachten Sie die Ausgaben und erklären Sie diese.\n",
    "- Verändern Sie die Länge des Vektors und lassen Sie den Code erneut laufen. Was passiert? "
   ]
  },
  {
   "cell_type": "code",
   "execution_count": null,
   "metadata": {},
   "outputs": [],
   "source": [
    "#Loesung\n",
    "\n",
    "\n",
    "#Loesungsende"
   ]
  },
  {
   "cell_type": "markdown",
   "metadata": {},
   "source": [
    "---\n",
    "### Aufgabe 8 \n",
    "Welcher Vektor muss zur in Aufgabe 6 erstellten Einheitsmatrix addiert werden, damit diese wie folgt aussieht:\n",
    "\n",
    "$$\\begin{array}{ccccc}\n",
    "2 & 1 & 1 & 1 & 1\\\\\n",
    "2 & 3 & 2 & 2 & 2\\\\\n",
    "3 & 3 & 4 & 3 & 3\\\\\n",
    "4 & 4 & 4 & 5 & 4\\\\\n",
    "5 & 5 & 5 & 5 & 6\\\\\n",
    "\\end{array}$$"
   ]
  },
  {
   "cell_type": "code",
   "execution_count": null,
   "metadata": {},
   "outputs": [],
   "source": [
    "#Loesung\n",
    "\n",
    "\n",
    "#Loesungsende"
   ]
  },
  {
   "cell_type": "markdown",
   "metadata": {},
   "source": [
    "---\n",
    "### Aufgabe 9: Verändern der Form einer Matrix\n",
    "Erzeugen Sie zunächst ein Array `arr1` mit den Zahlen von 0 bis 19. Wandeln Sie es dann in eine  $5\\times 4$ Matrix um. Tipp: Verwenden Sie `reshape()`. Probieren Sie auch andere Konstellationen wie  $4\\times 5$, $2\\times 10$,  $3\\times 5$, usw. aus. Was ist zu beachten?"
   ]
  },
  {
   "cell_type": "code",
   "execution_count": null,
   "metadata": {},
   "outputs": [],
   "source": [
    "import numpy as np\n",
    "\n",
    "#Loesung\n",
    "\n",
    "\n",
    "#Loesungsende"
   ]
  },
  {
   "cell_type": "markdown",
   "metadata": {},
   "source": [
    "# Zusatzaufgaben für die `numpy`-Arrays"
   ]
  },
  {
   "cell_type": "markdown",
   "metadata": {},
   "source": [
    "---\n",
    "### Zusatzaufgabe 1: Verändern einer Matrix durch den Nutzer\n",
    "\n",
    "Erzeugen Sie zunächst eine $3\\times 3$ Matrix mit Nullen. Lesen Sie eine Zahl (Zeilennummer, 1 bis 3) vom Nutzer ein. Ändern Sie die Werte in der vom Nutzer bestimmten Zeile zu den Werten der entsprechenden Zeile einer Matrix mit Werten von 1 bis 9. Geben Sie die Matrix aus.  "
   ]
  },
  {
   "cell_type": "markdown",
   "metadata": {},
   "source": [
    "Die ursprüngliche Matrix:\n",
    "\n",
    "$$\\begin{array}{ccc}\n",
    "0 & 0 & 0\\\\\n",
    "0 & 0 & 0\\\\\n",
    "0 & 0 & 0\\\\\n",
    "\\end{array}\n",
    "$$\n",
    " \n",
    "wird bei Nutzereingabe von `2` zu folgender Matrix:\n",
    "\n",
    "\n",
    "$$\\begin{array}{ccc}\n",
    "0 & 0 & 0\\\\\n",
    "4 & 5 & 6\\\\\n",
    "0 & 0 & 0\\\\\n",
    "\\end{array}\n",
    "$$"
   ]
  },
  {
   "cell_type": "code",
   "execution_count": null,
   "metadata": {},
   "outputs": [],
   "source": [
    "import numpy as np\n",
    "\n",
    "#Loesung\n",
    "\n",
    "\n",
    "#Loesungsende"
   ]
  },
  {
   "cell_type": "markdown",
   "metadata": {},
   "source": [
    "---\n",
    "### Zusatzaufgabe 2: Erweitern durch `while`-Schleife\n",
    "Erweitern Sie Ihr Programm aus Zusatzaufgabe 1 nun so, dass nach der ersten Eingabe nochmal gefragt wird, welche Zeile verändert werden soll, und lassen Sie das nochmals veränderte Array ausgeben. Die Schleife soll beendet werden, wenn die Reihe von 1 bis 9 komplett ist, die Matrix also folgendermaßen aussieht:"
   ]
  },
  {
   "cell_type": "markdown",
   "metadata": {},
   "source": [
    "$$\\begin{array}{ccc}\n",
    "1 & 2 & 3\\\\\n",
    "4 & 5 & 6\\\\\n",
    "7 & 8 & 9\\\\\n",
    "\\end{array}\n",
    "$$"
   ]
  },
  {
   "cell_type": "markdown",
   "metadata": {},
   "source": [
    "**Tipp:** \n",
    "\n",
    "- Nutzen Sie eine Schleife unter Verwendung von `True` und `break`. (siehe Kapitel [7 `while` Schleife](07a_WhileSchleife_Theorie.ipynb#break))\n",
    "- Um das Ergebnis beim Vergleich (`==`)  zweier Matrizen zu überprüfen, bietet sich `.all()` an. Schauen Sie in der Dokumentation nach, wie die Syntax hierfür aussieht. (https://numpy.org/doc/stable/reference/generated/numpy.all.html#numpy.all)"
   ]
  },
  {
   "cell_type": "code",
   "execution_count": null,
   "metadata": {},
   "outputs": [],
   "source": [
    "import numpy as np\n",
    "\n",
    "#Loesung\n",
    "\n",
    "\n",
    "#Loesungsende"
   ]
  },
  {
   "cell_type": "markdown",
   "metadata": {},
   "source": [
    "---\n",
    "Glückwunsch, dieses Übungskapitel ist hiermit abschgeschlossen!\n",
    "\n",
    "Hier geht's zum nächsten Kapitel: [11. Plots](11a_Plots_Theorie.ipynb)"
   ]
  },
  {
   "cell_type": "markdown",
   "metadata": {
    "deletable": false,
    "editable": false,
    "tags": []
   },
   "source": [
    "<a rel=\"license\" href=\"http://creativecommons.org/licenses/by-nc-nd/4.0/\"><img alt=\"Creative Commons Lizenzvertrag\" style=\"border-width:0\" src=\"https://i.creativecommons.org/l/by-nc-nd/4.0/88x31.png\" /></a><br /><span xmlns:dct=\"http://purl.org/dc/terms/\" property=\"dct:title\">Das JuPy Python Tutorial</span> der <span xmlns:cc=\"http://creativecommons.org/ns#\" property=\"cc:attributionName\">EAH Jena</span> ist lizenziert unter einer <a rel=\"license\" href=\"http://creativecommons.org/licenses/by-nc-nd/4.0/\">Creative Commons Namensnennung - Nicht kommerziell - Keine Bearbeitungen 4.0 International Lizenz</a>.\n"
   ]
  }
 ],
 "metadata": {
  "kernelspec": {
   "display_name": "Python 3 (ipykernel)",
   "language": "python",
   "name": "python3"
  },
  "language_info": {
   "codemirror_mode": {
    "name": "ipython",
    "version": 3
   },
   "file_extension": ".py",
   "mimetype": "text/x-python",
   "name": "python",
   "nbconvert_exporter": "python",
   "pygments_lexer": "ipython3",
   "version": "3.10.13"
  }
 },
 "nbformat": 4,
 "nbformat_minor": 4
}
