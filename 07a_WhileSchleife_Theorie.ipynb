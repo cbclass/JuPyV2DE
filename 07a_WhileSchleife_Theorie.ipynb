{
 "cells": [
  {
   "cell_type": "markdown",
   "metadata": {},
   "source": [
    "<img src=\"./data/Lernfortschritt07.PNG\" width=\"1000\">\n",
    "\n",
    "&nbsp;&nbsp;&nbsp;&nbsp;&nbsp;&nbsp;&nbsp;&nbsp;&nbsp;&nbsp;&nbsp;&nbsp;&nbsp;&nbsp;&nbsp;&nbsp;&nbsp;&nbsp;&nbsp;&nbsp;&nbsp;&nbsp;&nbsp;&nbsp;&nbsp;&nbsp;&nbsp;&nbsp;&nbsp;&nbsp;&nbsp;&nbsp;&nbsp;&nbsp;&nbsp;&nbsp;&nbsp;[6. Iteration: `For`-Schleife](./06a_ForSchleife_Theorie.ipynb) &nbsp;&nbsp;&nbsp;&nbsp;  7. Iteration: `while`-Schleife   &nbsp;&nbsp;&nbsp;&nbsp;  [8. Aufruf von Funktionen](./08a_Funktionen_Theorie.ipynb)\n",
    "\n",
    "[JuPy: Inhaltsverzeichnis](00_Einleitung.ipynb#Inhaltsverzeichnis)"
   ]
  },
  {
   "cell_type": "markdown",
   "metadata": {},
   "source": [
    "# 7. Iteration: `While`-Schleife"
   ]
  },
  {
   "cell_type": "markdown",
   "metadata": {},
   "source": [
    "Die `while`-Schleife ist eine kopfgesteuerte Schleife. \n",
    "\n",
    "Ihre Syntax ist:\n",
    "\n",
    "``` python\n",
    "while Bedingung:\n",
    "    Anweisung\n",
    "```"
   ]
  },
  {
   "cell_type": "markdown",
   "metadata": {},
   "source": [
    "Abhängig von der **Bedingung** wird die Schleife ausgeführt. Dann wird die **Bedingung** erneut geprüft, etc. Die Schleife endet, wenn die **Bedingung** nicht mehr gilt.\n",
    "\n",
    "Eine **Bedingung** kann mit Hilfe von Vergleichsoperatoren und den Boolschen Operatoren formuliert werden.\n",
    "\n",
    "**Wichtig:** Es muss sichergestellt werden, dass die Bedingung nach endlich vielen Schritten nicht mehr erfüllt ist, damit die Schleife beendet wird (Ausnahme: die Verwendung von [`break`](#break)). \n",
    "\n",
    "Die `while`-Schleife kann im Programmablaufplan folgendermaßen dargestellt werden:\n",
    "\n",
    "![While-Schleife-Grafik](data/Schleifen.png)<br>\n",
    "(Die Abbildung wurde erstellt mit dem PapDesigner (http://friedrich-folkmann.de/papdesigner/Hauptseite.html).)"
   ]
  },
  {
   "cell_type": "markdown",
   "metadata": {},
   "source": [
    "---\n",
    "### Beispiel 1: Zahlenfolge\n",
    "Zum Beispiel kann man eine Schleife kreieren, die eine **Zahlenfolge** von 0 bis 5 erzeugt und diese Werte ausgibt. Danach wird das Ende der Schleife mitgeteilt. \n",
    "Führen Sie den nachfolgenden Code aus und überprüfen Sie die Ausgabe."
   ]
  },
  {
   "cell_type": "code",
   "execution_count": null,
   "metadata": {},
   "outputs": [],
   "source": [
    "wert = 0\n",
    "while wert <= 5:\n",
    "    print(wert)\n",
    "    wert = wert + 1\n",
    "print('Ende der Schleife')"
   ]
  },
  {
   "cell_type": "markdown",
   "metadata": {},
   "source": [
    "Was ist nun Bestandteil unserer `while`-Schleife? \n",
    "\n",
    "Zuerst benötigen wir eine **Bedingung**, anhand welcher kontrolliert wird, ob die Schleife weiter ihre 'Kreise ziehen' darf (In unserem Fall, muss die Variable `wert` kleiner gleich 5 sein `wert <= 5`) - es wird kontrolliert, ob diese **Bedingung** erfüllt (sprich wahr) ist. \n",
    "\n",
    "Dann benötigen wir den **Schleifenkörper**, also die Anweisungen, die ausgeführt werden, wenn die Bedingung erfüllt ist. In obigem Beispiel sind das `print(wert)` und `wert=wert+1`. \n",
    "\n",
    "Ist die **Bedingung** nicht mehr wahr, wird die `while`-Schleife nicht mehr ausgeführt und das Programm führt den Programmteil nach der Schleife aus (In unserem Fall `print('Ende der Schleife')`)."
   ]
  },
  {
   "cell_type": "markdown",
   "metadata": {},
   "source": [
    "In `while` Scleifen wird sehr häufig die erweiterte Zuweisung verwendet:"
   ]
  },
  {
   "cell_type": "code",
   "execution_count": null,
   "metadata": {},
   "outputs": [],
   "source": [
    "wert = 0\n",
    "while wert <= 5:\n",
    "    print(wert)\n",
    "    wert += 1\n",
    "print('Ende der Schleife')"
   ]
  },
  {
   "cell_type": "markdown",
   "metadata": {},
   "source": [
    "---\n",
    "### Beispiel 2: Zahlenfolge\n",
    "\n",
    "Solche **Zahlenfolgen** können beliebig angepasst werden, z.B. mit einer Schrittweite von 5, sodass die 5er-Reihe von 0 bis 30 ausgegeben wird:"
   ]
  },
  {
   "cell_type": "code",
   "execution_count": null,
   "metadata": {},
   "outputs": [],
   "source": [
    "wert = 0\n",
    "while wert <= 30:\n",
    "    print(wert)\n",
    "    wert = wert + 5\n",
    "print('Ende der Schleife')"
   ]
  },
  {
   "cell_type": "markdown",
   "metadata": {},
   "source": [
    "Je nachdem welchen Vergleichsoperator man zum Prüfen der **Bedingung** nutzt und wann die `print()`-Anweisung zum Ausgeben der Zahl kommt, werden Anfangs- und Endwerte verändert. \n",
    "\n",
    "Führen Sie dazu nachfolgende Code-Segmente aus und versuchen Sie die Änderungen und deren Auswirkungen nachzuvollziehen:'"
   ]
  },
  {
   "cell_type": "code",
   "execution_count": null,
   "metadata": {},
   "outputs": [],
   "source": [
    "# Code-Segment 1\n",
    "wert = 0\n",
    "while wert < 30:\n",
    "    print(wert)\n",
    "    wert = wert + 5\n",
    "print('Ende der Schleife')"
   ]
  },
  {
   "cell_type": "code",
   "execution_count": null,
   "metadata": {},
   "outputs": [],
   "source": [
    "# Code-Segment 2\n",
    "wert = 0\n",
    "while wert <= 30:\n",
    "    wert = wert + 5\n",
    "    print(wert)\n",
    "print('Ende der Schleife')"
   ]
  },
  {
   "cell_type": "markdown",
   "metadata": {},
   "source": [
    "---\n",
    "### Beispiel 3: `while`-Schleife mit Input\n",
    "\n",
    "Schleifen können vielseitig genutzt werden, so z.B. auch für eine Nutzereingabe, bei der eine Eingabe immer wieder getätigt werden soll, solange eine **Bedingung** noch nicht erfüllt ist. Das ist mit Zahlen genauso möglich wie mit Strings. \n",
    "\n",
    "**Hinweis:** Auf Datentyp achten!\n",
    "\n",
    "Im Folgenden Beispiel soll ein bestimmter Name eingegeben werden: `Peter`. Falls etwas anderes als dieser Name eingegeben wird, soll die Schleife weiterlaufen und erneut gefragt werden.\n",
    "\n",
    "**Hinweis:**\n",
    "\n",
    "In diesem Beispiel gibt es zwei Bedingungen. Zum einen gibt es die Bedingungen der Anwendungslogik: Es soll der Name `Peter` eingegeben, werden, der Name soll also `Peter` sein (\"Der Name ist Peter.\"). \n",
    "\n",
    "Die Schleife soll daher so lange durchgeführt werden, wie diese Bedingung, dass der Name `Peter` eingegeben wurde, **nicht** erfüllt ist. Die `while`-Schleife in Python wird ausgeführt, solange eine Bedingung erfüllt ist. Hier handelt es sich um die Bedingung des Programmcodes. Diese Bedingung besagt, dass der Name nicht `Peter` ist, also `name != \"Peter\"`.  \n",
    "\n"
   ]
  },
  {
   "cell_type": "code",
   "execution_count": null,
   "metadata": {},
   "outputs": [],
   "source": [
    "name = input(\"Geben Sie Ihren Namen ein.\")\n",
    "\n",
    "while name != \"Peter\":\n",
    "    print(\"Zugriff nur für Peter erlaubt.\")\n",
    "    name = input(\"Geben Sie Ihren Namen ein.\")\n",
    "print(\"Hallo Peter.\")"
   ]
  },
  {
   "cell_type": "markdown",
   "metadata": {},
   "source": [
    "---\n",
    "### Beispiel 4: Endlosschleife\n",
    "Wichtig ist bei der Formulierung einer `while`-Schleife genau auf die Einrückung des Codes zu achten!\n",
    "\n",
    "Im folgenden Beispiel wird deutlich, was bei einer fehlerhaften Einrückung passiert. Es entsteht eine **Endlosschleife**, da die erste `print()`-Anweisung zwar innerhalb der Schleife erfolgt, die erneute Abfrage / Eingabe jedoch nicht. Damit wird der Wert der Variable `name` nicht geändert. Es wird immer wieder `\"Zugriff nur für Peter erlaubt.\"` ausgegeben, und das kann nur durch einen **Kernel-Interrupt** (Klicken des Vierecks in der Toolbar) beendet werden.\n",
    "\n",
    "Probieren Sie es ruhig einmal aus und lassen Sie sich die **Endlosschleife** ausgeben, indem Sie einen anderen Namen als `Peter` eingeben. Klicken Sie dann auf 'Interrupt the kernel'. Sie können danach den Output löschen, indem Sie mit der rechten Maustaste auf die Zelle klicken und \"Clear Outputs\" auswählen."
   ]
  },
  {
   "cell_type": "code",
   "execution_count": null,
   "metadata": {},
   "outputs": [],
   "source": [
    "name = input(\"Geben Sie Ihren Namen ein.\")\n",
    "\n",
    "while name != \"Peter\":\n",
    "    print(\"Zugriff nur für Peter erlaubt.\")\n",
    "name = input(\"Geben Sie Ihren Namen ein.\")\n",
    "print(\"Hallo Peter.\")"
   ]
  },
  {
   "cell_type": "markdown",
   "metadata": {},
   "source": [
    "<a id='break'></a>\n",
    "## Die `break`-Anweisung"
   ]
  },
  {
   "cell_type": "markdown",
   "metadata": {},
   "source": [
    "Die `break`-Anweisung beendet die Schleife *ohne* die darauffolgenden Anweisungen in der Schleife zu befolgen. `break`wird in der Regel unter bestimmten Bedingungen, also in Kombination mit einer  `if`-Anweisung ausgeführt.\n",
    "\n",
    "---\n",
    "### Beispiel 5: `break`-Anweisung\n",
    "Das folgende Beispiel zeigt die Verwendung von `break`. Der Nutzer gibt Zahlen ein. Diese werden addiert. Sobald er die 0 eingibt, wird die Eingabe gestoppt und das Ergebnis ausgegeben.  Dazu wird eine Endlosschleife mit `True` erzeugt, die eine `if`-Anweisung beinhaltet. "
   ]
  },
  {
   "cell_type": "code",
   "execution_count": null,
   "metadata": {},
   "outputs": [],
   "source": [
    "summe=0\n",
    "while True:\n",
    "    eingabe=int(input(\"Bitte geben Sie eine Zahl ein (Ende mit 0):\"))\n",
    "    if eingabe==0:\n",
    "        break\n",
    "    summe=summe+eingabe\n",
    "print(summe)"
   ]
  },
  {
   "cell_type": "markdown",
   "metadata": {},
   "source": [
    "### Lernkontrolle\n",
    "\n",
    "- Die folgenden Fragen dienen zur Überprüfung Ihres Wissensstandes. \n",
    "- Führen Sie die nachfolgende Zelle aus und wählen Sie jeweils aus den Antwortmöglichkeiten aus. \n",
    "- Sobald Sie die Fragen richtig beantwortet haben, können Sie die Übungsaufgaben zu diesem Kapitel bearbeiten oder mit dem nächsten Thema fortfahren.\n"
   ]
  },
  {
   "cell_type": "code",
   "execution_count": 2,
   "metadata": {},
   "outputs": [
    {
     "data": {
      "application/vnd.jupyter.widget-view+json": {
       "model_id": "5130eb27e6bd441ebc3a5424d74d0e33",
       "version_major": 2,
       "version_minor": 0
      },
      "text/plain": [
       "VBox(children=(Output(), RadioButtons(options=(('5', 0), ('6', 1), ('0', 2), ('Fehler', 3)), value=0), Button(…"
      ]
     },
     "metadata": {},
     "output_type": "display_data"
    },
    {
     "data": {
      "application/vnd.jupyter.widget-view+json": {
       "model_id": "d80cafde8d3046f58da37a411a1f5334",
       "version_major": 2,
       "version_minor": 0
      },
      "text/plain": [
       "VBox(children=(Output(), RadioButtons(options=(('5', 0), ('6', 1), ('0', 2), ('Fehler', 3)), value=0), Button(…"
      ]
     },
     "metadata": {},
     "output_type": "display_data"
    },
    {
     "data": {
      "application/vnd.jupyter.widget-view+json": {
       "model_id": "a1470f2c37eb45eca4736025081bc376",
       "version_major": 2,
       "version_minor": 0
      },
      "text/plain": [
       "VBox(children=(Output(), RadioButtons(options=(('5', 0), ('6', 1), ('0', 2), ('Fehler', 3)), value=0), Button(…"
      ]
     },
     "metadata": {},
     "output_type": "display_data"
    },
    {
     "data": {
      "application/vnd.jupyter.widget-view+json": {
       "model_id": "9808b3e5a43d4bb0a6e75194e5470f80",
       "version_major": 2,
       "version_minor": 0
      },
      "text/plain": [
       "VBox(children=(Output(), RadioButtons(options=(('3', 0), ('5', 1), ('0', 2), ('Fehler', 3)), value=0), Button(…"
      ]
     },
     "metadata": {},
     "output_type": "display_data"
    },
    {
     "data": {
      "application/vnd.jupyter.widget-view+json": {
       "model_id": "85165f22ac434e0ba8f48201cf7676ff",
       "version_major": 2,
       "version_minor": 0
      },
      "text/plain": [
       "VBox(children=(Output(), RadioButtons(options=(('3', 0), ('5', 1), ('0', 2), ('Fehler', 3)), value=0), Button(…"
      ]
     },
     "metadata": {},
     "output_type": "display_data"
    }
   ],
   "source": [
    "%run data/07_Lernkontrolle.ipynb"
   ]
  },
  {
   "cell_type": "markdown",
   "metadata": {},
   "source": [
    "---\n",
    "Glückwunsch, dieses Kapitel ist hiermit abgeschlossen!\n",
    "\n",
    "Hier geht es zu den Aufgaben der `while` - Schleife: [A 7. Aufgaben while-Schleife](07b_WhileSchleife_Aufgaben.ipynb)"
   ]
  },
  {
   "cell_type": "markdown",
   "metadata": {
    "deletable": false,
    "editable": false,
    "tags": []
   },
   "source": [
    "<a rel=\"license\" href=\"http://creativecommons.org/licenses/by-nc-nd/4.0/\"><img alt=\"Creative Commons Lizenzvertrag\" style=\"border-width:0\" src=\"https://i.creativecommons.org/l/by-nc-nd/4.0/88x31.png\" /></a><br /><span xmlns:dct=\"http://purl.org/dc/terms/\" property=\"dct:title\">Das JuPy Python Tutorial</span> der <span xmlns:cc=\"http://creativecommons.org/ns#\" property=\"cc:attributionName\">EAH Jena</span> ist lizenziert unter einer <a rel=\"license\" href=\"http://creativecommons.org/licenses/by-nc-nd/4.0/\">Creative Commons Namensnennung - Nicht kommerziell - Keine Bearbeitungen 4.0 International Lizenz</a>.\n",
    "\n"
   ]
  }
 ],
 "metadata": {
  "kernelspec": {
   "display_name": "Python 3 (ipykernel)",
   "language": "python",
   "name": "python3"
  },
  "language_info": {
   "codemirror_mode": {
    "name": "ipython",
    "version": 3
   },
   "file_extension": ".py",
   "mimetype": "text/x-python",
   "name": "python",
   "nbconvert_exporter": "python",
   "pygments_lexer": "ipython3",
   "version": "3.10.8"
  }
 },
 "nbformat": 4,
 "nbformat_minor": 4
}
