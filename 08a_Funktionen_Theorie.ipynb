{
 "cells": [
  {
   "cell_type": "markdown",
   "metadata": {},
   "source": [
    "<img src=\"./data/Lernfortschritt08.PNG\" width=\"1000\">\n",
    "\n",
    "&nbsp;&nbsp;&nbsp;&nbsp;&nbsp;&nbsp;&nbsp;&nbsp;&nbsp;&nbsp;&nbsp;&nbsp;&nbsp;&nbsp;&nbsp;&nbsp;&nbsp;&nbsp;&nbsp;&nbsp;&nbsp;&nbsp;&nbsp;&nbsp;&nbsp;&nbsp;&nbsp;&nbsp;&nbsp;&nbsp;&nbsp;&nbsp;&nbsp;&nbsp;&nbsp;&nbsp;&nbsp;&nbsp;&nbsp;&nbsp;&nbsp;&nbsp;&nbsp;&nbsp;&nbsp;&nbsp;&nbsp;&nbsp;&nbsp;&nbsp;&nbsp;&nbsp;&nbsp;&nbsp;&nbsp;&nbsp;&nbsp;&nbsp;&nbsp;&nbsp;&nbsp;&nbsp;&nbsp;&nbsp;&nbsp;&nbsp;&nbsp;&nbsp;&nbsp;&nbsp;&nbsp;&nbsp;&nbsp;&nbsp;&nbsp;[7. Iteration - while-Schleife](./07a_WhileSchleife_Theorie.ipynb) &nbsp;&nbsp;&nbsp;&nbsp;  8. Aufruf von Funktionen   &nbsp;&nbsp;&nbsp;&nbsp;  [9. Sequentielle Datentypen](./09a_SeqDatentypen_Theorie.ipynb)\n",
    "\n",
    "[JuPy: Inhaltsverzeichnis](00_Einleitung.ipynb#Inhaltsverzeichnis)"
   ]
  },
  {
   "cell_type": "markdown",
   "metadata": {},
   "source": [
    "# 8. Funktionen"
   ]
  },
  {
   "cell_type": "markdown",
   "metadata": {},
   "source": [
    "In diesem Kapitel wird der Aufruf von Funktionen vorgestellt. Als erstes werden [8.1 Einfache Funktionen](#einfacheFunktionen)  genauer erläutert und dann auf die [8.2 Parameter](#Parameter) und die [8.3 Rückgabewerte](#Rückgabewerte) eingegangen. Es werden in [8.4 Beispiele des Moduls math](#math) angebracht und daraufhin der [8.5 Scope von Variablen](#scope) thematisiert."
   ]
  },
  {
   "cell_type": "markdown",
   "metadata": {},
   "source": [
    "<a id='einfacheFunktionen'></a>\n",
    "## 8.1 Einfache Funktionen\n",
    "\n",
    "In einer Funktion wird Programmcode **definiert**. Dieser wird allerdings erst dann ausgeführt, wenn die Funktion **aufgerufen** wird. Deswegen muss zwischen der Funktion selber und dem Funktionsaufruf unterschieden werden. \n",
    "\n",
    "Sie funktionieren nur **zusammen**: der Funktionsaufruf bewirkt letzten Endes, dass der Code der Funktion auch wirklich ausgeführt wird.\n",
    "\n",
    "Grundsätzlich sollten **Funktionsdefinitionen zu Beginn der Datei geschrieben** werden und die Aufrufe in der zweiten Hälfte der Datei geschehen.\n",
    "\n",
    "Die einfache Funktion wird folgendermaßen **definiert**:\n",
    "\n",
    "```python\n",
    "def funktionsname():\n",
    "    Anweisung\n",
    "```"
   ]
  },
  {
   "cell_type": "markdown",
   "metadata": {},
   "source": [
    "Die Definition wird durch das Schlüsselwort `def` eingeleitet. Für den Funktionsnamen gelten die [Regeln für Variablennamen](01_Variablen_Theorie.ipynb#VariablenNamen). Die `()` hinter dem Funktionsnamen sind wesentlich und zeigen an, dass eine Funktion definiert wird. \n",
    "\n",
    "Alle Anweisungen der Funktion werden, wie auch bei `if`, `while` und `for` eingerückt.\n",
    "\n",
    "In einer Funktion können Sie alle Codeelemente verwenden, die Sie bisher kennengelernt haben. Sie können zum Beispiel auch Schleifen verwenden oder Variablen definieren. <a id='lokaleVariable'></a>Variablen in einer Funktion nennt man **lokale Variablen**. Man kann nur innerhalb der Funktion auf diese Variablen zugreifen. Auch exisiteren sie nur so lange, wie die Funktion ausgeführt wird. "
   ]
  },
  {
   "cell_type": "markdown",
   "metadata": {},
   "source": [
    "---\n",
    "### Beispiel 1: Funktionsdefinition\n",
    "Die folgende Funktion wird definiert und gibt bei Aufruf einen Text auf dem Bildschirm aus:"
   ]
  },
  {
   "cell_type": "code",
   "execution_count": null,
   "metadata": {},
   "outputs": [],
   "source": [
    "def beispiel1():\n",
    "    print('Das ist eine Beispielfunktion')"
   ]
  },
  {
   "cell_type": "markdown",
   "metadata": {},
   "source": [
    "Wenn Sie obigen Code laufen lassen, werden Sie keine Ausgabe beobachten.\n",
    "\n",
    "Dadurch aber, dass Sie den Code ausgeführt haben, kennt Python jetzt die Definition der Funktion `beispiel1()`:\n",
    "\n",
    "---\n",
    "### Beispiel 2: Typenabfrage"
   ]
  },
  {
   "cell_type": "code",
   "execution_count": null,
   "metadata": {},
   "outputs": [],
   "source": [
    "type(beispiel1)"
   ]
  },
  {
   "cell_type": "markdown",
   "metadata": {},
   "source": [
    "Der Typ (`type`) von `beispiel1` ist `function`, also eine Funktion.\n",
    "\n",
    "---\n",
    "### Beispiel 3: Funktionsaufruf\n",
    "Damit der Code der Funktion ausgeführt wird, muss die Funktion aufgerufen werden. Dies erfolgt durch \n",
    "```python\n",
    "funktionsname()\n",
    "``` \n",
    "bzw in unserem Fall durch:"
   ]
  },
  {
   "cell_type": "code",
   "execution_count": null,
   "metadata": {},
   "outputs": [],
   "source": [
    "beispiel1()"
   ]
  },
  {
   "cell_type": "markdown",
   "metadata": {},
   "source": [
    "**Hinweis:**  Es ist gerade am Anfang ein häufiger Fehler, dass man eine Funktion definiert und sich wundert, warum nichts \"passiert\". Dies liegt oft daran, dass man vergisst, die Funktion auch effektiv aufzurufen!\n",
    "\n",
    "**Hinweis:** Eine einmal definierte Funktion kann beliebig oft aufgerufen werden."
   ]
  },
  {
   "cell_type": "code",
   "execution_count": null,
   "metadata": {},
   "outputs": [],
   "source": [
    "beispiel1()\n",
    "print(\"anderer Text\")\n",
    "beispiel1()\n",
    "beispiel1()"
   ]
  },
  {
   "cell_type": "markdown",
   "metadata": {},
   "source": [
    "**Hinweis:** Die Klammern `()` sind Teil des Funktionsaufrufes. Werden sie vergessen, erhalten Sie Information über die Funktion, sie wird jedoch **nicht** aufgerufen."
   ]
  },
  {
   "cell_type": "code",
   "execution_count": null,
   "metadata": {},
   "outputs": [],
   "source": [
    "beispiel1"
   ]
  },
  {
   "cell_type": "markdown",
   "metadata": {},
   "source": [
    "---\n",
    "### Beispiel 4: Funktion mit lokalen Variablen\n",
    "\n",
    "**Lokale Variablen** werden innerhalb einer Funktion definiert. Eine Funktion kann beliebig viele lokale Variablen haben:"
   ]
  },
  {
   "cell_type": "code",
   "execution_count": null,
   "metadata": {},
   "outputs": [],
   "source": [
    "def lokaleVariable():\n",
    "    a=3\n",
    "    b=1.2\n",
    "    c=a+b\n",
    "    print(a,'+',b,'=',c)"
   ]
  },
  {
   "cell_type": "markdown",
   "metadata": {},
   "source": [
    "Wenn man eine Funktion aufruft, muss man nichts über die lokalen Variable wissen:"
   ]
  },
  {
   "cell_type": "code",
   "execution_count": null,
   "metadata": {},
   "outputs": [],
   "source": [
    "lokaleVariable()"
   ]
  },
  {
   "cell_type": "markdown",
   "metadata": {},
   "source": [
    "<a id='Parameter'></a>\n",
    "## 8.2 Parameter\n",
    "**Parameter** erlauben es, dass Informationen von der aufrufenden Stelle an die Funktion übergeben werden. Funktionen mit Paramerter werden folgendermaßen definiert:\n",
    "\n",
    "``` python\n",
    "def funktionsname(parameterliste):\n",
    "   Anweisung\n",
    "```\n",
    "\n",
    "Eine Funktion kann keinen, einen oder mehrere Parameter haben. \n",
    "\n",
    "Die **Parameterliste** enthält die Namen aller Parameter. Diese werden durch Kommata `,` getrennt.\n"
   ]
  },
  {
   "cell_type": "markdown",
   "metadata": {},
   "source": [
    "---\n",
    "### Beispiel 5: Funktionsdefinition mit Parameter\n",
    "\n",
    "Gezeigt ist eine Funktion mit einem Parameter."
   ]
  },
  {
   "cell_type": "code",
   "execution_count": null,
   "metadata": {},
   "outputs": [],
   "source": [
    "def beispiel2(a):\n",
    "    print('der Parameter hat den Wert',a)"
   ]
  },
  {
   "cell_type": "markdown",
   "metadata": {},
   "source": [
    "Die Parameter, die bei der Funktionsdefinition in der Paramterliste definiert werden, heißen **formale Parameter**. Es ist formal definiert, dass diese Parameter existieren."
   ]
  },
  {
   "cell_type": "markdown",
   "metadata": {},
   "source": [
    "---\n",
    "### Beispiel 6: Funktionsaufruf mit Parameter\n",
    "\n",
    "Wenn eine Funktion einen formalen Paramter hat, muss beim Funktionaufruf ein Wert für den Parameter, also ein **aktueller Parameter**, übergeben werden: "
   ]
  },
  {
   "cell_type": "code",
   "execution_count": null,
   "metadata": {},
   "outputs": [],
   "source": [
    "beispiel2(12)"
   ]
  },
  {
   "cell_type": "markdown",
   "metadata": {},
   "source": [
    "Ein **aktueller Paramter** kann als konkreter Wert übergeben werden, wie in obigem Beispiel. Sie können aber auch eine Variable übergeben."
   ]
  },
  {
   "cell_type": "code",
   "execution_count": null,
   "metadata": {},
   "outputs": [],
   "source": [
    "zahl=13\n",
    "beispiel2(zahl)"
   ]
  },
  {
   "cell_type": "markdown",
   "metadata": {},
   "source": [
    "---\n",
    "### Beispiel 7: Fehlerhafter Funktionsaufruf\n",
    "Wird kein Wert übergeben, ist der Aufruf fehlerhaft. Merken Sie sich die Fehlermeldung für spätere Anwendungen."
   ]
  },
  {
   "cell_type": "code",
   "execution_count": null,
   "metadata": {},
   "outputs": [],
   "source": [
    "beispiel2()"
   ]
  },
  {
   "cell_type": "markdown",
   "metadata": {},
   "source": [
    "---\n",
    "### Beispiel 8: Funktionsdefinition mit mehreren Parametern\n",
    "Gezeigt ist eine Funktion mit mehreren **formalen Parametern**:"
   ]
  },
  {
   "cell_type": "code",
   "execution_count": null,
   "metadata": {},
   "outputs": [],
   "source": [
    "def beispiel3(a,b,c):\n",
    "    print('die drei Paramterwerte sind:',a,b,c)"
   ]
  },
  {
   "cell_type": "markdown",
   "metadata": {},
   "source": [
    "Führen Sie die obige Zelle aus, damit Python die Funktion kennt.\n",
    "\n",
    "---\n",
    "### Beispiel 9: Funktionsaufruf mit mehreren Parametern\n",
    "\n",
    "`beispiel3()` hat drei formale Parameter. Daher müssen beim Aufruf drei aktuelle Parameter übergeben werden. "
   ]
  },
  {
   "cell_type": "code",
   "execution_count": null,
   "metadata": {},
   "outputs": [],
   "source": [
    "beispiel3(1,2,3)"
   ]
  },
  {
   "cell_type": "markdown",
   "metadata": {},
   "source": [
    "Dies gilt auch, wenn alle aktuellen Paramter den gleichen Wert haben:"
   ]
  },
  {
   "cell_type": "code",
   "execution_count": null,
   "metadata": {},
   "outputs": [],
   "source": [
    "beispiel3(1,1,1)"
   ]
  },
  {
   "cell_type": "markdown",
   "metadata": {},
   "source": [
    "---\n",
    "### Beispiel 10: Fehlerhafter Funktionsaufruf mit mehreren Parametern\n",
    "Wenn Sie weniger Parameter übergeben, erhalten Sie einen Fehler:"
   ]
  },
  {
   "cell_type": "code",
   "execution_count": null,
   "metadata": {},
   "outputs": [],
   "source": [
    "beispiel3(1)"
   ]
  },
  {
   "cell_type": "markdown",
   "metadata": {},
   "source": [
    "Dies gilt auch, wenn Sie zu viele Parameter übergeben:"
   ]
  },
  {
   "cell_type": "code",
   "execution_count": null,
   "metadata": {},
   "outputs": [],
   "source": [
    "beispiel3(1,1,1,1)"
   ]
  },
  {
   "cell_type": "markdown",
   "metadata": {},
   "source": [
    "## 8.2.1 Positions- und Schlüsselwortparameter"
   ]
  },
  {
   "cell_type": "markdown",
   "metadata": {},
   "source": [
    "Aktuelle Parameter, die nur mit dem Wert übergeben werden, werden **Positionsparameter (positional argument)** genannt.\n",
    "\n",
    "Außerdem gibt es die Möglichkeit beim Funktionsaufruf zu spezifizieren, welcher Parameter, welchen Wert haben soll. Dies erfolgt durch Angabe des Parameternamens und dem `=`. Solche aktuellen Parameter nennt man **Schlüsselwortparameter (keyword arguments)**.\n",
    "\n",
    "\n",
    "Positions- und Schlüsselwortparameter sind also Eigenschaften der *aktuellen Parametern* und hängen vom *Funktionsaufruf* ab. \n",
    "\n",
    "Verdeutlicht wird dies in den nachfolgenden Beispielen.\n",
    "\n",
    "---\n",
    "### Beispiel 11: Funktionsaufruf mit Positionsparametern\n",
    "\n",
    "Gegeben ist die folgende Funktion mit drei Parametern:"
   ]
  },
  {
   "cell_type": "code",
   "execution_count": null,
   "metadata": {},
   "outputs": [],
   "source": [
    "def beispiel4(a,b,c):\n",
    "    print('a=',a,'b=',b,'c=',c)"
   ]
  },
  {
   "cell_type": "markdown",
   "metadata": {},
   "source": [
    "Und der folgende Funktionsaufruf:"
   ]
  },
  {
   "cell_type": "code",
   "execution_count": null,
   "metadata": {},
   "outputs": [],
   "source": [
    "beispiel4(1,2,3)"
   ]
  },
  {
   "cell_type": "markdown",
   "metadata": {},
   "source": [
    "Wie Sie sehen können, werden die Werte der aktuellen Parameter den formalen Parametern der Reihe nach zugewiesen. Ob die 2 dem Parameter `a`, `b` oder `c` zugeordnet wird, hängt von der Position der 2 in der Parameterliste beim Aufruf ab. Da die 2 an zweiter Stelle steht, wird `b` zu 2. Stünde die 2 an dritter Stelle, bekäme `c` den Wert 2:"
   ]
  },
  {
   "cell_type": "code",
   "execution_count": null,
   "metadata": {},
   "outputs": [],
   "source": [
    "beispiel4(1,1,2)"
   ]
  },
  {
   "cell_type": "markdown",
   "metadata": {},
   "source": [
    "Aus diesem Grund nennt man Parameter, die nur mit dem Wert übergeben werden, auch **Positionsparameter**."
   ]
  },
  {
   "cell_type": "markdown",
   "metadata": {},
   "source": [
    "---\n",
    "### Beispiel 12: Funktionsaufruf mit Schlüsselwortparametern\n",
    "Der nachfolgende Code spezifiziert welcher Parameter welchen Wert haben soll."
   ]
  },
  {
   "cell_type": "code",
   "execution_count": null,
   "metadata": {},
   "outputs": [],
   "source": [
    "beispiel4(a=1,b=2,c=3)"
   ]
  },
  {
   "cell_type": "markdown",
   "metadata": {},
   "source": [
    "Diese aktuellen Parameter nennt man wie oben erwähnt **Schlüsselwortparameter**."
   ]
  },
  {
   "cell_type": "markdown",
   "metadata": {},
   "source": [
    "Wenn Sie Schlüsselwortparameter übergeben, ergibt sich die Zuordnung  durch den Parameternamen, nicht durch die Position. Sie können die Parameter also auch in einer anderen Reihenfolge übergeben:"
   ]
  },
  {
   "cell_type": "code",
   "execution_count": null,
   "metadata": {},
   "outputs": [],
   "source": [
    "beispiel4(c=3,b=2,a=1)"
   ]
  },
  {
   "cell_type": "markdown",
   "metadata": {},
   "source": [
    "und im Vegleich dazu:"
   ]
  },
  {
   "cell_type": "code",
   "execution_count": null,
   "metadata": {},
   "outputs": [],
   "source": [
    "beispiel4(3,2,1)"
   ]
  },
  {
   "cell_type": "markdown",
   "metadata": {},
   "source": [
    "---\n",
    "### Beispiel 13: Funktionsaufruf mit Positions- und Schlüsselwortparametern\n",
    "In einem Funktionsaufruf können Sie sowohl Positions- als auch Schlüsselwortparameter übergeben:"
   ]
  },
  {
   "cell_type": "code",
   "execution_count": null,
   "metadata": {},
   "outputs": [],
   "source": [
    "beispiel4(1,b=2,c=3)"
   ]
  },
  {
   "cell_type": "markdown",
   "metadata": {},
   "source": [
    "Hierbei darf nach Angabe eines Schlüsselwortparameters kein Positionsparameter mehr übergeben werden:"
   ]
  },
  {
   "cell_type": "code",
   "execution_count": null,
   "metadata": {},
   "outputs": [],
   "source": [
    "beispiel4(1,b=2,3)"
   ]
  },
  {
   "cell_type": "markdown",
   "metadata": {},
   "source": [
    "Achten Sie auch darauf, dass jeder Parameter einen Wert übergeben bekommt:"
   ]
  },
  {
   "cell_type": "code",
   "execution_count": null,
   "metadata": {},
   "outputs": [],
   "source": [
    "beispiel4(1,b=2,a=3)"
   ]
  },
  {
   "cell_type": "markdown",
   "metadata": {},
   "source": [
    "## 8.2.2 Parameter mit Default Werten"
   ]
  },
  {
   "cell_type": "markdown",
   "metadata": {},
   "source": [
    "Wir können aus dem bisher beobachteten folgende **Regel** herleiten: Beim Funktionsaufruf müssen genauso viele aktuelle Parameterwerte übergeben werden, wie formale Parameter definiert sind."
   ]
  },
  {
   "cell_type": "markdown",
   "metadata": {},
   "source": [
    "Diese Regel ist nicht ganz präzise. Es gibt in Python die Möglichkeit, **Defaultwerte** zu bestimmen. Das sind Werte, die Parameter haben sollen, sofern beim Aufruf kein aktueller Parameter übergeben wird. Defaultwerte werden mit einem `=` hinter dem Paramternamen spezifiziert."
   ]
  },
  {
   "cell_type": "markdown",
   "metadata": {},
   "source": [
    "---\n",
    "### Beispiel 14: Funktionsdefinition mit Defaultwert\n",
    "Die folgende Funktion hat einen Parameter mit Defaultwert:"
   ]
  },
  {
   "cell_type": "code",
   "execution_count": null,
   "metadata": {},
   "outputs": [],
   "source": [
    "def beispiel5(a=1):\n",
    "    print('a=',a)"
   ]
  },
  {
   "cell_type": "markdown",
   "metadata": {},
   "source": [
    "---\n",
    "### Beispiel 15:  Funktionsaufruf von Funktionen mit Defaultwert\n",
    "Wird `beispiel5()` aufgerufen ohne einen aktuellen Parameterwert für `a`, wird der Wert 1 genommen."
   ]
  },
  {
   "cell_type": "code",
   "execution_count": null,
   "metadata": {},
   "outputs": [],
   "source": [
    "beispiel5()"
   ]
  },
  {
   "cell_type": "markdown",
   "metadata": {},
   "source": [
    "Wird beim Aufruf von `beispiel5()` ein Wert für den Parameter übergeben, erhält `a` diesen Wert:"
   ]
  },
  {
   "cell_type": "code",
   "execution_count": null,
   "metadata": {},
   "outputs": [],
   "source": [
    "beispiel5(3)"
   ]
  },
  {
   "cell_type": "markdown",
   "metadata": {},
   "source": [
    "---\n",
    "### Beispiel 16: Funktionsdefinition mit und ohne Defaultwerte\n",
    "Selbstverständlich kann eine Funktion Parameter mit und ohne Defaultwerte haben: In der Parameterliste müssen **alle** Parameter ohne Defaultwerte vor den Parametern mit Defaultwerten stehen."
   ]
  },
  {
   "cell_type": "code",
   "execution_count": null,
   "metadata": {},
   "outputs": [],
   "source": [
    "def beispiel6(a,b,c='c',d='d'):\n",
    "    print('die Werte sind:',a,b,c,d)"
   ]
  },
  {
   "cell_type": "markdown",
   "metadata": {},
   "source": [
    "---\n",
    "### Beispiel 17:  Funktionsaufruf von Funktionen mit und ohne Defaultwerte\n",
    "Folgende Aufrufe sind dann möglich:"
   ]
  },
  {
   "cell_type": "code",
   "execution_count": null,
   "metadata": {},
   "outputs": [],
   "source": [
    "beispiel6(1,2)\n",
    "beispiel6(1,2,3)\n",
    "beispiel6(1,2,3,4)"
   ]
  },
  {
   "cell_type": "markdown",
   "metadata": {},
   "source": [
    "In Verbindung mit Schlüsselwortparametern kann man *selektiv* nur manchen der Defaultparameter Werte übergeben: "
   ]
  },
  {
   "cell_type": "code",
   "execution_count": null,
   "metadata": {},
   "outputs": [],
   "source": [
    "def beispiel7(a='a',b='b',c='c',d='d'):\n",
    "    print('a=',a,'b=',b,'c=',c,'d=',d)"
   ]
  },
  {
   "cell_type": "markdown",
   "metadata": {},
   "source": [
    "Beispiele:"
   ]
  },
  {
   "cell_type": "code",
   "execution_count": null,
   "metadata": {},
   "outputs": [],
   "source": [
    "beispiel7(a=10)\n",
    "beispiel7(b=10)\n",
    "beispiel7(a=10,c=10)\n",
    "beispiel7(10,20,d=30)"
   ]
  },
  {
   "cell_type": "markdown",
   "metadata": {},
   "source": [
    "Oben formulierte Regel können wir also folgendermaßen anpassen:"
   ]
  },
  {
   "cell_type": "markdown",
   "metadata": {},
   "source": [
    "**Regel:** Beim Funktionsaufruf muss mindestens für jeden Parameter, der keinen Defaultwert hat, ein aktueller Parameterwert übergeben werden."
   ]
  },
  {
   "cell_type": "markdown",
   "metadata": {},
   "source": [
    "---\n",
    "### Beispiel 18: Fehlerhafte Funktionsdefinition mit und ohne Defaultwerte\n",
    "Oben wurde spezifiziert, dass **alle** Parameter ohne Defaultwerte vor den Parametern mit Defaultwerten stehen müssen."
   ]
  },
  {
   "cell_type": "markdown",
   "metadata": {},
   "source": [
    "Bitte merken Sie sich die Fehlermeldung, wenn dies nicht der Fall ist:"
   ]
  },
  {
   "cell_type": "code",
   "execution_count": null,
   "metadata": {},
   "outputs": [],
   "source": [
    "def beispiel8(a,b,c='c',d):\n",
    "    print('die Werte sind:',a,b,c,d)"
   ]
  },
  {
   "cell_type": "markdown",
   "metadata": {},
   "source": [
    "<a id='Rückgabewerte'></a>\n",
    "##  8.3 Rückgabewerte"
   ]
  },
  {
   "cell_type": "markdown",
   "metadata": {},
   "source": [
    "Ein **Rückgabewert** erlaubt es der Funktion, Informationen an die aufrufende Stelle zurückzugeben. Es ist dann am Code, der die Funktion aufruft, ob diese Information verwendet  (also z.B. ausgegeben oder in einer Variablen gespeichert) wird oder nicht. "
   ]
  },
  {
   "cell_type": "markdown",
   "metadata": {},
   "source": [
    "Die Rückgabe erfolgt mit der **Anweisung** `return`."
   ]
  },
  {
   "cell_type": "markdown",
   "metadata": {},
   "source": [
    "Der Funktionsdefinitionszeile kann nicht angesehen werden, ob eine Funktion einen Rückgabewert hat oder nicht. Hierzu muss man den Code der Funktion betrachten und feststellen, ob ein `return` vorliegt oder nicht.\n",
    "\n",
    "**Hinweis:** Die Anweisung `return` beendet die Ausführung der Funktion. Anweisungen, die nach einem `return` stehen, werden nicht ausgeführt."
   ]
  },
  {
   "cell_type": "markdown",
   "metadata": {},
   "source": [
    "## 8.3.1 Ein Rückgabewert"
   ]
  },
  {
   "cell_type": "markdown",
   "metadata": {},
   "source": [
    "---\n",
    "### Beispiel 19: Funktion mit einem Rückgabewert\n",
    "Beispiel für eine Funktion mit einem Parameter und Rückgabewert:"
   ]
  },
  {
   "cell_type": "code",
   "execution_count": null,
   "metadata": {},
   "outputs": [],
   "source": [
    "def beispiel9(a):\n",
    "    return 2*a"
   ]
  },
  {
   "cell_type": "markdown",
   "metadata": {},
   "source": [
    "Aufruf der Funktion:"
   ]
  },
  {
   "cell_type": "code",
   "execution_count": null,
   "metadata": {},
   "outputs": [],
   "source": [
    "beispiel9(12)"
   ]
  },
  {
   "cell_type": "markdown",
   "metadata": {},
   "source": [
    "Das Jupyter Notebook basiert of IPython / der IPython Console, die Sie auch in Spyder verwenden. In der IPython Console würden Sie nach Aufruf einer Funktion mit einem Rückgabewert, ohne diesen zu speichern, den Wert ebenfalls in der mit `Out[]` beginnenden Zeile sehen. Wenn Sie diesen Aufruf allerdings im Editor Fenster schreiben, sehen Sie nichts. \n",
    "\n",
    "Das ist analog zur Anweisung `3+4` in der IPython Console (`Out[]` zeigt dann das Ergebnis an) und dem Editor (dort würden Sie nichts sehen).\n",
    "\n",
    "Bitte achten Sie darauf, wenn Sie ohne Notebooks Python Skripte erstellen und laufen lassen.\n"
   ]
  },
  {
   "cell_type": "markdown",
   "metadata": {},
   "source": [
    "---\n",
    "### Beispiel 20: Ausgabe oder Speicherung des Rückgabewerts\n",
    "Man kann den Rückgabewert natürlich direkt ausgeben:"
   ]
  },
  {
   "cell_type": "code",
   "execution_count": null,
   "metadata": {},
   "outputs": [],
   "source": [
    "print(beispiel9(12))"
   ]
  },
  {
   "cell_type": "markdown",
   "metadata": {},
   "source": [
    "oder in einer Variablen speichern, um ihn dann später zu verwenden:"
   ]
  },
  {
   "cell_type": "code",
   "execution_count": null,
   "metadata": {},
   "outputs": [],
   "source": [
    "ergebnis=beispiel9(12)\n",
    "print('der Rueckgabewert war:',ergebnis)"
   ]
  },
  {
   "cell_type": "markdown",
   "metadata": {},
   "source": [
    "## 8.3.2 Mehrere Rückgabewerte"
   ]
  },
  {
   "cell_type": "markdown",
   "metadata": {},
   "source": [
    "Eine Funktion kann mehr als einen Rückgabewert haben. Diese werden alle in **einer einzelnen** `return` Anweisung durch Kommata `,` getrennt, zurückgegeben.\n",
    "\n",
    "---\n",
    "### Beispiel 21: Funktionsdefinition mit mehreren Rückgabewerten"
   ]
  },
  {
   "cell_type": "code",
   "execution_count": null,
   "metadata": {},
   "outputs": [],
   "source": [
    "def beispiel12(a):\n",
    "    hoch2=a**2\n",
    "    hoch3=a**3\n",
    "    return hoch2,hoch3"
   ]
  },
  {
   "cell_type": "markdown",
   "metadata": {},
   "source": [
    "---\n",
    "### Beispiel 22: Funktionsaufruf mit mehreren Rückgabewerten\n",
    "Man kann natürlich auch mehrere Rückgabewerte \"vergessen\":"
   ]
  },
  {
   "cell_type": "code",
   "execution_count": null,
   "metadata": {},
   "outputs": [],
   "source": [
    "beispiel12(2)"
   ]
  },
  {
   "cell_type": "markdown",
   "metadata": {},
   "source": [
    "Wie Sie an der Zeile mit dem `Out[]` erkennen können, werden die Rückgabewerte in Klammern zurückgegeben: `(4,8)`. Hierbei handelt es sich um einen Wert des Typs `tuple`. Diese Datenstruktur werden Sie im [nachfolgenden Kapitel](09a_SeqDatentypen_Theorie.ipynb#tuple) kennenlernen. Bis dahin geben Sie bei mehreren Rückgabewerten bitte für jeden Rückgabewert eine Variable an, in die der Wert gespeichert werden soll.\n",
    "\n",
    "---\n",
    "### Beispiel 23: Speicherung der Rückgabewerte\n",
    "\n",
    "Die Rückgabewerte werden wie folgt gespeichert:"
   ]
  },
  {
   "cell_type": "code",
   "execution_count": null,
   "metadata": {},
   "outputs": [],
   "source": [
    "erg1,erg2=beispiel12(2)\n",
    "print('erg1=',erg1,'erg2=',erg2)"
   ]
  },
  {
   "cell_type": "markdown",
   "metadata": {},
   "source": [
    "---\n",
    "### Beispiel 24: Fehlerhafte Speicherung der Rückgabewerte\n",
    "Die Angabe von mehr oder weniger Variablen als Rückgabewerte erzeugt Fehler: "
   ]
  },
  {
   "cell_type": "code",
   "execution_count": null,
   "metadata": {},
   "outputs": [],
   "source": [
    "def beispiel13(a):\n",
    "    return a,a**2,a**3"
   ]
  },
  {
   "cell_type": "markdown",
   "metadata": {},
   "source": [
    "- eine Variable: `tuple`, siehe [nächstes Kapitel](09a_SeqDatentypen_Theorie.ipynb#tuple)"
   ]
  },
  {
   "cell_type": "code",
   "execution_count": null,
   "metadata": {},
   "outputs": [],
   "source": [
    "erg=beispiel13(2)\n",
    "print(erg)"
   ]
  },
  {
   "cell_type": "markdown",
   "metadata": {},
   "source": [
    "- drei Variablen, da es sich um drei Rückgabewerte handelt"
   ]
  },
  {
   "cell_type": "code",
   "execution_count": null,
   "metadata": {},
   "outputs": [],
   "source": [
    "a,b,c=beispiel13(2)\n",
    "print(a,b,c)"
   ]
  },
  {
   "cell_type": "markdown",
   "metadata": {},
   "source": [
    "- zu wenig Variablen. Bitte merken Sie sich die Fehlermeldung."
   ]
  },
  {
   "cell_type": "code",
   "execution_count": null,
   "metadata": {},
   "outputs": [],
   "source": [
    "a,b=beispiel13(2)"
   ]
  },
  {
   "cell_type": "markdown",
   "metadata": {},
   "source": [
    "- zu viele Variablen. Bitte merken Sie sich die Fehlermeldung."
   ]
  },
  {
   "cell_type": "code",
   "execution_count": null,
   "metadata": {},
   "outputs": [],
   "source": [
    "a,b,c,d=beispiel13(2)"
   ]
  },
  {
   "cell_type": "markdown",
   "metadata": {},
   "source": [
    "<a id='math'></a>\n",
    "## 8.4 Beispiele des Moduls `math`"
   ]
  },
  {
   "cell_type": "markdown",
   "metadata": {},
   "source": [
    "Das Modul `math` stellt mathematische Funktionen und Konstanten zur Verfügung, wie zum Beispiel die Konstante Pi ($\\pi$) oder die Sinus-Funktion. Um Funktionen und Variablen aus diesem Modul der Standardbibliothek nutzen zu können muss es mithilfe einer **`import`-Anweisung** eingebunden werden. Diese steht üblicherweise zu Beginn eines Codes. Führen Sie die nachfolgende Zeile aus, um `math` einzubinden."
   ]
  },
  {
   "cell_type": "code",
   "execution_count": null,
   "metadata": {},
   "outputs": [],
   "source": [
    "import math"
   ]
  },
  {
   "cell_type": "markdown",
   "metadata": {},
   "source": [
    "Mithilfe von `math.attributname` können dann Attibute des Moduls aufgerufen werden. Welche Attribute es gibt kann man der **Dokumentation** von Python entnehmen. \n",
    "\n",
    "https://docs.python.org/3/library/math.html?highlight=math#module-math\n",
    "\n",
    "Führen Sie die nachfolgenden Zeilen aus um einige Attribute von `math` mit Unterstützung der Dokumentation besser kennenzulernen."
   ]
  },
  {
   "cell_type": "markdown",
   "metadata": {},
   "source": [
    "### Beispiel 25: Zugriff auf Konstanten des Moduls `math` \n",
    "Nachfolgend ist gezeigt, wie auf  die Konstante `pi` ($\\pi$) des Moduls `math` zugegriffen werden kann. "
   ]
  },
  {
   "cell_type": "code",
   "execution_count": null,
   "metadata": {},
   "outputs": [],
   "source": [
    "print(math.pi)"
   ]
  },
  {
   "cell_type": "markdown",
   "metadata": {},
   "source": [
    "### Beispiel 26: Aufruf von Funktionen des Moduls `math`\n",
    "Die Funktion `fabs()` benötigt wie unten gezeigt einen Parameter und gibt den absoluten Wert von diesem zurück."
   ]
  },
  {
   "cell_type": "code",
   "execution_count": null,
   "metadata": {},
   "outputs": [],
   "source": [
    "print(math.fabs(-2))"
   ]
  },
  {
   "cell_type": "markdown",
   "metadata": {},
   "source": [
    "Auch die Funktion `cos()` benötigt einen Parameter."
   ]
  },
  {
   "cell_type": "code",
   "execution_count": null,
   "metadata": {},
   "outputs": [],
   "source": [
    "print(math.cos(0))\n",
    "print(math.cos(-1.0))\n",
    "print(math.cos(math.pi))\n",
    "x = 2*math.pi\n",
    "print(math.cos(x))"
   ]
  },
  {
   "cell_type": "markdown",
   "metadata": {},
   "source": [
    "Mithilfe von `fsum()` kann die Summe der Werte innerhalb einer Liste ausgegeben werden. Zu beachten ist hierbei der  Typ des Parameters, es muss eine Liste übergeben werden. Den Datentyp `list` lernen Sie im [nachfolgenden Kapitel](09a_SeqDatentypen_Theorie.ipynb#list) kennen. "
   ]
  },
  {
   "cell_type": "code",
   "execution_count": null,
   "metadata": {},
   "outputs": [],
   "source": [
    "print(math.fsum([1,2,3,4,5]))"
   ]
  },
  {
   "cell_type": "markdown",
   "metadata": {},
   "source": [
    "Einen einzelnen Wert zu übergeben führt zu einem Fehler:"
   ]
  },
  {
   "cell_type": "code",
   "execution_count": null,
   "metadata": {},
   "outputs": [],
   "source": [
    "print(math.fsum(1.5))"
   ]
  },
  {
   "cell_type": "markdown",
   "metadata": {},
   "source": [
    "<a id='scope'></a>\n",
    "## 8.5 Scope von Variablen\n",
    "\n",
    "Das Thema zum Scope der Variablen wird nur kurz und nicht vollständig erklärt. Das Kapitel dient nur dem Verständins der Begrifflichkeiten.\n",
    "\n",
    "Die **lokale** Variable wurde bereits in der [Einleitung ](#lokaleVariable)erklärt. Lokale Variablen werden in einer Funktion definiert und man kann nicht von außerhalb auf diese zugreifen.  Hierhingegen steht die **globale** Variable. Globale Variablen werden hier als Variablen festgelegt, die im Notebook außerhalb einer Funktion definiert werden. Eine Funktion kann lesend auf eine Variable zugreifen, die außerhalb der Funktion definiert wurde. Um aber schreibend auf globale Variablen innerhalb einer Funktion zuzugreifen muss man den Befehl `global` verwenden. \n",
    "\n",
    "### Beispiel 27: Lokale Variable und Globale Variable\n",
    "Gezeigt ist im folgenden der lesende Zugriff in der Funktion auf die **globale**, also außerhalb der Funktion definierten, Variable."
   ]
  },
  {
   "cell_type": "code",
   "execution_count": null,
   "metadata": {},
   "outputs": [],
   "source": [
    "def function():\n",
    "    lokaleVar = 2\n",
    "    print(\"Wert der lokalen Variable: \", lokaleVar) \n",
    "    print(\"Lesender Zugriff auf globale Variable: \", globaleVar)\n",
    "    \n",
    "globaleVar = 3\n",
    "function()"
   ]
  },
  {
   "cell_type": "markdown",
   "metadata": {},
   "source": [
    "### Beispiel 28: Globale Variable Schreibend\n",
    "\n",
    "Es ist nicht möglich, ohne weiteres schreibend auf eine globale Variable zuzugreifen. Bitte notieren Sie sich die Fehlermeldung."
   ]
  },
  {
   "cell_type": "code",
   "execution_count": null,
   "metadata": {},
   "outputs": [],
   "source": [
    "def f1():\n",
    "    d=2*d\n",
    "    print(\"f1(): d=\",d)\n",
    "    \n",
    "d=3\n",
    "f1()"
   ]
  },
  {
   "cell_type": "markdown",
   "metadata": {},
   "source": [
    "Um auf eine außerhalb der Funktion definierten Variable schreibend zugreifen zu können, muss dieser Zugriff durch den Befehl `global` deklariert werden. "
   ]
  },
  {
   "cell_type": "code",
   "execution_count": null,
   "metadata": {},
   "outputs": [],
   "source": [
    "def f2():\n",
    "    global d\n",
    "    d=2*d\n",
    "    print(\"f2(): d=\",d)\n",
    "    \n",
    "d=3\n",
    "f2()"
   ]
  },
  {
   "cell_type": "markdown",
   "metadata": {},
   "source": [
    "<a id='lernkontrolle'></a>\n",
    "## 8.6 Lernkontrolle"
   ]
  },
  {
   "cell_type": "markdown",
   "metadata": {},
   "source": [
    "### Lernkontrolle\n",
    "\n",
    "- Die folgenden Fragen dienen zur Überprüfung Ihres Wissensstandes. \n",
    "- Führen Sie die nachfolgende Zelle aus und wählen Sie jeweils aus den Antwortmöglichkeiten aus. \n",
    "- Sobald Sie die Fragen richtig beantwortet haben, können Sie die Übungsaufgaben zu diesem Kapitel bearbeiten oder mit dem nächsten Thema fortfahren.\n",
    "\n",
    "\n",
    "Gegeben ist folgender Programmcode:\n",
    "\n",
    "```python\n",
    "def eineFunktion():\n",
    "    print('nicht Prokrastinieren')\n",
    "print('oeffne YouTube')\n",
    "eineFunktion()\n",
    "```\n",
    " \n",
    "Beantworten Sie darauf basierend die nachfolgenden Fragen."
   ]
  },
  {
   "cell_type": "code",
   "execution_count": 1,
   "metadata": {},
   "outputs": [
    {
     "data": {
      "application/vnd.jupyter.widget-view+json": {
       "model_id": "bd48ba0d2a4d429590d706e869bd409e",
       "version_major": 2,
       "version_minor": 0
      },
      "text/plain": [
       "VBox(children=(Output(), RadioButtons(options=(('einefunktion', 0), ('eine Funktion', 1), ('def', 2), ('eineFu…"
      ]
     },
     "metadata": {},
     "output_type": "display_data"
    },
    {
     "data": {
      "application/vnd.jupyter.widget-view+json": {
       "model_id": "1622b944c6ee42328538ee20c8a04d28",
       "version_major": 2,
       "version_minor": 0
      },
      "text/plain": [
       "VBox(children=(Output(), RadioButtons(options=(('0', 0), ('1', 1), ('2', 2), ('3', 3)), value=0), Button(descr…"
      ]
     },
     "metadata": {},
     "output_type": "display_data"
    },
    {
     "data": {
      "application/vnd.jupyter.widget-view+json": {
       "model_id": "6c6d59c300974dea9d21800fe05e001d",
       "version_major": 2,
       "version_minor": 0
      },
      "text/plain": [
       "VBox(children=(Output(), RadioButtons(options=(('eineFunktion()', 0), ('eine Funktion()', 1), ('eineFunktion',…"
      ]
     },
     "metadata": {},
     "output_type": "display_data"
    },
    {
     "data": {
      "application/vnd.jupyter.widget-view+json": {
       "model_id": "dd23fa978207482da5cc6b5a24469b72",
       "version_major": 2,
       "version_minor": 0
      },
      "text/plain": [
       "VBox(children=(Output(), RadioButtons(options=(('1. nicht Prokrastinieren 2. oeffne YouTube', 0), ('1. oeffne …"
      ]
     },
     "metadata": {},
     "output_type": "display_data"
    }
   ],
   "source": [
    "%run data/08a_lernkontrolle1.ipynb"
   ]
  },
  {
   "cell_type": "markdown",
   "metadata": {},
   "source": [
    "---\n",
    "Gegeben ist folgender Programmcode:\n",
    "\n",
    "```python\n",
    "def dieFunktion(a,b,c=1):\n",
    "    return(a*c)\n",
    "huhn = 0\n",
    "huhn = dieFunktion(2,3,3)\n",
    "```\n",
    " \n",
    " Beantworten Sie darauf basierend die nachfolgenden Fragen."
   ]
  },
  {
   "cell_type": "code",
   "execution_count": 2,
   "metadata": {},
   "outputs": [
    {
     "data": {
      "application/vnd.jupyter.widget-view+json": {
       "model_id": "5151d4e5fcce436f8735494bdddf28c4",
       "version_major": 2,
       "version_minor": 0
      },
      "text/plain": [
       "VBox(children=(Output(), RadioButtons(options=(('0', 0), ('1', 1), ('2', 2), ('3', 3), ('4', 4)), value=0), Bu…"
      ]
     },
     "metadata": {},
     "output_type": "display_data"
    },
    {
     "data": {
      "application/vnd.jupyter.widget-view+json": {
       "model_id": "58eb87ad75ca41b3aa6113b04b03b630",
       "version_major": 2,
       "version_minor": 0
      },
      "text/plain": [
       "VBox(children=(Output(), RadioButtons(options=(('0', 0), ('1', 1), ('2', 2), ('3', 3)), value=0), Button(descr…"
      ]
     },
     "metadata": {},
     "output_type": "display_data"
    },
    {
     "data": {
      "application/vnd.jupyter.widget-view+json": {
       "model_id": "c5d5d3a72ca54b0c8bf847cd56870336",
       "version_major": 2,
       "version_minor": 0
      },
      "text/plain": [
       "VBox(children=(Output(), RadioButtons(options=(('0', 0), ('1', 1), ('2', 2), ('3', 3)), value=0), Button(descr…"
      ]
     },
     "metadata": {},
     "output_type": "display_data"
    },
    {
     "data": {
      "application/vnd.jupyter.widget-view+json": {
       "model_id": "a831cf56ab37473a8d213ca2e895ad8d",
       "version_major": 2,
       "version_minor": 0
      },
      "text/plain": [
       "VBox(children=(Output(), RadioButtons(options=(('0', 0), ('2', 1), ('3', 2), ('6', 3)), value=0), Button(descr…"
      ]
     },
     "metadata": {},
     "output_type": "display_data"
    }
   ],
   "source": [
    "%run data/08a_lernkontrolle2.ipynb"
   ]
  },
  {
   "cell_type": "markdown",
   "metadata": {},
   "source": [
    "--- \n",
    "Glückwunsch, dieses Kapitel ist hiermit abgeschlossen!\n",
    "\n",
    "Hier geht's zu den Übungsaufgaben: [A 8. Aufgaben Funktionen](08b_Funktionen_Aufgaben.ipynb)\n"
   ]
  },
  {
   "cell_type": "markdown",
   "metadata": {
    "deletable": false,
    "editable": false,
    "tags": []
   },
   "source": [
    "<a rel=\"license\" href=\"http://creativecommons.org/licenses/by-nc-nd/4.0/\"><img alt=\"Creative Commons Lizenzvertrag\" style=\"border-width:0\" src=\"https://i.creativecommons.org/l/by-nc-nd/4.0/88x31.png\" /></a><br /><span xmlns:dct=\"http://purl.org/dc/terms/\" property=\"dct:title\">Das JuPy Python Tutorial</span> der <span xmlns:cc=\"http://creativecommons.org/ns#\" property=\"cc:attributionName\">EAH Jena</span> ist lizenziert unter einer <a rel=\"license\" href=\"http://creativecommons.org/licenses/by-nc-nd/4.0/\">Creative Commons Namensnennung - Nicht kommerziell - Keine Bearbeitungen 4.0 International Lizenz</a>.\n"
   ]
  }
 ],
 "metadata": {
  "kernelspec": {
   "display_name": "Python 3 (ipykernel)",
   "language": "python",
   "name": "python3"
  },
  "language_info": {
   "codemirror_mode": {
    "name": "ipython",
    "version": 3
   },
   "file_extension": ".py",
   "mimetype": "text/x-python",
   "name": "python",
   "nbconvert_exporter": "python",
   "pygments_lexer": "ipython3",
   "version": "3.10.8"
  }
 },
 "nbformat": 4,
 "nbformat_minor": 4
}
