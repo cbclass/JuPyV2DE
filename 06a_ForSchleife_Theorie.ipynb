{
 "cells": [
  {
   "cell_type": "markdown",
   "metadata": {},
   "source": [
    "<img src=\"./data/Lernfortschritt06.PNG\" width=\"1000\">\n",
    "\n",
    "&nbsp;&nbsp;&nbsp;&nbsp;&nbsp;&nbsp;&nbsp;&nbsp;&nbsp;&nbsp;&nbsp;&nbsp;&nbsp;&nbsp;&nbsp;&nbsp;&nbsp;&nbsp;&nbsp;&nbsp;&nbsp;&nbsp;&nbsp;&nbsp;&nbsp;&nbsp;&nbsp;&nbsp;&nbsp;&nbsp;&nbsp;&nbsp;&nbsp;&nbsp;&nbsp;&nbsp;&nbsp;&nbsp;&nbsp;&nbsp;&nbsp;&nbsp;&nbsp;&nbsp;&nbsp;&nbsp;&nbsp;&nbsp;&nbsp;&nbsp;&nbsp;&nbsp;&nbsp;&nbsp;&nbsp;&nbsp;&nbsp;&nbsp;&nbsp;&nbsp;&nbsp;&nbsp;&nbsp;&nbsp;&nbsp;&nbsp;&nbsp;&nbsp;    [5. Selektion](./05a_Selektion_Theorie.ipynb)   &nbsp;&nbsp;&nbsp;&nbsp;  6. Iteration: `for`-Schleife  &nbsp;&nbsp;&nbsp;&nbsp;   [7. Iteration: `while`-Schleife](./07a_WhileSchleife_Theorie.ipynb)\n",
    "\n",
    "[JuPy: Inhaltsverzeichnis](00_Einleitung.ipynb#Inhaltsverzeichnis)"
   ]
  },
  {
   "cell_type": "markdown",
   "metadata": {},
   "source": [
    "# 6. Iteration: `for`-Schleife"
   ]
  },
  {
   "cell_type": "markdown",
   "metadata": {},
   "source": [
    "Schleifen werden benötigt, um einen Codeblock, den man auch als Schleifenkörper bezeichnet, wiederholt auszuführen. In Python gibt es zwei Schleifentypen: die `while`-Schleife und die `for`-Schleife. In diesem Kapitel betrachten wir die `for`-Schleife. Die `while`-Schleife wird in Kapitel [7. Iteration: `while`-Schleife](./07a_WhileSchleife_Theorie.ipynb) vorgestellt."
   ]
  },
  {
   "cell_type": "markdown",
   "metadata": {
    "tags": []
   },
   "source": [
    "## `for`-Schleife\n",
    "\n",
    "Die `for`-Schleife dient in Python, im Gegensatz zu anderen Programmiersprachen, zur Iteration über eine Sequenz von Objekten. Das bedeutet, dass eine Gruppe von Anweisungen nacheinander auf die Elemente einer Menge oder Liste angewendet werden können. Dafür werden diese Elemente einer Variablen zugeordnet.\\\n",
    "\\\n",
    "**Syntax:**\n",
    "\n",
    "```python\n",
    "for variable in sequence:\n",
    "    anweisungen\n",
    "```\n",
    "    "
   ]
  },
  {
   "cell_type": "markdown",
   "metadata": {},
   "source": [
    "## Dir Funktion `range()`\n",
    "\n",
    "Eine Möglichkeit für *sequence* ist unter anderem folgende Funktion:"
   ]
  },
  {
   "cell_type": "markdown",
   "metadata": {},
   "source": [
    "```python\n",
    "range([start,]stop[,step])\n",
    "```"
   ]
  },
  {
   "cell_type": "markdown",
   "metadata": {},
   "source": [
    "`range()` erzeugt eine Liste von ganzen Zahlen von `start` bis einschließlich `stop-1` mit der Schrittweite `step`. Zu beachten ist, dass für `start`, `stop` und `step` nur ganzzahlige Werte erlaubt sind. Die Angaben von `start` und `step` sind optional. Die Voreinstellung sind für `start=0` und `step=1`."
   ]
  },
  {
   "cell_type": "markdown",
   "metadata": {},
   "source": [
    "---\n",
    "### Beispiel 1\n",
    "Es sollen die Zahlen von 1 bis 5 mit einer Schrittweite von 1 ausgegeben werden. Führen Sie dafür die nachfolgende Zelle aus."
   ]
  },
  {
   "cell_type": "code",
   "execution_count": null,
   "metadata": {},
   "outputs": [],
   "source": [
    "for i in range(1,6,1):\n",
    "    print(i)"
   ]
  },
  {
   "cell_type": "markdown",
   "metadata": {},
   "source": [
    "Da `step` zu 1 gesetzt wird, wenn es nicht angegeben wird, erzeugt folgendes Code-Segment die gleiche Ausgabe."
   ]
  },
  {
   "cell_type": "code",
   "execution_count": null,
   "metadata": {},
   "outputs": [],
   "source": [
    "for i in range(1,6):\n",
    "    print(i)"
   ]
  },
  {
   "cell_type": "markdown",
   "metadata": {},
   "source": [
    "---\n",
    "### Beispiel 2\n",
    "\n",
    "Wenn `start` nicht angegeben wird, wird es zu 0 gesetzt.\n",
    "Betrachten Sie folgendes Code-Segment. Was ist die Ausgabe? Notieren Sie Ihre Vermutung und lassen Sie dann den Code laufen, um Ihre Vermutung zu überprüfen."
   ]
  },
  {
   "cell_type": "code",
   "execution_count": null,
   "metadata": {},
   "outputs": [],
   "source": [
    "for i in range(6):\n",
    "    print(i)"
   ]
  },
  {
   "cell_type": "markdown",
   "metadata": {},
   "source": [
    "---\n",
    "### Beispiel 3\n",
    "Mit `step` kann man verschiedene Schrittweiten spezifieren. Mit Hilfe von `step` können wir z.B. nur gerade Zahlen ausgeben."
   ]
  },
  {
   "cell_type": "code",
   "execution_count": null,
   "metadata": {},
   "outputs": [],
   "source": [
    "for i in range(2,11,2):\n",
    "    print(i)"
   ]
  },
  {
   "cell_type": "markdown",
   "metadata": {},
   "source": [
    "<a id='forlist'></a>\n",
    "\n",
    "---\n",
    "### Ausblick \n",
    "\n",
    "Aus einer gegebenen Liste (siehe Kapitel  [9. Sequentielle Datentypen](./09a_SeqDatentypen_Theorie.ipynb)) sollen die Elemente nacheinander ausgegeben werden. Führen Sie dafür die nachfolgende Zelle aus."
   ]
  },
  {
   "cell_type": "code",
   "execution_count": null,
   "metadata": {},
   "outputs": [],
   "source": [
    "Liste=['Hund','Katze','Maus']\n",
    "\n",
    "for i in Liste:\n",
    "    print(i)"
   ]
  },
  {
   "cell_type": "markdown",
   "metadata": {},
   "source": [
    "### Lernkontrolle\n",
    "\n",
    "- Die folgenden Fragen dienen zur Überprüfung Ihres Wissensstandes. \n",
    "- Führen Sie die nachfolgende Zelle aus und wählen Sie jeweils aus den Antwortmöglichkeiten aus. \n",
    "- Sobald Sie die Fragen richtig beantwortet haben, können Sie die Übungsaufgaben zu diesem Kapitel bearbeiten oder mit dem nächsten Thema fortfahren.\n"
   ]
  },
  {
   "cell_type": "code",
   "execution_count": 2,
   "metadata": {},
   "outputs": [
    {
     "data": {
      "application/vnd.jupyter.widget-view+json": {
       "model_id": "c9bb1aeed26e4b34b0a59f5530be9843",
       "version_major": 2,
       "version_minor": 0
      },
      "text/plain": [
       "VBox(children=(Output(), RadioButtons(options=(('1,2,3,4,5', 0), ('0,1,2,3,4,5', 1), ('0,1,2,3,4', 2), ('1,2,3…"
      ]
     },
     "metadata": {},
     "output_type": "display_data"
    },
    {
     "data": {
      "application/vnd.jupyter.widget-view+json": {
       "model_id": "884a1627467541fc97b9b358ed8ea9ac",
       "version_major": 2,
       "version_minor": 0
      },
      "text/plain": [
       "VBox(children=(Output(), RadioButtons(options=(('1,3,5,7,9', 0), ('2,4,6,8', 1), ('2,4,6,8,10', 2), ('Keine da…"
      ]
     },
     "metadata": {},
     "output_type": "display_data"
    },
    {
     "data": {
      "application/vnd.jupyter.widget-view+json": {
       "model_id": "e8c67c9a90294058b6168ccc9acdb83d",
       "version_major": 2,
       "version_minor": 0
      },
      "text/plain": [
       "VBox(children=(Output(), RadioButtons(options=(('range(3)', 0), ('range(3,4)', 1), ('range(1,4,3)', 2), ('Alle…"
      ]
     },
     "metadata": {},
     "output_type": "display_data"
    },
    {
     "data": {
      "application/vnd.jupyter.widget-view+json": {
       "model_id": "67e4cbde20844e83901b1d6142494760",
       "version_major": 2,
       "version_minor": 0
      },
      "text/plain": [
       "VBox(children=(Output(), RadioButtons(options=(('4', 0), ('5', 1), ('10', 2), ('Keins davon.', 3)), value=0), …"
      ]
     },
     "metadata": {},
     "output_type": "display_data"
    },
    {
     "data": {
      "application/vnd.jupyter.widget-view+json": {
       "model_id": "ce214e00962c435e97f2b30371a79aed",
       "version_major": 2,
       "version_minor": 0
      },
      "text/plain": [
       "VBox(children=(Output(), RadioButtons(options=(('2', 0), ('3', 1), ('4', 2), ('Die Ausgabe kann nicht 6 werden…"
      ]
     },
     "metadata": {},
     "output_type": "display_data"
    }
   ],
   "source": [
    "%run data/06_Lernkontrolle.ipynb"
   ]
  },
  {
   "cell_type": "markdown",
   "metadata": {},
   "source": [
    "---\n",
    "Glückwunsch, dieses Kapitel ist hiermit abgeschlossen!\n",
    "\n",
    "Hier geht's zu den Übungsaufgaben: [A 6. Aufgaben For-Schleife](06b_ForSchleife_Aufgaben.ipynb)"
   ]
  },
  {
   "cell_type": "markdown",
   "metadata": {
    "deletable": false,
    "editable": false,
    "tags": []
   },
   "source": [
    "<a rel=\"license\" href=\"http://creativecommons.org/licenses/by-nc-nd/4.0/\"><img alt=\"Creative Commons Lizenzvertrag\" style=\"border-width:0\" src=\"https://i.creativecommons.org/l/by-nc-nd/4.0/88x31.png\" /></a><br /><span xmlns:dct=\"http://purl.org/dc/terms/\" property=\"dct:title\">Das JuPy Python Tutorial</span> der <span xmlns:cc=\"http://creativecommons.org/ns#\" property=\"cc:attributionName\">EAH Jena</span> ist lizenziert unter einer <a rel=\"license\" href=\"http://creativecommons.org/licenses/by-nc-nd/4.0/\">Creative Commons Namensnennung - Nicht kommerziell - Keine Bearbeitungen 4.0 International Lizenz</a>.\n"
   ]
  }
 ],
 "metadata": {
  "kernelspec": {
   "display_name": "Python 3 (ipykernel)",
   "language": "python",
   "name": "python3"
  },
  "language_info": {
   "codemirror_mode": {
    "name": "ipython",
    "version": 3
   },
   "file_extension": ".py",
   "mimetype": "text/x-python",
   "name": "python",
   "nbconvert_exporter": "python",
   "pygments_lexer": "ipython3",
   "version": "3.10.13"
  }
 },
 "nbformat": 4,
 "nbformat_minor": 4
}
