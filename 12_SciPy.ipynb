{
 "cells": [
  {
   "cell_type": "markdown",
   "metadata": {},
   "source": [
    "<img src=\"./data/Lernfortschritt13.PNG\" width=\"1000\">\n",
    "\n",
    "&nbsp;&nbsp;&nbsp;&nbsp;&nbsp;&nbsp;&nbsp;&nbsp;&nbsp;&nbsp;&nbsp;&nbsp;&nbsp;&nbsp;&nbsp;&nbsp;&nbsp;&nbsp;&nbsp;&nbsp;&nbsp;&nbsp;&nbsp;&nbsp;&nbsp;&nbsp;&nbsp;&nbsp;&nbsp;&nbsp;&nbsp;&nbsp;&nbsp;&nbsp;&nbsp;&nbsp;&nbsp;&nbsp;&nbsp;&nbsp;&nbsp;&nbsp;&nbsp;&nbsp;&nbsp;&nbsp;&nbsp;&nbsp;&nbsp;&nbsp;&nbsp;&nbsp;&nbsp;&nbsp;&nbsp;&nbsp;&nbsp;&nbsp;&nbsp;&nbsp;&nbsp;&nbsp;&nbsp;&nbsp;&nbsp;&nbsp;&nbsp;&nbsp;&nbsp;&nbsp;&nbsp;&nbsp;&nbsp;&nbsp;&nbsp;&nbsp;&nbsp;&nbsp;&nbsp;&nbsp;&nbsp;&nbsp;&nbsp;&nbsp;&nbsp;&nbsp;&nbsp;&nbsp;&nbsp;&nbsp;&nbsp;&nbsp;&nbsp;&nbsp;&nbsp;&nbsp;&nbsp;&nbsp;&nbsp;&nbsp;&nbsp;&nbsp;&nbsp;&nbsp;&nbsp;&nbsp;&nbsp;&nbsp;&nbsp;&nbsp;&nbsp;&nbsp;&nbsp;&nbsp;&nbsp;&nbsp;&nbsp;&nbsp;&nbsp;&nbsp;&nbsp;&nbsp;&nbsp;&nbsp;&nbsp;&nbsp;&nbsp;&nbsp;&nbsp;&nbsp;&nbsp;&nbsp;&nbsp;&nbsp;&nbsp;&nbsp;&nbsp;&nbsp;&nbsp;&nbsp;&nbsp;&nbsp;&nbsp;&nbsp;&nbsp;&nbsp;&nbsp;&nbsp;&nbsp;&nbsp;&nbsp;&nbsp;&nbsp;&nbsp;&nbsp;&nbsp;&nbsp;&nbsp;&nbsp;&nbsp;&nbsp;&nbsp;&nbsp;&nbsp;&nbsp;&nbsp;&nbsp;&nbsp;&nbsp;&nbsp;&nbsp;&nbsp;&nbsp;&nbsp;&nbsp;&nbsp;&nbsp;&nbsp;&nbsp;&nbsp;&nbsp;&nbsp;&nbsp;&nbsp;&nbsp;&nbsp;&nbsp;&nbsp;&nbsp;&nbsp;&nbsp;&nbsp;&nbsp;&nbsp;&nbsp;&nbsp;&nbsp;[11. Plots](./11a_Plots_Theorie.ipynb) &nbsp;&nbsp;&nbsp;&nbsp;  12. `SciPy` - Ausblick Curve Fitting \n",
    "# 12. SciPy - Ausblick Curve Fitting\n",
    "\n",
    "[JuPy: Inhaltsverzeichnis](00_Einleitung.ipynb#Inhaltsverzeichnis)"
   ]
  },
  {
   "cell_type": "markdown",
   "metadata": {},
   "source": [
    "In SciPy (`scipy`)  finden sich Implementation vieler mathematisches Vefahren zum numerischen Rechnen. \n",
    "`scipy` ist eine Zusammenstellung verschiedener Subpackages, für den jeweiligen Anwendungsbereich. Einige Beispiele sind:"
   ]
  },
  {
   "cell_type": "markdown",
   "metadata": {},
   "source": [
    "* `constants` - physikalische/mathematische Konstanten\n",
    "* `fftpack` - Fast Fourier Transformation\n",
    "* `optimize` - Optimierung, z.B. für Curve Fitting\n",
    "* `signal` - Signalverarbeitung\n",
    "\n",
    "etc."
   ]
  },
  {
   "cell_type": "markdown",
   "metadata": {},
   "source": [
    "Für das wissenschaftliche Arbeiten ist u.a. das Curve Fitting unerlässlich und soll im Folgenden als kurzes Beispiel zum Arbeiten mit `scipy` beschrieben werden.\n",
    "\n",
    "Im folgenden Beispiel erzeugen wir Daten einer Kosinusfunktion und fügen Rauschen hinzu. Dann wenden wir Curve Fitting auf diese **verrauschte Kosinusfunktion** an."
   ]
  },
  {
   "cell_type": "markdown",
   "metadata": {},
   "source": [
    "---\n",
    "### 1. Importieren der nötigen Module\n",
    "Führen Sie den nachfolgenden Code aus, um die benötigten Module für das Notebook zu importieren."
   ]
  },
  {
   "cell_type": "code",
   "execution_count": null,
   "metadata": {},
   "outputs": [],
   "source": [
    "import numpy as np\n",
    "import matplotlib.pyplot as plt\n",
    "import scipy.optimize as opt"
   ]
  },
  {
   "cell_type": "markdown",
   "metadata": {},
   "source": [
    "---\n",
    "### 2. Kosinusfit - Datengenerierung"
   ]
  },
  {
   "cell_type": "markdown",
   "metadata": {},
   "source": [
    "Die Aufgabe ist es, einen Fit für eine **verrauschte Kosinusfunktion** zu erstellen. Diese muss dafür erstmal generiert werden. `random.seed()` wird benutzt, um später immer die gleiche Funktion zu erhalten, da das Rauschen, das man addiert, normalverteilt ist.\n",
    "Dann werden die $x$-und $y$-Daten erzeugt. Für die $x$-Daten wird üblicherweise `numpy.linspace()` verwendet. Sollten Sie damit noch unsicher sein, werfen Sie noch einmal einen Blick in das Kapitel [10. NumPy Arrays](10a_NumPy_Theorie.ipynb#linspace).\n",
    "Anschließend wird der **Plot** der generierten Daten erstellt (Kapitel [11. Plots](11a_Plots_Theorie.ipynb))."
   ]
  },
  {
   "cell_type": "code",
   "execution_count": null,
   "metadata": {},
   "outputs": [],
   "source": [
    "np.random.seed(0) \n",
    "\n",
    "noise = np.random.normal(size=50)\n",
    "x_data = np.linspace(-5, 5, num=50)\n",
    "y_data = 3 * np.cos(2 * x_data) + noise\n",
    "\n",
    "plt.plot(x_data, y_data, '.')\n"
   ]
  },
  {
   "cell_type": "markdown",
   "metadata": {},
   "source": [
    "---\n",
    "### 3. Kosinusfit - Curve Fitting\n",
    "Nun kommen wir zum **Curve Fitting**. Die Funktion `curve_fit()` errechnet uns nach Übergabe einer **Modellfunktion** sowie der x - und y - Daten unserer verrauschten Funktion die optimalen **Parameter** nach der Methode der kleinsten Quadrate. \n",
    "Dafür muss zunächst eine **Modellfunktion** erstellt werden, damit klar ist, welche Parameter es anzupassen gilt. "
   ]
  },
  {
   "cell_type": "code",
   "execution_count": null,
   "metadata": {},
   "outputs": [],
   "source": [
    "#Modellfunktion\n",
    "def cosfunc(x, a, b):\n",
    "    y = a * np.cos(b * x)\n",
    "    return y\n",
    "\n",
    "parameter, kovar = opt.curve_fit(cosfunc, x_data, y_data)\n",
    "                                               \n",
    "# Parameter und Kovarianz\n",
    "print(parameter)\n",
    "print(kovar)"
   ]
  },
  {
   "cell_type": "markdown",
   "metadata": {},
   "source": [
    "---\n",
    "### 4. Kosinusfit - Standardabweichung und Parameterextraktion\n",
    "\n",
    "Wie man sieht wird mit `curve_fit()` neben den **Parametern** als Array auch die **Kovarianzen** als 2x2 - Matrix berechnet.  Interessant für die **Standardabweichung** ist nur die Diagonale der **Kovarianz-Matrix**. Aus der Wurzel des ersten Diagonalelements lässt sich die **Standardabweichung** für den ersten Parameter errechnen usw. Im folgenden wird die **Kovarianz-Matrix** nur zur Berechnung der **Standardabweichung** benutzt, aber nicht näher auf sie eingegangen.    \n"
   ]
  },
  {
   "cell_type": "code",
   "execution_count": null,
   "metadata": {},
   "outputs": [],
   "source": [
    "err = np.sqrt(np.diag(kovar))\n",
    "a = parameter[0]\n",
    "b = parameter[1]\n",
    "print('Paramater a ist:',a)\n",
    "print('Die Standardabweichung für den Parameter a beträgt:', err[0])\n",
    "print('Paramater b ist:',b)\n",
    "print('Die Standardabweichung für den Parameter b beträgt:', err[1])"
   ]
  },
  {
   "cell_type": "markdown",
   "metadata": {},
   "source": [
    "---\n",
    "### 5. Kosinusfit - Plotten\n",
    "Mit den zuvor extrahierten Parametern und der Modellfunktion `cosfunc()` kann nun der Fit berechnet und  ein **Plot** der verrauschten Funktion, sowie des Fits erstellt werden."
   ]
  },
  {
   "cell_type": "code",
   "execution_count": null,
   "metadata": {},
   "outputs": [],
   "source": [
    "plt.plot(x_data, y_data, '.', label='original')\n",
    "plt.plot(x_data, cosfunc(x_data, a, b), label='Fit')\n",
    "plt.xlabel('x - Werte')\n",
    "plt.ylabel('y - Werte')\n",
    "plt.legend()"
   ]
  },
  {
   "cell_type": "markdown",
   "metadata": {},
   "source": [
    "### Aufgabe: Versuchen Sie es einmal selber!"
   ]
  },
  {
   "cell_type": "markdown",
   "metadata": {},
   "source": [
    "Nun können Sie das ganze noch einmal selbst üben. Erstellen Sie eine Polynomfunktion 3. Grades, z.B. \n",
    "\n",
    "$y = x^3 + 0.5 x^2 - x + 2$ . \n",
    "\n",
    "Addieren Sie zu dieser ein normalverteiltes Rauschen und erstellen Sie einen **Plot**. \n",
    "\n",
    "**Hinweis:** Um ein ordentliches Rauschen zu erhalten müssen Sie der Funktion `np.random.normal()` noch eine zusätzliche Information geben. \n",
    "\n",
    "Werfen Sie einen Blick in die Dokumentation der Funktion (https://numpy.org/doc/stable/reference/random/generated/numpy.random.Generator.normal.html#numpy.random.Generator.normal)!"
   ]
  },
  {
   "cell_type": "code",
   "execution_count": null,
   "metadata": {},
   "outputs": [],
   "source": []
  },
  {
   "cell_type": "markdown",
   "metadata": {},
   "source": [
    "Verfahren Sie nun wie oben und lassen Sie die Funktion `curve_fit()` einen Fit erstellen. Definieren Sie zuerst wieder eine Funktion, die die grobe Form der Kurve vorgibt und lassen Sie die optimalen **Parameter** berechnen und ausgeben. "
   ]
  },
  {
   "cell_type": "code",
   "execution_count": null,
   "metadata": {},
   "outputs": [],
   "source": []
  },
  {
   "cell_type": "markdown",
   "metadata": {},
   "source": [
    "Vergleichen Sie die berechneten Werte mit den originalen **Parametern** und prüfen Sie, ob die berechnete **Standardabweichung** sich mit ihren Beobachtungen deckt."
   ]
  },
  {
   "cell_type": "code",
   "execution_count": null,
   "metadata": {},
   "outputs": [],
   "source": []
  },
  {
   "cell_type": "markdown",
   "metadata": {},
   "source": [
    "Plotten Sie zu guter Letzt die verrauschte Funktion mit dem polynomialen Fit. Extrahieren Sie dafür die Parameter wie im Beispiel gezeigt und speichern Sie diese in verschiedenen Variablen ab."
   ]
  },
  {
   "cell_type": "code",
   "execution_count": null,
   "metadata": {},
   "outputs": [],
   "source": []
  },
  {
   "cell_type": "markdown",
   "metadata": {},
   "source": [
    "---\n",
    "## Herzlichen Glückwunsch, damit haben Sie den Grundkurs **Python** erfolgreich abgeschlossen!"
   ]
  },
  {
   "cell_type": "markdown",
   "metadata": {
    "deletable": false,
    "editable": false,
    "tags": []
   },
   "source": [
    "<a rel=\"license\" href=\"http://creativecommons.org/licenses/by-nc-nd/4.0/\"><img alt=\"Creative Commons Lizenzvertrag\" style=\"border-width:0\" src=\"https://i.creativecommons.org/l/by-nc-nd/4.0/88x31.png\" /></a><br /><span xmlns:dct=\"http://purl.org/dc/terms/\" property=\"dct:title\">Das JuPy Python Tutorial</span> der <span xmlns:cc=\"http://creativecommons.org/ns#\" property=\"cc:attributionName\">EAH Jena</span> ist lizenziert unter einer <a rel=\"license\" href=\"http://creativecommons.org/licenses/by-nc-nd/4.0/\">Creative Commons Namensnennung - Nicht kommerziell - Keine Bearbeitungen 4.0 International Lizenz</a>.\n",
    "\n"
   ]
  }
 ],
 "metadata": {
  "kernelspec": {
   "display_name": "Python 3 (ipykernel)",
   "language": "python",
   "name": "python3"
  },
  "language_info": {
   "codemirror_mode": {
    "name": "ipython",
    "version": 3
   },
   "file_extension": ".py",
   "mimetype": "text/x-python",
   "name": "python",
   "nbconvert_exporter": "python",
   "pygments_lexer": "ipython3",
   "version": "3.10.8"
  }
 },
 "nbformat": 4,
 "nbformat_minor": 4
}
