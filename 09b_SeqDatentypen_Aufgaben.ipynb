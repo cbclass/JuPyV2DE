{
 "cells": [
  {
   "cell_type": "markdown",
   "metadata": {},
   "source": [
    "[JuPy: Inhaltsverzeichnis](00_Einleitung.ipynb#Inhaltsverzeichnis)\n",
    "\n",
    "# A 9. Aufgaben Sequentielle Datentypen"
   ]
  },
  {
   "cell_type": "markdown",
   "metadata": {},
   "source": [
    "\n",
    "## Teil A: Ausgaben\n",
    "---\n",
    "### Aufgabe 1: `in` und `not in`\n",
    "Überprüfen Sie bei den folgenden Aufgaben, ob und ob nicht die angegebenen Werte oder Buchstaben in den jeweiligen Variablen enthalten sind.\n"
   ]
  },
  {
   "cell_type": "markdown",
   "metadata": {},
   "source": [
    "---\n",
    "- 12.6; 25.5"
   ]
  },
  {
   "cell_type": "code",
   "execution_count": null,
   "metadata": {},
   "outputs": [],
   "source": [
    "Temperatur = [25.6, 23,4, 9.4, 12.6, 19.1]\n",
    "\n",
    "# Loesung\n",
    "\n",
    "#Loesungsende"
   ]
  },
  {
   "cell_type": "markdown",
   "metadata": {},
   "source": [
    "---\n",
    "- \"e\"; \"ä\"; \" \""
   ]
  },
  {
   "cell_type": "code",
   "execution_count": null,
   "metadata": {},
   "outputs": [],
   "source": [
    "meinString = \"Die Ärzte\"\n",
    "\n",
    "# Loesung\n",
    "\n",
    "#Loesungsende"
   ]
  },
  {
   "cell_type": "markdown",
   "metadata": {},
   "source": [
    "---\n",
    "- \"Die\"; \" Die\"; \"eÄ\""
   ]
  },
  {
   "cell_type": "code",
   "execution_count": null,
   "metadata": {},
   "outputs": [],
   "source": [
    "meinString = \"Die Ärzte\"\n",
    "\n",
    "# Loesung\n",
    "\n",
    "#Loesungsende"
   ]
  },
  {
   "cell_type": "markdown",
   "metadata": {},
   "source": [
    "---\n",
    "- (\"Max Mustermann\"); (\"Max\")"
   ]
  },
  {
   "cell_type": "code",
   "execution_count": null,
   "metadata": {},
   "outputs": [],
   "source": [
    "meinTupel = (\"Max Mustermann\", \"46 Jahre\", \"82 kg\")\n",
    "\n",
    "# Loesung\n",
    "\n",
    "#Loesungsende"
   ]
  },
  {
   "cell_type": "markdown",
   "metadata": {},
   "source": [
    "---\n",
    "### Aufgabe 2: Länge ausgeben\n",
    "Geben Sie die Länge der folgenden Variablen aus."
   ]
  },
  {
   "cell_type": "code",
   "execution_count": null,
   "metadata": {},
   "outputs": [],
   "source": [
    "meinString = \"Die Ärzte\"\n",
    "\n",
    "# Loesung\n",
    "\n",
    "#Loesungsende"
   ]
  },
  {
   "cell_type": "markdown",
   "metadata": {},
   "source": [
    "---"
   ]
  },
  {
   "cell_type": "code",
   "execution_count": null,
   "metadata": {},
   "outputs": [],
   "source": [
    "Temperatur = [25.6, 23,4, 9.4, 12.6, 19.1]\n",
    "\n",
    "# Loesung\n",
    "\n",
    "#Loesungsende"
   ]
  },
  {
   "cell_type": "markdown",
   "metadata": {},
   "source": [
    "---"
   ]
  },
  {
   "cell_type": "code",
   "execution_count": null,
   "metadata": {},
   "outputs": [],
   "source": [
    "meinTupel = (\"Max Mustermann\", \"46 Jahre\", \"82 kg\")\n",
    "\n",
    "# Loesung\n",
    "\n",
    "#Loesungsende"
   ]
  },
  {
   "cell_type": "markdown",
   "metadata": {},
   "source": [
    "---\n",
    "### Aufgabe 3: Elemente ausgeben\n",
    "Geben Sie die angegebenen Elemente der folgenden Variablen aus."
   ]
  },
  {
   "cell_type": "markdown",
   "metadata": {},
   "source": [
    "- 2. Element; letztes Element"
   ]
  },
  {
   "cell_type": "code",
   "execution_count": null,
   "metadata": {},
   "outputs": [],
   "source": [
    "meinString = \"Die Ärzte\"\n",
    "\n",
    "# Loesung\n",
    "\n",
    "#Loesungsende"
   ]
  },
  {
   "cell_type": "markdown",
   "metadata": {},
   "source": [
    "---\n",
    "- Index 1 bis einschließlich Index 2"
   ]
  },
  {
   "cell_type": "code",
   "execution_count": null,
   "metadata": {},
   "outputs": [],
   "source": [
    "meinTupel = (\"Max Mustermann\", \"46 Jahre\", \"82 kg\")\n",
    "\n",
    "# Loesung\n",
    "\n",
    "#Loesungsende"
   ]
  },
  {
   "cell_type": "markdown",
   "metadata": {},
   "source": [
    "---\n",
    "- Erstes bis letztes Element in 2er Schritten; Drittes bis letztes Element in 3er Schritten"
   ]
  },
  {
   "cell_type": "code",
   "execution_count": null,
   "metadata": {},
   "outputs": [],
   "source": [
    "Temperatur = [25.6, 23,4, 9.4, 12.6, 19.1]\n",
    "\n",
    "# Loesung\n",
    "\n",
    "#Loesungsende"
   ]
  },
  {
   "cell_type": "markdown",
   "metadata": {},
   "source": [
    "---\n",
    "## Teil B: Verkettung\n",
    "---\n",
    "### Aufgabe 4: \n"
   ]
  },
  {
   "cell_type": "markdown",
   "metadata": {},
   "source": [
    "Gegeben sind 2 Strings. Setzen Sie die Strings zu einem dritten String zusammen und geben diesen einmal mit und einmal ohne Leerzeichen zwischen den Wörtern aus."
   ]
  },
  {
   "cell_type": "code",
   "execution_count": null,
   "metadata": {},
   "outputs": [],
   "source": [
    "a = \"Die\"\n",
    "b = \"Ärzte\"\n",
    "\n",
    "# Loesung\n",
    "\n",
    "#Loesungsende"
   ]
  },
  {
   "cell_type": "markdown",
   "metadata": {},
   "source": [
    "---\n",
    "Gegeben sind folgende beiden Listen mit Zahlenwerten. Diese sollen zu einer dritten Liste zusammengefügt und anschließend ausgegeben werden."
   ]
  },
  {
   "cell_type": "code",
   "execution_count": null,
   "metadata": {},
   "outputs": [],
   "source": [
    "liste1 = [12,45,38,7,55]\n",
    "liste2 = [30,19,2,64,24]\n",
    "\n",
    "# Loesung\n",
    "\n",
    "#Loesungsende"
   ]
  },
  {
   "cell_type": "markdown",
   "metadata": {},
   "source": [
    "---\n",
    "Der Operator `*` erlaubt es, eine Liste, ein Tuple oder einen String $n$-mal hineinander zu hängen, z.B. `meineListe*n`. Bitte beachten Sie, dass hierbei `n` eine ganze Zahl sein muss. Ist $n\\leq0$ ist das Ergebnis leer.\n",
    "Geben Sie den angegebenen String 3 mal hintereinander aus und verlängern Sie die angegebene Liste mit noch einmal genau den gleichen Werten und geben Sie diese aus. Verwenden Sie jeweils den Multiplikations-Operator `*`."
   ]
  },
  {
   "cell_type": "code",
   "execution_count": null,
   "metadata": {},
   "outputs": [],
   "source": [
    "String = \"Hallo!\"\n",
    "Liste = [1,2,3]\n",
    "\n",
    "# Loesung\n",
    "\n",
    "#Loesungsende"
   ]
  },
  {
   "cell_type": "markdown",
   "metadata": {},
   "source": [
    "---\n",
    "## Teil C: Listenmethoden\n",
    "---\n",
    "### Aufgabe 5: Ersetzen von Werten\n",
    "Es ist möglich in Listen einen oder mehrere Werte durch Zugriff auf den Index zu ersetzen.\n",
    "\n",
    "Im einfachsten Fall wird genau ein Wert ersetzt. Führen Sie zunächst die folgende Zelle aus und beobachten Sie das Ergebnis. Ersetzen Sie dann das dritte und letzte Element der Liste durch 13 und geben Sie das Ergebnis aus. "
   ]
  },
  {
   "cell_type": "code",
   "execution_count": null,
   "metadata": {},
   "outputs": [],
   "source": [
    "dieListe=list(range(1,6))\n",
    "print(dieListe)\n",
    "dieListe[1]=99\n",
    "print(dieListe)"
   ]
  },
  {
   "cell_type": "markdown",
   "metadata": {},
   "source": [
    "---\n",
    "Man kann mit Slicing auch auf mehrere Werte zugreifen, die ersetzt werden sollen. Hierbei müssen die Werte, die alte Listenwerte ersetzen, in Form eines Iterable (sequenzieller Datentyp, `range()`) angegeben werden:"
   ]
  },
  {
   "cell_type": "code",
   "execution_count": null,
   "metadata": {},
   "outputs": [],
   "source": [
    "dieListe=list(range(1,6))\n",
    "print(dieListe)\n",
    "dieListe[1:3]=[99,111]\n",
    "print(dieListe)"
   ]
  },
  {
   "cell_type": "markdown",
   "metadata": {},
   "source": [
    "Enthält das Iterable weniger oder mehr Werte als Werte zu ersetzen sind, wird die Liste entsprechend kleiner oder größer. Übernehmen Sie den vorherigen Code, ersetzen aber die beiden Werte des Iterable zunächst durch 5 Werte und im zweiten Schritt durch nur einen Wert."
   ]
  },
  {
   "cell_type": "code",
   "execution_count": null,
   "metadata": {},
   "outputs": [],
   "source": [
    "# mit fünf Werten ersetzen\n",
    "# Loesung\n",
    "\n",
    "#Loesungsende"
   ]
  },
  {
   "cell_type": "code",
   "execution_count": null,
   "metadata": {},
   "outputs": [],
   "source": [
    "# mit einem Wert ersetzen\n",
    "# Loesung\n",
    "\n",
    "#Loesungsende"
   ]
  },
  {
   "cell_type": "markdown",
   "metadata": {},
   "source": [
    "**Hinweis:** Falls Sie die Schrittweite verwenden, muss die Anzahl der neuen Werte der Anzahl der zu ersetzenden Elemente entsprechen."
   ]
  },
  {
   "cell_type": "markdown",
   "metadata": {},
   "source": [
    "---\n",
    "### Aufgabe 6: Werte löschen"
   ]
  },
  {
   "cell_type": "markdown",
   "metadata": {},
   "source": [
    "Die Methode `pop()` gibt den gelöschten Wert zurück.\n",
    "\n",
    "Erstellen Sie mit Hilfe von  `list()` und `range()` (siehe die [Aufgaben zu `range()`](06b_ForSchleife_Aufgaben.ipynb#listrange)) zunächst eine Liste von 1 bis 10. Löschen Sie unter der Verwendung von `pop()` zuerst die Zahl 4 mit anschließender Ausgabe der Liste und danach die Zahl 10 mit anschließender Ausgabe der Liste. Lassen Sie zuletzt beim Löschen den Wert für den Index leer, speichern Sie den Rückgabewert von pop und geben Sie diesen und die Liste aus. Was können Sie beobachten?"
   ]
  },
  {
   "cell_type": "code",
   "execution_count": null,
   "metadata": {},
   "outputs": [],
   "source": [
    "#Loesung\n",
    "\n",
    "#Loesungsende"
   ]
  },
  {
   "cell_type": "markdown",
   "metadata": {},
   "source": [
    "---\n",
    "Löschen Sie unter Verwendung von `remove()` das erste \"o\" aus der angegebenen Liste und geben Sie das Ergebnis anschließend aus."
   ]
  },
  {
   "cell_type": "code",
   "execution_count": null,
   "metadata": {},
   "outputs": [],
   "source": [
    "Liste = list(\"Schokolade\")\n",
    "print(Liste)\n",
    "\n",
    "#Loesung\n",
    "\n",
    "#Loesungsende"
   ]
  },
  {
   "cell_type": "markdown",
   "metadata": {},
   "source": [
    "---\n",
    "Erstellen Sie zunächst wie oben eine Liste aus dem String \"Schokolade\". Nun soll nicht nur ein \"o\", sondern alle aus der Liste entfernt werden. Benutzen Sie hierfür `in` und eine `while`-Schleife."
   ]
  },
  {
   "cell_type": "code",
   "execution_count": null,
   "metadata": {},
   "outputs": [],
   "source": [
    "#Loesung\n",
    "\n",
    "#Loesungsende"
   ]
  },
  {
   "cell_type": "markdown",
   "metadata": {},
   "source": [
    "---\n",
    "### Aufgabe 7: Einfügen neuer Elemente"
   ]
  },
  {
   "cell_type": "markdown",
   "metadata": {},
   "source": [
    "Erstellen Sie eine Liste von 9 bis 16. Fügen Sie zunächst eine beliebige Zahl bei Index 2 hinzu und anschließend eine beliebige Zahl zwischen 14 und 15. Geben Sie die erweiterte Liste nach jedem Schritt aus."
   ]
  },
  {
   "cell_type": "code",
   "execution_count": null,
   "metadata": {},
   "outputs": [],
   "source": [
    "#Loesung\n",
    "\n",
    "#Loesungsende"
   ]
  },
  {
   "cell_type": "markdown",
   "metadata": {},
   "source": [
    "---\n",
    "Erstellen Sie eine Liste von 1 bis 4. Hängen Sie dann mit `append()` zwei weitere Werte als Liste (also mit `[]`) an die bisherige Liste an. Geben Sie die neue Liste und deren Länge aus. Was fällt auf?"
   ]
  },
  {
   "cell_type": "code",
   "execution_count": null,
   "metadata": {},
   "outputs": [],
   "source": [
    "#Loesung\n",
    "\n",
    "#Loesungsende"
   ]
  },
  {
   "cell_type": "markdown",
   "metadata": {},
   "source": [
    "---\n",
    "Erstellen Sie eine Liste von 1 bis 4. Hängen Sie dann mit `extend()` zwei weitere Werte der Reihe an die Liste an. Geben Sie die neue Liste und deren Länge aus. Vergleichen Sie die Ausgabe mit der vorherigen Aufgabe. Wie unterscheiden sich `append()` und `extend()`? "
   ]
  },
  {
   "cell_type": "code",
   "execution_count": null,
   "metadata": {},
   "outputs": [],
   "source": [
    "#Loesung\n",
    "\n",
    "#Loesungsende"
   ]
  },
  {
   "cell_type": "markdown",
   "metadata": {},
   "source": [
    "---\n",
    "### Aufgabe 8: Fehleranalyse\n",
    "Der folgende Code soll noch einmal die Unterschiede zwischen `append()` und `extend()` aufzeigen, doch es hat sich ein Fehler eingeschlichen. Führen Sie folgenden Code aus und verändern Sie den Code so, dass ein Ergebnis ausgegeben wird. Vergleichen Sie die Ausgaben miteinander. "
   ]
  },
  {
   "cell_type": "code",
   "execution_count": null,
   "metadata": {},
   "outputs": [],
   "source": [
    "dieListe1=(1,2)\n",
    "dieListe2=(1,2)\n",
    "\n",
    "dieListe1.append('Hallo')\n",
    "dieListe2.extend('Hallo')\n",
    "\n",
    "print(\"dieListe1.append('hallo')\")\n",
    "print('dieListe1:', dieListe1)\n",
    "print('len(dieListe1):',len(dieListe1))\n",
    "print(\"\\ndieListe2.extend('hallo')\")\n",
    "print('dieListe2:', dieListe2)\n",
    "print('len(dieListe2):',len(dieListe2))"
   ]
  },
  {
   "cell_type": "markdown",
   "metadata": {},
   "source": [
    "---\n",
    "### Aufgabe 9: Fehleranalyse\n",
    "Verändern Sie den nachfolgenden Code so, dass die Summe der Zahlen berechnet und ausgegeben wird. Schauen Sie sich dafür gegebenenfalls die Dokumentation (https://docs.python.org/3/library/math.html) oder \n",
    "[8. Funktionen](08a_Funktionen_Theorie.ipynb) an."
   ]
  },
  {
   "cell_type": "code",
   "execution_count": null,
   "metadata": {},
   "outputs": [],
   "source": [
    "import math\n",
    "print(math.fsum(1,2,34))"
   ]
  },
  {
   "cell_type": "markdown",
   "metadata": {},
   "source": [
    "---\n",
    "Herzlichen Glückwunsch, das Kapitel ist hiermit abgeschlossen!\n",
    "\n",
    "Link zum Kapitel der `NumPy`-Arrays: [10. `NumPy` - Arrays](./10a_NumPy_Theorie.ipynb)"
   ]
  },
  {
   "cell_type": "markdown",
   "metadata": {
    "deletable": false,
    "editable": false,
    "tags": []
   },
   "source": [
    "<a rel=\"license\" href=\"http://creativecommons.org/licenses/by-nc-nd/4.0/\"><img alt=\"Creative Commons Lizenzvertrag\" style=\"border-width:0\" src=\"https://i.creativecommons.org/l/by-nc-nd/4.0/88x31.png\" /></a><br /><span xmlns:dct=\"http://purl.org/dc/terms/\" property=\"dct:title\">Das JuPy Python Tutorial</span> der <span xmlns:cc=\"http://creativecommons.org/ns#\" property=\"cc:attributionName\">EAH Jena</span> ist lizenziert unter einer <a rel=\"license\" href=\"http://creativecommons.org/licenses/by-nc-nd/4.0/\">Creative Commons Namensnennung - Nicht kommerziell - Keine Bearbeitungen 4.0 International Lizenz</a>.\n"
   ]
  }
 ],
 "metadata": {
  "kernelspec": {
   "display_name": "Python 3 (ipykernel)",
   "language": "python",
   "name": "python3"
  },
  "language_info": {
   "codemirror_mode": {
    "name": "ipython",
    "version": 3
   },
   "file_extension": ".py",
   "mimetype": "text/x-python",
   "name": "python",
   "nbconvert_exporter": "python",
   "pygments_lexer": "ipython3",
   "version": "3.10.8"
  }
 },
 "nbformat": 4,
 "nbformat_minor": 4
}
