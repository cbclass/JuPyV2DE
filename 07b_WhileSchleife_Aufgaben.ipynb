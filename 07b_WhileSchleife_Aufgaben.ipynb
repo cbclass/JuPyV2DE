{
 "cells": [
  {
   "cell_type": "markdown",
   "metadata": {},
   "source": [
    "[JuPy: Inhaltsverzeichnis](00_Einleitung.ipynb#Inhaltsverzeichnis)\n",
    "\n",
    "# A 7. Aufgaben `while`-Schleife"
   ]
  },
  {
   "cell_type": "markdown",
   "metadata": {},
   "source": [
    "---\n",
    "### Aufgabe 1: Zahlenfolge\n",
    "Geben Sie die Zahlen von 0 bis 21 mit einer `while`-Schleife aus ($0,3,\\ldots,21$). Die Schrittweite soll 3 betragen."
   ]
  },
  {
   "cell_type": "code",
   "execution_count": null,
   "metadata": {},
   "outputs": [],
   "source": [
    "# Loesung\n",
    "\n",
    "\n",
    "# Loesungsende"
   ]
  },
  {
   "cell_type": "markdown",
   "metadata": {},
   "source": [
    "---\n",
    "### Aufgabe 2: Endlosschleife\n",
    "\n",
    "Geben sie die Zahlen von 0 bis 20 aus, diesmal jedoch mit einer Endlosschleife, `if`, `break` und der Schrittweite 1."
   ]
  },
  {
   "cell_type": "code",
   "execution_count": null,
   "metadata": {},
   "outputs": [],
   "source": [
    "# Loesung\n",
    "\n",
    "\n",
    "# Loesungsende"
   ]
  },
  {
   "cell_type": "markdown",
   "metadata": {},
   "source": [
    "---\n",
    "### Aufgabe 3: Schleife mit Nutzereingabe"
   ]
  },
  {
   "cell_type": "markdown",
   "metadata": {},
   "source": [
    "Lassen Sie den Nutzer solange Text eingeben, bis dieser das Wort 'fertig' schreibt."
   ]
  },
  {
   "cell_type": "code",
   "execution_count": null,
   "metadata": {},
   "outputs": [],
   "source": [
    "# Loesung\n",
    "\n",
    "\n",
    "# Loesungsende"
   ]
  },
  {
   "cell_type": "markdown",
   "metadata": {},
   "source": [
    "---\n",
    "### Aufgabe 4: Addition\n",
    "\n",
    "Schreiben Sie Code, um alle Zahlen von 1 bis 5 zu addieren und die Summe in der Variablen `ergebnis` zu speichern. Verwenden Sie eine `while`-Schleife. Geben Sie anschließend die Variable `ergebnis` aus."
   ]
  },
  {
   "cell_type": "code",
   "execution_count": null,
   "metadata": {},
   "outputs": [],
   "source": [
    "# Loesung\n",
    "\n",
    "\n",
    "# Loesungsende"
   ]
  },
  {
   "cell_type": "markdown",
   "metadata": {},
   "source": [
    "---\n",
    "### Aufgabe 5: Kontrollfrage\n",
    "Wie lauten die Ausgabe des folgenden Code-Segments? Führen Sie die untere Zelle aus und wählen Sie die Antwort aus. Überprüfen Sie die Antworte mit Klick auf \"prüfen\". \n",
    "\n",
    "Wenn Sie die Antwort richtig gegeben haben, erhalten Sie den weiterführenden Link zum aktuellen Teil des Projekts.\n"
   ]
  },
  {
   "cell_type": "code",
   "execution_count": null,
   "metadata": {},
   "outputs": [],
   "source": [
    "%run data/07b_checkanswer.ipynb"
   ]
  },
  {
   "cell_type": "markdown",
   "metadata": {},
   "source": [
    "# Zusatzaufgaben zur `while`-Schleife"
   ]
  },
  {
   "cell_type": "markdown",
   "metadata": {},
   "source": [
    "---\n",
    "### Zusatzaufgabe 1: Aggregatzustand "
   ]
  },
  {
   "cell_type": "markdown",
   "metadata": {},
   "source": [
    "#### Teil A: Wiederholung Selektion\n",
    "\n",
    "Entwerfen Sie ein Programm, welches den Aggregatzustand von Wasser ausgibt, nachdem der Nutzer die Temperatur eingegeben hat. Verwenden Sie eine `if`-Anweisung. \n",
    "\n",
    "Hierbei sollen folgende Konventionen gelten:\n",
    "\n",
    "| | |\n",
    "| - | :-: |\n",
    "| __fest__ | `Temperatur <= 0` |\n",
    "| __flüssig__ | `0 < Temperatur < 100` |\n",
    "| __gasförmig__ | `Temperatur >= 100` |\n",
    "\n",
    "**Hinweis:** Falls Ihnen diese Aufgabe bereits bekannt vorkommt. Dies ist [Aufgabe 1 der Selektion](05b_Selektion_Aufgaben.ipynb#aggregatZustandIf)."
   ]
  },
  {
   "cell_type": "code",
   "execution_count": null,
   "metadata": {},
   "outputs": [],
   "source": [
    "# Loesung\n",
    "\n",
    "\n",
    "# Loesungsende"
   ]
  },
  {
   "cell_type": "markdown",
   "metadata": {},
   "source": [
    "#### Teil B\n",
    "\n",
    "Erweitern Sie das Programm nun so mit einer `while`-Schleife, dass die Nutzerin nach jeder Eingabe gefragt wird, ob sie noch eine eine Temperatur eingeben will. Lassen Sie sich den Aggregatzustand nach jeder Eingabe ausgeben. "
   ]
  },
  {
   "cell_type": "code",
   "execution_count": null,
   "metadata": {},
   "outputs": [],
   "source": [
    "# Loesung\n",
    "\n",
    "\n",
    "# Loesungsende"
   ]
  },
  {
   "cell_type": "markdown",
   "metadata": {},
   "source": [
    "---\n",
    "### Zusatzaufgabe 2: Thermometer\n",
    "\n",
    "Die folgende Aufgabe soll ein einfaches Thermometer simulieren. Vom Nutzer werden Werte wiederholt in einer Schleife eingegeben. Ist die Änderung dieser Werte unter einer bestimmten Schwelle, soll die Endtemperatur ausgegeben werden. Beispiel mit Schwelle 0.2:\n",
    "\n",
    "Bei der Eingabe von 5,7,8,8.5,8.4 wird als Endtemperatur 8.4 Grad ausgegeben.\n"
   ]
  },
  {
   "cell_type": "code",
   "execution_count": null,
   "metadata": {},
   "outputs": [],
   "source": [
    "# Loesung\n",
    "\n",
    "\n",
    "# Loesungsende"
   ]
  },
  {
   "cell_type": "markdown",
   "metadata": {},
   "source": [
    "---\n",
    "Herzlichen Glückwunsch, das Kapitel ist hiermit abgeschlossen!\n",
    "\n",
    "Link zum Kapitel der Funktionen: [8. Funktionen](./08a_Funktionen_Theorie.ipynb)"
   ]
  },
  {
   "cell_type": "markdown",
   "metadata": {
    "deletable": false,
    "editable": false,
    "tags": []
   },
   "source": [
    "<a rel=\"license\" href=\"http://creativecommons.org/licenses/by-nc-nd/4.0/\"><img alt=\"Creative Commons Lizenzvertrag\" style=\"border-width:0\" src=\"https://i.creativecommons.org/l/by-nc-nd/4.0/88x31.png\" /></a><br /><span xmlns:dct=\"http://purl.org/dc/terms/\" property=\"dct:title\">Das JuPy Python Tutorial</span> der <span xmlns:cc=\"http://creativecommons.org/ns#\" property=\"cc:attributionName\">EAH Jena</span> ist lizenziert unter einer <a rel=\"license\" href=\"http://creativecommons.org/licenses/by-nc-nd/4.0/\">Creative Commons Namensnennung - Nicht kommerziell - Keine Bearbeitungen 4.0 International Lizenz</a>.\n"
   ]
  }
 ],
 "metadata": {
  "kernelspec": {
   "display_name": "Python 3 (ipykernel)",
   "language": "python",
   "name": "python3"
  },
  "language_info": {
   "codemirror_mode": {
    "name": "ipython",
    "version": 3
   },
   "file_extension": ".py",
   "mimetype": "text/x-python",
   "name": "python",
   "nbconvert_exporter": "python",
   "pygments_lexer": "ipython3",
   "version": "3.10.8"
  }
 },
 "nbformat": 4,
 "nbformat_minor": 4
}
