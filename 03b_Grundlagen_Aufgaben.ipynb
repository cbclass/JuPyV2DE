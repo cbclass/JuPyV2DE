{
 "cells": [
  {
   "cell_type": "markdown",
   "metadata": {},
   "source": [
    "[JuPy: Inhaltsverzeichnis](00_Einleitung.ipynb#Inhaltsverzeichnis)\n",
    "\n",
    "# A 3. Grundlagen Aufgaben"
   ]
  },
  {
   "cell_type": "markdown",
   "metadata": {},
   "source": [
    "### Aufgabe 1\n",
    "Geben Sie \"Hello World\" aus."
   ]
  },
  {
   "cell_type": "code",
   "execution_count": null,
   "metadata": {},
   "outputs": [],
   "source": [
    "#Loesung\n",
    "\n",
    "\n",
    "#Loesungsende"
   ]
  },
  {
   "cell_type": "markdown",
   "metadata": {},
   "source": [
    "---\n",
    "### Aufgabe 2"
   ]
  },
  {
   "cell_type": "markdown",
   "metadata": {},
   "source": [
    "Weisen Sie einer Variablen ihrer Wahl einen String mit Ihrem Namen zu und lassen Sie die Variable ausgeben."
   ]
  },
  {
   "cell_type": "code",
   "execution_count": null,
   "metadata": {},
   "outputs": [],
   "source": [
    "#Loesung\n",
    "\n",
    "\n",
    "#Loesungsende"
   ]
  },
  {
   "cell_type": "markdown",
   "metadata": {},
   "source": [
    "---\n",
    "### Aufgabe 3"
   ]
  },
  {
   "cell_type": "markdown",
   "metadata": {},
   "source": [
    "Probieren Sie dieselbe Zuweisung ohne Ihren Namen in Anführungszeichen zu setzten und schauen Sie was passiert."
   ]
  },
  {
   "cell_type": "code",
   "execution_count": null,
   "metadata": {},
   "outputs": [],
   "source": [
    "#Loesung\n",
    "\n",
    "\n",
    "#Loesungsende"
   ]
  },
  {
   "cell_type": "markdown",
   "metadata": {},
   "source": [
    "---\n",
    "### Aufgabe 4"
   ]
  },
  {
   "cell_type": "markdown",
   "metadata": {},
   "source": [
    "Überlegen Sie sich, zu welchem Datentyp die nachfolgenden Konstanten gehören und fragen Sie diesen anschließend ab.<br>\n",
    "* 1.3\n",
    "* 4\n",
    "* -3\n",
    "* \"Hallo\"\n",
    "* \"17\"\n",
    "* -2.7"
   ]
  },
  {
   "cell_type": "code",
   "execution_count": null,
   "metadata": {},
   "outputs": [],
   "source": [
    "#Loesung\n",
    "\n",
    "\n",
    "#Loesungsende"
   ]
  },
  {
   "cell_type": "markdown",
   "metadata": {},
   "source": [
    "---\n",
    "### Aufgabe 5"
   ]
  },
  {
   "cell_type": "markdown",
   "metadata": {},
   "source": [
    "Geben Sie Beispiele für die richtigen Datentypen bei der Variablenzuweisung an, führen Sie das Programm aus und schauen Sie, ob das Programm den gewünschten Datentyp ausgibt."
   ]
  },
  {
   "cell_type": "code",
   "execution_count": null,
   "metadata": {},
   "outputs": [],
   "source": [
    "IchBinEinFloat =       #Hier Float einfügen\n",
    "IchBinEinInteger =     #Hier Integer einfügen\n",
    "IchBinEinString =      #Hier String einfügen\n",
    "\n",
    "print (type(IchBinEinFloat),'\\n', type(IchBinEinInteger),'\\n', type(IchBinEinString))"
   ]
  },
  {
   "cell_type": "markdown",
   "metadata": {},
   "source": [
    "---\n",
    "### Aufgabe 6"
   ]
  },
  {
   "cell_type": "markdown",
   "metadata": {},
   "source": [
    "Vergeben Sie 3 Variablen `name`, `alter`, und `haarfarbe` und geben Sie diese anschließend aus."
   ]
  },
  {
   "cell_type": "code",
   "execution_count": null,
   "metadata": {},
   "outputs": [],
   "source": [
    "#Loesung\n",
    "\n",
    "\n",
    "#Loesungsende"
   ]
  },
  {
   "cell_type": "markdown",
   "metadata": {},
   "source": [
    "---\n",
    "### Aufgabe 7"
   ]
  },
  {
   "cell_type": "markdown",
   "metadata": {},
   "source": [
    "Lassen Sie die gleichen Variablen wie in der vorherigen Aufgabe nun über die `input`-Funktion vom Nutzer eingeben. Geben Sie diese danach wieder aus, aber diesmal als vollständiger Satz, z.B.: `\"Hallo Kevin. Du bist 19 Jahre alt und deine Haarfarbe ist grün.\"`"
   ]
  },
  {
   "cell_type": "code",
   "execution_count": null,
   "metadata": {},
   "outputs": [],
   "source": [
    "#Loesung\n",
    "\n",
    "\n",
    "#Loesungsende"
   ]
  },
  {
   "cell_type": "markdown",
   "metadata": {},
   "source": [
    "---\n",
    "### Aufgabe 8"
   ]
  },
  {
   "cell_type": "markdown",
   "metadata": {},
   "source": [
    "Es sind nachfolgende Variablen definiert. Geben Sie diese in einem zusammenhängenden Satz aus und verwenden Sie diesmal mathematische Verknüpfungen mit `+`. **Hinweis:** Achten Sie auf den Datentyp!"
   ]
  },
  {
   "cell_type": "code",
   "execution_count": null,
   "metadata": {},
   "outputs": [],
   "source": [
    "name = \"Ernie\"\n",
    "alter = 51\n",
    "Haarfarbe = \"schwarz\"\n",
    "\n",
    "#Loesung\n",
    "\n",
    "\n",
    "#Loesungsende"
   ]
  },
  {
   "cell_type": "markdown",
   "metadata": {},
   "source": [
    "---\n",
    "Herzlichen Glückwunsch, das Kapitel ist hiermit abgeschlossen!\n",
    "\n",
    "Link zum Kapitel der Operatoren: [4. Operatoren](./04a_Operatoren_Theorie.ipynb)"
   ]
  },
  {
   "cell_type": "markdown",
   "metadata": {},
   "source": [
    "<a rel=\"license\" href=\"http://creativecommons.org/licenses/by-nc-nd/4.0/\"><img alt=\"Creative Commons Lizenzvertrag\" style=\"border-width:0\" src=\"https://i.creativecommons.org/l/by-nc-nd/4.0/88x31.png\" /></a><br /><span xmlns:dct=\"http://purl.org/dc/terms/\" property=\"dct:title\">Das JuPy Python Tutorial</span> der <span xmlns:cc=\"http://creativecommons.org/ns#\" property=\"cc:attributionName\">EAH Jena</span> ist lizenziert unter einer <a rel=\"license\" href=\"http://creativecommons.org/licenses/by-nc-nd/4.0/\">Creative Commons Namensnennung - Nicht kommerziell - Keine Bearbeitungen 4.0 International Lizenz</a>.\n",
    "\n"
   ]
  }
 ],
 "metadata": {
  "kernelspec": {
   "display_name": "Python 3 (ipykernel)",
   "language": "python",
   "name": "python3"
  },
  "language_info": {
   "codemirror_mode": {
    "name": "ipython",
    "version": 3
   },
   "file_extension": ".py",
   "mimetype": "text/x-python",
   "name": "python",
   "nbconvert_exporter": "python",
   "pygments_lexer": "ipython3",
   "version": "3.10.8"
  }
 },
 "nbformat": 4,
 "nbformat_minor": 4
}
