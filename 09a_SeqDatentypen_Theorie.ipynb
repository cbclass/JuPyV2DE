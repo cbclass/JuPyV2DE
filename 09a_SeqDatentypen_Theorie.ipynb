{
 "cells": [
  {
   "cell_type": "markdown",
   "metadata": {},
   "source": [
    "<img src=\"./data/Lernfortschritt09.PNG\" width=\"1000\">\n",
    "\n",
    "&nbsp;&nbsp;&nbsp;&nbsp;&nbsp;&nbsp;&nbsp;&nbsp;&nbsp;&nbsp;&nbsp;&nbsp;&nbsp;&nbsp;&nbsp;&nbsp;&nbsp;&nbsp;&nbsp;&nbsp;&nbsp;&nbsp;&nbsp;&nbsp;&nbsp;&nbsp;&nbsp;&nbsp;&nbsp;&nbsp;&nbsp;&nbsp;&nbsp;&nbsp;&nbsp;&nbsp;&nbsp;&nbsp;&nbsp;&nbsp;&nbsp;&nbsp;&nbsp;&nbsp;&nbsp;&nbsp;&nbsp;&nbsp;&nbsp;&nbsp;&nbsp;&nbsp;&nbsp;&nbsp;&nbsp;&nbsp;&nbsp;&nbsp;&nbsp;&nbsp;&nbsp;&nbsp;&nbsp;&nbsp;&nbsp;&nbsp;&nbsp;&nbsp;&nbsp;&nbsp;&nbsp;&nbsp;&nbsp;&nbsp;&nbsp;&nbsp;&nbsp;&nbsp;&nbsp;&nbsp;&nbsp;&nbsp;&nbsp;&nbsp;&nbsp;&nbsp;&nbsp;&nbsp;&nbsp;&nbsp;&nbsp;&nbsp;&nbsp;&nbsp;&nbsp;&nbsp;&nbsp;&nbsp;&nbsp;&nbsp;[8. Aufruf von Funktionen](./08a_Funktionen_Theorie.ipynb) &nbsp;&nbsp;&nbsp;&nbsp;  9. Sequentielle Datentypen   &nbsp;&nbsp;&nbsp;&nbsp;  [10. NumPy Arrays](./10a_NumPy_Theorie.ipynb)\n",
    "\n",
    "[JuPy: Inhaltsverzeichnis](00_Einleitung.ipynb#Inhaltsverzeichnis)"
   ]
  },
  {
   "cell_type": "markdown",
   "metadata": {},
   "source": [
    "# 9. Sequentielle Datentypen"
   ]
  },
  {
   "cell_type": "markdown",
   "metadata": {},
   "source": [
    "Zu den sequentiellen Datentypen gehören die folgenden nicht-skalaren Datentypen (Skalar = mathematische Größe, die durch einen Zahlenwert charkterisiert ist):  \n",
    "\n",
    "* `str` beschreibt **Zeichenketten** (eng. **String**), z.B. `meinString = \"Snowboard\"`\n",
    "* `list` beschreibt **Listen**, z.B `meineListe = [95, 61 ,12, 45, 23]`\n",
    "* `tuple` beschreibt **Tupel**, z.B. `meinTupel = (\"Johann\", \"Lea\", \"Paula\", \"Pia\")`\n",
    "\n",
    "\n",
    "Der Zugriff auf die einzelnen Elemente der von uns verwendeten sequentiellen Datentypen verläuft immer **indexbasiert**."
   ]
  },
  {
   "cell_type": "markdown",
   "metadata": {
    "tags": []
   },
   "source": [
    "<a id='list'></a>\n",
    "## Listen\n",
    "\n",
    "In Listen (genauso wie später in Tupel) können Daten und Informationen zusamenhängend zueinander abgespeichert werden.\n",
    "\n",
    "Eine Liste wird mit Hilfe der eckigen Klammern `[` und `]` definiert. Einzelne Listenelemente werden durch das Komme `,` getrennt:"
   ]
  },
  {
   "cell_type": "code",
   "execution_count": null,
   "metadata": {
    "tags": []
   },
   "outputs": [],
   "source": [
    "# Definition von Listen\n",
    "leereListe=[]\n",
    "listeMitEinemElement=[1]\n",
    "listeMitMehrerenElementen=[1,1,2,3]\n",
    "print(leereListe)\n",
    "print(listeMitEinemElement)\n",
    "print(listeMitMehrerenElementen)"
   ]
  },
  {
   "cell_type": "markdown",
   "metadata": {},
   "source": [
    "Zum Beispiel gemessene Temperaturen im Tagesverlauf:"
   ]
  },
  {
   "cell_type": "code",
   "execution_count": null,
   "metadata": {},
   "outputs": [],
   "source": [
    "temp = [3.3, 5.6, 6.7, 7.4, 7.3, 5.2]"
   ]
  },
  {
   "cell_type": "markdown",
   "metadata": {},
   "source": [
    "Wie oben schon erwähnt, kann über den Index auf die einzelnen Elemente der Liste zugreifen. Der Index der Elemente ist von links nach rechts aufsteigend und beginnt mit `0`. In unserem Beispiel hätte das erste Element `3.3` also den Index `0` und das letzte und sechste Element `5.2` den Index `5`.\n",
    "\n",
    "In diesem Beispiel bestehen alle Elemente aus Dezimalzahlen, jedoch können die **Elemente** in Listen **beliebig** gewählt werden und können auch innerhalb einer Liste variieren."
   ]
  },
  {
   "cell_type": "code",
   "execution_count": null,
   "metadata": {},
   "outputs": [],
   "source": [
    "gemischteListe=[True,1.3,23,'Hallo']\n",
    "print(gemischteListe)"
   ]
  },
  {
   "cell_type": "markdown",
   "metadata": {},
   "source": [
    "Die folgenden Beispiele zeigen, wie unterschiedliche Informationen, die die Liste enthält, abgefragt werden:"
   ]
  },
  {
   "cell_type": "markdown",
   "metadata": {},
   "source": [
    "---\n",
    "### Beispiel 1: Existenz eines bestimmten Wertes:"
   ]
  },
  {
   "cell_type": "markdown",
   "metadata": {},
   "source": [
    "Die Operatoren `in` und `not in` testen, ob ein bestimmter Wert in der Liste ist und geben einen Wahrheitswert (`True` oder `False`) zurück. "
   ]
  },
  {
   "cell_type": "code",
   "execution_count": null,
   "metadata": {},
   "outputs": [],
   "source": [
    "temp = [3.3, 5.6, 6.7, 7.4, 7.3, 5.2]\n",
    "print(3.3 in temp)         # liefert als Rückgabe einen Wahrheitswert, ob sich der Wert 3.3 in der Liste befindet\n",
    "print(0.2 in temp)         # liefert als Rückgabe einen Wahrheitswert, ob sich der Wert 0.2 in der Liste befindet\n",
    "print(3.3 not in temp)     # liefert als Rückgabe einen Wahrheitswert, ob sich der Wert 3.3 nicht in der Liste befindet\n",
    "print(0.2 not in temp)     # liefert als Rückgabe einen Wahrheitswert, ob sich der Wert 0.2 nicht in der Liste befindet"
   ]
  },
  {
   "cell_type": "markdown",
   "metadata": {},
   "source": [
    "---\n",
    "### Beispiel 2: Länge der Liste ausgeben:\n",
    "\n",
    "Die Funktion `len()` bestimmt die Länger einer Liste, also die Anzahl Elemente in der Liste."
   ]
  },
  {
   "cell_type": "code",
   "execution_count": null,
   "metadata": {},
   "outputs": [],
   "source": [
    "temp = [3.3, 5.6, 6.7, 7.4, 7.3, 5.2]\n",
    "print(len(temp))"
   ]
  },
  {
   "cell_type": "markdown",
   "metadata": {},
   "source": [
    "---\n",
    "### Beispiel 3: Elemente der Liste ausgeben:\n",
    "\n",
    "Der Zugriff auf einzelne Elemente der Liste erfolgt über den Zugriffsoperator `[]` und die Angabe des Index:"
   ]
  },
  {
   "cell_type": "code",
   "execution_count": null,
   "metadata": {},
   "outputs": [],
   "source": [
    "temp = [3.3, 5.6, 6.7, 7.4, 7.3, 5.2]\n",
    "print('Ausgabe 1. Element:',temp[0])   # Index 0\n",
    "print('Ausgabe 3. Element:',temp[2])   # Index 2"
   ]
  },
  {
   "cell_type": "markdown",
   "metadata": {},
   "source": [
    "---\n",
    "### Beispiel 4: Letztes Element der Liste ausgeben:\n",
    "\n",
    "Um das letzte Element des Liste auszugeben, können wir `len()` verwenden. "
   ]
  },
  {
   "cell_type": "code",
   "execution_count": null,
   "metadata": {},
   "outputs": [],
   "source": [
    "temp = [3.3, 5.6, 6.7, 7.4, 7.3, 5.2]\n",
    "print(temp[len(temp)-1])    # der Index des ersten Elements ist 0"
   ]
  },
  {
   "cell_type": "markdown",
   "metadata": {},
   "source": [
    "oder den Index `-1`:"
   ]
  },
  {
   "cell_type": "code",
   "execution_count": null,
   "metadata": {},
   "outputs": [],
   "source": [
    "temp = [3.3, 5.6, 6.7, 7.4, 7.3, 5.2]\n",
    "print(temp[-1])"
   ]
  },
  {
   "cell_type": "markdown",
   "metadata": {},
   "source": [
    "<a id='slicing'></a>\n",
    "---\n",
    "### Beispiel 5: Slicing: Teilliste ausgeben\n",
    "\n",
    "**Slicing** ermöglicht den Zugriff auf einen Bereich der Liste. Der Bereich wird durch bis zu drei Werte getrennt durch  `:` definiert. Der erste Wert beschreibt den ersten Index des Bereichs (inklusive), der zweite Wert den zweiten Index (exklusive). Ein optionaler dritter Wert gibt die Schrittweite an. Der erste und der zweite Werte können leer sein und werden dann durch \"Endwerte\" ersetzt (bei positiver Schrittweite durch `0` und `len()`)."
   ]
  },
  {
   "cell_type": "code",
   "execution_count": null,
   "metadata": {},
   "outputs": [],
   "source": [
    "temp = [3.3, 5.6, 6.7, 7.4, 7.3, 5.2]\n",
    "print(temp[1:4])       # von Index 1 bis einschließlich Index 3"
   ]
  },
  {
   "cell_type": "code",
   "execution_count": null,
   "metadata": {},
   "outputs": [],
   "source": [
    "temp = [3.3, 5.6, 6.7, 7.4, 7.3, 5.2]\n",
    "print(temp[0:-1:2])     # von Anfang bis Ende jedes zweite Element"
   ]
  },
  {
   "cell_type": "code",
   "execution_count": null,
   "metadata": {},
   "outputs": [],
   "source": [
    "temp = [3.3, 5.6, 6.7, 7.4, 7.3, 5.2]\n",
    "print(temp[::2])        # wenn kein Index angegeben, erstes bis letztes, jedes zweite Element"
   ]
  },
  {
   "cell_type": "markdown",
   "metadata": {},
   "source": [
    "---\n",
    "### Beispiel 6: \n",
    "Listen können mit `+` aneinandergehängt werden, um eine neue Liste zu erzeugen. Dies nennt man **Verkettung** oder **Konkatenation**."
   ]
  },
  {
   "cell_type": "code",
   "execution_count": null,
   "metadata": {},
   "outputs": [],
   "source": [
    "liste1=[1,2,3]\n",
    "liste2=[10,11,12]\n",
    "liste3=liste1+liste2\n",
    "print(liste3)"
   ]
  },
  {
   "cell_type": "markdown",
   "metadata": {},
   "source": [
    "Alle hier genannten Methoden können genauso bei einem String oder Tupel verwendet werden.\n",
    "\n",
    "Der wesentliche Unterschied der Liste zum Tupel und dem String ist jedoch, dass Listen veränderbar sind. Um Listen zu verändern, gibt es folgende\n",
    "### Listenmethoden:\n",
    "\n",
    "In der folgenden Liste von Listenmethoden sind `Liste1` und `Liste2` Listen, `a` ein Listenelement und `i` ein gültiger Index."
   ]
  },
  {
   "cell_type": "markdown",
   "metadata": {},
   "source": [
    "```python\n",
    "Liste1.append(a)        # Einfügen von a an Liste1\n",
    "Liste1.sort()           # Sortieren der Elemente\n",
    "Liste1.reverse()        # Reihenfolge umkehren\n",
    "Liste1.remove(a)        # Erstes Vorkommen von a löschen\n",
    "Liste1.insert(i,a)      # a bei Index i einfügen\n",
    "Liste1.pop(i)           # Element bei Index i entfernen und zurückgeben\n",
    "Liste1.extend(Liste2)   # Liste2 an Liste1 anhängen\n",
    "```"
   ]
  },
  {
   "cell_type": "markdown",
   "metadata": {},
   "source": [
    "Auch können unter Verwendung des Index in einer Liste Werte direkt überschrieben werden:"
   ]
  },
  {
   "cell_type": "code",
   "execution_count": null,
   "metadata": {},
   "outputs": [],
   "source": [
    "liste2=[1,2,3,4]\n",
    "print(liste2)\n",
    "liste2[0]=12\n",
    "liste2[-1]=13\n",
    "print(liste2)"
   ]
  },
  {
   "cell_type": "markdown",
   "metadata": {
    "tags": []
   },
   "source": [
    "<a id='tuple'></a>\n",
    "## Tupel\n",
    "\n",
    "Wie schon im vorherigen Teil erwähnt sind Tupel im Vergleich zu Listen nicht veränderbar. Im Python Code werden zur Unterscheidung Listen in `[Eckige Klammern]` und Tupel in `(Runde Klammern)` gesetzt. \n",
    "\n",
    "Ein Tupel wird mit Hilfe der runden Klammern `(` und `)` definiert. Bitte beachten Sie, dass zur Unterscheidung einer Zahl in Klammern und eines Tupels mit einem Element, nach diesem Element ein Komma stehen muss."
   ]
  },
  {
   "cell_type": "code",
   "execution_count": null,
   "metadata": {},
   "outputs": [],
   "source": [
    "# Definition von Tupeln\n",
    "leeresTupel=()\n",
    "tupelMitEinemElement=(1,)\n",
    "tupelMitEinemElementFalsch=(1)\n",
    "tupelMitMehrerenElementen=(1,2,3)\n",
    "print(leeresTupel)\n",
    "print(tupelMitEinemElement,'ist ein', type(tupelMitEinemElement))\n",
    "print(tupelMitEinemElementFalsch,'ist ein', type(tupelMitEinemElementFalsch))\n",
    "print(tupelMitMehrerenElementen)"
   ]
  },
  {
   "cell_type": "markdown",
   "metadata": {},
   "source": [
    "Die einzelnen Abfrage-Methoden werden hier nicht im einzelnen wiederholt, sondern können im Aufgabenteil geübt werden.\n",
    "\n",
    "Bereits definierte Tupel lassen sich nicht mehr verändern"
   ]
  },
  {
   "cell_type": "markdown",
   "metadata": {},
   "source": [
    "Tupel können wir Listen verkettet werden.\n",
    "\n",
    "---\n",
    "### Beispiel 7: Konkatenation von Tupeln"
   ]
  },
  {
   "cell_type": "code",
   "execution_count": null,
   "metadata": {},
   "outputs": [],
   "source": [
    "meinTupel = (\"Johann\", \"Lea\", \"Paula\", \"Pia\")\n",
    "meinTupel = meinTupel + (\"Christina\", \"Christopher\") # dies erzeugt ein neues Tupel\n",
    "print(meinTupel)"
   ]
  },
  {
   "cell_type": "markdown",
   "metadata": {},
   "source": [
    "## Zeichenkette\n",
    "\n",
    "Zeichenketten sind auch in den vorherigen Kapiteln bereits vorgekommen und wie der Name schon sagt, sind die **Elemente** eines Strings immer **Zeichen**. Es dürfen zwar auch Zahlen und Sonderzeichen innerhalb des Strings benutzt werden, jedoch werden diese immer als Zeichenkette abgespeichert.\n",
    "\n",
    "Die Definition von Zeichenketten wurde bereits behandelt und soll an dieser Stelle nicht wiederholt werden. Das Thema kann nachgeschlagen werden unter: [Variablen](01_Variablen_Theorie.ipynb#strings). Auch die einzelnen Abfrage-Methoden werden an dieser Stelle nicht noch einmal im einzelnen wiederholt, sondern können im Aufgabenteil geübt werden.\n",
    "\n",
    "Wie  Tupel können auch mehrere Strings zu einem String zusammengefügt werden.\n",
    "\n",
    "---\n",
    "### Beispiel 7"
   ]
  },
  {
   "cell_type": "code",
   "execution_count": null,
   "metadata": {},
   "outputs": [],
   "source": [
    "string = \"Hallo\"+\"Welt\"\n",
    "print(string)"
   ]
  },
  {
   "cell_type": "code",
   "execution_count": null,
   "metadata": {},
   "outputs": [],
   "source": [
    "a = \"Hallo\"\n",
    "b = \"Welt\"\n",
    "c = a + ' '+b\n",
    "print(c)"
   ]
  },
  {
   "cell_type": "markdown",
   "metadata": {},
   "source": [
    "Es gibt noch die Möglichkeit der sogenannten **Stringmethoden**, die mithilfe eines bereits definierten Strings einen neuen String zurückliefern. Keine der Methoden verändert jedoch den String, auf den sie angewendet wird!\n",
    "\n",
    "### Stringmethoden:"
   ]
  },
  {
   "cell_type": "markdown",
   "metadata": {},
   "source": [
    "```python\n",
    "# Liefert als Rückgabe String, der aus a entsteht durch... \n",
    "a.lower()           # ...umwandeln aller Zeichen in Kleinbuchstaben \n",
    "a.upper()           # ...umwandeln aller Zeichen in Großbuchstaben \n",
    "a.replace(b,n)      # ...Ersetzen aller Vorkommen von b durch n \n",
    "# Liefert als Rückgabe... \n",
    "a.split(a2)         # ...Liste, die durch Trennen von a bei allen Vorkommen von a2 entsteht,  \n",
    "                    # ......hierbei werden alle Vorkommen von a2 entfernt\n",
    "a.count(a2)         # ...Anzahl der Vorkommen von a2 in a \n",
    "a.find(a2)          # ...Index des ersten Vorkommens von a2 in a \n",
    "a.rfind(a2)         # ...Index des letzten Vorkommens von a2 in a \n",
    "```"
   ]
  },
  {
   "cell_type": "markdown",
   "metadata": {},
   "source": [
    "---\n",
    "### Beispiel 9\n",
    "\n",
    "Dieses Beispiel soll verdeutlichen, wie die Stringmethoden funktionieren und dass diese den String nicht verändern. Führen Sie die Zellen nacheinander aus und vergleichen Sie deren Inhalt und Ergebnisse."
   ]
  },
  {
   "cell_type": "code",
   "execution_count": null,
   "metadata": {},
   "outputs": [],
   "source": [
    "a = \"Schokolade\"\n",
    "print(a.upper())"
   ]
  },
  {
   "cell_type": "code",
   "execution_count": null,
   "metadata": {},
   "outputs": [],
   "source": [
    "a = \"Schokolade\"\n",
    "a.upper()\n",
    "print(a)"
   ]
  },
  {
   "cell_type": "code",
   "execution_count": null,
   "metadata": {},
   "outputs": [],
   "source": [
    "a = \"Schokolade\"\n",
    "a = a.upper()\n",
    "print(a)"
   ]
  },
  {
   "cell_type": "code",
   "execution_count": null,
   "metadata": {},
   "outputs": [],
   "source": [
    "a = \"Schokolade\"\n",
    "b = a.upper()\n",
    "print(a)\n",
    "print(b)"
   ]
  },
  {
   "cell_type": "markdown",
   "metadata": {},
   "source": [
    "---\n",
    "## Ausgabe sequentieller Datentypen\n",
    "\n",
    "Im Ausblick am Ende von Kapitel  [6. `for` Schleife](06a_ForSchleife_Theorie.ipynb#forlist) wurde eine `for` Schleife verwendet, um Listenelemente auszugeben. Dies ist für alle sequenentiellen Datentypen möglich: "
   ]
  },
  {
   "cell_type": "code",
   "execution_count": null,
   "metadata": {},
   "outputs": [],
   "source": [
    "eineListe=[1,2,3,4,5]\n",
    "for el in eineListe:\n",
    "    print(el)"
   ]
  },
  {
   "cell_type": "code",
   "execution_count": null,
   "metadata": {},
   "outputs": [],
   "source": [
    "einTupel=(1,2,3)\n",
    "for el in einTupel:\n",
    "    print(el)"
   ]
  },
  {
   "cell_type": "code",
   "execution_count": null,
   "metadata": {},
   "outputs": [],
   "source": [
    "einString=\"Hello\"\n",
    "for c in einString:\n",
    "    print(c)"
   ]
  },
  {
   "cell_type": "markdown",
   "metadata": {},
   "source": [
    "### Lernkontrolle\n",
    "\n",
    "- Die folgenden Fragen dienen zur Überprüfung Ihres Wissensstandes. \n",
    "- Führen Sie die nachfolgende Zelle aus und wählen Sie jeweils aus den Antwortmöglichkeiten aus.  \n",
    "- Sobald Sie die Fragen richtig beantwortet haben, können Sie die Übungsaufgaben zu diesem Kapitel bearbeiten oder mit dem nächsten Thema fortfahren.\n",
    "\n",
    "\n",
    "Gegeben ist folgende Variable:\n",
    "```python\n",
    "meineListe = [1,2,3,4,5]\n",
    "```\n",
    "Beantworten Sie folgende Fragen:"
   ]
  },
  {
   "cell_type": "code",
   "execution_count": 1,
   "metadata": {},
   "outputs": [
    {
     "data": {
      "application/vnd.jupyter.widget-view+json": {
       "model_id": "06b88327c5b64e29bb7905f43e1e9630",
       "version_major": 2,
       "version_minor": 0
      },
      "text/plain": [
       "VBox(children=(Output(), RadioButtons(options=(('0', 0), ('1', 1), ('2', 2), ('3', 3), ('4', 4), ('5', 5), ('F…"
      ]
     },
     "metadata": {},
     "output_type": "display_data"
    },
    {
     "data": {
      "application/vnd.jupyter.widget-view+json": {
       "model_id": "564edec40e7f46899b1f63b520139820",
       "version_major": 2,
       "version_minor": 0
      },
      "text/plain": [
       "VBox(children=(Output(), IntText(value=0, description='Wert:'), Button(description='überprüfen', style=ButtonS…"
      ]
     },
     "metadata": {},
     "output_type": "display_data"
    },
    {
     "data": {
      "application/vnd.jupyter.widget-view+json": {
       "model_id": "2797816ec1fb43449a5eb6f99883a64f",
       "version_major": 2,
       "version_minor": 0
      },
      "text/plain": [
       "VBox(children=(Output(), IntText(value=0, description='Wert:'), Button(description='überprüfen', style=ButtonS…"
      ]
     },
     "metadata": {},
     "output_type": "display_data"
    },
    {
     "data": {
      "application/vnd.jupyter.widget-view+json": {
       "model_id": "9c1fd171036c4ae19bbf7d55adc4c73d",
       "version_major": 2,
       "version_minor": 0
      },
      "text/plain": [
       "VBox(children=(Output(), RadioButtons(options=(('0', 0), ('1', 1), ('2', 2), ('3', 3), ('4', 4), ('5', 5), ('F…"
      ]
     },
     "metadata": {},
     "output_type": "display_data"
    }
   ],
   "source": [
    "%run data/09_Lernkontrolle.ipynb"
   ]
  },
  {
   "cell_type": "markdown",
   "metadata": {},
   "source": [
    "---\n",
    "Glückwunsch, dieses Kapitel ist hiermit abgeschlossen!\n",
    "\n",
    "Hier geht es zu den Aufgaben für die sequentiellen Datentypen: [A 9. Aufgaben Sequentielle Datentypen](09b_SeqDatentypen_Aufgaben.ipynb)"
   ]
  },
  {
   "cell_type": "markdown",
   "metadata": {
    "deletable": false,
    "editable": false,
    "tags": []
   },
   "source": [
    "<a rel=\"license\" href=\"http://creativecommons.org/licenses/by-nc-nd/4.0/\"><img alt=\"Creative Commons Lizenzvertrag\" style=\"border-width:0\" src=\"https://i.creativecommons.org/l/by-nc-nd/4.0/88x31.png\" /></a><br /><span xmlns:dct=\"http://purl.org/dc/terms/\" property=\"dct:title\">Das JuPy Python Tutorial</span> der <span xmlns:cc=\"http://creativecommons.org/ns#\" property=\"cc:attributionName\">EAH Jena</span> ist lizenziert unter einer <a rel=\"license\" href=\"http://creativecommons.org/licenses/by-nc-nd/4.0/\">Creative Commons Namensnennung - Nicht kommerziell - Keine Bearbeitungen 4.0 International Lizenz</a>.\n"
   ]
  }
 ],
 "metadata": {
  "kernelspec": {
   "display_name": "Python 3 (ipykernel)",
   "language": "python",
   "name": "python3"
  },
  "language_info": {
   "codemirror_mode": {
    "name": "ipython",
    "version": 3
   },
   "file_extension": ".py",
   "mimetype": "text/x-python",
   "name": "python",
   "nbconvert_exporter": "python",
   "pygments_lexer": "ipython3",
   "version": "3.10.13"
  }
 },
 "nbformat": 4,
 "nbformat_minor": 4
}
