{
 "cells": [
  {
   "cell_type": "markdown",
   "metadata": {},
   "source": [
    "<img src=\"./data/Lernfortschritt02.PNG\" width=\"1000\">\n",
    "\n",
    "[1. Variablen](./01_Variablen_Theorie.ipynb)   &nbsp;&nbsp;&nbsp;&nbsp;  2. Numerische Datentypen  &nbsp;&nbsp;&nbsp;&nbsp;   [3. Ein- und Ausgabe](./03a_EinAusgabe_Theorie.ipynb)\n",
    "\n",
    "[JuPy: Inhaltsverzeichnis](00_Einleitung.ipynb#Inhaltsverzeichnis)"
   ]
  },
  {
   "cell_type": "markdown",
   "metadata": {},
   "source": [
    "# 2. Numerische Datentypen\n",
    "\n",
    "Numerische Datentypen sind Zahlen und werden in Python in folgende Arten unterschieden:\n",
    "\n",
    "* `int` ist für **ganze Zahlen**, also z.B. 1, 2, 10, 100, 505, 0, -1, -505\n",
    "* `float` ist für **Dezimalzahlen** (Gleitkommazahlen, engl. **floating point numbers**), also z.B. 1.1, 3.14, 9.9999, -0.789, -22.23 (**wichtig:** es muss immer ein Punkt als Dezimaltrennzeichen genutzt werden und kein Komma!)\n",
    "* `bool` ist für **boolesche Werte** (Wahrheitswerte). Eine boolesche Variable kann nur die Werte `True` (wahr) oder `False` (falsch) annehmen. Python interpretiert dabei den Wert `True` immer als `1` und `False` immer als `0`, sodass theoretisch auch mit den Variablen des Datentyps `bool` gerechnet werden kann. Anders herum können aber auch alle Zahlenwerte außer `0` als `True` interpretiert werden.\n",
    "* `complex` ist für **komplexe Zahlen**, welche aus Real- und Imaginärteil bestehen (sind für diese Einführung in Python nicht weiter relevant und werden deshalb nicht weiter bearbeitet)\n",
    "\n",
    "Bei der Definition einer Variablen muss der Datentyp in Python nicht angegeben werden. Schreibt man im Code beispielsweise `a = 1`, so erkennt Python automatisch, dass es sich um eine ganze Zahl handelt und weist `a` den Datentyp `int` zu. Wird der Variablen `a` später eine Kommazahl zugewiesen, also z.B. `a = 1.2` ändert sich der Datentyp von `a` zu `float`.\n",
    "\n",
    "Die zulässige Länge der Zahlen ist bei Python nicht begrenzt oder festgelegt, sondern hängt nur vom Speicherplatz ab."
   ]
  },
  {
   "cell_type": "markdown",
   "metadata": {},
   "source": [
    "---\n",
    "### Beispiel 1: Integer-Variablen\n",
    "Beispiele, um **Integer-Variablen** (ganze Zahlen, `int`) zu definieren."
   ]
  },
  {
   "cell_type": "code",
   "execution_count": null,
   "metadata": {},
   "outputs": [],
   "source": [
    "a = 1 \n",
    "b = -505\n",
    "c = 86686318148080897626778381134791218653354543\n",
    "d = a            # Die Variable d bestitzt nun den gleichen Wert wie die Variable a\n",
    "a = -23          # Der Wert der Variablen a wurde überschrieben und beträgt nun -23"
   ]
  },
  {
   "cell_type": "markdown",
   "metadata": {},
   "source": [
    "`#` leitet einen **Kommentar** ein. Der Kommentar beginnt mit dem `#` und geht bis zum Zeilenende. Kommentare sind für Menschen gedacht, um Code zu erläutern, und werden von Python ignoriert.  "
   ]
  },
  {
   "cell_type": "markdown",
   "metadata": {},
   "source": [
    "---\n",
    "### Beispiel 2: Float-Variablen\n",
    "Beispiele, um **Float-Variablen** (Kommazahlen, `float`) zu definieren."
   ]
  },
  {
   "cell_type": "code",
   "execution_count": null,
   "metadata": {},
   "outputs": [],
   "source": [
    "e1 = 1.1\n",
    "e2 = 1.\n",
    "e3 = .5\n",
    "f = -9.999999\n",
    "g = 2e3          # Exponentialschreibweise: 2e3 = 2 * 10^3 = 2 * 1000 = 2000 (Datentyp ist float, auch wenn das Ergebnis eine ganze Zahl ist)"
   ]
  },
  {
   "cell_type": "markdown",
   "metadata": {},
   "source": [
    "---\n",
    "### Beispiel 3: Boolsche-Variablen\n",
    "Beispiele, um **Boolsche-Variablen** (`bool`) zu definieren."
   ]
  },
  {
   "cell_type": "code",
   "execution_count": null,
   "metadata": {},
   "outputs": [],
   "source": [
    "b1 = True\n",
    "b2 = False"
   ]
  },
  {
   "cell_type": "markdown",
   "metadata": {},
   "source": [
    "## Datentypen abfragen und umwandeln\n",
    "\n",
    "Der Datentyp einer Zahl oder einer Variablen kann abgefragt werden mit der Funktion `type(x)`. Mit `isinstance(x,typ)` kann überprüft werden, ob `x` vom angegebenen Typ `typ` ist. Zurückgegeben wird `True` oder `False`.\n",
    "\n",
    "Um einen Datentyp in Python umzuwandeln, wird der Datentyp als Funktion genutzt und der umzuwandelnde Variable als Parameter eingesetzt (z.B. `int(5.55)`).\n"
   ]
  },
  {
   "cell_type": "markdown",
   "metadata": {},
   "source": [
    "---\n",
    "### Beispiel 4: Datentypabfrage\n",
    "Führen Sie die folgenden Codezeilen aus, um den Datentyp abzufragen."
   ]
  },
  {
   "cell_type": "code",
   "execution_count": null,
   "metadata": {},
   "outputs": [],
   "source": [
    "type(7)"
   ]
  },
  {
   "cell_type": "code",
   "execution_count": null,
   "metadata": {},
   "outputs": [],
   "source": [
    "type(7.)"
   ]
  },
  {
   "cell_type": "code",
   "execution_count": null,
   "metadata": {},
   "outputs": [],
   "source": [
    "type(0)"
   ]
  },
  {
   "cell_type": "code",
   "execution_count": null,
   "metadata": {},
   "outputs": [],
   "source": [
    "k = -0.65\n",
    "type(k)"
   ]
  },
  {
   "cell_type": "code",
   "execution_count": null,
   "metadata": {},
   "outputs": [],
   "source": [
    "l = 3e2\n",
    "isinstance(l,float)"
   ]
  },
  {
   "cell_type": "markdown",
   "metadata": {},
   "source": [
    "---\n",
    "### Beispiel 5: Datentypumwandlung\n",
    "Führen Sie die folgenden Codezeilen aus, um einen Wert in einen bestimmten Datentyp umzuwandeln, in einer Variablen abzuspeichern und diesen anschließend abzufragen."
   ]
  },
  {
   "cell_type": "code",
   "execution_count": null,
   "metadata": {},
   "outputs": [],
   "source": [
    "m = float(1)\n",
    "type(m)"
   ]
  },
  {
   "cell_type": "code",
   "execution_count": null,
   "metadata": {},
   "outputs": [],
   "source": [
    "n = int(3.14)\n",
    "type(n)"
   ]
  },
  {
   "cell_type": "markdown",
   "metadata": {},
   "source": [
    "## Lernkontrolle\n",
    "\n",
    "- Die folgenden Fragen dienen zur Überprüfung Ihres Wissensstandes. \n",
    "- Führen Sie die nachfolgende Zelle aus und wählen Sie jeweils aus den Antwortmöglichkeiten aus. \n",
    "- Gehen Sie davon aus, dass bis auf die angegebenen Variablen keine weiteren definiert sind. \n",
    "- Sobald Sie die Fragen richtig beantwortet haben, können Sie die Übungsaufgaben zu diesem Kapitel bearbeiten oder mit dem nächsten Thema fortfahren.\n",
    "\n",
    "Bitte geben Sie jeweils den Datentyp der folgenden Ausdrücke an:"
   ]
  },
  {
   "cell_type": "code",
   "execution_count": 1,
   "metadata": {},
   "outputs": [
    {
     "data": {
      "application/vnd.jupyter.widget-view+json": {
       "model_id": "b120d57affab4e769c200083dd056b75",
       "version_major": 2,
       "version_minor": 0
      },
      "text/plain": [
       "VBox(children=(Output(), RadioButtons(options=(('int', 0), ('float', 1), ('bool', 2), ('anderer Datentyp oder …"
      ]
     },
     "metadata": {},
     "output_type": "display_data"
    },
    {
     "data": {
      "application/vnd.jupyter.widget-view+json": {
       "model_id": "370f9d0792c247c3a29738e472ff1497",
       "version_major": 2,
       "version_minor": 0
      },
      "text/plain": [
       "VBox(children=(Output(), RadioButtons(options=(('int', 0), ('float', 1), ('bool', 2), ('anderer Datentyp oder …"
      ]
     },
     "metadata": {},
     "output_type": "display_data"
    },
    {
     "data": {
      "application/vnd.jupyter.widget-view+json": {
       "model_id": "2d7a2c5692754ab3b0bbc7c8219a0cae",
       "version_major": 2,
       "version_minor": 0
      },
      "text/plain": [
       "VBox(children=(Output(), RadioButtons(options=(('int', 0), ('float', 1), ('bool', 2), ('anderer Datentyp oder …"
      ]
     },
     "metadata": {},
     "output_type": "display_data"
    },
    {
     "data": {
      "application/vnd.jupyter.widget-view+json": {
       "model_id": "fa16fb868b454d67916dee78e3e200eb",
       "version_major": 2,
       "version_minor": 0
      },
      "text/plain": [
       "VBox(children=(Output(), RadioButtons(options=(('int', 0), ('float', 1), ('bool', 2), ('anderer Datentyp oder …"
      ]
     },
     "metadata": {},
     "output_type": "display_data"
    },
    {
     "data": {
      "application/vnd.jupyter.widget-view+json": {
       "model_id": "14dc8599e89f41638e9ff9d9d60a963b",
       "version_major": 2,
       "version_minor": 0
      },
      "text/plain": [
       "VBox(children=(Output(), RadioButtons(options=(('int', 0), ('float', 1), ('bool', 2), ('anderer Datentyp oder …"
      ]
     },
     "metadata": {},
     "output_type": "display_data"
    },
    {
     "data": {
      "application/vnd.jupyter.widget-view+json": {
       "model_id": "747a001dbfce4a799991696bfc58d5ee",
       "version_major": 2,
       "version_minor": 0
      },
      "text/plain": [
       "VBox(children=(Output(), RadioButtons(options=(('int', 0), ('float', 1), ('bool', 2), ('anderer Datentyp oder …"
      ]
     },
     "metadata": {},
     "output_type": "display_data"
    }
   ],
   "source": [
    "%run data/02_Lernkontrolle.ipynb"
   ]
  },
  {
   "cell_type": "markdown",
   "metadata": {},
   "source": [
    "---\n",
    "Glückwunsch, dieses Kapitel ist hiermit abgeschlossen!\n",
    "\n",
    "Hier geht's zum nächsten Kapitel: [3. Ein- und Ausgabe](03a_EinAusgabe_Theorie.ipynb)"
   ]
  },
  {
   "cell_type": "markdown",
   "metadata": {
    "deletable": false,
    "editable": false,
    "tags": []
   },
   "source": [
    "<a rel=\"license\" href=\"http://creativecommons.org/licenses/by-nc-nd/4.0/\"><img alt=\"Creative Commons Lizenzvertrag\" style=\"border-width:0\" src=\"https://i.creativecommons.org/l/by-nc-nd/4.0/88x31.png\" /></a><br /><span xmlns:dct=\"http://purl.org/dc/terms/\" property=\"dct:title\">Das JuPy Python Tutorial</span> der <span xmlns:cc=\"http://creativecommons.org/ns#\" property=\"cc:attributionName\">EAH Jena</span> ist lizenziert unter einer <a rel=\"license\" href=\"http://creativecommons.org/licenses/by-nc-nd/4.0/\">Creative Commons Namensnennung - Nicht kommerziell - Keine Bearbeitungen 4.0 International Lizenz</a>.\n"
   ]
  }
 ],
 "metadata": {
  "kernelspec": {
   "display_name": "Python 3 (ipykernel)",
   "language": "python",
   "name": "python3"
  },
  "language_info": {
   "codemirror_mode": {
    "name": "ipython",
    "version": 3
   },
   "file_extension": ".py",
   "mimetype": "text/x-python",
   "name": "python",
   "nbconvert_exporter": "python",
   "pygments_lexer": "ipython3",
   "version": "3.10.8"
  }
 },
 "nbformat": 4,
 "nbformat_minor": 4
}
