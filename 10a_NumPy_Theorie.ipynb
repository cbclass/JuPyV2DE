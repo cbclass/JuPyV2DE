{
 "cells": [
  {
   "cell_type": "markdown",
   "metadata": {},
   "source": [
    "<img src=\"./data/Lernfortschritt10.PNG\" width=\"1000\">\n",
    "\n",
    "&nbsp;&nbsp;&nbsp;&nbsp;&nbsp;&nbsp;&nbsp;&nbsp;&nbsp;&nbsp;&nbsp;&nbsp;&nbsp;&nbsp;&nbsp;&nbsp;&nbsp;&nbsp;&nbsp;&nbsp;&nbsp;&nbsp;&nbsp;&nbsp;&nbsp;&nbsp;&nbsp;&nbsp;&nbsp;&nbsp;&nbsp;&nbsp;&nbsp;&nbsp;&nbsp;&nbsp;&nbsp;&nbsp;&nbsp;&nbsp;&nbsp;&nbsp;&nbsp;&nbsp;&nbsp;&nbsp;&nbsp;&nbsp;&nbsp;&nbsp;&nbsp;&nbsp;&nbsp;&nbsp;&nbsp;&nbsp;&nbsp;&nbsp;&nbsp;&nbsp;&nbsp;&nbsp;&nbsp;&nbsp;&nbsp;&nbsp;&nbsp;&nbsp;&nbsp;&nbsp;&nbsp;&nbsp;&nbsp;&nbsp;&nbsp;&nbsp;&nbsp;&nbsp;&nbsp;&nbsp;&nbsp;&nbsp;&nbsp;&nbsp;&nbsp;&nbsp;&nbsp;&nbsp;&nbsp;&nbsp;&nbsp;&nbsp;&nbsp;&nbsp;&nbsp;&nbsp;&nbsp;&nbsp;&nbsp;&nbsp;&nbsp;&nbsp;&nbsp;&nbsp;&nbsp;&nbsp;&nbsp;&nbsp;&nbsp;&nbsp;&nbsp;&nbsp;&nbsp;&nbsp;&nbsp;&nbsp;&nbsp;&nbsp;&nbsp;&nbsp;&nbsp;&nbsp;[9. Sequentielle Datentypen](./09a_SeqDatentypen_Theorie.ipynb) &nbsp;&nbsp;&nbsp;&nbsp;  10. `NumPy` Arrays   &nbsp;&nbsp;&nbsp;&nbsp;  [11. Plots](./11a_Plots_Theorie.ipynb)\n",
    "\n",
    "[JuPy: Inhaltsverzeichnis](00_Einleitung.ipynb#Inhaltsverzeichnis)"
   ]
  },
  {
   "cell_type": "markdown",
   "metadata": {},
   "source": [
    "# 10. NumPy - Das Arbeiten mit Arrays"
   ]
  },
  {
   "cell_type": "markdown",
   "metadata": {},
   "source": [
    "Die Bibliothek NumPy (`numpy`) bietet vielfältige Möglichkeiten und Funktionen mit Vektoren und Matrizen zu arbeiten und numerisch zu berechnen. In diesem Tutorial geben wir nur eine erste kurze Einfühung. "
   ]
  },
  {
   "cell_type": "markdown",
   "metadata": {},
   "source": [
    "### Importieren der Bibliothek"
   ]
  },
  {
   "cell_type": "markdown",
   "metadata": {},
   "source": [
    "Zunächst muss die Bibliothek importiert werden. Ein gängiger Befehl ist `import numpy as np`, welcher die Verwendung von Konstanten und Funktionen  von `numpy` vereinfacht. Funktionen und Attribute können dann einfach mit `np.` aufgerufen werden.\n",
    "\n",
    "**Hinweis:** Der folgende Code muss ausgeführt werden, bevor Sie andere Zellen dieses Kapitels ausführen. "
   ]
  },
  {
   "cell_type": "code",
   "execution_count": null,
   "metadata": {},
   "outputs": [],
   "source": [
    "import numpy as np"
   ]
  },
  {
   "cell_type": "markdown",
   "metadata": {},
   "source": [
    "---\n",
    "### Beispiel 1: Erzeugung eines Arrays aus einer Liste "
   ]
  },
  {
   "cell_type": "markdown",
   "metadata": {},
   "source": [
    "Zunächst soll eine Liste erstellt werden, in welche ganzzahlige Werte von 1 bis 10 geschrieben werden. Mit deren Elementen wird anschließend ein Array `array1` erzeugt. Dazu wird die Funktion `array()` genutzt."
   ]
  },
  {
   "cell_type": "code",
   "execution_count": null,
   "metadata": {},
   "outputs": [],
   "source": [
    "liste = [1,2,3,4,5,6,7,8,9,10]\n",
    "\n",
    "array1 = np.array(liste)\n",
    "print(array1, type(array1))"
   ]
  },
  {
   "cell_type": "markdown",
   "metadata": {},
   "source": [
    "Man sieht, dass ein `ndarray` aus der Liste erstellt wurde. Es handelt sich im vorliegenden Fall um ein eindimensionales Array, oder auch Vektor. Nun soll mit diesem Array gerechnet werden. Schauen Sie sich zunächst die unteren Zeilen an und mutmaßen Sie, was passieren wird. Kommentieren Sie die Zeilen aus um sie auszuführen und überprüfen Sie, ob Ihre Vermutung richtig war."
   ]
  },
  {
   "cell_type": "code",
   "execution_count": null,
   "metadata": {},
   "outputs": [],
   "source": [
    "# print('array1+2:',array1+2)\n",
    "# print('array1-2:',array1-2)\n",
    "# print('array1*2:',array1*2)\n",
    "# print('array1/2:',array1/2)"
   ]
  },
  {
   "cell_type": "markdown",
   "metadata": {},
   "source": [
    "Wie man im Beispiel sieht, können so elementeweise einfache Rechenoperationen durchgeführt werden. "
   ]
  },
  {
   "cell_type": "markdown",
   "metadata": {},
   "source": [
    "**Hinweis**: Bitte beachten Sie, dass `numpy` Arrays nicht verändert werden können. Die Werte des Arrays können zwar verändert werden, aber die Größe des Arrays ist bei der Erzeugung dauerhaft festgelegt. Auch wird der Datentyp der einzelnen Element bei Erzeugung festgelegt. "
   ]
  },
  {
   "cell_type": "code",
   "execution_count": null,
   "metadata": {},
   "outputs": [],
   "source": [
    "dasArray=np.array([2,3,4,5,6,7,8])\n",
    "print(dasArray)\n",
    "dasArray[0]=dasArray[0]/2\n",
    "print(dasArray)\n",
    "dasArray[1]=dasArray[1]/2\n",
    "print(dasArray)"
   ]
  },
  {
   "cell_type": "markdown",
   "metadata": {},
   "source": [
    "---\n",
    "### Beispiel 2: Erzeugen von Vektoren mit bestimmtem Muster"
   ]
  },
  {
   "cell_type": "markdown",
   "metadata": {},
   "source": [
    "Es gibt eine Reihe weiterer nützlicher Funktionen in `numpy`, einige ausgewählte werden im Folgenden kurz vorgestellt:"
   ]
  },
  {
   "cell_type": "markdown",
   "metadata": {},
   "source": [
    "Mit der `arange()`-Funktion können eindimensionale Arrays (Vektoren) erzeugt werden, die eine Zahlenreihe in einem vorgegebenen Intervall, in dem Beispiel [0,20), (halboffenes Intervall, 20 ist nicht mehr mit dabei), mit einer gegebenen Schrittweite, in dem Beispiel 3, ausgeben. Wird keine Schrittweite angegeben beträgt diese standardmäßig 1."
   ]
  },
  {
   "cell_type": "code",
   "execution_count": null,
   "metadata": {},
   "outputs": [],
   "source": [
    "start = 0\n",
    "ende = 20\n",
    "schrittweite = 3\n",
    "print(np.arange(start, ende, schrittweite))"
   ]
  },
  {
   "cell_type": "markdown",
   "metadata": {},
   "source": [
    "Eine andere Möglichkeit, ein Array zu erzeugen, welches Werte mit gleichem Abstand zueinander in einem (geschlossenen) Intervall erzeugt, ist die Funktion `linspace()`. \n",
    "<a id='linspace'></a>"
   ]
  },
  {
   "cell_type": "code",
   "execution_count": null,
   "metadata": {},
   "outputs": [],
   "source": [
    "start = 0\n",
    "ende = 20\n",
    "print(np.linspace(start, ende, ende+1))"
   ]
  },
  {
   "cell_type": "markdown",
   "metadata": {},
   "source": [
    "`ende+1` ist hier nicht die Schrittweite, sondern die Anzahl an Werten, die generiert werden soll. Will man eine Schrittweite von 1, muss diese demzufolge (Intervallende - Intervallanfang) + 1 entsprechen. "
   ]
  },
  {
   "cell_type": "markdown",
   "metadata": {},
   "source": [
    "---\n",
    "### Beispiel 3: Verwenden von `numpy.linspace()` für Plots"
   ]
  },
  {
   "cell_type": "markdown",
   "metadata": {},
   "source": [
    "`linspace()` wir häufig benutzt, um die $x$-Werte für Plots zu erzeugen, wie das folgende Beispiel zeigt (Plots werden in Kapitel [11. Plots](11a_Plots_Theorie.ipynb) vorgestellt)."
   ]
  },
  {
   "cell_type": "code",
   "execution_count": null,
   "metadata": {},
   "outputs": [],
   "source": [
    "import matplotlib.pyplot as plt\n",
    "Y = [5,10,33,4]\n",
    "X = np.linspace(0,len(Y),len(Y))\n",
    "plt.plot(X,Y,'*')\n",
    "plt.show()"
   ]
  },
  {
   "cell_type": "markdown",
   "metadata": {},
   "source": [
    "Sehen Sie sich oben Code für das `X`-Array an. Warum wird hier nicht zur Anzahl der erstellten Werte 1 addiert wie im vorherigen Beispiel? Wie sieht das Intervall aus?"
   ]
  },
  {
   "cell_type": "markdown",
   "metadata": {},
   "source": [
    "---\n",
    "### Beispiel 4: Erzeugen von Matrizen"
   ]
  },
  {
   "cell_type": "markdown",
   "metadata": {},
   "source": [
    "Es können nicht nur eindimensionale Arrays, also Vektoren, sondern auch $n \\times n$-Matrizen mit `numpy`erstellt werden. \n",
    "Im Folgenden sind kurze Beispiele aufgeführt, wie eine Einheitsmatrix oder eine mit Nullen gefüllte Matrix in beliebigen Formen erstellt werden kann, oder wie die Form einer Matrix umgewandelt werden kann. \n",
    "\n",
    "Werfen Sie einen Blick in die Dokumentation dieser Funktionen (https://numpy.org/doc/stable/reference/routines.array-creation.html), um zu verstehen, welche Parameter sie benötigen, um sie später selbstständig anwenden zu können!\n",
    "\n",
    "Der folgende Code erzeugt eine Einheitsmatrix mit ganzzahligen Werten."
   ]
  },
  {
   "cell_type": "code",
   "execution_count": null,
   "metadata": {},
   "outputs": [],
   "source": [
    "einheitsmatrix = np.eye(5, dtype = 'int')\n",
    "print(einheitsmatrix)"
   ]
  },
  {
   "cell_type": "markdown",
   "metadata": {},
   "source": [
    "Ohne die Spezifikation des Datentyps (`dtype='int'`) wird eine Matrix mit `float` Werten erzeugt.."
   ]
  },
  {
   "cell_type": "code",
   "execution_count": null,
   "metadata": {},
   "outputs": [],
   "source": [
    "nullmatrix = np.zeros((10,2))\n",
    "print(nullmatrix)"
   ]
  },
  {
   "cell_type": "markdown",
   "metadata": {},
   "source": [
    "Die Form einer Matrix kann mit `reshape()` verändert werden."
   ]
  },
  {
   "cell_type": "code",
   "execution_count": null,
   "metadata": {},
   "outputs": [],
   "source": [
    "print(nullmatrix.reshape(2,10))"
   ]
  },
  {
   "cell_type": "code",
   "execution_count": null,
   "metadata": {},
   "outputs": [],
   "source": [
    "print(nullmatrix.reshape(4,5))"
   ]
  },
  {
   "cell_type": "markdown",
   "metadata": {},
   "source": [
    "---\n",
    "### Beispiel 5: Indizierung"
   ]
  },
  {
   "cell_type": "markdown",
   "metadata": {},
   "source": [
    "Der Zugriff oder die Zuweisung an die Elemente eines Arrays funktioniert ähnlich wie bei den sequentiellen Datentypen.  Außerdem gibt es verschiedene Möglichkeiten zu indizieren. Der Index beginnt auch hier mit 0.\n",
    "\n",
    "Einzelne Werte zu indizieren funktioniert parallel zu den sequentiellen Datentypen."
   ]
  },
  {
   "cell_type": "code",
   "execution_count": null,
   "metadata": {},
   "outputs": [],
   "source": [
    "start = 0\n",
    "stop = 20\n",
    "array1 = np.arange(start,stop+1, 2)\n",
    "print(array1[1])            #Ausgabe des 2. Elements von array1\n",
    "print(array1[3])            #Ausgabe des 4. Elements von array1\n",
    "print(array1[-1])           #Ausgabe des letzten Elements von array1"
   ]
  },
  {
   "cell_type": "markdown",
   "metadata": {},
   "source": [
    "Um auf einzelne Werte in einem zweidimensionalen Array zuzugreiebn, muss der Zeile- und der Spaltenindex, getrennt durch ein Komma `,` angegeben werden.  "
   ]
  },
  {
   "cell_type": "code",
   "execution_count": null,
   "metadata": {},
   "outputs": [],
   "source": [
    "array2 = np.array([[4,5,6],\n",
    "                  [1,2,3],\n",
    "                  [7,8,9]])\n",
    "#Ausgabe des ersten Elements der ersten Zeile\n",
    "print(array2[0, 0])\n",
    "#Ausgabe des Elements in der zweiten Zeile und dritten Spalte\n",
    "print(array2[1, 2])\n",
    "#Ausgabe des letzten Elements\n",
    "print(array2[-1, -1])"
   ]
  },
  {
   "cell_type": "markdown",
   "metadata": {},
   "source": [
    "---\n",
    "### Beispiel 6: Slicing"
   ]
  },
  {
   "cell_type": "markdown",
   "metadata": {},
   "source": [
    "Slicing (siehe Kapitel [9. Sequentielle Datentypen](09a_SeqDatentypen_Theorie.ipynb#slicing)) kann auch bei `numpy`-Arrays angewandt werden. \n",
    "\n",
    "Die Syntax ist be eindimensionalen Arrays die gleiche, wie bei sequentiellen Datentypen."
   ]
  },
  {
   "cell_type": "code",
   "execution_count": null,
   "metadata": {},
   "outputs": [],
   "source": [
    "array3 = np.linspace(0, 20, 21) \n",
    "\n",
    "print(array3[:4])    #Ausgabe der ersten 4 Werte\n",
    "print(array3[5:11])  #Ausgabe der Werte 6 bis einschließlich 11\n",
    "print(array3[7:])    #Ausgabe der Werte ab dem 8. Wert\n",
    "print(array3[7::2])  #Ausgabe der Werte ab dem 8. Wert in 2er-Schritten"
   ]
  },
  {
   "cell_type": "markdown",
   "metadata": {},
   "source": [
    "Das \"Slicing\" an zweidimensionalen Arrays wird an den folgenden Beispielen demonstriert."
   ]
  },
  {
   "cell_type": "code",
   "execution_count": null,
   "metadata": {},
   "outputs": [],
   "source": [
    "array4 = np.arange(25)\n",
    "array4 = array4.reshape(5,5)\n",
    "print(\"Matrix 1\")\n",
    "print(array4)             #Ausgabe der 5x5 Matrix\n",
    "print(\"\\nMatrix 2\")\n",
    "print(array4[:3, 2:])     #Ausgabe der gesliceten Matrix (Zeilen mit Index 0 bis 2, Spalten mit Index 2 bis zum letzten; ergibt 3x3 Matrix)\n",
    "print(\"\\nMatrix 3\")\n",
    "print(array4[3:, :])      #Ausgabe der gesliceten Matrix (Zeilen mit Index 3 bis zum Schluss, alle Spalten; ergibt 2x5 Matrix)\n",
    "print(\"\\nMatrix 4\")\n",
    "print(array4[:, 4:])      #Ausgabe der gesliceten Matrix (alle Zeilen, Spalten mit Index 4 bis zum letzten; ergibt 5x1 Matrix)"
   ]
  },
  {
   "cell_type": "markdown",
   "metadata": {},
   "source": [
    "### Lernkontrolle\n",
    "\n",
    "- Die folgenden Fragen dienen zur Überprüfung Ihres Wissensstandes. \n",
    "- Führen Sie die nachfolgende Zelle aus und wählen Sie jeweils aus den Antwortmöglichkeiten aus. \n",
    "- Sobald Sie die Fragen richtig beantwortet haben, können Sie die Übungsaufgaben zu diesem Kapitel bearbeiten oder mit dem nächsten Thema fortfahren.\n"
   ]
  },
  {
   "cell_type": "code",
   "execution_count": 1,
   "metadata": {},
   "outputs": [
    {
     "data": {
      "application/vnd.jupyter.widget-view+json": {
       "model_id": "cd96f4c11ab14dd1a2404426984b5ff5",
       "version_major": 2,
       "version_minor": 0
      },
      "text/plain": [
       "VBox(children=(Output(), RadioButtons(options=(('[0 3 6 9]', 0), ('[1 4 7 10]', 1), ('[0 3 6 9 12]', 2)), valu…"
      ]
     },
     "metadata": {},
     "output_type": "display_data"
    },
    {
     "data": {
      "application/vnd.jupyter.widget-view+json": {
       "model_id": "92a549beba6e4614af37de895456a0f8",
       "version_major": 2,
       "version_minor": 0
      },
      "text/plain": [
       "VBox(children=(Output(), RadioButtons(options=(('[1 3 5]', 0), ('[1 2 3 4 5]', 1), ('[1.  1.5 2.  2.5 3. ]', 2…"
      ]
     },
     "metadata": {},
     "output_type": "display_data"
    },
    {
     "data": {
      "application/vnd.jupyter.widget-view+json": {
       "model_id": "3f1102f60e09441baa460d4d4db9b871",
       "version_major": 2,
       "version_minor": 0
      },
      "text/plain": [
       "VBox(children=(Output(), RadioButtons(options=(('3', 0), ('5', 1), ('9', 2), ('Kann nicht funktionieren', 3)),…"
      ]
     },
     "metadata": {},
     "output_type": "display_data"
    },
    {
     "data": {
      "application/vnd.jupyter.widget-view+json": {
       "model_id": "2424d1b528a44689b124117e1273fca9",
       "version_major": 2,
       "version_minor": 0
      },
      "text/plain": [
       "VBox(children=(Output(), RadioButtons(options=(('np.arange()', 0), ('np.eye()', 1), ('np.zeros()', 2), ('np.li…"
      ]
     },
     "metadata": {},
     "output_type": "display_data"
    },
    {
     "data": {
      "application/vnd.jupyter.widget-view+json": {
       "model_id": "ddcded0eb32b461081a1781dda56ba22",
       "version_major": 2,
       "version_minor": 0
      },
      "text/plain": [
       "VBox(children=(Output(), RadioButtons(options=(('1', 0), ('5', 1), ('7', 2), ('Fehler', 3)), value=0), Button(…"
      ]
     },
     "metadata": {},
     "output_type": "display_data"
    },
    {
     "data": {
      "application/vnd.jupyter.widget-view+json": {
       "model_id": "38d1affbb98a4b199b1e9425c9f1f7a4",
       "version_major": 2,
       "version_minor": 0
      },
      "text/plain": [
       "VBox(children=(Output(), RadioButtons(options=(('[2 3]', 0), ('[5 6]', 1), ('[7 8]', 2), ('[8 9]', 3), ('[4 5 …"
      ]
     },
     "metadata": {},
     "output_type": "display_data"
    }
   ],
   "source": [
    "%run data/10_Lernkontrolle.ipynb"
   ]
  },
  {
   "cell_type": "markdown",
   "metadata": {},
   "source": [
    "---\n",
    "Glückwunsch, dieses Kapitel ist hiermit abschgeschlossen!\n",
    "\n",
    "Hier geht's zu den Aufgaben von NumPy: [A 10. Aufgaben NumPy](10b_NumPy_Aufgaben.ipynb)"
   ]
  },
  {
   "cell_type": "markdown",
   "metadata": {
    "deletable": false,
    "editable": false,
    "tags": []
   },
   "source": [
    "<a rel=\"license\" href=\"http://creativecommons.org/licenses/by-nc-nd/4.0/\"><img alt=\"Creative Commons Lizenzvertrag\" style=\"border-width:0\" src=\"https://i.creativecommons.org/l/by-nc-nd/4.0/88x31.png\" /></a><br /><span xmlns:dct=\"http://purl.org/dc/terms/\" property=\"dct:title\">Das JuPy Python Tutorial</span> der <span xmlns:cc=\"http://creativecommons.org/ns#\" property=\"cc:attributionName\">EAH Jena</span> ist lizenziert unter einer <a rel=\"license\" href=\"http://creativecommons.org/licenses/by-nc-nd/4.0/\">Creative Commons Namensnennung - Nicht kommerziell - Keine Bearbeitungen 4.0 International Lizenz</a>.\n"
   ]
  }
 ],
 "metadata": {
  "kernelspec": {
   "display_name": "Python 3 (ipykernel)",
   "language": "python",
   "name": "python3"
  },
  "language_info": {
   "codemirror_mode": {
    "name": "ipython",
    "version": 3
   },
   "file_extension": ".py",
   "mimetype": "text/x-python",
   "name": "python",
   "nbconvert_exporter": "python",
   "pygments_lexer": "ipython3",
   "version": "3.10.13"
  }
 },
 "nbformat": 4,
 "nbformat_minor": 4
}
