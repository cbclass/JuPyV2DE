{
 "cells": [
  {
   "cell_type": "markdown",
   "metadata": {},
   "source": [
    "<img src=\"data/Lernfortschritt01.PNG\" width=\"1000\" alt = \"progressbar\">\n",
    "\n",
    "&nbsp; 1. Variablen   &nbsp;&nbsp;&nbsp;&nbsp;  [2. Numerische Datentypen](./02_NumDatentypen_Theorie.ipynb)\n",
    "\n",
    "[JuPy: Inhaltsverzeichnis](00_Einleitung.ipynb#Inhaltsverzeichnis)"
   ]
  },
  {
   "cell_type": "markdown",
   "metadata": {},
   "source": [
    "# 1. Variablen\n",
    "\n",
    "Eine **Variable** ist ein Speicherplatz, dem man einen Namen gegeben hat. Die Bezeichnung Variable weist darauf hin, dass der Wert des\n",
    "Speicherplatzes geändert werden kann (der Wert ist also variabel)."
   ]
  },
  {
   "cell_type": "markdown",
   "metadata": {},
   "source": [
    "---\n",
    "### Beispiel 1"
   ]
  },
  {
   "cell_type": "code",
   "execution_count": 1,
   "metadata": {},
   "outputs": [],
   "source": [
    "x = 1\n",
    "y = 2"
   ]
  },
  {
   "cell_type": "markdown",
   "metadata": {},
   "source": [
    "Hier wurde nun der Variable `x` der Wert `1` zugewiesen und der Variable `y` der Wert `2`. Die **Zuweisung** muss dabei immer rechts vom `=` stehen. Die Leerzeichen vor und hinter dem `=` sind nur aus stilistischen Gründen gewählt. Würde man sie weglassen, würde man die Bedeutung des Codes nicht verändern."
   ]
  },
  {
   "cell_type": "markdown",
   "metadata": {},
   "source": [
    "---\n",
    "<a id='strings'></a>\n",
    "### Beispiel 2\n",
    "\n",
    "Diese Zuweisung funktioniert genauso mit **Buchstabenfolgen/Zeichenketten (Strings)**:"
   ]
  },
  {
   "cell_type": "code",
   "execution_count": 2,
   "metadata": {},
   "outputs": [],
   "source": [
    "z = \"Beispiel\""
   ]
  },
  {
   "cell_type": "markdown",
   "metadata": {},
   "source": [
    "Wichtig: Strings müssen immer in `\"Anführungszeichen\"` oder `'Anführungszeichen'` gesetzt werden. Das jeweils andere Zeichen kann Teil des Strings sein. Z.B. `\"Sein Name ist 'Peter'.\"`"
   ]
  },
  {
   "cell_type": "markdown",
   "metadata": {},
   "source": [
    "<a id='VariablenNamen'></a>\n",
    "**Was ist bei der Bennennung von Variablen erlaubt?**\n",
    "\n",
    "Bei der Bennung von Variablen, also im Variablennamen, sind einzelne oder mehrere Kleinbuchstaben oder Großbuchstaben erlaubt. Es ist zu beachten, dass Python zwischen Groß- und Kleinschreibung unterscheidet (**Case-sensitivity**). Auch Unterstriche können im Namen eingefügt werden. Zittern können im Namen enthalten sein, jedoch nicht am Anfang eines Namens. Außerdem dürfen keine Keywords von Python verwendet werden, die bereits eine andere Funktion erfüllen."
   ]
  },
  {
   "cell_type": "markdown",
   "metadata": {},
   "source": [
    "Hier eine Liste der Keywords in Python:\\\n",
    "`False`, `await`, `else`, `import`, `pass`, `None`, `break`, `except`, `in`, `raise`, `True`, `class`, `finally`, `is`, `return`, `and`, `continue`, `for`, `lambda`, `try`, `as`, `def`, `from`, `nonlocal`, `while`, `assert`, `del`, `global`, `not`, `with`, `async`, `elif`, `if`, `or`, `yield`\n",
    "    "
   ]
  },
  {
   "cell_type": "markdown",
   "metadata": {},
   "source": [
    "---\n",
    "### Beispiel 3\n",
    "\n",
    "Folgende Variablen Zuweisungen funktionieren:"
   ]
  },
  {
   "cell_type": "code",
   "execution_count": 3,
   "metadata": {},
   "outputs": [],
   "source": [
    "xy = 3\n",
    "name = 'Max Mustermann'\n",
    "meinName = 'Max'\n",
    "mein_name = \"Mustermann\"\n",
    "x1 = 4\n",
    "y1 = 5"
   ]
  },
  {
   "cell_type": "markdown",
   "metadata": {},
   "source": [
    "---\n",
    "### Beispiel 4\n",
    "\n",
    "Folgende Variablen-Zuweisungen funktionieren nicht:"
   ]
  },
  {
   "cell_type": "code",
   "execution_count": 4,
   "metadata": {},
   "outputs": [
    {
     "ename": "SyntaxError",
     "evalue": "invalid decimal literal (1973160197.py, line 1)",
     "output_type": "error",
     "traceback": [
      "\u001b[0;36m  File \u001b[0;32m\"/tmp/ipykernel_25564/1973160197.py\"\u001b[0;36m, line \u001b[0;32m1\u001b[0m\n\u001b[0;31m    1x = 4\u001b[0m\n\u001b[0m    ^\u001b[0m\n\u001b[0;31mSyntaxError\u001b[0m\u001b[0;31m:\u001b[0m invalid decimal literal\n"
     ]
    }
   ],
   "source": [
    "1x = 4"
   ]
  },
  {
   "cell_type": "code",
   "execution_count": null,
   "metadata": {},
   "outputs": [],
   "source": [
    "1 = 4"
   ]
  },
  {
   "cell_type": "code",
   "execution_count": null,
   "metadata": {},
   "outputs": [],
   "source": [
    "break = 4"
   ]
  },
  {
   "cell_type": "code",
   "execution_count": null,
   "metadata": {},
   "outputs": [],
   "source": [
    "4 = x"
   ]
  },
  {
   "cell_type": "markdown",
   "metadata": {},
   "source": [
    "### Lernkontrolle\n",
    "\n",
    "- Die folgenden Fragen dienen zur Überprüfung Ihres Wissensstandes. \n",
    "- Führen Sie die nachfolgende Zelle aus und wählen Sie jeweils aus den Antwortmöglichkeiten aus. \n",
    "- Sobald Sie die Fragen richtig beantwortet haben, können Sie die Übungsaufgaben zu diesem Kapitel bearbeiten oder mit dem nächsten Thema fortfahren.\n"
   ]
  },
  {
   "cell_type": "code",
   "execution_count": 1,
   "metadata": {},
   "outputs": [
    {
     "data": {
      "application/vnd.jupyter.widget-view+json": {
       "model_id": "9a43df456d444425b5c7c519f95a4627",
       "version_major": 2,
       "version_minor": 0
      },
      "text/plain": [
       "VBox(children=(Output(), RadioButtons(options=(('Wahr', 0), ('Falsch', 1)), value=0), Button(description='über…"
      ]
     },
     "metadata": {},
     "output_type": "display_data"
    },
    {
     "data": {
      "application/vnd.jupyter.widget-view+json": {
       "model_id": "70af06b3dea74a49b40b8641e1944edd",
       "version_major": 2,
       "version_minor": 0
      },
      "text/plain": [
       "VBox(children=(Output(), RadioButtons(options=(('Wahr', 0), ('Falsch', 1)), value=0), Button(description='über…"
      ]
     },
     "metadata": {},
     "output_type": "display_data"
    },
    {
     "data": {
      "application/vnd.jupyter.widget-view+json": {
       "model_id": "6dcfbd66d3454db39831b3ffaa2071ee",
       "version_major": 2,
       "version_minor": 0
      },
      "text/plain": [
       "VBox(children=(Output(), RadioButtons(options=(('Wahr', 0), ('Falsch', 1)), value=0), Button(description='über…"
      ]
     },
     "metadata": {},
     "output_type": "display_data"
    },
    {
     "data": {
      "application/vnd.jupyter.widget-view+json": {
       "model_id": "b0fa2a7f03a1413bab6cfeb5a150904f",
       "version_major": 2,
       "version_minor": 0
      },
      "text/plain": [
       "VBox(children=(Output(), RadioButtons(options=(('Wahr', 0), ('Falsch', 1)), value=0), Button(description='über…"
      ]
     },
     "metadata": {},
     "output_type": "display_data"
    },
    {
     "data": {
      "application/vnd.jupyter.widget-view+json": {
       "model_id": "79295fe92baa463c824bcef2d403ff2c",
       "version_major": 2,
       "version_minor": 0
      },
      "text/plain": [
       "VBox(children=(Output(), RadioButtons(options=(('Wahr', 0), ('Falsch', 1)), value=0), Button(description='über…"
      ]
     },
     "metadata": {},
     "output_type": "display_data"
    },
    {
     "data": {
      "application/vnd.jupyter.widget-view+json": {
       "model_id": "e460438f2e5f4279871cc6bab84ddde7",
       "version_major": 2,
       "version_minor": 0
      },
      "text/plain": [
       "VBox(children=(Output(), RadioButtons(options=(('Wahr', 0), ('Falsch', 1)), value=0), Button(description='über…"
      ]
     },
     "metadata": {},
     "output_type": "display_data"
    }
   ],
   "source": [
    "%run data/01_Lernkontrolle.ipynb"
   ]
  },
  {
   "cell_type": "markdown",
   "metadata": {},
   "source": [
    "---\n",
    "Glückwunsch, dieses Kapitel ist hiermit abgeschlossen!\n",
    "\n",
    "\n",
    "Hier geht's zum nächsten Kapitel: [2. Numerische Datentypen](02_NumDatentypen_Theorie.ipynb)"
   ]
  },
  {
   "cell_type": "markdown",
   "metadata": {
    "deletable": false,
    "editable": false,
    "tags": []
   },
   "source": [
    "<a rel=\"license\" href=\"http://creativecommons.org/licenses/by-nc-nd/4.0/\"><img alt=\"Creative Commons Lizenzvertrag\" style=\"border-width:0\" src=\"https://i.creativecommons.org/l/by-nc-nd/4.0/88x31.png\" /></a><br /><span xmlns:dct=\"http://purl.org/dc/terms/\" property=\"dct:title\">Das JuPy Python Tutorial</span> der <span xmlns:cc=\"http://creativecommons.org/ns#\" property=\"cc:attributionName\">EAH Jena</span> ist lizenziert unter einer <a rel=\"license\" href=\"http://creativecommons.org/licenses/by-nc-nd/4.0/\">Creative Commons Namensnennung - Nicht kommerziell - Keine Bearbeitungen 4.0 International Lizenz</a>.\n"
   ]
  }
 ],
 "metadata": {
  "kernelspec": {
   "display_name": "Python 3 (ipykernel)",
   "language": "python",
   "name": "python3"
  },
  "language_info": {
   "codemirror_mode": {
    "name": "ipython",
    "version": 3
   },
   "file_extension": ".py",
   "mimetype": "text/x-python",
   "name": "python",
   "nbconvert_exporter": "python",
   "pygments_lexer": "ipython3",
   "version": "3.10.8"
  }
 },
 "nbformat": 4,
 "nbformat_minor": 4
}
