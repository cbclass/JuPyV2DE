{
 "cells": [
  {
   "cell_type": "markdown",
   "metadata": {},
   "source": [
    "<img src=\"data/Lernfortschritt03.PNG\" width=\"1000\">\n",
    "\n",
    "[2. Numerische Datentypen](./02_NumDatentypen_Theorie.ipynb) &nbsp;&nbsp;&nbsp;&nbsp; 3. Ein- und Ausgabe mit Python &nbsp;&nbsp;&nbsp;&nbsp; [4. Operatoren](./04a_Operatoren_Theorie.ipynb)\n",
    "\n",
    "[JuPy: Inhaltsverzeichnis](00_Einleitung.ipynb#Inhaltsverzeichnis)"
   ]
  },
  {
   "cell_type": "markdown",
   "metadata": {},
   "source": [
    "# 3. Ein- und Ausgabe"
   ]
  },
  {
   "cell_type": "markdown",
   "metadata": {},
   "source": [
    "Für die Ein- und Ausgabe werden Python Funktionen genutzt. Mehr zu Funktionen erfahren Sie in Kapitel [8. Funktionen](08a_Funktionen_Theorie.ipynb)."
   ]
  },
  {
   "cell_type": "markdown",
   "metadata": {},
   "source": [
    "## 3.1 Ausgabe mit der `print()`-Funktion"
   ]
  },
  {
   "cell_type": "markdown",
   "metadata": {},
   "source": [
    "Für die Kommunikation zwischen Nutzer und Programm stellen die Ein- und Ausgabe essenzielle Bestandteile dar. Zunächst konzentrieren wir uns auf die Ausgabe, die in den meisten Fällen mit der `print()`-Funktion realisiert wird. Diese kann auf verschiedene Weisen genutzt werden, welche im Folgenden dargestellt werden."
   ]
  },
  {
   "cell_type": "markdown",
   "metadata": {},
   "source": [
    "---\n",
    "### Beispiel 1: \n",
    "Bei einer **einfachen Ausgabe**, wird das, was ausgegeben werden soll, direkt in die Klammern von `print()` geschrieben. Dabei kann es sich um Zahlen (egal welchen Datentypes) oder Strings (egal welche Länge) handeln."
   ]
  },
  {
   "cell_type": "code",
   "execution_count": null,
   "metadata": {},
   "outputs": [],
   "source": [
    "print(12345)"
   ]
  },
  {
   "cell_type": "code",
   "execution_count": null,
   "metadata": {},
   "outputs": [],
   "source": [
    "print(34.9)"
   ]
  },
  {
   "cell_type": "code",
   "execution_count": null,
   "metadata": {},
   "outputs": [],
   "source": [
    "print('Schokolade')"
   ]
  },
  {
   "cell_type": "code",
   "execution_count": null,
   "metadata": {},
   "outputs": [],
   "source": [
    "print('Ich liebe Schokolade!')"
   ]
  },
  {
   "cell_type": "markdown",
   "metadata": {},
   "source": [
    "---\n",
    "### Beispiel 2:\n",
    "Es ist auch möglich, innerhalb der Klammern **mathematische Ausdrücke** einzugeben, die dann ausgewertet ausgegeben werden. \n"
   ]
  },
  {
   "cell_type": "code",
   "execution_count": null,
   "metadata": {},
   "outputs": [],
   "source": [
    "print(12+8)"
   ]
  },
  {
   "cell_type": "code",
   "execution_count": null,
   "metadata": {},
   "outputs": [],
   "source": [
    "print(3*4)"
   ]
  },
  {
   "cell_type": "markdown",
   "metadata": {},
   "source": [
    "**Hinweis:** Die Operatoren `+` und `*` sind auch für Strings definiert. Bei `+` werden zwei Strings aneinandergehängt, bei `*` wird ein String mehrfach wiederholt."
   ]
  },
  {
   "cell_type": "code",
   "execution_count": null,
   "metadata": {},
   "outputs": [],
   "source": [
    "print(\"Guten\"+\"Tag\")"
   ]
  },
  {
   "cell_type": "code",
   "execution_count": null,
   "metadata": {},
   "outputs": [],
   "source": [
    "print(5*'Hallo')"
   ]
  },
  {
   "cell_type": "markdown",
   "metadata": {},
   "source": [
    "**Hinweis:** Es ist nicht möglich, einen String und eine Zahl aneinanderzuhängen. Sehen Sie sich folgende Fehlermeldung an:"
   ]
  },
  {
   "cell_type": "code",
   "execution_count": null,
   "metadata": {
    "tags": []
   },
   "outputs": [],
   "source": [
    "anzahl=3\n",
    "produkt=\"Orangensaft\"\n",
    "\n",
    "print(\"Ich kaufe \" +anzahl+\" l \"+produkt)"
   ]
  },
  {
   "cell_type": "markdown",
   "metadata": {},
   "source": [
    "Um eine Zahl und einen String aneinanderzuhängen, müssen Sie die Zahl mit `str()` in einen String umwandeln:"
   ]
  },
  {
   "cell_type": "code",
   "execution_count": null,
   "metadata": {
    "tags": []
   },
   "outputs": [],
   "source": [
    "anzahl=3\n",
    "produkt=\"Orangensaft\"\n",
    "\n",
    "print(\"Ich kaufe \" +str(anzahl)+\" l \"+produkt)"
   ]
  },
  {
   "cell_type": "markdown",
   "metadata": {},
   "source": [
    "---\n",
    "### Beispiel 3:\n",
    "Bereits definierte **Variablen** können einzeln oder durch eine mathematische Verknüpfung ausgegeben werden."
   ]
  },
  {
   "cell_type": "code",
   "execution_count": null,
   "metadata": {},
   "outputs": [],
   "source": [
    "a = 12\n",
    "b = 8\n",
    "print(a)\n",
    "print(a+b)"
   ]
  },
  {
   "cell_type": "code",
   "execution_count": null,
   "metadata": {},
   "outputs": [],
   "source": [
    "a = 'Schokolade'\n",
    "b = 'Ich liebe'\n",
    "print(a)\n",
    "print(3*a)\n",
    "print(b+\" \"+a)"
   ]
  },
  {
   "cell_type": "markdown",
   "metadata": {},
   "source": [
    "---\n",
    "### Beispiel 4:\n",
    "Um **mehrere Werte** gleichzeitig auszugeben, werden die einzelnen Werte durch ein Komma `,` getrennt werden. Das Komma erscheint in der Ausgabe dann als Leerzeichen. Auch hier ist es möglich, unterschiedliche Datentypen und Variable zusammen zu verwenden."
   ]
  },
  {
   "cell_type": "code",
   "execution_count": null,
   "metadata": {},
   "outputs": [],
   "source": [
    "print('Mein Alter:', 25)"
   ]
  },
  {
   "cell_type": "code",
   "execution_count": null,
   "metadata": {},
   "outputs": [],
   "source": [
    "a = 12\n",
    "b = 8\n",
    "print(a+b,a*b)\n",
    "print('a*b =',a*b)"
   ]
  },
  {
   "cell_type": "markdown",
   "metadata": {},
   "source": [
    "## 3.2 Eingabe mit der `input()`-Funktion"
   ]
  },
  {
   "cell_type": "markdown",
   "metadata": {},
   "source": [
    "Um den Wert von Variablen vom Nutzer einzugeben, nutzt man die `input()`-Funktion. In der Klammer steht dabei die Anweisung an den Nutzer, welche zunächst ausgegeben wird. In einer Variable speichert man dann den eingegebenen Wert ab, um dann weiter mit diesem verfahren zu können."
   ]
  },
  {
   "cell_type": "markdown",
   "metadata": {},
   "source": [
    "---\n",
    "### Beispiel 5:\n",
    "Führen Sie den Code aus und testen Sie die `input()`-Funktion."
   ]
  },
  {
   "cell_type": "code",
   "execution_count": null,
   "metadata": {},
   "outputs": [],
   "source": [
    "name = input('Wie ist Ihr Name?')\n",
    "print('Schön Sie kennenzulernen,',name,)"
   ]
  },
  {
   "cell_type": "markdown",
   "metadata": {},
   "source": [
    "---\n",
    "### Beispiel 6:\n",
    "Standardmäßig liefert die `input()`-Funktion einen String.\n",
    "Testen Sie folgenden Code und geben Sie die 5 und die 2 ein."
   ]
  },
  {
   "cell_type": "code",
   "execution_count": null,
   "metadata": {},
   "outputs": [],
   "source": [
    "a = input('Geben Sie die erste Zahl ein.')\n",
    "b = input('Geben Sie die zweite Zahl ein.')\n",
    "print('Die Summe beträgt', a+b)"
   ]
  },
  {
   "cell_type": "markdown",
   "metadata": {},
   "source": [
    "Hier wurden die Zahlen 5 und 2 als Strings eingelesen und danach in der `print()`-Funktion als Zeichenkette zusammengefügt, was natürlich nicht der Summe entspricht. "
   ]
  },
  {
   "cell_type": "markdown",
   "metadata": {},
   "source": [
    "---\n",
    "### Beispiel 7:\n",
    "Will man mit den vom Nutzer eingegeben Werten rechnen, muss man also die Variablen vorher in einen numerischen Datentyp umwandeln, z.B. `int` (ganze Zahl) oder `float` (Gleitkommazahl)."
   ]
  },
  {
   "cell_type": "code",
   "execution_count": null,
   "metadata": {},
   "outputs": [],
   "source": [
    "a = int(input('Geben Sie die erste Zahl ein.'))\n",
    "b = int(input('Geben Sie die zweite Zahl ein.'))\n",
    "print('Die Summe beträgt', a+b)"
   ]
  },
  {
   "cell_type": "code",
   "execution_count": null,
   "metadata": {},
   "outputs": [],
   "source": [
    "a = float(input('Geben Sie die erste Zahl ein.'))\n",
    "b = float(input('Geben Sie die zweite Zahl ein.'))\n",
    "print('Die Summe beträgt', a+b)"
   ]
  },
  {
   "cell_type": "markdown",
   "metadata": {},
   "source": [
    "**Hinweis:** Achten Sie darauf, dass Sie bei der Eingabe den richtigen Datentyp verwenden. Wenn das Programm durch die Angabe von `int` eine ganze Zahl erwartet, wird bei einer Eingabe einer Kommazahl eine Fehlermeldung angezeigt.\\\n",
    "Anders herum funktioniert das Programm, wenn durch `float` eine Gleitkommazahl erwartet wird, aber eine ganze Zahl eingegeben wird. Die Ausgabe erfolgt dann als Kommazahl."
   ]
  },
  {
   "cell_type": "markdown",
   "metadata": {},
   "source": [
    "### Lernkontrolle\n",
    "\n",
    "- Die folgenden Fragen dienen zur Überprüfung Ihres Wissensstandes. \n",
    "- Führen Sie die nachfolgende Zelle aus und wählen Sie jeweils aus den Antwortmöglichkeiten aus. \n",
    "- Gehen Sie davon aus, dass bis auf die angegebenen Variablen keine weiteren definiert sind. \n",
    "- Sobald Sie die Fragen richtig beantwortet haben, können Sie die Übungsaufgaben zu diesem Kapitel bearbeiten oder mit dem nächsten Thema fortfahren."
   ]
  },
  {
   "cell_type": "code",
   "execution_count": null,
   "metadata": {},
   "outputs": [],
   "source": [
    "%run data/03_lernkontrolle.ipynb"
   ]
  },
  {
   "cell_type": "markdown",
   "metadata": {},
   "source": [
    "---\n",
    "Glückwunsch, dieses Kapitel ist hiermit abgeschlossen!\n",
    "\n",
    "Hier geht's zu den Aufgaben der ersten 3 Kapitel: [A 3. Aufgaben Grundlagen](03b_Grundlagen_Aufgaben.ipynb)"
   ]
  },
  {
   "cell_type": "markdown",
   "metadata": {
    "deletable": false,
    "editable": false,
    "tags": []
   },
   "source": [
    "<a rel=\"license\" href=\"http://creativecommons.org/licenses/by-nc-nd/4.0/\"><img alt=\"Creative Commons Lizenzvertrag\" style=\"border-width:0\" src=\"https://i.creativecommons.org/l/by-nc-nd/4.0/88x31.png\" /></a><br /><span xmlns:dct=\"http://purl.org/dc/terms/\" property=\"dct:title\">Das JuPy Python Tutorial</span> der <span xmlns:cc=\"http://creativecommons.org/ns#\" property=\"cc:attributionName\">EAH Jena</span> ist lizenziert unter einer <a rel=\"license\" href=\"http://creativecommons.org/licenses/by-nc-nd/4.0/\">Creative Commons Namensnennung - Nicht kommerziell - Keine Bearbeitungen 4.0 International Lizenz</a>.\n"
   ]
  }
 ],
 "metadata": {
  "kernelspec": {
   "display_name": "Python 3 (ipykernel)",
   "language": "python",
   "name": "python3"
  },
  "language_info": {
   "codemirror_mode": {
    "name": "ipython",
    "version": 3
   },
   "file_extension": ".py",
   "mimetype": "text/x-python",
   "name": "python",
   "nbconvert_exporter": "python",
   "pygments_lexer": "ipython3",
   "version": "3.10.13"
  }
 },
 "nbformat": 4,
 "nbformat_minor": 4
}
