{
 "cells": [
  {
   "cell_type": "markdown",
   "metadata": {},
   "source": [
    "[JuPy: Inhaltsverzeichnis](00_Einleitung.ipynb#Inhaltsverzeichnis)\n",
    "\n",
    "# A 8. Aufgaben zu Funktionen"
   ]
  },
  {
   "cell_type": "markdown",
   "metadata": {},
   "source": [
    "### Aufgabe 1: Aufruf von Funktionen\n",
    "\n",
    "Gegeben ist folgende Funktion. Führen Sie die Zelle aus, um sicherzugehen, dass die Funktion Python bekannt ist."
   ]
  },
  {
   "cell_type": "code",
   "execution_count": null,
   "metadata": {},
   "outputs": [],
   "source": [
    "def neueFunktion(b, a = 'col', u = 2,):\n",
    "    gras = b / u\n",
    "    return gras, a + 'a'\n"
   ]
  },
  {
   "cell_type": "markdown",
   "metadata": {},
   "source": [
    "Rufen Sie die  Funktion auf und geben Sie dabei nur Werte für die Parameter an, die zwingend erforderlich sind."
   ]
  },
  {
   "cell_type": "code",
   "execution_count": null,
   "metadata": {},
   "outputs": [],
   "source": [
    "#Loesung\n",
    "\n",
    "\n",
    "#Loesungsende"
   ]
  },
  {
   "cell_type": "markdown",
   "metadata": {},
   "source": [
    "Rufen Sie dieses mal die selbe Funktion auf, dieses Mal soll die Ausgabe wie folgt aussehen:\n",
    "\n",
    "`(2.5, 'fanta')`"
   ]
  },
  {
   "cell_type": "code",
   "execution_count": null,
   "metadata": {},
   "outputs": [],
   "source": [
    "#Loesung\n",
    "\n",
    "\n",
    "#Loesungsende"
   ]
  },
  {
   "cell_type": "markdown",
   "metadata": {},
   "source": [
    "Speichern Sie die beiden Rückgabewerte beim nächsten Aufruf in den Variablen `anzahl` und `getraenk` ab und geben Sie diese aus."
   ]
  },
  {
   "cell_type": "code",
   "execution_count": null,
   "metadata": {},
   "outputs": [],
   "source": [
    "#Loesung\n",
    "\n",
    "\n",
    "#Loesungsende"
   ]
  },
  {
   "cell_type": "markdown",
   "metadata": {},
   "source": [
    "---\n",
    "### Aufgabe 2: Fehleranalyse"
   ]
  },
  {
   "cell_type": "markdown",
   "metadata": {},
   "source": [
    "Verändern Sie den nachfolgenden Funktionsaufruf so, dass 12 zurückgegeben wird."
   ]
  },
  {
   "cell_type": "code",
   "execution_count": null,
   "metadata": {},
   "outputs": [],
   "source": [
    "def kueken(zahl = 42):\n",
    "    return zahl/2\n",
    "ergebnis = kueken('24')\n",
    "print(ergebnis)"
   ]
  },
  {
   "cell_type": "markdown",
   "metadata": {},
   "source": [
    "---\n",
    "### Aufgabe 3: Funktionsdefinition\n",
    "\n",
    "Schreiben Sie eine Funktion `durchschnittsgroesse()`, die die Durchschnittsgröße der Parameter `bilbo` und `kingkong` berechnet und zurück gibt. Wenn `bilbo` nicht im Funktionsaufruf mit einem Wert versehen wird, soll für ihn die Zahl `0.9` angenommen werden."
   ]
  },
  {
   "cell_type": "code",
   "execution_count": null,
   "metadata": {},
   "outputs": [],
   "source": [
    "#Loesung\n",
    "\n",
    "#Loesungsende"
   ]
  },
  {
   "cell_type": "markdown",
   "metadata": {},
   "source": [
    "Lesen Sie zwei Werte (Kommazahlen) ein und rufen Sie die Funktion `durchschnittegroesse()` auf. Übergeben Sie die eingelesenen Werte als Parameter. Speichen Sie den Rückgabewert ab und geben Sie diesen aus."
   ]
  },
  {
   "cell_type": "code",
   "execution_count": null,
   "metadata": {},
   "outputs": [],
   "source": [
    "#Loesung\n",
    "\n",
    "\n",
    "#Loesungsende"
   ]
  },
  {
   "cell_type": "markdown",
   "metadata": {},
   "source": [
    "---\n",
    "### Aufgabe 4: Aufruf von Funktionen des Moduls `math`"
   ]
  },
  {
   "cell_type": "markdown",
   "metadata": {},
   "source": [
    "Lesen Sie eine ganze Zahl vom Benutzer ein und speicher Sie diese in der Variable `zahl`. Berechnen Sie den Sinus  der Variablen `zahl` und speichern Sie das Ergebnis in der Variablen `x`. Geben Sie `x` dann aus. Um den Sinus zu berechnen, können Sie die Funktion `sin()` verwenden, die im Modul `math` steht."
   ]
  },
  {
   "cell_type": "code",
   "execution_count": null,
   "metadata": {},
   "outputs": [],
   "source": [
    "import math\n",
    "#Loesung\n",
    "\n",
    "\n",
    "#Loesungsende"
   ]
  },
  {
   "cell_type": "markdown",
   "metadata": {},
   "source": [
    "Schauen Sie mithilfe der Dokumentation des Moduls `math` (https://docs.python.org/3/library/math.html) nach, wie der Funktionsaufruf lauten muss, um mit der Funktion `ldexp()` einen Rückgabewert von 4 zu erzielen. Speichern Sie dieses Ergebnis in der Variablen `erg` ab und lassen Sie sich das Ergebnis ausgeben. Eventuell müssen Sie das Modul `math` noch einbinden."
   ]
  },
  {
   "cell_type": "code",
   "execution_count": null,
   "metadata": {},
   "outputs": [],
   "source": [
    "#Loesung\n",
    "\n",
    "#Loesungsende"
   ]
  },
  {
   "cell_type": "markdown",
   "metadata": {},
   "source": [
    "---\n",
    "Vervollständigen Sie den nachfolgenden Funktionsaufruf, um den Logarithmus von 100 zur Basis von 10 auszugeben ( $log_{10} 100$ )."
   ]
  },
  {
   "cell_type": "code",
   "execution_count": null,
   "metadata": {},
   "outputs": [],
   "source": [
    "print(math.log())"
   ]
  },
  {
   "cell_type": "markdown",
   "metadata": {},
   "source": [
    "---\n",
    "Berechnen Sie die **Quadratwurzel** (square root) von 25 mithilfe der Funktion `sqrt()` des Moduls `math`. Speichern Sie dieses Ergebnis unter der Variablen `base` ab und berechnen Sie dann mithilfe von `pow()` das Ergebnis von $base^{2}$."
   ]
  },
  {
   "cell_type": "code",
   "execution_count": null,
   "metadata": {},
   "outputs": [],
   "source": [
    "#Loesung\n",
    "\n",
    "\n",
    "#Loesungsende"
   ]
  },
  {
   "cell_type": "markdown",
   "metadata": {},
   "source": [
    "---\n",
    "### Aufgabe 5: Kontrollfrage\n",
    "Beantworten Sie folgende Kontrollfrage. \n",
    "\n",
    "Wenn Sie die Antwort richtig gegeben haben, erhalten Sie den weiterführenden Link zum aktuellen Teil des Projekts.\n"
   ]
  },
  {
   "cell_type": "code",
   "execution_count": 1,
   "metadata": {},
   "outputs": [
    {
     "data": {
      "application/vnd.jupyter.widget-view+json": {
       "model_id": "b29d869e9e5d433ea5d5e33f7e6afc0a",
       "version_major": 2,
       "version_minor": 0
      },
      "text/plain": [
       "VBox(children=(Output(), IntText(value=0, description='Wert:'), Button(description='überprüfen', style=ButtonS…"
      ]
     },
     "metadata": {},
     "output_type": "display_data"
    }
   ],
   "source": [
    "%run data/08b_checkanswer.ipynb"
   ]
  },
  {
   "cell_type": "markdown",
   "metadata": {},
   "source": [
    "---\n",
    "Glückwunsch, dieses Übungskapitel ist hiermit abgeschlossen!\n",
    "\n",
    "Hier geht's zum nächsten Kapitel: [9. Sequentielle Datentypen](09a_SeqDatentypen_Theorie.ipynb)"
   ]
  },
  {
   "cell_type": "markdown",
   "metadata": {
    "deletable": false,
    "editable": false,
    "tags": []
   },
   "source": [
    "<a rel=\"license\" href=\"http://creativecommons.org/licenses/by-nc-nd/4.0/\"><img alt=\"Creative Commons Lizenzvertrag\" style=\"border-width:0\" src=\"https://i.creativecommons.org/l/by-nc-nd/4.0/88x31.png\" /></a><br /><span xmlns:dct=\"http://purl.org/dc/terms/\" property=\"dct:title\">Das JuPy Python Tutorial</span> der <span xmlns:cc=\"http://creativecommons.org/ns#\" property=\"cc:attributionName\">EAH Jena</span> ist lizenziert unter einer <a rel=\"license\" href=\"http://creativecommons.org/licenses/by-nc-nd/4.0/\">Creative Commons Namensnennung - Nicht kommerziell - Keine Bearbeitungen 4.0 International Lizenz</a>.\n"
   ]
  }
 ],
 "metadata": {
  "kernelspec": {
   "display_name": "Python 3 (ipykernel)",
   "language": "python",
   "name": "python3"
  },
  "language_info": {
   "codemirror_mode": {
    "name": "ipython",
    "version": 3
   },
   "file_extension": ".py",
   "mimetype": "text/x-python",
   "name": "python",
   "nbconvert_exporter": "python",
   "pygments_lexer": "ipython3",
   "version": "3.10.8"
  }
 },
 "nbformat": 4,
 "nbformat_minor": 4
}
