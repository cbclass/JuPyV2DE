{
 "cells": [
  {
   "cell_type": "markdown",
   "metadata": {},
   "source": [
    "<img src=\"data/Lernfortschritt13.PNG\" width=\"1000\">\n",
    "\n",
    "&nbsp;&nbsp;&nbsp;&nbsp;&nbsp;&nbsp;&nbsp;&nbsp;&nbsp;&nbsp;&nbsp;&nbsp;&nbsp;&nbsp;&nbsp;&nbsp;&nbsp;&nbsp;&nbsp;&nbsp;&nbsp;&nbsp;&nbsp;&nbsp;&nbsp;&nbsp;&nbsp;&nbsp;&nbsp;&nbsp;&nbsp;&nbsp;&nbsp;&nbsp;&nbsp;&nbsp;&nbsp;&nbsp;&nbsp;&nbsp;&nbsp;&nbsp;&nbsp;&nbsp;&nbsp;&nbsp;&nbsp;&nbsp;&nbsp;&nbsp;&nbsp;&nbsp;&nbsp;&nbsp;&nbsp;&nbsp;&nbsp;&nbsp;&nbsp;&nbsp;&nbsp;&nbsp;&nbsp;&nbsp;&nbsp;&nbsp;&nbsp;&nbsp;&nbsp;&nbsp;&nbsp;&nbsp;&nbsp;&nbsp;&nbsp;&nbsp;&nbsp;&nbsp;&nbsp;&nbsp;&nbsp;&nbsp;&nbsp;&nbsp;&nbsp;&nbsp;&nbsp;&nbsp;&nbsp;&nbsp;&nbsp;&nbsp;&nbsp;&nbsp;&nbsp;&nbsp;&nbsp;&nbsp;&nbsp;&nbsp;&nbsp;&nbsp;&nbsp;&nbsp;&nbsp;&nbsp;&nbsp;&nbsp;&nbsp;&nbsp;&nbsp;&nbsp;&nbsp;&nbsp;&nbsp;&nbsp;&nbsp;&nbsp;&nbsp;&nbsp;&nbsp;&nbsp;&nbsp;&nbsp;&nbsp;&nbsp;&nbsp;&nbsp;&nbsp;&nbsp;&nbsp;&nbsp;&nbsp;&nbsp;&nbsp;&nbsp;&nbsp;&nbsp;&nbsp;&nbsp;&nbsp;&nbsp;&nbsp;&nbsp;&nbsp;&nbsp;&nbsp;&nbsp;&nbsp;&nbsp;&nbsp;&nbsp;&nbsp;&nbsp;&nbsp;&nbsp;&nbsp;&nbsp;&nbsp;&nbsp;&nbsp;&nbsp;&nbsp;&nbsp;&nbsp;&nbsp;&nbsp;&nbsp;&nbsp;&nbsp;&nbsp;&nbsp;&nbsp;&nbsp;&nbsp;&nbsp;&nbsp;&nbsp;&nbsp;&nbsp;&nbsp;&nbsp;&nbsp;&nbsp;&nbsp;&nbsp;&nbsp;&nbsp;&nbsp;&nbsp;&nbsp;&nbsp;&nbsp;&nbsp;&nbsp; [10. Numpy Arrays](10a_Numpy_Theorie.ipynb) &nbsp;&nbsp;&nbsp;&nbsp;  11. Plots   &nbsp;&nbsp;&nbsp;&nbsp;  [12. SciPy](12_SciPy.ipynb)\n",
    "\n",
    "[JuPy: Inhaltsverzeichnis](00_Einleitung.ipynb#Inhaltsverzeichnis)"
   ]
  },
  {
   "cell_type": "markdown",
   "metadata": {},
   "source": [
    "# 11. Plots"
   ]
  },
  {
   "cell_type": "markdown",
   "metadata": {},
   "source": [
    "In diesem Abschnitt sollen Sie lernen, wie man grundlegend Daten in Python visualisiert. Dazu verwenden wir die Zeichenbibliothek Matplotlib (`matplotlib`). Hiermit lassen sich Liniendiagramme, Streudiagramme, Histogramme, Balkendiagramme und vieles mehr einfach erstellen.\n",
    "Wir verwenden das Untermodul `pyplot`, dessen Kommandos sowohl im Bezug auf Namen als auch ihren Argumenten Matlab ähneln. \n",
    "---\n",
    "## Einfache Diagramme erstellen\n",
    "Zuerst wird die Bibliothek eingebunden und erhält üblicherweise den Bezeichner ```plt``` zur Abkürzung.\n",
    "\n",
    "```python\n",
    "import matplotlib.pyplot as plt\n",
    "```\n",
    "\n",
    "Auf Funktionen kann nun mit `plt.funktionsname()` zugegriffen werden.\n",
    "\n",
    "Die Funktion `plot()` erstellt einfache Liniendiagramme. \n"
   ]
  },
  {
   "cell_type": "markdown",
   "metadata": {
    "tags": []
   },
   "source": [
    "---\n",
    "### Beispiel 1\n",
    "Der ```plot()``` Funktion wird eine Liste von Werten übergeben. Wird nur eine Zahlenliste als Argument aufgerufen, benutzt ```plot()``` die Werte dieser Liste als $y$-Werte. Die Indizes dieser Liste werden automatisch als $x$-Werte genommen.\n",
    "Mit ```plt.show()``` wird der Plot angezeigt. Das ist je nach Einstellungen notwendig. \n",
    "\n",
    "Als Beispiel wollen wir nun eine zusammenhangslose Zahlenreihenfolge in einem einfachen Plot darstellen:"
   ]
  },
  {
   "cell_type": "code",
   "execution_count": null,
   "metadata": {},
   "outputs": [],
   "source": [
    "import matplotlib.pyplot as plt\n",
    "y = [1, 4, -3, 17, 10, 33, 29]\n",
    "plt.plot(y)\n",
    "plt.show()"
   ]
  },
  {
   "cell_type": "markdown",
   "metadata": {},
   "source": [
    "Wollen wir nun auch die $x$-Werte definieren müssen wir lediglich eine zweite Liste als ersten Parameter der ```plot()``` Funktion übergeben, wie im nächsten Beispiel, wo auf der $y$-Achse die Quadratzahlen der Werte der $x$-Achse abgebildet werden."
   ]
  },
  {
   "cell_type": "code",
   "execution_count": null,
   "metadata": {},
   "outputs": [],
   "source": [
    "import matplotlib.pyplot as plt\n",
    "x = [1, 2, 3, 4]\n",
    "y = [1, 4, 9, 16]\n",
    "plt.plot(x,y)\n",
    "plt.show()"
   ]
  },
  {
   "cell_type": "markdown",
   "metadata": {},
   "source": [
    "Betrachten Sie zum Vergleich die Abbildung, wenn nur die $y$-Werte angegeben werden:"
   ]
  },
  {
   "cell_type": "code",
   "execution_count": null,
   "metadata": {},
   "outputs": [],
   "source": [
    "import matplotlib.pyplot as plt\n",
    "x = [1, 2, 3, 4]\n",
    "y = [1, 4, 9, 16]\n",
    "plt.plot(y) # nur y Werte angeben\n",
    "plt.show()"
   ]
  },
  {
   "cell_type": "markdown",
   "metadata": {},
   "source": [
    "Es wird daher **empfohlen**, immer sowohl die $x$- als auch die $y$-Werte zu spezifizieren."
   ]
  },
  {
   "cell_type": "markdown",
   "metadata": {},
   "source": [
    "---\n",
    "## Anpassung des Graphen"
   ]
  },
  {
   "cell_type": "markdown",
   "metadata": {},
   "source": [
    "Wie in den oberen Beispielen zu erkennen, ist die Standarddarstellung der Plots eine blaue durchgezogene Linie. Auch die Skalierung der Achsen erfolgt automatisch. All das lässt sich natürlich mit Hilfe von Parametern einstellen.\n"
   ]
  },
  {
   "cell_type": "markdown",
   "metadata": {},
   "source": [
    "Der Stil des Graphen wird auch in der ```plot()``` Funktion definiert. Als Argument nach den Zahlenlisten kann eine Zeichenkette übergeben werden, die Farbe und Form des Graphen bestimmt."
   ]
  },
  {
   "cell_type": "markdown",
   "metadata": {},
   "source": [
    "Für rote Punkte anstatt einer blauen druchgezogenen Linie würde die Funktion also wie folgt aussehen:\n",
    "```python\n",
    "plt.plot(x,y,'ro')\n",
    "```\n"
   ]
  },
  {
   "cell_type": "markdown",
   "metadata": {},
   "source": [
    "Die Zeichenkette enthält maximal jeweils eine Angabe für die Farbe, den Stil der Diagrammlinie sowie die Datenpunkte.<br>\n",
    "\n",
    "Die unterstützten **Farbcodes**:\n",
    "\n",
    "\n",
    "|Zeichen|Bedeutung|\n",
    "|------|------|\n",
    "|`b` |blau|\n",
    "|`c` |cyan|\n",
    "|`g` |grün|\n",
    "|`m` |magenta|\n",
    "|`r` |rot|\n",
    "|`y` |gelb|\n",
    "|`k` |schwarz|\n",
    "|`w` |weiß|\n"
   ]
  },
  {
   "cell_type": "markdown",
   "metadata": {},
   "source": [
    "Die verschiedenen Stile für **Diagrammlinien**:<br>\n",
    "\n",
    "|Zeichen|Linienstil|\n",
    "|------|------|\n",
    "|`-` | durchgezogene Linie|\n",
    "|`--` | gestrichelte Linie|\n",
    "|`-.` | abwechselnd gestrichelte und gepunktete Linie|\n",
    "|`:` |Gepunktete Linie|\n",
    "\n",
    "\n",
    "Beispiele für die Darstellung von **Datenpunkten**:\n",
    "\n",
    "|Zeichen|Darstellung Datenpunkt|\n",
    "|------|------|\n",
    "|`o` | ausgefüllter Kreis|\n",
    "|`s` | ausgefülltes Rechteck|\n",
    "|`^` | ausgefülltes Dreieck|\n",
    "|`*` | Stern|\n",
    "\n",
    "Weitere Darstellungen für Datenpunkte finden Sie in der Dokumentation (https://matplotlib.org/stable/api/_as_gen/matplotlib.pyplot.plot.html#matplotlib.pyplot.plot)."
   ]
  },
  {
   "cell_type": "markdown",
   "metadata": {},
   "source": [
    "Um die Breite des Line zu bestimmen kann ein weiteres Argument in die ```plot.plt()``` Funktion eingefügt werden. Ebenso für die Größe der Marker falls vorhanden. Diese sind ```linewidth=``` und ```markersize=``` welche mit einer Gleitkommazahl gefüllt wird."
   ]
  },
  {
   "cell_type": "markdown",
   "metadata": {},
   "source": [
    "## Mehrere Graphen in einem Diagramm"
   ]
  },
  {
   "cell_type": "markdown",
   "metadata": {},
   "source": [
    "Um mehrere Graphen in einem Diagramm darzustellen muss man lediglich die Funktion ```plt.plot()``` mehrfach mit den jeweiligen Wertelisten aufrufen. Alle Graphen werden dadurch in dasselbe Diagramm geplottet. Erst durch eine Eingabe von ```plt.show()``` wird das fertige Diagramm ausgegeben."
   ]
  },
  {
   "cell_type": "markdown",
   "metadata": {},
   "source": [
    "---\n",
    "### Beispiel 2"
   ]
  },
  {
   "cell_type": "markdown",
   "metadata": {},
   "source": [
    "Der folgende Code erstellt einen Plot in dem alle Werte  $(x,x)$ als rote gestrichelte Linie mit einer Breite von 3 und alle Werte $(x,x^2)$ als schwarze Rechtecke mit einer Größe von 2 dargestellt werden."
   ]
  },
  {
   "cell_type": "code",
   "execution_count": null,
   "metadata": {},
   "outputs": [],
   "source": [
    "import matplotlib.pyplot as plt\n",
    "import numpy as np\n",
    "\n",
    "x = np.arange(0., 5., 0.2)\n",
    "x2 = x**2\n",
    "\n",
    "\n",
    "plt.plot(x, x, 'r--', linewidth=3)\n",
    "plt.plot(x, x2,'ks', markersize=2)\n",
    "\n",
    "plt.show()\n",
    "\n"
   ]
  },
  {
   "cell_type": "markdown",
   "metadata": {},
   "source": [
    "## Titel, Legende und Label hinzufügen\n",
    "Als erstes wollen wir Label für die Achsen vergeben. Hierfür werden die Funktionen ```xlabel()``` und ```ylabel()``` verwendet. Diese müssen mit einem *String* gefüllt werden.<br>\n",
    "Parallel dazu kann auch ein Titel durch die Funktion ```title()``` eingefügt werden.\n",
    "Um eine Legende hinzuzufügen wird die Funktion ```legend()``` verwendet. Wenn man keine extra Argumente mitgibt, werden die Element, die in der Legende angezeigt werden, automatisch bestimmt. Durch Setzen des Parameters `label` in der ```plot()```-Funktion, wird markiert, dass der entsprechende Plot in der Legende erscheinen soll. Zugleich wird die Information für die Legende spezifiziert.<br><br>\n",
    "Auch die Position der Legende wird automatisch erstellt, diese kann jedoch auch mit dem *loc*-Argument in `legend()` verändert werden.<br>\n",
    "\n",
    "---\n",
    "### Beispiel 3"
   ]
  },
  {
   "cell_type": "code",
   "execution_count": null,
   "metadata": {},
   "outputs": [],
   "source": [
    "import numpy as np\n",
    "import matplotlib.pyplot as plt\n",
    "\n",
    "X = np.linspace(0, 2 * np.pi, 200)\n",
    "F1 = 3 * np.cos(X)\n",
    "F2 = np.sin(2*X)\n",
    "\n",
    "plt.plot(X, F1, 'b-', linewidth=2.5, label='3*Cosinus')\n",
    "plt.plot(X, F2, 'r--', linewidth=1.5, label='gestauchter Sinus')\n",
    "plt.xlabel('X-Werte')\n",
    "plt.ylabel('Y-Werte')\n",
    "plt.legend(loc='lower left')\n",
    "\n",
    "plt.title(\"Trigonometrische Funktionen\")\n",
    "\n",
    "plt.show()"
   ]
  },
  {
   "cell_type": "markdown",
   "metadata": {},
   "source": [
    "## Definition der Wertebereiche und Skalierung der Achsen"
   ]
  },
  {
   "cell_type": "markdown",
   "metadata": {},
   "source": [
    "Auch die Wertebereiche der $x$- und $y$-Achse, sowie die Skalierung werden automatisch erstellt. Möchte man die Wertebereiche ändern muss man die ```axis()```-Funktion aufrufen.<br>\n",
    "Die Syntax hierfür ist:<br>\n",
    "```python\n",
    "plt.axis([Start der x-Achse, Ende der X-Achse, Start der y-Achse, Ende der y-Achse])\n",
    "```\n",
    "---\n",
    "### Beispiel 4\n",
    "Um die Teilstriche der Achsen anzupassen verwendet man die ```xticks()```- und ```yticks()```-Funktion für die $x$- und $y$-Achse. Würden wir nun die $x$-Achse in 0,5 Werteschritten darstellen wollen und unsere Wertebereiche für die $x$- und $y$-Achse anpassen, dann sähe unser Beispiel von oben zum Beispiel so aus:<br>"
   ]
  },
  {
   "cell_type": "code",
   "execution_count": null,
   "metadata": {},
   "outputs": [],
   "source": [
    "import numpy as np\n",
    "import matplotlib.pyplot as plt\n",
    "\n",
    "X = np.linspace(0, 2 * np.pi, 200)\n",
    "F1 = 3 * np.cos(X)\n",
    "F2 = np.sin(2*X)\n",
    "\n",
    "plt.plot(X, F1, 'b-', linewidth=2.5, label='3*Cosinus')\n",
    "plt.plot(X, F2, 'r--', linewidth=1.5, label='gestauchter Sinus')\n",
    "plt.axis([0, 7, -3.5, 3.5])\n",
    "plt.xticks(np.linspace(0,7,15, endpoint=True))\n",
    "plt.xlabel('X-Werte')\n",
    "plt.ylabel('Y-Werte')\n",
    "plt.legend(loc='lower left')\n",
    "\n",
    "plt.show()"
   ]
  },
  {
   "cell_type": "markdown",
   "metadata": {},
   "source": [
    "Oder man verwendet die für trigonometrische Funktionen übliche Skalierung von Vielfachen von $\\pi$"
   ]
  },
  {
   "cell_type": "code",
   "execution_count": null,
   "metadata": {},
   "outputs": [],
   "source": [
    "import numpy as np\n",
    "import matplotlib.pyplot as plt\n",
    "\n",
    "X = np.linspace(0, 2 * np.pi, 200)\n",
    "F1 = 3 * np.cos(X)\n",
    "F2 = np.sin(2*X)\n",
    "\n",
    "plt.plot(X, F1, 'b-', linewidth=2.5, label='3*Cosinus')\n",
    "plt.plot(X, F2, 'r--', linewidth=1.5, label='gestauchter Sinus')\n",
    "plt.axis([0, 7, -3.5, 3.5])\n",
    "plt.xticks( [0, np.pi/2, np.pi, np.pi*3/2, np.pi*2],\n",
    "            [r'$0$', r'$+\\pi/2$', r'$+\\pi$', r'$+3\\pi/2$', r'$+2\\pi$']) #Beschriftung mittels LaTeX-Symbolen\n",
    "plt.xlabel('X-Werte')\n",
    "plt.ylabel('Y-Werte')\n",
    "plt.legend(loc='lower left')\n",
    "\n",
    "plt.show()\n"
   ]
  },
  {
   "cell_type": "markdown",
   "metadata": {},
   "source": [
    "## Subplots"
   ]
  },
  {
   "cell_type": "markdown",
   "metadata": {},
   "source": [
    "Möchte man nun mehrere Plots in einem Fenster darstellen bietet sich die ```subplot()```-Funktion an, mit einer Syntax:<br>\n",
    "```python\n",
    "plt.subplot(Anzahl an Zeilen, Anzahl an Spalten, Plot Nummer)\n",
    "```\n",
    "Wenn man also 3x3 Plots in einem Fenster erstellt und den Plot links unten erstellen will, müsste man die Funktion ```plt.subplot(3, 3, 7)``` aufrufen.\n"
   ]
  },
  {
   "cell_type": "markdown",
   "metadata": {},
   "source": [
    "---\n",
    "### Beispiel 5"
   ]
  },
  {
   "cell_type": "markdown",
   "metadata": {},
   "source": [
    "Um das kurz auszuprobieren wollen wir unsere zwei Graphen aus dem vorherigen Beispiel nicht in einen Plot, sondern in zwei untereinander liegende Plots zeichnen."
   ]
  },
  {
   "cell_type": "code",
   "execution_count": null,
   "metadata": {},
   "outputs": [],
   "source": [
    "import numpy as np\n",
    "import matplotlib.pyplot as plt\n",
    "\n",
    "X = np.linspace(0, 2 * np.pi, 200)\n",
    "F1 = 3 * np.cos(X)\n",
    "F2 = np.sin(2*X)\n",
    "\n",
    "plt.subplot(2,1,1) # der folgende Code beschreibt den oberen Subplot\n",
    "plt.plot(X, F1, 'b-', linewidth=2.5, label='3*Cosinus')\n",
    "plt.axis([0, 7, -3.5, 3.5])\n",
    "plt.xticks( [0, np.pi/2, np.pi, np.pi*3/2, np.pi*2],\n",
    "            [r'$0$', r'$+\\pi/2$', r'$+\\pi$', r'$+3\\pi/2$', r'$+2\\pi$']) #Beschriftung mittels LaTeX-Symbolen\n",
    "plt.xlabel('X-Werte')\n",
    "plt.ylabel('Y-Werte')\n",
    "plt.legend(loc='lower left')\n",
    "\n",
    "plt.subplot(2,1,2) # der folgende Code beschreibt den unteren Subplot\n",
    "plt.plot(X, F2, 'r--', linewidth=1.5, label='gestauchter Sinus')\n",
    "plt.axis([0, 7, -1.5, 1.5])\n",
    "plt.xticks( [0, np.pi/2, np.pi, np.pi*3/2, np.pi*2],\n",
    "            [r'$0$', r'$+\\pi/2$', r'$+\\pi$', r'$+3\\pi/2$', r'$+2\\pi$'])\n",
    "plt.xlabel('X-Werte')\n",
    "plt.ylabel('Y-Werte')\n",
    "plt.legend(loc='lower left')\n",
    "\n",
    "plt.show()"
   ]
  },
  {
   "cell_type": "markdown",
   "metadata": {},
   "source": [
    "### Lernkontrolle\n",
    "\n",
    "- Die folgenden Fragen dienen zur Überprüfung Ihres Wissensstandes. \n",
    "- Führen Sie die nachfolgende Zelle aus und wählen Sie jeweils aus den Antwortmöglichkeiten aus. \n",
    "- Sobald Sie die Fragen richtig beantwortet haben, können Sie die Übungsaufgaben zu diesem Kapitel bearbeiten oder mit dem nächsten Thema fortfahren.\n"
   ]
  },
  {
   "cell_type": "code",
   "execution_count": null,
   "metadata": {},
   "outputs": [],
   "source": [
    "%run data/11_Lernkontrolle.ipynb"
   ]
  },
  {
   "cell_type": "markdown",
   "metadata": {},
   "source": [
    "---\n",
    "Glückwunsch, dieses Kapitel ist hiermit abschgeschlossen!\n",
    "\n",
    "Hier geht's zu den Übungsaufgaben: [A 11. Aufgaben Plots](11b_Plots_Aufgaben.ipynb)"
   ]
  },
  {
   "cell_type": "markdown",
   "metadata": {
    "deletable": false,
    "editable": false,
    "tags": []
   },
   "source": [
    "<a rel=\"license\" href=\"http://creativecommons.org/licenses/by-nc-nd/4.0/\"><img alt=\"Creative Commons Lizenzvertrag\" style=\"border-width:0\" src=\"https://i.creativecommons.org/l/by-nc-nd/4.0/88x31.png\" /></a><br /><span xmlns:dct=\"http://purl.org/dc/terms/\" property=\"dct:title\">Das JuPy Python Tutorial</span> der <span xmlns:cc=\"http://creativecommons.org/ns#\" property=\"cc:attributionName\">EAH Jena</span> ist lizenziert unter einer <a rel=\"license\" href=\"http://creativecommons.org/licenses/by-nc-nd/4.0/\">Creative Commons Namensnennung - Nicht kommerziell - Keine Bearbeitungen 4.0 International Lizenz</a>.\n"
   ]
  }
 ],
 "metadata": {
  "kernelspec": {
   "display_name": "Python 3 (ipykernel)",
   "language": "python",
   "name": "python3"
  },
  "language_info": {
   "codemirror_mode": {
    "name": "ipython",
    "version": 3
   },
   "file_extension": ".py",
   "mimetype": "text/x-python",
   "name": "python",
   "nbconvert_exporter": "python",
   "pygments_lexer": "ipython3",
   "version": "3.10.13"
  }
 },
 "nbformat": 4,
 "nbformat_minor": 4
}
